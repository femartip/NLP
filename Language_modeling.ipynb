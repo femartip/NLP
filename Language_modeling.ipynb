{
  "cells": [
    {
      "cell_type": "markdown",
      "metadata": {
        "id": "W8XQeIF6rBI6"
      },
      "source": [
        "# Lab session 2: Language modeling"
      ]
    },
    {
      "cell_type": "markdown",
      "metadata": {
        "id": "-qGoVr7SrBI8"
      },
      "source": [
        "This lab covers classical and neural language models as seen in the theory lectures. \n",
        "\n",
        "General instructions:\n",
        "- Complete the code where needed\n",
        "- Provide answers to questions only in the cell where indicated\n",
        "- **Do not alter the evaluation cells** (`## evaluation`) in any way as they are needed for the partly automated evaluation process\n",
        "\n",
        "We advise you to run this notebook on Google Colab, otherwise we cannot guarantee identical versioning of the packages used in this lab (which is necessary for the automated checks). This also allows you to run your code on a GPU, which is especially relevant for the second part (Deep Learning Based Language Models). "
      ]
    },
    {
      "cell_type": "markdown",
      "metadata": {
        "id": "Ppr_iMCj2bi7"
      },
      "source": [
        "## **How AI can write a paper!**\n",
        "\n",
        "We shall train our language model on a corpus of scientific articles and see if we can generate a new one!\n",
        "\n",
        "<img src=\"https://media1.tenor.com/images/073dfe5d68e2490903aa51ae0ac633de/tenor.gif?itemid=3536848\" alt=\"img\" width=\"512px\"/>\n",
        "\n"
      ]
    },
    {
      "cell_type": "code",
      "execution_count": 134,
      "metadata": {
        "id": "92oj5l862bi-",
        "pycharm": {
          "is_executing": true
        }
      },
      "outputs": [],
      "source": [
        "# import necessary packages\n",
        "\n",
        "from __future__ import division\n",
        "from __future__ import unicode_literals\n",
        "\n",
        "import random as rand\n",
        "import numpy as np\n",
        "import pandas as pd\n",
        "\n",
        "from sklearn.model_selection import train_test_split"
      ]
    },
    {
      "cell_type": "code",
      "execution_count": 135,
      "metadata": {
        "id": "VLOk8it2UPwy",
        "pycharm": {
          "is_executing": true
        }
      },
      "outputs": [],
      "source": [
        "# for reproducability\n",
        "SEED = 42\n",
        "np.random.seed(SEED)"
      ]
    },
    {
      "cell_type": "markdown",
      "metadata": {
        "id": "2cFtNG-Q2bjJ"
      },
      "source": [
        "## **Data exploration**\n",
        "\n",
        "Lets download and look into the data:\n"
      ]
    },
    {
      "cell_type": "code",
      "execution_count": 136,
      "metadata": {
        "id": "T7oF8ejH_t2k",
        "pycharm": {
          "is_executing": true
        },
        "colab": {
          "base_uri": "https://localhost:8080/",
          "height": 721
        },
        "outputId": "028fd2d4-b95c-4e77-dd5a-b2f759ebe96b"
      },
      "outputs": [
        {
          "output_type": "stream",
          "name": "stdout",
          "text": [
            "--2023-03-23 17:21:56--  https://www.dropbox.com/s/99az9n1b57qkd9j/arxivData.json.tar.gz?dl=1\n",
            "Resolving www.dropbox.com (www.dropbox.com)... 162.125.3.18, 2620:100:6018:18::a27d:312\n",
            "Connecting to www.dropbox.com (www.dropbox.com)|162.125.3.18|:443... connected.\n",
            "HTTP request sent, awaiting response... 302 Found\n",
            "Location: /s/dl/99az9n1b57qkd9j/arxivData.json.tar.gz [following]\n",
            "--2023-03-23 17:21:56--  https://www.dropbox.com/s/dl/99az9n1b57qkd9j/arxivData.json.tar.gz\n",
            "Reusing existing connection to www.dropbox.com:443.\n",
            "HTTP request sent, awaiting response... 302 Found\n",
            "Location: https://uc1d27ce40fd3127803fdc8f90ca.dl.dropboxusercontent.com/cd/0/get/B4wfLltNT01piBtMQ_g_MUqSpruHKfVtbmiDs5A8sE-st_U2-CG1SSHUwRRgvjSjNfuzJ-OW_LdI3KCcbdWCdkSNC-TEy55-3_15xewkgrQdXVt2KA3pIBjuPGz7VbbV98ukbq9XtutaW-2cZijxI4I3KUMXJUvDyqakw9NAHbG3EQ/file?dl=1# [following]\n",
            "--2023-03-23 17:21:57--  https://uc1d27ce40fd3127803fdc8f90ca.dl.dropboxusercontent.com/cd/0/get/B4wfLltNT01piBtMQ_g_MUqSpruHKfVtbmiDs5A8sE-st_U2-CG1SSHUwRRgvjSjNfuzJ-OW_LdI3KCcbdWCdkSNC-TEy55-3_15xewkgrQdXVt2KA3pIBjuPGz7VbbV98ukbq9XtutaW-2cZijxI4I3KUMXJUvDyqakw9NAHbG3EQ/file?dl=1\n",
            "Resolving uc1d27ce40fd3127803fdc8f90ca.dl.dropboxusercontent.com (uc1d27ce40fd3127803fdc8f90ca.dl.dropboxusercontent.com)... 162.125.3.15, 2620:100:6018:15::a27d:30f\n",
            "Connecting to uc1d27ce40fd3127803fdc8f90ca.dl.dropboxusercontent.com (uc1d27ce40fd3127803fdc8f90ca.dl.dropboxusercontent.com)|162.125.3.15|:443... connected.\n",
            "HTTP request sent, awaiting response... 200 OK\n",
            "Length: 18933283 (18M) [application/binary]\n",
            "Saving to: ‘arxivData.json.tar.gz’\n",
            "\n",
            "arxivData.json.tar. 100%[===================>]  18.06M  76.1MB/s    in 0.2s    \n",
            "\n",
            "2023-03-23 17:21:57 (76.1 MB/s) - ‘arxivData.json.tar.gz’ saved [18933283/18933283]\n",
            "\n",
            "arxivData.json\n"
          ]
        },
        {
          "output_type": "execute_result",
          "data": {
            "text/plain": [
              "                                                  author  day            id  \\\n",
              "857    [{'name': 'A. N. Gorban'}, {'name': 'A. Y. Zin...    2   0809.0490v2   \n",
              "144    [{'name': 'Behnam Neyshabur'}, {'name': 'Ryota...   27  1503.00036v2   \n",
              "22961  [{'name': 'Maria De-Arteaga'}, {'name': 'Willi...   27  1711.09522v2   \n",
              "19448      [{'name': 'J. Keppens'}, {'name': 'Q. Shen'}]   30   1107.0035v1   \n",
              "2331   [{'name': 'Kevin T. Kelly'}, {'name': 'Conor M...   15   1203.3488v1   \n",
              "\n",
              "                                                    link  month  \\\n",
              "857    [{'rel': 'related', 'href': 'http://dx.doi.org...      9   \n",
              "144    [{'rel': 'alternate', 'href': 'http://arxiv.or...      2   \n",
              "22961  [{'rel': 'alternate', 'href': 'http://arxiv.or...     11   \n",
              "19448  [{'rel': 'related', 'href': 'http://dx.doi.org...      6   \n",
              "2331   [{'rel': 'alternate', 'href': 'http://arxiv.or...      3   \n",
              "\n",
              "                                                 summary  \\\n",
              "857    In many physical, statistical, biological and ...   \n",
              "144    We investigate the capacity, convexity and cha...   \n",
              "22961  This is the Proceedings of NIPS 2017 Workshop ...   \n",
              "19448  The predominant knowledge-based approach to au...   \n",
              "2331   Over the past two decades, several consistent ...   \n",
              "\n",
              "                                                     tag  \\\n",
              "857    [{'term': 'cs.LG', 'scheme': 'http://arxiv.org...   \n",
              "144    [{'term': 'cs.LG', 'scheme': 'http://arxiv.org...   \n",
              "22961  [{'term': 'stat.ML', 'scheme': 'http://arxiv.o...   \n",
              "19448  [{'term': 'cs.AI', 'scheme': 'http://arxiv.org...   \n",
              "2331   [{'term': 'cs.LG', 'scheme': 'http://arxiv.org...   \n",
              "\n",
              "                                                   title  year  \n",
              "857                       Principal Graphs and Manifolds  2008  \n",
              "144       Norm-Based Capacity Control in Neural Networks  2015  \n",
              "22961  Proceedings of NIPS 2017 Workshop on Machine L...  2017  \n",
              "19448  Compositional Model Repositories via Dynamic C...  2011  \n",
              "2331   Causal Conclusions that Flip Repeatedly and Th...  2012  "
            ],
            "text/html": [
              "\n",
              "  <div id=\"df-6808fd76-e53f-4d1b-a859-887a5d368828\">\n",
              "    <div class=\"colab-df-container\">\n",
              "      <div>\n",
              "<style scoped>\n",
              "    .dataframe tbody tr th:only-of-type {\n",
              "        vertical-align: middle;\n",
              "    }\n",
              "\n",
              "    .dataframe tbody tr th {\n",
              "        vertical-align: top;\n",
              "    }\n",
              "\n",
              "    .dataframe thead th {\n",
              "        text-align: right;\n",
              "    }\n",
              "</style>\n",
              "<table border=\"1\" class=\"dataframe\">\n",
              "  <thead>\n",
              "    <tr style=\"text-align: right;\">\n",
              "      <th></th>\n",
              "      <th>author</th>\n",
              "      <th>day</th>\n",
              "      <th>id</th>\n",
              "      <th>link</th>\n",
              "      <th>month</th>\n",
              "      <th>summary</th>\n",
              "      <th>tag</th>\n",
              "      <th>title</th>\n",
              "      <th>year</th>\n",
              "    </tr>\n",
              "  </thead>\n",
              "  <tbody>\n",
              "    <tr>\n",
              "      <th>857</th>\n",
              "      <td>[{'name': 'A. N. Gorban'}, {'name': 'A. Y. Zin...</td>\n",
              "      <td>2</td>\n",
              "      <td>0809.0490v2</td>\n",
              "      <td>[{'rel': 'related', 'href': 'http://dx.doi.org...</td>\n",
              "      <td>9</td>\n",
              "      <td>In many physical, statistical, biological and ...</td>\n",
              "      <td>[{'term': 'cs.LG', 'scheme': 'http://arxiv.org...</td>\n",
              "      <td>Principal Graphs and Manifolds</td>\n",
              "      <td>2008</td>\n",
              "    </tr>\n",
              "    <tr>\n",
              "      <th>144</th>\n",
              "      <td>[{'name': 'Behnam Neyshabur'}, {'name': 'Ryota...</td>\n",
              "      <td>27</td>\n",
              "      <td>1503.00036v2</td>\n",
              "      <td>[{'rel': 'alternate', 'href': 'http://arxiv.or...</td>\n",
              "      <td>2</td>\n",
              "      <td>We investigate the capacity, convexity and cha...</td>\n",
              "      <td>[{'term': 'cs.LG', 'scheme': 'http://arxiv.org...</td>\n",
              "      <td>Norm-Based Capacity Control in Neural Networks</td>\n",
              "      <td>2015</td>\n",
              "    </tr>\n",
              "    <tr>\n",
              "      <th>22961</th>\n",
              "      <td>[{'name': 'Maria De-Arteaga'}, {'name': 'Willi...</td>\n",
              "      <td>27</td>\n",
              "      <td>1711.09522v2</td>\n",
              "      <td>[{'rel': 'alternate', 'href': 'http://arxiv.or...</td>\n",
              "      <td>11</td>\n",
              "      <td>This is the Proceedings of NIPS 2017 Workshop ...</td>\n",
              "      <td>[{'term': 'stat.ML', 'scheme': 'http://arxiv.o...</td>\n",
              "      <td>Proceedings of NIPS 2017 Workshop on Machine L...</td>\n",
              "      <td>2017</td>\n",
              "    </tr>\n",
              "    <tr>\n",
              "      <th>19448</th>\n",
              "      <td>[{'name': 'J. Keppens'}, {'name': 'Q. Shen'}]</td>\n",
              "      <td>30</td>\n",
              "      <td>1107.0035v1</td>\n",
              "      <td>[{'rel': 'related', 'href': 'http://dx.doi.org...</td>\n",
              "      <td>6</td>\n",
              "      <td>The predominant knowledge-based approach to au...</td>\n",
              "      <td>[{'term': 'cs.AI', 'scheme': 'http://arxiv.org...</td>\n",
              "      <td>Compositional Model Repositories via Dynamic C...</td>\n",
              "      <td>2011</td>\n",
              "    </tr>\n",
              "    <tr>\n",
              "      <th>2331</th>\n",
              "      <td>[{'name': 'Kevin T. Kelly'}, {'name': 'Conor M...</td>\n",
              "      <td>15</td>\n",
              "      <td>1203.3488v1</td>\n",
              "      <td>[{'rel': 'alternate', 'href': 'http://arxiv.or...</td>\n",
              "      <td>3</td>\n",
              "      <td>Over the past two decades, several consistent ...</td>\n",
              "      <td>[{'term': 'cs.LG', 'scheme': 'http://arxiv.org...</td>\n",
              "      <td>Causal Conclusions that Flip Repeatedly and Th...</td>\n",
              "      <td>2012</td>\n",
              "    </tr>\n",
              "  </tbody>\n",
              "</table>\n",
              "</div>\n",
              "      <button class=\"colab-df-convert\" onclick=\"convertToInteractive('df-6808fd76-e53f-4d1b-a859-887a5d368828')\"\n",
              "              title=\"Convert this dataframe to an interactive table.\"\n",
              "              style=\"display:none;\">\n",
              "        \n",
              "  <svg xmlns=\"http://www.w3.org/2000/svg\" height=\"24px\"viewBox=\"0 0 24 24\"\n",
              "       width=\"24px\">\n",
              "    <path d=\"M0 0h24v24H0V0z\" fill=\"none\"/>\n",
              "    <path d=\"M18.56 5.44l.94 2.06.94-2.06 2.06-.94-2.06-.94-.94-2.06-.94 2.06-2.06.94zm-11 1L8.5 8.5l.94-2.06 2.06-.94-2.06-.94L8.5 2.5l-.94 2.06-2.06.94zm10 10l.94 2.06.94-2.06 2.06-.94-2.06-.94-.94-2.06-.94 2.06-2.06.94z\"/><path d=\"M17.41 7.96l-1.37-1.37c-.4-.4-.92-.59-1.43-.59-.52 0-1.04.2-1.43.59L10.3 9.45l-7.72 7.72c-.78.78-.78 2.05 0 2.83L4 21.41c.39.39.9.59 1.41.59.51 0 1.02-.2 1.41-.59l7.78-7.78 2.81-2.81c.8-.78.8-2.07 0-2.86zM5.41 20L4 18.59l7.72-7.72 1.47 1.35L5.41 20z\"/>\n",
              "  </svg>\n",
              "      </button>\n",
              "      \n",
              "  <style>\n",
              "    .colab-df-container {\n",
              "      display:flex;\n",
              "      flex-wrap:wrap;\n",
              "      gap: 12px;\n",
              "    }\n",
              "\n",
              "    .colab-df-convert {\n",
              "      background-color: #E8F0FE;\n",
              "      border: none;\n",
              "      border-radius: 50%;\n",
              "      cursor: pointer;\n",
              "      display: none;\n",
              "      fill: #1967D2;\n",
              "      height: 32px;\n",
              "      padding: 0 0 0 0;\n",
              "      width: 32px;\n",
              "    }\n",
              "\n",
              "    .colab-df-convert:hover {\n",
              "      background-color: #E2EBFA;\n",
              "      box-shadow: 0px 1px 2px rgba(60, 64, 67, 0.3), 0px 1px 3px 1px rgba(60, 64, 67, 0.15);\n",
              "      fill: #174EA6;\n",
              "    }\n",
              "\n",
              "    [theme=dark] .colab-df-convert {\n",
              "      background-color: #3B4455;\n",
              "      fill: #D2E3FC;\n",
              "    }\n",
              "\n",
              "    [theme=dark] .colab-df-convert:hover {\n",
              "      background-color: #434B5C;\n",
              "      box-shadow: 0px 1px 3px 1px rgba(0, 0, 0, 0.15);\n",
              "      filter: drop-shadow(0px 1px 2px rgba(0, 0, 0, 0.3));\n",
              "      fill: #FFFFFF;\n",
              "    }\n",
              "  </style>\n",
              "\n",
              "      <script>\n",
              "        const buttonEl =\n",
              "          document.querySelector('#df-6808fd76-e53f-4d1b-a859-887a5d368828 button.colab-df-convert');\n",
              "        buttonEl.style.display =\n",
              "          google.colab.kernel.accessAllowed ? 'block' : 'none';\n",
              "\n",
              "        async function convertToInteractive(key) {\n",
              "          const element = document.querySelector('#df-6808fd76-e53f-4d1b-a859-887a5d368828');\n",
              "          const dataTable =\n",
              "            await google.colab.kernel.invokeFunction('convertToInteractive',\n",
              "                                                     [key], {});\n",
              "          if (!dataTable) return;\n",
              "\n",
              "          const docLinkHtml = 'Like what you see? Visit the ' +\n",
              "            '<a target=\"_blank\" href=https://colab.research.google.com/notebooks/data_table.ipynb>data table notebook</a>'\n",
              "            + ' to learn more about interactive tables.';\n",
              "          element.innerHTML = '';\n",
              "          dataTable['output_type'] = 'display_data';\n",
              "          await google.colab.output.renderOutput(dataTable, element);\n",
              "          const docLink = document.createElement('div');\n",
              "          docLink.innerHTML = docLinkHtml;\n",
              "          element.appendChild(docLink);\n",
              "        }\n",
              "      </script>\n",
              "    </div>\n",
              "  </div>\n",
              "  "
            ]
          },
          "metadata": {},
          "execution_count": 136
        }
      ],
      "source": [
        "!wget \"https://www.dropbox.com/s/99az9n1b57qkd9j/arxivData.json.tar.gz?dl=1\" -O arxivData.json.tar.gz\n",
        "!tar -xvzf arxivData.json.tar.gz\n",
        "data = pd.read_json(\"./arxivData.json\")\n",
        "data.sample(n=5)"
      ]
    },
    {
      "cell_type": "code",
      "execution_count": 137,
      "metadata": {
        "id": "YY8udsOVSh_F",
        "pycharm": {
          "is_executing": true
        },
        "colab": {
          "base_uri": "https://localhost:8080/"
        },
        "outputId": "7f75c659-33cf-438e-ed12-e236cf812304"
      },
      "outputs": [
        {
          "output_type": "execute_result",
          "data": {
            "text/plain": [
              "['Differential Contrastive Divergence ; This paper has been retracted.',\n",
              " 'What Does Artificial Life Tell Us About Death? ; Short philosophical essay',\n",
              " 'P=NP ; We claim to resolve the P=?NP problem via a formal argument for P=NP.']"
            ]
          },
          "metadata": {},
          "execution_count": 137
        }
      ],
      "source": [
        "# Assemble lines: concatenate title and description\n",
        "lines = data.apply(lambda row: row['title'] + ' ; ' + row['summary'], axis=1).tolist()\n",
        "\n",
        "# Sample the first 3 lines...\n",
        "sorted(lines, key=len)[:3]"
      ]
    },
    {
      "cell_type": "code",
      "execution_count": 138,
      "metadata": {
        "id": "tbXJxSil2bjM",
        "pycharm": {
          "is_executing": true
        },
        "colab": {
          "base_uri": "https://localhost:8080/"
        },
        "outputId": "77b53113-c75e-4bc7-b841-0c9483f6dd63"
      },
      "outputs": [
        {
          "output_type": "execute_result",
          "data": {
            "text/plain": [
              "['differential contrastive divergence ; this paper has been retracted .',\n",
              " 'what does artificial life tell us about death ? ; short philosophical essay',\n",
              " 'p = np ; we claim to resolve the p =? np problem via a formal argument for p = np .']"
            ]
          },
          "metadata": {},
          "execution_count": 138
        }
      ],
      "source": [
        "# Convert lines into strings of space-separated tokens\n",
        "#! pip install nltk  # install if not yet installed\n",
        "\n",
        "from nltk.tokenize import WordPunctTokenizer\n",
        "tknzr = WordPunctTokenizer()\n",
        "lines = [tknzr.tokenize(sent.lower()) for sent in lines]\n",
        "lines = [' '.join(sent) for sent in lines]\n",
        "\n",
        "sorted(lines, key=len)[:3]"
      ]
    },
    {
      "cell_type": "markdown",
      "metadata": {
        "id": "6DRT4A8q2bjP"
      },
      "source": [
        "## **N-Gram Language Model**\n",
        "\n",
        "A language model is a probabilistic model that estimates text probability: the joint probability of all tokens $w_t$ in text $X$: $P(X) = P(w_1, \\dots, w_T)$.\n",
        "\n",
        "It can do so by following the chain rule:\n",
        "$$P(w_1, \\dots, w_T) = P(w_1)P(w_2 \\mid w_1)\\dots P(w_T \\mid w_1, \\dots, w_{T-1}).$$ \n",
        "\n",
        "The problem with such approach is that the final term $P(w_T \\mid w_1, \\dots, w_{T-1})$ depends on $n-1$ previous words. This probability is impractical to estimate for long texts, e.g. $T = 1000$.\n",
        "\n",
        "One popular approximation is to assume that the next word only depends on a finite amount of previous words:\n",
        "\n",
        "$$P(w_t \\mid w_1, \\dots, w_{t - 1}) = P(w_t \\mid w_{t - n + 1}, \\dots, w_{t - 1})$$\n",
        "\n",
        "Such a model is called an __n-gram language model__ where n is a parameter. For example, in a 3-gram language model, each word only depends on the 2 previous words. \n",
        "\n",
        "$$\n",
        "    P(w_1, \\dots, w_n) = \\prod_t P(w_t \\mid w_{t - n + 1}, \\dots, w_{t - 1}).\n",
        "$$\n",
        "\n",
        "You might also come across this approximation under the name of the _n-th order markov assumption_.\n",
        "\n",
        "The first stage in building such a model is counting all word occurences given the $n-1$ previous words:"
      ]
    },
    {
      "cell_type": "markdown",
      "metadata": {
        "id": "bWf1sSBJ6FxD"
      },
      "source": [
        "### Building the model"
      ]
    },
    {
      "cell_type": "code",
      "execution_count": 139,
      "metadata": {
        "id": "nWJiczkr2bjR",
        "pycharm": {
          "is_executing": true
        }
      },
      "outputs": [],
      "source": [
        "from collections import defaultdict, Counter\n",
        "\n",
        "# special tokens: \n",
        "# - UNK represents absent tokens, \n",
        "# - EOS is a special token after the end of sequence\n",
        "\n",
        "UNK, EOS = \"_UNK_\", \"_EOS_\"\n",
        "\n",
        "def count_ngrams(lines, n):\n",
        "    \"\"\"\n",
        "    Count how many times each word occurred after (n - 1) previous words\n",
        "    :param lines: an iterable of strings with space-separated tokens\n",
        "    :returns: a dictionary { tuple(prefix_tokens): {next_token_1: count_1, next_token_2: count_2, ...}}\n",
        "\n",
        "    When building counts, please consider the following two edge cases\n",
        "    - if prefix is shorter than (n - 1) tokens, it should be padded with UNK. For n=3,\n",
        "      empty prefix: \"\" -> (UNK, UNK)\n",
        "      short prefix: \"the\" -> (UNK, the)\n",
        "      long prefix: \"the new approach\" -> (new, approach)\n",
        "    - you should add a special token, EOS, at the end of each sequence\n",
        "      \"... with deep neural networks .\" -> (..., with, deep, neural, networks, ., EOS)\n",
        "      count the probability of this token just like all others.\n",
        "    \"\"\"\n",
        "    \n",
        "    counts = defaultdict(Counter)\n",
        "      \n",
        "    # counts[(word 1, word 2 ... word n-1)][word n] \n",
        "    #    = how many times word n occurred after (word 1 ... word n-1)\n",
        "    \n",
        "    for sent in lines:\n",
        "        sent = sent.split() + [EOS]\n",
        "        for i, word in enumerate(sent):\n",
        "            ############### for student ################            \n",
        "            tuple_prefix = tuple(sent[max(0, i - n + 1):i])\n",
        "            if len(tuple_prefix) < n - 1:\n",
        "                tuple_prefix = (UNK,) * (n - 1 - len(tuple_prefix)) + tuple_prefix\n",
        "            counts[tuple_prefix][word] += 1\n",
        "            ############################################\n",
        "    #print(counts.values())\n",
        "    return counts"
      ]
    },
    {
      "cell_type": "code",
      "execution_count": 140,
      "metadata": {
        "id": "vQJIOfRf2bjU",
        "pycharm": {
          "is_executing": true
        },
        "colab": {
          "base_uri": "https://localhost:8080/"
        },
        "outputId": "6b02cfd9-1552-4183-c25d-1571969d34d6"
      },
      "outputs": [
        {
          "output_type": "stream",
          "name": "stdout",
          "text": [
            "well done!\n"
          ]
        }
      ],
      "source": [
        "## evaluation\n",
        "## DON'T CHANGE THIS CELL IN ANY WAY\n",
        "\n",
        "dummy_lines = sorted(lines, key=len)[:100]\n",
        "dummy_counts = count_ngrams(dummy_lines, n=3)\n",
        "assert set(map(len, dummy_counts.keys())) == {2}, \"please only count {n-1}-grams\"\n",
        "assert dummy_counts['author', '.']['_EOS_'] == 1\n",
        "assert dummy_counts['p', '=']['np'] == 2\n",
        "assert len(dummy_counts[('_UNK_', '_UNK_')]) == 78\n",
        "assert dummy_counts['_UNK_', 'a']['note'] == 3\n",
        "\n",
        "print('well done!')"
      ]
    },
    {
      "cell_type": "markdown",
      "metadata": {
        "id": "j1PER9Ue2bjX"
      },
      "source": [
        "Once we can count N-grams, we can build a probabilistic language model.\n",
        "The simplest way to compute probabilities is in proporiton to counts:\n",
        "\n",
        "$$ P(w | \\textit{prefix}) = { \\textit{Count}(\\textit{prefix}, w) \\over \\sum_{w' \\in \\textit{Vocab}} \\textit{Count}(\\textit{prefix}, w') } $$"
      ]
    },
    {
      "cell_type": "code",
      "execution_count": 141,
      "metadata": {
        "id": "LGj4zemN2bjY",
        "pycharm": {
          "is_executing": true
        }
      },
      "outputs": [],
      "source": [
        "class NGramLanguageModel:    \n",
        "    def __init__(self, lines, n):\n",
        "        \"\"\" \n",
        "        Train a simple count-based language model: \n",
        "        compute probabilities P(w | prefix) given n-gram counts\n",
        "        \n",
        "        :param n: computes probability of next token given (n - 1) previous words\n",
        "        :param lines: an iterable of strings with space-separated tokens\n",
        "        \"\"\"\n",
        "        assert n >= 1\n",
        "        self.n = n\n",
        "    \n",
        "        counts = count_ngrams(lines, self.n)\n",
        "        self.probs = defaultdict(Counter)\n",
        "        \n",
        "        # compute token probabilities (self.probs), given the counts computed above\n",
        "        # probs[(word1, word2)][word3] = P(word3 | word1, word2)\n",
        "        ############### for student ################\n",
        "        #print(counts.keys())\n",
        "        for prefix, next_word in counts.items():\n",
        "            for word, count in next_word.items():\n",
        "                self.probs[prefix][word] = count / sum(next_word.values())\n",
        "\n",
        "\n",
        "\n",
        "        ############################################\n",
        "\n",
        "    def get_possible_next_tokens(self, prefix):\n",
        "        \"\"\"\n",
        "        :param prefix: string with space-separated prefix tokens\n",
        "        :returns: a dictionary {token : its probability} for all tokens with positive probabilities\n",
        "        \"\"\"\n",
        "        prefix = prefix.split()\n",
        "        prefix = prefix[max(0, len(prefix) - self.n + 1):]\n",
        "        prefix = [ UNK ] * (self.n - 1 - len(prefix)) + prefix\n",
        "        return self.probs[tuple(prefix)]\n",
        "    \n",
        "    def get_next_token_prob(self, prefix, next_token):\n",
        "        \"\"\"\n",
        "        :param prefix: string with space-separated prefix tokens\n",
        "        :param next_token: the next token to predict probability for\n",
        "        :returns: P(next_token|prefix) a single number, 0 <= P <= 1\n",
        "        \"\"\"\n",
        "        return self.get_possible_next_tokens(prefix).get(next_token, 0)"
      ]
    },
    {
      "cell_type": "markdown",
      "metadata": {
        "id": "gfbC9yas2bjb"
      },
      "source": [
        "Let's test it!"
      ]
    },
    {
      "cell_type": "code",
      "execution_count": 142,
      "metadata": {
        "id": "47vBFod12bjc",
        "pycharm": {
          "is_executing": true
        },
        "colab": {
          "base_uri": "https://localhost:8080/"
        },
        "outputId": "e355a444-fafe-44db-d151-0fd731a296d4"
      },
      "outputs": [
        {
          "output_type": "stream",
          "name": "stdout",
          "text": [
            "Good job!\n"
          ]
        }
      ],
      "source": [
        "## evaluation\n",
        "## DON'T CHANGE THIS CELL IN ANY WAY\n",
        "\n",
        "dummy_lm = NGramLanguageModel(dummy_lines, n=3)\n",
        "\n",
        "p_initial = dummy_lm.get_possible_next_tokens('') # '' -> ['_UNK_', '_UNK_']\n",
        "assert np.allclose(p_initial['learning'], 0.02)\n",
        "assert np.allclose(p_initial['a'], 0.13)\n",
        "assert np.allclose(p_initial.get('meow', 0), 0)\n",
        "assert np.allclose(sum(p_initial.values()), 1)\n",
        "\n",
        "p_a = dummy_lm.get_possible_next_tokens('a') # '' -> ['_UNK_', 'a']\n",
        "assert np.allclose(p_a['machine'], 0.15384615)\n",
        "assert np.allclose(p_a['note'], 0.23076923)\n",
        "assert np.allclose(p_a.get('the', 0), 0)\n",
        "assert np.allclose(sum(p_a.values()), 1)\n",
        "\n",
        "assert np.allclose(dummy_lm.get_possible_next_tokens('a note')['on'], 1)\n",
        "assert dummy_lm.get_possible_next_tokens('a machine') == \\\n",
        "    dummy_lm.get_possible_next_tokens(\"there have always been ghosts in a machine\"), \\\n",
        "    \"your 3-gram model should only depend on 2 previous words\"\n",
        "\n",
        "print(\"Good job!\")"
      ]
    },
    {
      "cell_type": "markdown",
      "metadata": {
        "id": "K6DqTkI32bjf"
      },
      "source": [
        "Now that you've got a working n-gram language model, let's see what sequences it can generate. But first, let's train it on the whole dataset."
      ]
    },
    {
      "cell_type": "code",
      "execution_count": 143,
      "metadata": {
        "id": "-c5_g1km2bjg",
        "pycharm": {
          "is_executing": true
        }
      },
      "outputs": [],
      "source": [
        "lm = NGramLanguageModel(lines, n=3)"
      ]
    },
    {
      "cell_type": "markdown",
      "metadata": {
        "id": "PSUlkZLx2bjj"
      },
      "source": [
        "The process of generating sequences is... well, it's sequential. You maintain a list of tokens and iteratively add the next token by sampling from the probabilities over the vocabulary at each point in the sequence.\n",
        "\n",
        "$ X = [] $\n",
        "\n",
        "__forever:__\n",
        "* $w_{next} \\sim P(w_{next} | X)$\n",
        "* $X = concat(X, w_{next})$\n",
        "\n",
        "\n",
        "Instead of sampling with probabilities, one can also take the most likely token, sample from among the top-K most likely tokens, or sample with a certain *temperature*. In the latter case (temperature), one samples from\n",
        "\n",
        "$$w_{next} \\sim {P(w_{next} | X) ^ {1 / \\tau} \\over \\sum_{w'} P(w' | X) ^ {1 / \\tau}}$$\n",
        "\n",
        "Where $\\tau > 0$ is the model temperature. If $\\tau << 1$, more likely tokens will be sampled with even higher probability while less likely tokens will vanish. For sampling from a given probability distribution, the function `nn.random.choice` can be used."
      ]
    },
    {
      "cell_type": "code",
      "execution_count": 144,
      "metadata": {
        "id": "B_bUavwG2bjj",
        "pycharm": {
          "is_executing": true
        }
      },
      "outputs": [],
      "source": [
        "def get_next_token(lm, prefix, temperature=1.0):\n",
        "    \"\"\"\n",
        "    return next token after prefix;\n",
        "    :param temperature: samples proportionally to lm probabilities ^ (1 / temperature)\n",
        "        if temperature == 0, always takes most likely token. Break ties arbitrarily.\n",
        "    \"\"\"\n",
        "\n",
        "    ############### for student ################\n",
        "    if temperature == 0:\n",
        "        return max(lm.get_possible_next_tokens(prefix), key=lm.get_possible_next_tokens(prefix).get)\n",
        "    else:\n",
        "        probs = lm.get_possible_next_tokens(prefix)\n",
        "        probs = {k: v ** (1 / temperature) for k, v in probs.items()}\n",
        "        probs = {k: v / sum(probs.values()) for k, v in probs.items()}\n",
        "        token = np.random.choice(list(probs.keys()), p=list(probs.values()))    #From numpy lib\n",
        "    ############################################\n",
        "\n",
        "    return token           \n"
      ]
    },
    {
      "cell_type": "code",
      "execution_count": 145,
      "metadata": {
        "id": "rR7huhTz2bjm",
        "pycharm": {
          "is_executing": true
        },
        "colab": {
          "base_uri": "https://localhost:8080/"
        },
        "outputId": "3e3f71f4-5acb-4d03-f789-7037492f0c6c"
      },
      "outputs": [
        {
          "output_type": "stream",
          "name": "stdout",
          "text": [
            "Looks nice!\n"
          ]
        }
      ],
      "source": [
        "## evaluation\n",
        "## DON'T CHANGE THIS CELL IN ANY WAY\n",
        "\n",
        "from collections import Counter\n",
        "test_freqs = Counter([get_next_token(lm, 'there have') for _ in range(10000)])\n",
        "assert 250 < test_freqs['not'] < 450\n",
        "assert 8500 < test_freqs['been'] < 9500\n",
        "assert 1 < test_freqs['lately'] < 200\n",
        "test_freqs = Counter([get_next_token(lm, 'deep', temperature=1.0) for _ in range(10000)])\n",
        "assert 1500 < test_freqs['learning'] < 3000\n",
        "test_freqs = Counter([get_next_token(lm, 'deep', temperature=0.0) for _ in range(10000)])\n",
        "assert test_freqs['learning'] == 10000\n",
        "test_freqs = Counter([get_next_token(lm, 'deep', temperature=0.5) for _ in range(10000)])\n",
        "assert 8000 < test_freqs['learning'] < 9000\n",
        "\n",
        "print(\"Looks nice!\")"
      ]
    },
    {
      "cell_type": "markdown",
      "metadata": {
        "id": "4putrZEE2bjo"
      },
      "source": [
        "Let's have fun with this model:"
      ]
    },
    {
      "cell_type": "code",
      "execution_count": 146,
      "metadata": {
        "id": "HpZkqe6B2bjp",
        "pycharm": {
          "is_executing": true
        },
        "colab": {
          "base_uri": "https://localhost:8080/"
        },
        "outputId": "eb5cde0e-ddfa-4262-ac6a-6d769944c367"
      },
      "outputs": [
        {
          "output_type": "stream",
          "name": "stdout",
          "text": [
            "artificial persuasion in abstract argumentation frameworks . this work , we use a technique to solve this problem has been successful in extracting organization names in various real - world data regression problems ; to solve the problem defaults were intended to cause parameters to be adopted , where there are still subject to some state - observation model by allowing nonmonotonic inferences and show distribution - independent behaviors . we evaluate the performance of each position . over - segmentation to assign dependency relation matrix , and can solve various fault detection problems arising in random experiments . _EOS_\n"
          ]
        }
      ],
      "source": [
        "prefix = 'artificial' # <- your ideas on the start of your AI generated scientific paper :)\n",
        "\n",
        "for i in range(100):\n",
        "    prefix += ' ' + get_next_token(lm, prefix)\n",
        "    if prefix.endswith(EOS) or len(lm.get_possible_next_tokens(prefix)) == 0:\n",
        "        break\n",
        "        \n",
        "print(prefix)"
      ]
    },
    {
      "cell_type": "code",
      "execution_count": 147,
      "metadata": {
        "id": "haAMgd8E2bjr",
        "pycharm": {
          "is_executing": true
        },
        "colab": {
          "base_uri": "https://localhost:8080/"
        },
        "outputId": "177b3767-466c-4952-9036-6c66d85554af"
      },
      "outputs": [
        {
          "output_type": "stream",
          "name": "stdout",
          "text": [
            "bridging the gap between the amount of data mining , and it is possible to train a deep neural networks ( cnns ) and the results of a set of labeled data for the task of learning the parameters of the proposed method is significantly faster than the original data set . we show that the proposed method . _EOS_\n"
          ]
        }
      ],
      "source": [
        "prefix = 'bridging the' # <- more of your ideas\n",
        "\n",
        "for i in range(100):\n",
        "    prefix += ' ' + get_next_token(lm, prefix, temperature=0.4)\n",
        "    if prefix.endswith(EOS) or len(lm.get_possible_next_tokens(prefix)) == 0:\n",
        "        break\n",
        "        \n",
        "print(prefix)"
      ]
    },
    {
      "cell_type": "markdown",
      "metadata": {
        "id": "-nTsCEeCrBJv"
      },
      "source": [
        "### Question 1 \n",
        "How does the temperature parameter affect the generated samples?\n",
        "\n",
        "**<font color=blue><<< INSERT ANSWER HERE >>></font>**\n",
        "- If the temperature is equal to 0, the model choses the always the word with the highest probability, as it increases the probability distrbution becomes more unform and so adds more randomness to the choice."
      ]
    },
    {
      "cell_type": "markdown",
      "metadata": {
        "id": "eSFf9Xxn2bju"
      },
      "source": [
        "### **Evaluating language models: perplexity**\n",
        "\n",
        "Perplexity is a measure of how well your model approximates the true probability distribution behind the data. __Smaller perplexity = better model__.\n",
        "\n",
        "To compute the perplexity on one sentence, we can use:\n",
        "$$\n",
        "    {\\mathbb{P}}(w_1 \\dots w_N) = P(w_1, \\dots, w_N)^{-\\frac1N} = \\left( \\prod_t P(w_t \\mid w_{t - n}, \\dots, w_{t - 1})\\right)^{-\\frac1N},\n",
        "$$\n",
        "\n",
        "\n",
        "On the corpus level, N would be equal to the __total length of all sentences__ in the corpora, and the product is taken over the probabilities of all tokens in all sentences. \n",
        "\n",
        "This number can quickly get too small for float32/float64 precision, so we recommend you to first compute the log-perplexity (take the log of the formula above, to transform it into a sum of log-probabilities) and then take the exponent to get the perplexity itself. "
      ]
    },
    {
      "cell_type": "code",
      "execution_count": 148,
      "metadata": {
        "id": "18C1wbQ_2bjv",
        "pycharm": {
          "is_executing": true
        }
      },
      "outputs": [],
      "source": [
        "def perplexity(lm, lines, min_logprob=np.log(10 ** -50.)):\n",
        "    \"\"\"\n",
        "    :param lines: a list of strings with space-separated tokens\n",
        "    :param min_logprob: if log(P(w | ...)) is smaller than min_logprob, set it equal to min_logrob\n",
        "    :returns: corpora-level perplexity - a single scalar number from the formula above\n",
        "    \n",
        "    Note: do not forget to compute P(w_first | empty) and P(eos | full_sequence)\n",
        "    \n",
        "    PLEASE USE lm.get_next_token_prob and NOT lm.get_possible_next_tokens\n",
        "    \"\"\"\n",
        "\n",
        "    \n",
        "    N = 0  # number of tokens\n",
        "    ppl = 0.0 # perplexity\n",
        "    \n",
        "    # https://stats.stackexchange.com/questions/129352/how-to-find-the-perplexity-of-a-corpus\n",
        "    ############### for student ################\n",
        "    for sent in lines:\n",
        "        sent = sent.split() + [EOS]\n",
        "        for i, word in enumerate(sent):\n",
        "            if i == 0:\n",
        "                if np.log(lm.get_next_token_prob(\"\", word)) < min_logprob:\n",
        "                    ppl += min_logprob\n",
        "                else:\n",
        "                    ppl += np.log(lm.get_next_token_prob(\"\", word))\n",
        "            else:\n",
        "                if np.log(lm.get_next_token_prob(\" \".join(sent[:i]), word)) < min_logprob:\n",
        "                    ppl += min_logprob\n",
        "                else:\n",
        "                    ppl += np.log(lm.get_next_token_prob(\" \".join(sent[:i]), word))\n",
        "            N += 1\n",
        "    ppl = np.exp(-ppl / N)\n",
        "\n",
        "\n",
        "    ############################################\n",
        "    \n",
        "    return ppl"
      ]
    },
    {
      "cell_type": "code",
      "execution_count": 149,
      "metadata": {
        "id": "Qd_S3CgK2bjy",
        "pycharm": {
          "is_executing": true
        },
        "colab": {
          "base_uri": "https://localhost:8080/"
        },
        "outputId": "f4e796b6-1c1b-44c9-bcdf-8933bb33069a"
      },
      "outputs": [
        {
          "output_type": "stream",
          "name": "stdout",
          "text": [
            "Perplexities: ppx1=318.213 ppx3=1.520 ppx10=1.184\n",
            "Well done!\n"
          ]
        },
        {
          "output_type": "stream",
          "name": "stderr",
          "text": [
            "<ipython-input-148-21f26381c614>:27: RuntimeWarning: divide by zero encountered in log\n",
            "  if np.log(lm.get_next_token_prob(\" \".join(sent[:i]), word)) < min_logprob:\n"
          ]
        }
      ],
      "source": [
        "## evaluation\n",
        "## DON'T CHANGE THIS CELL IN ANY WAY\n",
        "\n",
        "lm1 = NGramLanguageModel(dummy_lines, n=1)\n",
        "lm3 = NGramLanguageModel(dummy_lines, n=3)\n",
        "lm10 = NGramLanguageModel(dummy_lines, n=10)\n",
        "\n",
        "ppx1 = perplexity(lm1, dummy_lines)\n",
        "ppx3 = perplexity(lm3, dummy_lines)\n",
        "ppx10 = perplexity(lm10, dummy_lines)\n",
        "ppx_missing = perplexity(lm3, ['the jabberwock , with eyes of flame , '])\n",
        "\n",
        "print(\"Perplexities: ppx1=%.3f ppx3=%.3f ppx10=%.3f\" % (ppx1, ppx3, ppx10))\n",
        "\n",
        "assert all(0 < ppx < 500 for ppx in (ppx1, ppx3, ppx10)), \"perplexity should be nonnegative and reasonably small\"\n",
        "assert np.isfinite(ppx_missing) and ppx_missing > 10 ** 6, \"missing words should have large but finite perplexity. \" \\\n",
        "    \" Make sure you use min_logprob right\"\n",
        "assert ppx1 > ppx3 > ppx10, \"higher N-gram models should overfit and have lower ppl\"\n",
        "\n",
        "assert np.allclose([ppx1, ppx3, ppx10], (318.2132342216302, 1.5199996213739575, 1.1838145037901249))\n",
        "\n",
        "print('Well done!')"
      ]
    },
    {
      "cell_type": "markdown",
      "metadata": {
        "id": "pPvh4rw_2bj0"
      },
      "source": [
        "Now let's measure the actual perplexity: we'll split the data into train and test and score model on test data only."
      ]
    },
    {
      "cell_type": "code",
      "execution_count": 150,
      "metadata": {
        "id": "qN0hUDIn2bj1",
        "pycharm": {
          "is_executing": true
        },
        "colab": {
          "base_uri": "https://localhost:8080/"
        },
        "outputId": "702137c8-b9cf-44d4-aa50-148eab866e7f"
      },
      "outputs": [
        {
          "output_type": "stream",
          "name": "stderr",
          "text": [
            "<ipython-input-148-21f26381c614>:27: RuntimeWarning: divide by zero encountered in log\n",
            "  if np.log(lm.get_next_token_prob(\" \".join(sent[:i]), word)) < min_logprob:\n",
            "<ipython-input-148-21f26381c614>:22: RuntimeWarning: divide by zero encountered in log\n",
            "  if np.log(lm.get_next_token_prob(\"\", word)) < min_logprob:\n"
          ]
        },
        {
          "output_type": "stream",
          "name": "stdout",
          "text": [
            "N = 1, Perplexity = 1832.23136\n",
            "N = 2, Perplexity = 85653987.28774\n",
            "N = 3, Perplexity = 61999196259043346743296.00000\n"
          ]
        }
      ],
      "source": [
        "train_lines, test_lines = train_test_split(lines, test_size=0.25, random_state=SEED)\n",
        "\n",
        "for n in (1, 2, 3):\n",
        "    lm = NGramLanguageModel(n=n, lines=train_lines)\n",
        "    ppx = perplexity(lm, test_lines)\n",
        "    print(\"N = %i, Perplexity = %.5f\" % (n, ppx))\n"
      ]
    },
    {
      "cell_type": "markdown",
      "metadata": {
        "id": "vEPXFNpVrBJ3"
      },
      "source": [
        "### Question 2\n",
        "Do you expect increasing/decreasing perplexities for language models with longer n-grams (i.e., higher values of n)? Does this correspond with the test output you observe above? If not: can you explain this?\n",
        "\n",
        "**<font color=blue><<< INSERT ANSWER HERE >>></font>**\n",
        "- As you increase the length of the n-grams, the perplexity increases. This is in line with what you would expect, as the length of n-grams increases, the number of possibilities grows exponentially. This growth in possibilities means more combinations to chose and so the model will be less accurate in predicting the word, so the perplexity increases. "
      ]
    },
    {
      "cell_type": "markdown",
      "metadata": {
        "id": "wsAKFXD8yCO3",
        "pycharm": {
          "name": "#%% md\n"
        }
      },
      "source": [
        "###  LM Smoothing\n",
        "\n",
        "The problem with our simple language model is that whenever it encounters an n-gram it has never seen before, it assigns it the probabilitiy of 0. Every time this happens, the perplexity explodes.\n",
        "To battle this issue, there's a technique called __smoothing__. \n",
        "\n",
        "The core idea is to modify counts in a way that prevents probabilities from getting too low. The simplest algorithm here is _additive smoothing_ (aka [Lapace smoothing](https://en.wikipedia.org/wiki/Additive_smoothing)):\n",
        "\n",
        "$$ P(w | \\textit{prefix}) = \\frac{\\textit{Count}(\\textit{prefix}, w) \\color{red}{+ \\delta}}{\\sum_{w' \\in \\textit{Vocab}}(\\textit{Count}(\\textit{prefix}, w') \\color{red}{+ \\delta})} $$\n",
        "\n",
        "If counts for a given prefix are low, additive smoothing will adjust the probabilities to a more uniform distribution, by assigning some of the original probability mass to unseen words. \n",
        "\n",
        "We update the `self.probs` attribute inside the constructor (`__init__`) to handle smoothing. "
      ]
    },
    {
      "cell_type": "code",
      "execution_count": 151,
      "metadata": {
        "id": "O83GCDSbMfSv",
        "pycharm": {
          "is_executing": true
        }
      },
      "outputs": [],
      "source": [
        "class LaplaceLanguageModel(NGramLanguageModel): \n",
        "    def __init__(self, lines, n, delta=1.0):\n",
        "        self.n = n\n",
        "        counts = count_ngrams(lines, self.n) # \n",
        "        self.vocab = set(token for token_counts in counts.values() for token in token_counts) #\n",
        "        self.probs = defaultdict(Counter)\n",
        "        \n",
        "        for prefix in counts:\n",
        "            token_counts = counts[prefix]\n",
        "            total_count = sum(token_counts.values()) + delta * len(self.vocab) # denominator\n",
        "            for token in token_counts:\n",
        "                self.probs[prefix][token] = (token_counts[token] + delta) / total_count \n",
        "\n",
        "    def get_possible_next_tokens(self, prefix):\n",
        "        token_probs = super().get_possible_next_tokens(prefix)\n",
        "        missing_prob_total = 1.0 - sum(token_probs.values())\n",
        "        missing_prob = missing_prob_total / max(1, len(self.vocab) - len(token_probs))\n",
        "        return {token: token_probs.get(token, missing_prob) for token in self.vocab}\n",
        "\n",
        "    def get_next_token_prob(self, prefix, next_token):\n",
        "        token_probs = super().get_possible_next_tokens(prefix)\n",
        "        if next_token in token_probs:\n",
        "            return token_probs[next_token]\n",
        "        else:\n",
        "            missing_prob_total = 1.0 - sum(token_probs.values())\n",
        "            missing_prob_total = max(0, missing_prob_total) # prevent rounding errors\n",
        "            return missing_prob_total / max(1, len(self.vocab) - len(token_probs))\n",
        "        "
      ]
    },
    {
      "cell_type": "code",
      "execution_count": 152,
      "metadata": {
        "id": "Jk3hCsLiEJEU",
        "pycharm": {
          "is_executing": true,
          "name": "#%%\n"
        },
        "scrolled": true,
        "colab": {
          "base_uri": "https://localhost:8080/"
        },
        "outputId": "087ceaf2-ef35-476c-9d64-af7996a2d57c"
      },
      "outputs": [
        {
          "output_type": "stream",
          "name": "stderr",
          "text": [
            "<ipython-input-148-21f26381c614>:27: RuntimeWarning: divide by zero encountered in log\n",
            "  if np.log(lm.get_next_token_prob(\" \".join(sent[:i]), word)) < min_logprob:\n",
            "<ipython-input-148-21f26381c614>:22: RuntimeWarning: divide by zero encountered in log\n",
            "  if np.log(lm.get_next_token_prob(\"\", word)) < min_logprob:\n"
          ]
        },
        {
          "output_type": "stream",
          "name": "stdout",
          "text": [
            "N = 1, Perplexity = 1838.22427\n",
            "N = 2, Perplexity = 1292.02237\n",
            "N = 3, Perplexity = 10499.24004\n"
          ]
        }
      ],
      "source": [
        "# calculate perplexity for LaplaceLanguageModel\n",
        "\n",
        "from sklearn.model_selection import train_test_split\n",
        "train_lines, test_lines = train_test_split(lines, test_size=0.25, random_state=SEED)\n",
        "\n",
        "for n in (1, 2, 3):\n",
        "    lm = LaplaceLanguageModel(n=n, lines=train_lines)\n",
        "    ppx = perplexity(lm, test_lines)\n",
        "    print(\"N = %i, Perplexity = %.5f\" % (n, ppx))"
      ]
    },
    {
      "cell_type": "markdown",
      "metadata": {
        "id": "1lS9tYi3rBKA"
      },
      "source": [
        "### Question 3\n",
        "In a bigram language model (without smoothing), which of the following two phrases do you expect to have higher probablity? Why?\n",
        " - *and and*\n",
        " - *this paper* \n",
        "\n",
        "**<font color=blue><<< INSERT ANSWER HERE >>></font>**\n",
        "- I will expect \"this paper\" to have a high probability as its a bi-gram that we expect to apear frecuently in our corpus. In contrast I expect \"and and\" to have a probability of 0, as this bi-gram would never apear in our corpus."
      ]
    },
    {
      "cell_type": "markdown",
      "metadata": {
        "id": "DMOD2JQw6l_g"
      },
      "source": [
        "### Question 4\n",
        "\n",
        "If we add smoothing, how would the probability relation change for the above phrases? \n",
        "\n",
        "**<font color=blue><<< INSERT ANSWER HERE >>></font>**\n",
        "- When smoothing is applied, then \"and and\" would not be 0 but a value closer to it. This is a good representation, as it is a very uncommon bi-gram to encounter, however there is a little probability that this can happen. "
      ]
    },
    {
      "cell_type": "markdown",
      "metadata": {
        "id": "4AWJ09IbrBKB"
      },
      "source": [
        "Train both language models (smoothing and non-smoothing version) on `dummy_lines` and report perplexity for the given phrases."
      ]
    },
    {
      "cell_type": "code",
      "execution_count": 153,
      "metadata": {
        "id": "eWYPIVS8rBKC",
        "pycharm": {
          "is_executing": true,
          "name": "#%%\n"
        },
        "colab": {
          "base_uri": "https://localhost:8080/"
        },
        "outputId": "0bec4ac0-9d42-4060-9ab1-78e6dc4384c7"
      },
      "outputs": [
        {
          "output_type": "stream",
          "name": "stdout",
          "text": [
            "without smoothing: phrase = '['and and']' --> pp = 1.00E+50\n",
            "without smoothing: phrase = '['this paper']' --> pp = 2.79E+33\n",
            "with smoothing: phrase = '['and and']' --> pp = 1.01E+03\n",
            "with smoothing: phrase = '['this paper']' --> pp = 3.48E+02\n"
          ]
        },
        {
          "output_type": "stream",
          "name": "stderr",
          "text": [
            "<ipython-input-148-21f26381c614>:22: RuntimeWarning: divide by zero encountered in log\n",
            "  if np.log(lm.get_next_token_prob(\"\", word)) < min_logprob:\n",
            "<ipython-input-148-21f26381c614>:27: RuntimeWarning: divide by zero encountered in log\n",
            "  if np.log(lm.get_next_token_prob(\" \".join(sent[:i]), word)) < min_logprob:\n"
          ]
        }
      ],
      "source": [
        "# lm_names = [\"without smoothing\", \"with smoothing\"]\n",
        "phrases = [[\"and and\"], [\"this paper\"]]\n",
        "    \n",
        "lmu = LaplaceLanguageModel(dummy_lines, n=2, delta = 0)\n",
        "lms = LaplaceLanguageModel(dummy_lines, n=2, delta = 1)\n",
        "\n",
        "for lm_name,lmx in [(\"without smoothing\", lmu), (\"with smoothing\", lms)]:\n",
        "    for phrase in phrases:\n",
        "        ppl = perplexity(lmx, phrase)\n",
        "        \n",
        "        print(\"%s: phrase = '%s' --> pp = %.2E\" % (lm_name, phrase, ppl))\n",
        "        "
      ]
    },
    {
      "cell_type": "markdown",
      "metadata": {
        "id": "WWVsI9znVJgE"
      },
      "source": [
        "## **Deep Learning Based Language Models**\n",
        "\n",
        "We've checked out statistical approaches to language models so far. Now let's go find out what deep learning has to offer. We're gonna use the same dataset as before. \n",
        "\n",
        "\n",
        "![alt text](https://vipulvaibhaw.files.wordpress.com/2019/04/saltbae_pytorch.jpg)\n",
        "\n"
      ]
    },
    {
      "cell_type": "markdown",
      "metadata": {
        "id": "qDQAvQiNELH8",
        "pycharm": {
          "name": "#%% md\n"
        }
      },
      "source": [
        "We are going to implement the simplest recurrent neural network (RNN) known as the Elman RNN. Its hidden state aims to encapsulate the information for all previous input elements in order to help the network to take into account *the past*. Since there is no hidden state during the first step, we feed the network with an initial state of zero values (or randomly initilized values). Next, we feed it the first token ($\\textit{comedian}$) together with the hidden state of the previous step, to predict the next output ($\\textit{zelensky}$). We'll repeat this procedure until the end of sequence. \n",
        "\n",
        "We can summarize the above explanation into a simple equation as:\n",
        "\n",
        "$$h_t = F(x_{t}, h_{t-1}) = f(W_{x}x_t + W_{h}h_{t-1} + b),$$\n",
        "\n",
        "where $x_{t}$ is input, $h_{t}$ is hidden state, $b$ is a bias term and $f$ is the `tanh` non-linearity.\n",
        "\n",
        "![Elman RNN](https://drive.google.com/uc?id=1agU_KEY79JGjjgXDJrsBnf8Cg1dC901P)\n",
        "\n",
        "**Before proceeding, please check if your Colab notebook is running on a GPU. To do this, go to \"Edit\", then \"Notebook settings\" and select \"GPU\" as a hardware accelerator.**"
      ]
    },
    {
      "cell_type": "code",
      "execution_count": 154,
      "metadata": {
        "id": "CEcJFRkIrBKF",
        "pycharm": {
          "is_executing": true,
          "name": "#%%\n"
        },
        "colab": {
          "base_uri": "https://localhost:8080/"
        },
        "outputId": "6e30d1fa-2135-4b3d-9487-361f6d7c5947"
      },
      "outputs": [
        {
          "output_type": "stream",
          "name": "stdout",
          "text": [
            "cpu\n"
          ]
        }
      ],
      "source": [
        "### If you don't have pytorch yet: install it in the current kernel first .\n",
        "### Uncomment next 2 lines to do that.\n",
        "# import sys\n",
        "# !conda install --yes --prefix {sys.prefix} pytorch\n",
        "\n",
        "# first import necessary packages\n",
        "import torch\n",
        "import torch.nn as nn\n",
        "\n",
        "import matplotlib.pyplot as plt\n",
        "\n",
        "%matplotlib inline\n",
        "\n",
        "# for reproducibility \n",
        "torch.manual_seed(SEED)\n",
        "torch.cuda.manual_seed(SEED)\n",
        "torch.cuda.manual_seed_all(SEED)\n",
        "\n",
        "torch.backends.cudnn.enabled = False \n",
        "torch.backends.cudnn.benchmark = False\n",
        "torch.backends.cudnn.deterministic = True\n",
        "\n",
        "device = torch.device('cuda' if torch.cuda.is_available() else 'cpu')\n",
        "print(device)"
      ]
    },
    {
      "cell_type": "markdown",
      "metadata": {
        "id": "n4_fr0ct2Mm3",
        "pycharm": {
          "name": "#%% md\n"
        }
      },
      "source": [
        "### **Tokenization**\n",
        "\n",
        "Before implementing the neural network itself, lets prepare the data. We need special tokens:\n",
        "\n",
        "* Begin Of Sequence  (__BOS__) - this token is at the start of each sequence. We use it so that we always have non-empty input to our neural network. $P(x_t) = P(x_1 | BOS)$\n",
        "* End Of Sequence (__EOS__) - you guess it... this token is at the end of each sequence. The catch is that it should __not__ occur anywhere else except at the very end. If our model produces this token, the sequence is over.\n"
      ]
    },
    {
      "cell_type": "code",
      "execution_count": 155,
      "metadata": {
        "id": "5YSv47V12LDg",
        "pycharm": {
          "is_executing": true
        }
      },
      "outputs": [],
      "source": [
        "BOS, EOS = '<s>', '</s>'\n",
        "text = [BOS + ' ' + line + ' ' + EOS for line in lines] # concatenate BOS and EOS to all sentences\n",
        "text = [line.split() for line in text]"
      ]
    },
    {
      "cell_type": "code",
      "execution_count": 156,
      "metadata": {
        "id": "zXpDD07qrBKN",
        "pycharm": {
          "is_executing": true,
          "name": "#%%\n"
        },
        "colab": {
          "base_uri": "https://localhost:8080/"
        },
        "outputId": "39237aa7-db80-400b-a46b-4941c3544a84"
      },
      "outputs": [
        {
          "output_type": "stream",
          "name": "stdout",
          "text": [
            "['<s>', 'dual', 'recurrent', 'attention', 'units', 'for', 'visual', 'question', 'answering', ';', 'we', 'propose', 'an', 'architecture', 'for', 'vqa', 'which', 'utilizes', 'recurrent', 'layers', 'to', 'generate', 'visual', 'and', 'textual', 'attention', '.', 'the', 'memory', 'characteristic', 'of', 'the', 'proposed', 'recurrent', 'attention', 'units', 'offers', 'a', 'rich', 'joint', 'embedding', 'of', 'visual', 'and', 'textual', 'features', 'and', 'enables', 'the', 'model', 'to', 'reason', 'relations', 'between', 'several', 'parts', 'of', 'the', 'image', 'and', 'question', '.', 'our', 'single', 'model', 'outperforms', 'the', 'first', 'place', 'winner', 'on', 'the', 'vqa', '1', '.', '0', 'dataset', ',', 'performs', 'within', 'margin', 'to', 'the', 'current', 'state', '-', 'of', '-', 'the', '-', 'art', 'ensemble', 'model', '.', 'we', 'also', 'experiment', 'with', 'replacing', 'attention', 'mechanisms', 'in', 'other', 'state', '-', 'of', '-', 'the', '-', 'art', 'models', 'with', 'our', 'implementation', 'and', 'show', 'increased', 'accuracy', '.', 'in', 'both', 'cases', ',', 'our', 'recurrent', 'attention', 'mechanism', 'improves', 'performance', 'in', 'tasks', 'requiring', 'sequential', 'or', 'relational', 'reasoning', 'on', 'the', 'vqa', 'dataset', '.', '</s>']\n"
          ]
        }
      ],
      "source": [
        "# let's print the first sentence \n",
        "print(text[0])"
      ]
    },
    {
      "cell_type": "markdown",
      "metadata": {
        "id": "i5jp_3uQ_iHT",
        "pycharm": {
          "name": "#%% md\n"
        }
      },
      "source": [
        "Let us convert our raw text into sequences of ids. Our goal is to create a representation of the tokens which our model will be able to manipulate.\n",
        "\n",
        "First, we create two sorted dictionaries and map each token to an id. Second, we create the target data sequences based on the input. Note that the target is the same as the input, except that it is one token ahead of the input. This way, we can later teach our model to predict the next token in the sentence. "
      ]
    },
    {
      "cell_type": "code",
      "execution_count": 157,
      "metadata": {
        "id": "8KWb98fYCLJ0",
        "pycharm": {
          "is_executing": true
        }
      },
      "outputs": [],
      "source": [
        "from collections import Counter\n",
        "\n",
        "def get_data_lm(data):\n",
        "    \n",
        "    word_counts = Counter()\n",
        "    for sent in data:\n",
        "        word_counts.update(sent)\n",
        "\n",
        "    sorted_token = sorted(word_counts, key=word_counts.get, reverse=True)\n",
        "    \n",
        "    # create two dictionaries to convert token to id or vice-verca\n",
        "    id_to_token = {k: w for k, w in enumerate(sorted_token)}\n",
        "    token_to_id = {w: k for k, w in id_to_token.items()}\n",
        "    \n",
        "    n_token = len(id_to_token)\n",
        "    \n",
        "    tokenized_text = [[token_to_id[w] for w in sent] for sent in data]\n",
        "    \n",
        "    # output is one token ahead\n",
        "    inp_text = [sent[:-1] for sent in tokenized_text]\n",
        "    out_text = [sent[1: ] for sent in tokenized_text]\n",
        "\n",
        "    return id_to_token, token_to_id, n_token, inp_text, out_text"
      ]
    },
    {
      "cell_type": "code",
      "execution_count": 158,
      "metadata": {
        "id": "zzdcPMY1L3nb",
        "pycharm": {
          "is_executing": true,
          "name": "#%%\n"
        },
        "colab": {
          "base_uri": "https://localhost:8080/"
        },
        "outputId": "21179f70-fc8f-4c31-a37d-35a4554b9f47"
      },
      "outputs": [
        {
          "output_type": "stream",
          "name": "stdout",
          "text": [
            "-- raw text: [['<s>', 'dual', 'recurrent', 'attention', 'units', 'for', 'visual', 'question', 'answering', ';', 'we', 'propose', 'an', 'architecture', 'for', 'vqa', 'which', 'utilizes', 'recurrent', 'layers', 'to', 'generate', 'visual', 'and', 'textual', 'attention', '.', 'the', 'memory', 'characteristic', 'of', 'the', 'proposed', 'recurrent', 'attention', 'units', 'offers', 'a', 'rich', 'joint', 'embedding', 'of', 'visual', 'and', 'textual', 'features', 'and', 'enables', 'the', 'model', 'to', 'reason', 'relations', 'between', 'several', 'parts', 'of', 'the', 'image', 'and', 'question', '.', 'our', 'single', 'model', 'outperforms', 'the', 'first', 'place', 'winner', 'on', 'the', 'vqa', '1', '.', '0', 'dataset', ',', 'performs', 'within', 'margin', 'to', 'the', 'current', 'state', '-', 'of', '-', 'the', '-', 'art', 'ensemble', 'model', '.', 'we', 'also', 'experiment', 'with', 'replacing', 'attention', 'mechanisms', 'in', 'other', 'state', '-', 'of', '-', 'the', '-', 'art', 'models', 'with', 'our', 'implementation', 'and', 'show', 'increased', 'accuracy', '.', 'in', 'both', 'cases', ',', 'our', 'recurrent', 'attention', 'mechanism', 'improves', 'performance', 'in', 'tasks', 'requiring', 'sequential', 'or', 'relational', 'reasoning', 'on', 'the', 'vqa', 'dataset', '.', '</s>']]\n",
            "----------------------------------------------------------------------------------------------------\n",
            "-- input text: [[24, 25, 6, 3, 13, 14, 7, 15, 26, 27, 16, 28, 29, 30, 14, 8, 31, 32, 6, 33, 9, 34, 7, 4, 17, 3, 1, 0, 35, 36, 5, 0, 37, 6, 3, 13, 38, 39, 40, 41, 42, 5, 7, 4, 17, 43, 4, 44, 0, 10, 9, 45, 46, 47, 48, 49, 5, 0, 50, 4, 15, 1, 11, 51, 10, 52, 0, 53, 54, 55, 18, 0, 8, 56, 1, 57, 19, 20, 58, 59, 60, 9, 0, 61, 21, 2, 5, 2, 0, 2, 22, 62, 10, 1, 16, 63, 64, 23, 65, 3, 66, 12, 67, 21, 2, 5, 2, 0, 2, 22, 68, 23, 11, 69, 4, 70, 71, 72, 1, 12, 73, 74, 20, 11, 6, 3, 75, 76, 77, 12, 78, 79, 80, 81, 82, 83, 18, 0, 8, 19, 1]]\n",
            "----------------------------------------------------------------------------------------------------\n",
            "-- output text: [[25, 6, 3, 13, 14, 7, 15, 26, 27, 16, 28, 29, 30, 14, 8, 31, 32, 6, 33, 9, 34, 7, 4, 17, 3, 1, 0, 35, 36, 5, 0, 37, 6, 3, 13, 38, 39, 40, 41, 42, 5, 7, 4, 17, 43, 4, 44, 0, 10, 9, 45, 46, 47, 48, 49, 5, 0, 50, 4, 15, 1, 11, 51, 10, 52, 0, 53, 54, 55, 18, 0, 8, 56, 1, 57, 19, 20, 58, 59, 60, 9, 0, 61, 21, 2, 5, 2, 0, 2, 22, 62, 10, 1, 16, 63, 64, 23, 65, 3, 66, 12, 67, 21, 2, 5, 2, 0, 2, 22, 68, 23, 11, 69, 4, 70, 71, 72, 1, 12, 73, 74, 20, 11, 6, 3, 75, 76, 77, 12, 78, 79, 80, 81, 82, 83, 18, 0, 8, 19, 1, 84]]\n"
          ]
        }
      ],
      "source": [
        "id_to_token, token_to_id, n_token, inp_text, out_text = get_data_lm(text[0:1])\n",
        "\n",
        "print(\"-- raw text:\", text[0:1])\n",
        "print('-' * 100)\n",
        "print(\"-- input text:\", inp_text)\n",
        "print('-' * 100)\n",
        "print(\"-- output text:\", out_text)"
      ]
    },
    {
      "cell_type": "markdown",
      "metadata": {
        "id": "8XxSBfxkGpj1",
        "pycharm": {
          "name": "#%% md\n"
        }
      },
      "source": [
        "For training, we won't put the entire sequence through the model at once. As explained in the theory lectures, we will limit the sequence length over which we apply back-propagation (which we'll call the *bptt length*, or the back-propagation-through-time length), and arrange the bptt-long segments into mini-batches for parallel training (also see the slides, for considerations on choosing the mini-batch size).\n",
        "\n",
        "Let us first convert the sequences into **mini-batches**"
      ]
    },
    {
      "cell_type": "markdown",
      "metadata": {
        "id": "bjZR3aS1Gen-"
      },
      "source": [
        "Suppose our batch size is 4 (for benefiting from a gpu, you'll need to scale this up), bptt is 3 (in practice it will be much longer, though), and our data consists of a 1-dimensional tensor containing 36 token id's. Each batch will contain a 4x3 input tensor and a 4x3 target tensor, except for the last batch (we can discard the last one during training). As you already know, the target batch is one token ahead (in terms of the original sequence) of the input batch, since our task is language modeling (i.e. predicting the next word). The input/output tensor for the first batch will be something like what is shown in the figure. Here, each cell really contains a one-hot encoding representing the word at that position, but instead we only show its position index in the sequence:\n",
        "\n",
        "**Input batch**:\n",
        "\n",
        "![alt text](https://miro.medium.com/max/522/1*DVCsHtcfX8Hrb-1BJg92fw.png)\n",
        "\n",
        "**Target batch**:\n",
        "\n",
        "![alt text](https://miro.medium.com/max/504/1*gczU2zRHXnQ0SgXLanIK9g.png)"
      ]
    },
    {
      "cell_type": "markdown",
      "metadata": {
        "id": "Nxnxl7IIrBKX"
      },
      "source": [
        "We'll convert the input (`inp_text`) and target (`out_text`) indices from the previous steps into mini-batches as follows:"
      ]
    },
    {
      "cell_type": "code",
      "execution_count": 159,
      "metadata": {
        "id": "a4flBYwz3M3t",
        "pycharm": {
          "is_executing": true
        }
      },
      "outputs": [],
      "source": [
        "from itertools import chain \n",
        "from sklearn.utils import shuffle\n",
        "\n",
        "def get_batches(inp_text, out_text, batch_size, seq_size):\n",
        "    \n",
        "    # shuffle the sentences\n",
        "    itext, otext = shuffle(inp_text, out_text)  # both consistently shuffled over 1st dim\n",
        "\n",
        "    # flatten the data\n",
        "    itext = list(chain(*itext))\n",
        "    otext = list(chain(*otext))\n",
        "    \n",
        "    # work out how cleanly we can divide the dataset into batch_size parts.\n",
        "    num_batches = int(len(itext) / (seq_size * batch_size))\n",
        "    \n",
        "    # trim off any extra elements that wouldn't cleanly fit\n",
        "    itext = itext[:num_batches * batch_size * seq_size] \n",
        "    otext = otext[:num_batches * batch_size * seq_size]\n",
        "\n",
        "    itext = np.reshape(itext, (batch_size, -1)) # batch_size * tokens\n",
        "    otext = np.reshape(otext, (batch_size, -1)) # batch_size * tokens\n",
        "    \n",
        "    for i in range(0, num_batches * seq_size, seq_size):\n",
        "        yield itext[:, i:i + seq_size], otext[:, i:i + seq_size]"
      ]
    },
    {
      "cell_type": "markdown",
      "metadata": {
        "id": "TNfRxe7CrBKa"
      },
      "source": [
        "### Question 5\n",
        "\n",
        "If you study the `get_batches` code, you’ll see that only complete batches are generated (i.e., containing `batch_size` times `seq_size` instances). If the dataset size is no multiple of this number, this means the incomplete final batch is ignored. Do you think that is a problem in terms of the capabilities of the final trained model? Please motivate.\n",
        "\n",
        "**<font color=blue><<< INSERT ANSWER HERE >>></font>**\n",
        "- Discarting a chunk of data will not cause any problems to our model. It will only be a problem if the amount of data we have is very limited, and losing this small part of the data is crucial for our model."
      ]
    },
    {
      "cell_type": "code",
      "execution_count": 160,
      "metadata": {
        "id": "TAX_L9btrBKb",
        "pycharm": {
          "is_executing": true,
          "name": "#%%\n"
        },
        "colab": {
          "base_uri": "https://localhost:8080/"
        },
        "outputId": "347f4bfb-3f63-4d62-d465-be37041c7326"
      },
      "outputs": [
        {
          "output_type": "stream",
          "name": "stdout",
          "text": [
            "batch  0\n",
            "input: (4, 10)\n",
            "[[24 25  6  3 13 14  7 15 26 27]\n",
            " [ 5  0 37  6  3 13 38 39 40 41]\n",
            " [15  1 11 51 10 52  0 53 54 55]\n",
            " [22 62 10  1 16 63 64 23 65  3]]\n",
            "-----------------------------------\n",
            "target: (4, 10)\n",
            "[[25  6  3 13 14  7 15 26 27 16]\n",
            " [ 0 37  6  3 13 38 39 40 41 42]\n",
            " [ 1 11 51 10 52  0 53 54 55 18]\n",
            " [62 10  1 16 63 64 23 65  3 66]]\n",
            "-----------------------------------\n",
            "-----------------------------------\n",
            "batch  1\n",
            "input: (4, 10)\n",
            "[[16 28 29 30 14  8 31 32  6 33]\n",
            " [42  5  7  4 17 43  4 44  0 10]\n",
            " [18  0  8 56  1 57 19 20 58 59]\n",
            " [66 12 67 21  2  5  2  0  2 22]]\n",
            "-----------------------------------\n",
            "target: (4, 10)\n",
            "[[28 29 30 14  8 31 32  6 33  9]\n",
            " [ 5  7  4 17 43  4 44  0 10  9]\n",
            " [ 0  8 56  1 57 19 20 58 59 60]\n",
            " [12 67 21  2  5  2  0  2 22 68]]\n",
            "-----------------------------------\n",
            "-----------------------------------\n",
            "batch  2\n",
            "input: (4, 10)\n",
            "[[ 9 34  7  4 17  3  1  0 35 36]\n",
            " [ 9 45 46 47 48 49  5  0 50  4]\n",
            " [60  9  0 61 21  2  5  2  0  2]\n",
            " [68 23 11 69  4 70 71 72  1 12]]\n",
            "-----------------------------------\n",
            "target: (4, 10)\n",
            "[[34  7  4 17  3  1  0 35 36  5]\n",
            " [45 46 47 48 49  5  0 50  4 15]\n",
            " [ 9  0 61 21  2  5  2  0  2 22]\n",
            " [23 11 69  4 70 71 72  1 12 73]]\n",
            "-----------------------------------\n",
            "-----------------------------------\n"
          ]
        }
      ],
      "source": [
        "bs = 4\n",
        "bptt = 10\n",
        "batches = get_batches(inp_text, out_text, bs, bptt)\n",
        "\n",
        "i = 0\n",
        "for x,y in batches:\n",
        "    print('batch ', i)\n",
        "    print('input:', x.shape)\n",
        "    print(x)\n",
        "    print('-' * 35)\n",
        "    print('target:', y.shape)\n",
        "    print(y)\n",
        "    print('-' * 35)\n",
        "    print('-' * 35)\n",
        "    i += 1"
      ]
    },
    {
      "cell_type": "markdown",
      "metadata": {
        "id": "8a3wrsxdHpsO",
        "pycharm": {
          "name": "#%% md\n"
        }
      },
      "source": [
        "### **Let's build the model**\n",
        "\n",
        "By extending the `nn.Module` you can easily develop your own recurrent cell in pytorch. In this part we will implement an **Elman** Recurrent Network. This module receives a sequence of feature vectors and returns two tensors. Please study the nodes as defined in `__init__` and initialized using `init_weights`, and correctly fill in the `forward` method in line with the formula for the Elman RNN. \n",
        "\n",
        "Note that the `forward` function returns both the current `state` and a `hidden_seq`. The `state` variable represents the final state of the RNN after digesting the entire sequence `x`. The `hidden_seq` is the output of the RNN, and is made up of all past hidden states the RNN moved through to arrive at `state`. \n",
        "\n",
        "In the instructions in the cell below, we mention \"iterating over time\". With this, we mean iterating over the sequence. The hidden state at a certain iteration step summarizes all information seen in the sequence so far, and in other words, the past. This hidden state is updated in subsequent time steps, where new sequence tokens are fed into the model one by one, and therefore changes through time. \n",
        "\n",
        "Please note that potentially large tensors (such as input sequences and states) should be put on the correct device (stored in the parameter `device`) in order to benefit from the use of a GPU. You can refer to the evaluation cell below for an example on using `.to(device)`. In the forward pass, the data `x` that is passed along will already be on a device, but you will need to put the hidden state on the same device yourself after initialization (see comments in the code). "
      ]
    },
    {
      "cell_type": "code",
      "execution_count": 161,
      "metadata": {
        "id": "1gVBw_VvFo27",
        "pycharm": {
          "is_executing": true
        }
      },
      "outputs": [],
      "source": [
        "class RNN(nn.Module):\n",
        "    def __init__(self, input_sz, hidden_sz):\n",
        "        super(RNN, self).__init__()\n",
        "        # necessary parameters in Elman RNN\n",
        "        self.input_sz = input_sz\n",
        "        self.hidden_sz = hidden_sz\n",
        "        \n",
        "        self.fc_x = nn.Linear(self.input_sz, self.hidden_sz, bias=False)\n",
        "        self.fc_h = nn.Linear(self.hidden_sz, self.hidden_sz) #default: bias = True\n",
        "        \n",
        "        self.init_weights()\n",
        "        \n",
        "    def init_weights(self):\n",
        "        nn.init.xavier_uniform_(self.fc_x.weight)\n",
        "        nn.init.xavier_uniform_(self.fc_h.weight)\n",
        "        self.fc_h.bias.data.fill_(0.0)\n",
        "\n",
        "    def forward(self, x, state=None):\n",
        "        \"\"\"\n",
        "        :param x: batch of sequences of input symbols (represented as vectors)\n",
        "                  dimensions of x will be batch_size * sequence_length * input_sz\n",
        "        :param state: initial state vector, of size self.hidden_sz (zero-state if None)\n",
        "        :return: hidden_seq, state; where state is final output state,\n",
        "                 hidden_seq is list of hidden states h_t (see fig. above)\n",
        "        \"\"\"\n",
        "        \n",
        "        # things to do:\n",
        "        # 1) if state is None, initialize it with zeros (use `torch.zeros`)\n",
        "        #    please do not forget to put the state on the device after initialization\n",
        "        #    (you can access the device through x.device)\n",
        "        # 2) iterate over time, each time applying the RNN formula, and\n",
        "        #    concatenate the state tensors to hidden_seq (with `torch.cat`)\n",
        "        # 3) reshape hidden_seq from (seq, batch, feature) to (batch, seq, feature), with `Tensor.transpose`\n",
        "        \n",
        "        hidden_seq = []\n",
        "        \n",
        "        ############### for student ################\n",
        "        hidden_seq = torch.Tensor(hidden_seq)\n",
        "        if state == None:\n",
        "            state = torch.zeros(self.hidden_sz, device=x.device)\n",
        "        \n",
        "        #print(x.shape)\n",
        "        for t in range(x.shape[1]):\n",
        "          #print(t)\n",
        "          f = self.fc_x(x[:,t,:]) + self.fc_h(state)\n",
        "          state = (torch.exp(f) - torch.exp(-f))/(torch.exp(f) + torch.exp(-f))\n",
        "          hidden_seq = torch.cat((hidden_seq, state.unsqueeze(0)), dim=0 )\n",
        "          #hidden_seq.append(state)\n",
        "        \n",
        "        hidden_seq = torch.transpose(hidden_seq, 0, 1)\n",
        "        #hidden_seq = torch.stack(hidden_seq, dim=1)\n",
        "        ############################################\n",
        "        \n",
        "        return hidden_seq, state"
      ]
    },
    {
      "cell_type": "code",
      "execution_count": 162,
      "metadata": {
        "id": "HiVk59-DSaTi",
        "pycharm": {
          "is_executing": true,
          "name": "#%%\n"
        },
        "colab": {
          "base_uri": "https://localhost:8080/"
        },
        "outputId": "4cbf0942-86e6-4a7f-b07b-f765d7872541"
      },
      "outputs": [
        {
          "output_type": "stream",
          "name": "stdout",
          "text": [
            "RNNCell completed!\n"
          ]
        }
      ],
      "source": [
        "## evaluation\n",
        "## DON'T CHANGE THIS CELL IN ANY WAY\n",
        "\n",
        "# Let's test the RNN module\n",
        "arr = torch.rand([1, 2, 2]).to(device) # tensor dimension: batch size x bptt x features\n",
        "my_rnn = RNN(2, 2).to(device)\n",
        "out, state = my_rnn(arr)\n",
        "\n",
        "assert out.shape == torch.Size([1, 2, 2]), out.shape\n",
        "assert state.shape == torch.Size([1, 2]), state.shape\n",
        "\n",
        "print(\"RNNCell completed!\")"
      ]
    },
    {
      "cell_type": "markdown",
      "metadata": {
        "id": "0Ldp30LUYPFT",
        "pycharm": {
          "name": "#%% md\n"
        }
      },
      "source": [
        "The recurrent module is only one part of the neural language model. We still need an embedding layer, to convert our tokens into a feature vector which can be used as an input of the recurrend module. We also need a decoding layer, which predicts subsequent tokens by converting the output sequence it receives from the recurrend module into a probability distribution. To this end, we defined a wrapper and put everything in it. We provided the necessary modules you'll need, please complete the `forward` function. "
      ]
    },
    {
      "cell_type": "code",
      "execution_count": 163,
      "metadata": {
        "id": "tFiwFmga4hEA",
        "pycharm": {
          "is_executing": true
        }
      },
      "outputs": [],
      "source": [
        "class RNNLanguageModel(nn.Module):\n",
        "    def __init__(self, n_tokens, hidden_size):\n",
        "        super(RNNLanguageModel, self).__init__()\n",
        "        \n",
        "        self.hidden_size = hidden_size\n",
        "        self.encoder = nn.Embedding(n_tokens, hidden_size)  #Embedding layer\n",
        "        self.rnn = RNN(hidden_size, hidden_size)            #RNN layer \n",
        "        self.decoder = nn.Linear(hidden_size, n_tokens)     #Decoding layer\n",
        "    \n",
        "    def forward(self, x, prev_state=None):\n",
        "        \"\"\"\n",
        "        :return: logits, state; where logits = output of the decoder,\n",
        "                 and state = the final rnn state.\n",
        "        \"\"\"\n",
        "        # call the Embedding, RNN and linear decoder layer in the forward pass\n",
        "        ############### for student ################\n",
        "        x = self.encoder(x)\n",
        "        x,_ = self.rnn(x, prev_state)\n",
        "        logits = self.decoder(x)\n",
        "\n",
        "        return logits, prev_state\n",
        "        ############################################        \n",
        "\n",
        "    def zero_state(self, batch_size):\n",
        "        return torch.zeros(batch_size, self.hidden_size)"
      ]
    },
    {
      "cell_type": "code",
      "execution_count": 164,
      "metadata": {
        "id": "uJ3NOjK7kftX",
        "pycharm": {
          "is_executing": true,
          "name": "#%%\n"
        },
        "colab": {
          "base_uri": "https://localhost:8080/"
        },
        "outputId": "604a8648-b70e-488b-9f75-2a241d78ff90"
      },
      "outputs": [
        {
          "output_type": "stream",
          "name": "stdout",
          "text": [
            "Sounds good! The model is complete!\n"
          ]
        }
      ],
      "source": [
        "## evaluation\n",
        "## DON'T CHANGE THIS CELL IN ANY WAY\n",
        "\n",
        "# Let's test the whole model\n",
        "arr = torch.randint(n_token, [64, 32], dtype=torch.long).to(device)\n",
        "\n",
        "rnn_language_model = RNNLanguageModel(n_token, 256).to(device)\n",
        "state = rnn_language_model.zero_state(64).to(device)\n",
        "out, state = rnn_language_model(arr, state)\n",
        "\n",
        "assert type(out) != type(None), 'Do you return output?'\n",
        "assert type(state) != type(None), 'Do you return state?'\n",
        "assert out.shape == torch.Size([64, 32, n_token]), out.shape\n",
        "assert state.shape == torch.Size([64, 256]), state.shape \n",
        "print(\"Sounds good! The model is complete!\")"
      ]
    },
    {
      "cell_type": "markdown",
      "metadata": {
        "id": "Ekvi0-dsHie1",
        "pycharm": {
          "name": "#%% md\n"
        }
      },
      "source": [
        "### **Sampling**\n",
        "\n",
        "You will need a function to generate text. For your convenience, we have implemented it for you. The idea is to feed one token at a time to the model and concatenate the model's output token to previously predicted tokens. "
      ]
    },
    {
      "cell_type": "code",
      "execution_count": 165,
      "metadata": {
        "id": "HIzIA8JUrBKq",
        "pycharm": {
          "is_executing": true
        }
      },
      "outputs": [],
      "source": [
        "def sample(preds, n_token, temperature):\n",
        "    if temperature == 0:\n",
        "        choice = np.argmax(preds[0].tolist())\n",
        "    else:\n",
        "        preds = preds.squeeze() / temperature\n",
        "        exp_preds = np.exp(preds.tolist())\n",
        "        preds = exp_preds / np.sum(exp_preds)\n",
        "        choice = np.random.choice([*range(n_token)], p=preds)\n",
        "    return choice"
      ]
    },
    {
      "cell_type": "code",
      "execution_count": 166,
      "metadata": {
        "id": "D8MVYJ_LVPPl",
        "pycharm": {
          "is_executing": true,
          "name": "#%%\n"
        }
      },
      "outputs": [],
      "source": [
        "def generate_text(device, net, n_token, token_to_id, id_to_token, temperature=1.0):\n",
        "    # we are in evaluation mode\n",
        "    net.eval()\n",
        "\n",
        "    # initialize state\n",
        "    state_h = net.zero_state(1).to(device)\n",
        "\n",
        "    # manually feed some tokens\n",
        "    initial_words = ['recurrent', 'neural']\n",
        "    for w in initial_words:\n",
        "        ix = torch.tensor([[token_to_id[w]]], dtype=torch.long).to(device)\n",
        "        preds, state_h = net(ix, state_h)\n",
        "    \n",
        "    choice = sample(preds, n_token, temperature)\n",
        "    initial_words.append(id_to_token[choice])\n",
        "\n",
        "    # generate next tokens (50 tokens at most!)\n",
        "    for _ in range(50):\n",
        "        ix = torch.tensor([[choice]], dtype=torch.long).to(device)\n",
        "        preds, state_h = net(ix, state_h)\n",
        "        choice = sample(preds, n_token, temperature)\n",
        "        \n",
        "#         # you can stop generation \n",
        "#         if id_to_token[choice] == EOS:\n",
        "#             break;\n",
        "        \n",
        "        initial_words.append(id_to_token[choice])\n",
        "\n",
        "\n",
        "    return ' '.join(initial_words)"
      ]
    },
    {
      "cell_type": "markdown",
      "metadata": {
        "id": "oh9MrQinIxWp",
        "pycharm": {
          "name": "#%% md\n"
        }
      },
      "source": [
        "### **Training loop**\n",
        "\n",
        "A typical set of steps for training in Pytorch is:\n",
        "\n",
        "* set model in 'train' mode *(note: it will only inform the inner mechanism that we are about to train, but not actually execute the training; we still need to do that ourselves)*\n",
        "* Reset all gradients\n",
        "* Compute output and loss value. To this end, have a look at the documentation for `nn.CrossEntropyLoss()` and be careful to reshape your outputs and labels according to the dimensions this function expects. \n",
        "* Perform back-propagation to compute the gradients, based on the calculated loss\n",
        "* Update the network’s parameters using an optimization scheme of your choice (here, we use Adam). \n",
        "\n",
        "Note on setting the initial state for each training batch. As mentioned, a state consisting of all zeros can be used, which we will do throughout this lab. Ideally, the first token of each instance would always be the start-of-sequence token, and its trainable embedding could perfectly learn to deal with the zero-state. However, this is typically not the case in practice, but it turns out not to be a problem to start with a zero-state after all (especially when training on sufficiently long segments, such that the effect of the zero state is negligible). This is far easier than keeping track of the states calculated earlier, to be consistently used as the initial state for the corresponding segments. \n",
        "An alternative would be to use a randomly initalized and trainable initial state."
      ]
    },
    {
      "cell_type": "code",
      "execution_count": 167,
      "metadata": {
        "id": "gUxKy9PzrBKx",
        "pycharm": {
          "is_executing": true
        }
      },
      "outputs": [],
      "source": [
        "seq_size = 64\n",
        "batch_size = 16\n",
        "hidden_size = 256\n",
        "temperature = 1.0\n",
        "\n",
        "dummy_text = text[0:100]\n",
        "id_to_token, token_to_id, n_token, inp_text, out_text = get_data_lm(dummy_text)"
      ]
    },
    {
      "cell_type": "code",
      "execution_count": 168,
      "metadata": {
        "id": "tvxqiXVZtYE_",
        "pycharm": {
          "is_executing": true
        },
        "colab": {
          "base_uri": "https://localhost:8080/"
        },
        "outputId": "deb147e9-782c-4c2a-962b-a774965701c2"
      },
      "outputs": [
        {
          "output_type": "stream",
          "name": "stdout",
          "text": [
            "epoch: 0/100 iteration: 0 loss: 7.943021297454834\n",
            "--------------------------------------------------\n",
            "recurrent neural paraphrasing lstm linguistic range addresses possible been games twelve largely watching exact continue gap brain observed initialization qualitatively planner attach less costly frequently target activity get 59 edits increased deep neuronal raises byproducts tuned formed delayed angular majority facilitated keeping lead tagger degenerated discharge sentence cognitive good atis executes problem unit\n",
            "--------------------------------------------------\n",
            "epoch: 2/100 iteration: 50 loss: 5.666154384613037\n",
            "epoch: 5/100 iteration: 100 loss: 4.7975664138793945\n",
            "epoch: 8/100 iteration: 150 loss: 4.21389627456665\n",
            "epoch: 11/100 iteration: 200 loss: 3.4832613468170166\n",
            "epoch: 13/100 iteration: 250 loss: 3.1716299057006836\n",
            "--------------------------------------------------\n",
            "recurrent neural networks seems shelf source interrelation applying reinforcement learning everything twice viability optimal dnn scratch baselines classifies settings label neural network more thoroughly mainly sensitivity rnn about thresholding }$- slightly logical generate syntactically time 20 validated regions difficulty increasingly encoding subtask extraction aligns depth partial superior general witnessed automatically hmm extended adult\n",
            "--------------------------------------------------\n",
            "epoch: 16/100 iteration: 300 loss: 2.5826025009155273\n",
            "epoch: 19/100 iteration: 350 loss: 2.27781343460083\n",
            "epoch: 22/100 iteration: 400 loss: 1.8286579847335815\n",
            "epoch: 25/100 iteration: 450 loss: 1.4772709608078003\n",
            "epoch: 27/100 iteration: 500 loss: 1.2472405433654785\n",
            "--------------------------------------------------\n",
            "recurrent neural enquirer significantly better than previously formed architecture search for acoustic modelling parts of active ` scenarios stochastic predicting this tutorial on perceptual even feasibility specialized gan internal neural enquirer can exactly characterize and put technique benefits oversampling closes unimpeded bayesian treatment improved ablations from scratch either left - dependent deep reinforcement\n",
            "--------------------------------------------------\n",
            "epoch: 30/100 iteration: 550 loss: 1.0743380784988403\n",
            "epoch: 33/100 iteration: 600 loss: 0.8365753889083862\n",
            "epoch: 36/100 iteration: 650 loss: 0.7126367092132568\n",
            "epoch: 38/100 iteration: 700 loss: 0.6280285120010376\n",
            "epoch: 41/100 iteration: 750 loss: 0.5478294491767883\n",
            "--------------------------------------------------\n",
            "recurrent neural enquirer competing systems be game sparse an asymmetric separate that incorporating knowledge in their typographical progressively refines ( stacked denoising function learns to outperform current state - increasingly popular creating multiple token history free grammars are most promising routes source learning mid - srnn second recurrent autoencoder ( e . ios\n",
            "--------------------------------------------------\n",
            "epoch: 44/100 iteration: 800 loss: 0.45837265253067017\n",
            "epoch: 47/100 iteration: 850 loss: 0.401339590549469\n",
            "epoch: 50/100 iteration: 900 loss: 0.3281433582305908\n",
            "epoch: 52/100 iteration: 950 loss: 0.32272499799728394\n",
            "epoch: 55/100 iteration: 1000 loss: 0.2586773633956909\n",
            "--------------------------------------------------\n",
            "recurrent neural network determines a chinese implicit discourse treebank dataset that state update equations . </s> overcome information stored convolutional neural network architectures that utilize next line recognition ( images dataset has been proposed artificial neural enquirer finds that captures embeddings . </s> designed absorb certain segments given the cognitive plausibility precisely step\n",
            "--------------------------------------------------\n",
            "epoch: 58/100 iteration: 1050 loss: 0.25115713477134705\n",
            "epoch: 61/100 iteration: 1100 loss: 0.26441729068756104\n",
            "epoch: 63/100 iteration: 1150 loss: 0.2359798103570938\n",
            "epoch: 66/100 iteration: 1200 loss: 0.24256758391857147\n",
            "epoch: 69/100 iteration: 1250 loss: 0.2033124417066574\n",
            "--------------------------------------------------\n",
            "recurrent neural programming \" implementation and then generates for discrimination the best practices improves upon recently proposed artificial intelligence have gained cnns by modern gpu clusters requiring sequential data sets into the case without applying any tricks gains ( iss will results highlight the five most existing methods attach a prototype sentence similarity\n",
            "--------------------------------------------------\n",
            "epoch: 72/100 iteration: 1300 loss: 0.1865195631980896\n",
            "epoch: 75/100 iteration: 1350 loss: 0.1718369871377945\n",
            "epoch: 77/100 iteration: 1400 loss: 0.19412723183631897\n",
            "epoch: 80/100 iteration: 1450 loss: 0.16926753520965576\n",
            "epoch: 83/100 iteration: 1500 loss: 0.17986977100372314\n",
            "--------------------------------------------------\n",
            "recurrent neural networks tasks such as well in extracting remote sensing ; we propose a reflects other motivating iillustrations subsequent its ensemble systems contain separate representations and generates as a iteration of documents in infer using a general applications such as a limited real - par with time lip synchronisation access to execute\n",
            "--------------------------------------------------\n",
            "epoch: 86/100 iteration: 1550 loss: 0.1616174876689911\n",
            "epoch: 88/100 iteration: 1600 loss: 0.1595645248889923\n",
            "epoch: 91/100 iteration: 1650 loss: 0.1839432418346405\n",
            "epoch: 94/100 iteration: 1700 loss: 0.16598865389823914\n",
            "epoch: 97/100 iteration: 1750 loss: 0.1479383409023285\n",
            "--------------------------------------------------\n",
            "recurrent neural network them use such as a unified framework generalizes corresponding to evaluate your dialogue systems users via deep reinforcement learning techniques : we introduce neural network similar efforts intelligence each a2w model to vqa input sequence of penn treebank . we introduce a unique repository of what they constitute a young\n",
            "--------------------------------------------------\n"
          ]
        }
      ],
      "source": [
        "net = RNNLanguageModel(n_token, hidden_size)\n",
        "net = net.to(device)\n",
        "\n",
        "criterion = nn.CrossEntropyLoss()\n",
        "optimizer = torch.optim.Adam(net.parameters())\n",
        "\n",
        "iteration = 0\n",
        "total_epochs = 100\n",
        "loss_history = []\n",
        "\n",
        "\n",
        "for e in range(total_epochs):\n",
        "    \n",
        "    batches = get_batches(inp_text, out_text, batch_size, seq_size)\n",
        "    \n",
        "    state_h = net.zero_state(batch_size)\n",
        "    state_h = state_h.to(device)\n",
        "    \n",
        "    for x, y in batches:\n",
        "\n",
        "        x = torch.tensor(x).to(device)\n",
        "        y = torch.tensor(y).to(device)\n",
        "\n",
        "        # single-line instructions:\n",
        "        # - put model in `train` mode\n",
        "        # - set gradients to zero\n",
        "        # - forward pass (assume zero initial state by default)\n",
        "        # - loss calculation, using the criterion defined above\n",
        "        # - compute gradient\n",
        "        # - clip gradients (using grad_norm; set the gradient norm to 1)\n",
        "        # - update parameters, using the optimizer defined above\n",
        "        \n",
        "        ############### for student ################\n",
        "        net.train()\n",
        "        optimizer.zero_grad()\n",
        "        logits, state = net(x, state_h)\n",
        "        #print(logits.shape)\n",
        "        #print(y.shape)\n",
        "        #logits = logits.view(-1, 2688) \n",
        "        logits = logits.view(-1, n_token)      #Should be tensor of unnormalized logits with shape (N,C)\n",
        "        y = y.view(-1)        #Should be tensor of class indices with shape N\n",
        "        loss = criterion(logits,y)    \n",
        "        #torch.gradient(loss)\n",
        "        loss.backward()\n",
        "        torch.nn.utils.clip_grad_norm_(net.parameters(), max_norm=1)    # Technique for preventing gradients of becoming too large. It reescale gradients if norm exeedes specified value\n",
        "        optimizer.step()\n",
        "        ############################################\n",
        "\n",
        "        if iteration % 50 == 0:\n",
        "            print('epoch: {}/{} iteration: {} loss: {}'.format(e, total_epochs, iteration, loss.item()))\n",
        "            \n",
        "        if iteration % 250 == 0:\n",
        "            print('-' * 50)\n",
        "            print(generate_text(device, net, n_token, token_to_id, id_to_token, temperature))\n",
        "            print('-' * 50)\n",
        "\n",
        "        iteration += 1\n",
        "\n",
        "    \n",
        "    loss_history.append(loss.item())"
      ]
    },
    {
      "cell_type": "code",
      "execution_count": 169,
      "metadata": {
        "id": "j1k8Dim1rBK2",
        "pycharm": {
          "is_executing": true
        },
        "colab": {
          "base_uri": "https://localhost:8080/"
        },
        "outputId": "1cbcd9ba-ca79-454f-f49f-c7b87d48c7aa"
      },
      "outputs": [
        {
          "output_type": "stream",
          "name": "stdout",
          "text": [
            "Fantastico!\n"
          ]
        }
      ],
      "source": [
        "## evaluation\n",
        "## DON'T CHANGE THIS CELL IN ANY WAY\n",
        "\n",
        "assert loss_history[-1] < 0.3\n",
        "\n",
        "print('Fantastico!')"
      ]
    },
    {
      "cell_type": "code",
      "execution_count": 170,
      "metadata": {
        "id": "ISzQG0TJrBK3",
        "pycharm": {
          "is_executing": true,
          "name": "#%%\n"
        },
        "colab": {
          "base_uri": "https://localhost:8080/",
          "height": 279
        },
        "outputId": "659ab7c9-351d-4dcb-bca0-e929cef49b00"
      },
      "outputs": [
        {
          "output_type": "display_data",
          "data": {
            "text/plain": [
              "<Figure size 432x288 with 1 Axes>"
            ],
            "image/png": "[encoded data removed]"
          },
          "metadata": {
            "needs_background": "light"
          }
        }
      ],
      "source": [
        "epoch_count = range(1, len(loss_history) + 1) \n",
        "\n",
        "# Visualize loss history\n",
        "plt.plot(epoch_count, loss_history, 'r--')\n",
        "plt.legend(['Train Loss'])\n",
        "plt.xlabel('Epoch')\n",
        "plt.ylabel('Loss')\n",
        "plt.show()"
      ]
    },
    {
      "cell_type": "markdown",
      "metadata": {
        "id": "TAQdYuMANRdv",
        "pycharm": {
          "name": "#%% md\n"
        }
      },
      "source": [
        "### **More powerful cell!**\n",
        "\n",
        "In the previous part, we implemented a simple Elman recurrent network. We can easily extend it to an **LSTM** by modifying our code slightly. Since we already learned how to implement the recurrent cell itself, in this part, we will simply use the existing pytorch `nn.LSTM` implementation. One major difference between these two networks is their **hidden state**. Unlike an Elman RNN which has only a single state, the hidden state of an LSTM is made up of two parts.\n",
        "You can take a look at the online documentation of [`nn.LSTM`](https://pytorch.org/docs/stable/nn.html?highlight=lstm#torch.nn.LSTM) as well as [`nn.LSTMCell`](https://pytorch.org/docs/stable/nn.html?highlight=lstmcell#torch.nn.LSTMCell)\n",
        "\n",
        "<img src=\"https://www.knime.com/sites/default/files/fig_2_2.png\" alt=\"img\" width=\"512px\"/>\n",
        "\n",
        "Please fill in the forward function of the LSTM network."
      ]
    },
    {
      "cell_type": "code",
      "execution_count": 171,
      "metadata": {
        "id": "jxfZc9tpsC_1",
        "pycharm": {
          "is_executing": true
        }
      },
      "outputs": [],
      "source": [
        "class LSTMLanguageModel(nn.Module):\n",
        "    def __init__(self, n_tokens, hidden_sz):\n",
        "        super(LSTMLanguageModel, self).__init__()\n",
        "        self.hidden_size = hidden_sz\n",
        "        \n",
        "        self.embedding = nn.Embedding(n_tokens, hidden_sz)\n",
        "        self.rnn = nn.LSTM(hidden_sz, hidden_sz, batch_first=True)\n",
        "        self.decoder = nn.Linear(hidden_sz, n_tokens)\n",
        "        \n",
        "    def forward(self, x, prev_state):\n",
        "        \"\"\"\n",
        "        :return: logits, state; where logits is output of the decoder,\n",
        "                 and state is the final rnn state.\n",
        "        \"\"\"\n",
        "        ############### for student ################\n",
        "        x = self.embedding(x)\n",
        "        x,_ = self.rnn(x, prev_state)\n",
        "        logits = self.decoder(x)\n",
        "\n",
        "        return logits, prev_state\n",
        "        ############################################\n",
        "    \n",
        "    def zero_state(self, batch_size, dev):\n",
        "        \"\"\"\n",
        "        look up the dimensions of the nn.LSTM state (which is a tuple!)\n",
        "        return a zero-initialized state\n",
        "        put on the correct device (dev)\n",
        "        \"\"\"\n",
        "        return (torch.zeros(1, batch_size, self.hidden_size).to(dev),\n",
        "                torch.zeros(1, batch_size, self.hidden_size).to(dev))\n",
        "    "
      ]
    },
    {
      "cell_type": "code",
      "execution_count": 172,
      "metadata": {
        "id": "WLGhjgJ9OiC_",
        "pycharm": {
          "is_executing": true,
          "name": "#%%\n"
        },
        "colab": {
          "base_uri": "https://localhost:8080/"
        },
        "outputId": "2f31d901-17d0-4597-dc73-8c3c35df58a2"
      },
      "outputs": [
        {
          "output_type": "stream",
          "name": "stdout",
          "text": [
            "LSTM is complete! Perfect!\n"
          ]
        }
      ],
      "source": [
        "## evaluation\n",
        "## DON'T CHANGE THIS CELL IN ANY WAY\n",
        "\n",
        "# Let's test the LSTM model\n",
        "arr = torch.randint(n_token, [64, 32], dtype=torch.long).to(device)\n",
        "model = LSTMLanguageModel(n_token, 256).to(device)\n",
        "state = model.zero_state(64, device)\n",
        "out, state = model(arr, state)\n",
        "\n",
        "assert type(out) != type(None), 'Did you return output?'\n",
        "assert type(state) != type(None), 'How about state?'\n",
        "assert out.shape == torch.Size([64, 32, n_token]), out.shape\n",
        "assert isinstance(state, tuple) \n",
        "print(\"LSTM is complete! Perfect!\")"
      ]
    },
    {
      "cell_type": "markdown",
      "metadata": {
        "id": "54nLD9KQXe5d",
        "pycharm": {
          "name": "#%% md\n"
        }
      },
      "source": [
        "### **Evaluation method**\n",
        "\n",
        "So far, we have only evaluated the performance of our neural networks throughout the training loop, only calculating the loss for a single mini-batch at a time. Now, we will create an evaluation method to evaluate the performance of our network across multiple batches. \n",
        "\n",
        "Complete the __evaluate()__ method below so that it returns the overall (mean) cross-entropy loss. "
      ]
    },
    {
      "cell_type": "code",
      "execution_count": 173,
      "metadata": {
        "id": "DFTyZlk8rBK_",
        "pycharm": {
          "is_executing": true
        }
      },
      "outputs": [],
      "source": [
        "def evaluate(device, net, n_token, batch_size, seq_size, x_test, y_test):\n",
        "    \n",
        "    net.eval()\n",
        "    \n",
        "    total_loss = 0.\n",
        "    \n",
        "    # intialize state\n",
        "    zero_state = net.zero_state(batch_size, device)\n",
        "\n",
        "    # batchify data\n",
        "    batches = get_batches(x_test, y_test, batch_size, seq_size)\n",
        "\n",
        "    # 1) loop through the batches\n",
        "    ##   convert data to tensor and put it on the device\n",
        "    ##   calculate forward path\n",
        "    ##   use 'criterion' (as defined earlier in the training loop) to calculate the loss for each mini-batch (reshape might be needed)\n",
        "    ##   add mini-batch loss to total_loss\n",
        "    # 2) return average loss\n",
        "    ############### for student ################\n",
        "    count = 0\n",
        "\n",
        "    for x, y in batches:\n",
        "\n",
        "            x = torch.tensor(x).to(device)\n",
        "            y = torch.tensor(y).to(device)\n",
        "\n",
        "            logits, state = net(x, zero_state)\n",
        "\n",
        "            logits = logits.view(-1, n_token)      #Should be tensor of unnormalized logits with shape (N,C)\n",
        "            y = y.view(-1)        #Should be tensor of class indices with shape N\n",
        "            loss = criterion(logits,y)    \n",
        "            #print(\"Loss=\" + str(loss.item()))\n",
        "            total_loss += loss.item()\n",
        "            count += 1\n",
        "    \n",
        "    #print(total_loss/len(list(b)))\n",
        "    return total_loss/ count\n",
        "    ############################################"
      ]
    },
    {
      "cell_type": "code",
      "execution_count": 174,
      "metadata": {
        "id": "aVtvPCsybsS1",
        "pycharm": {
          "is_executing": true,
          "name": "#%%\n"
        },
        "colab": {
          "base_uri": "https://localhost:8080/"
        },
        "outputId": "aeab5fba-2eeb-4121-9fae-80071b307c64"
      },
      "outputs": [
        {
          "output_type": "stream",
          "name": "stdout",
          "text": [
            "It looks alright.\n"
          ]
        }
      ],
      "source": [
        "## evaluation\n",
        "## DON'T CHANGE THIS CELL IN ANY WAY\n",
        "\n",
        "id_to_token, token_to_id, n_token, inp_text, out_text = get_data_lm(dummy_text)\n",
        "net = LSTMLanguageModel(n_token, 256).to(device)\n",
        "dummy_loss = evaluate(device, net, n_token, 10, 64, inp_text, out_text)\n",
        "\n",
        "assert np.exp(dummy_loss) < 1e4, 'your dummy loss is too large!'\n",
        "\n",
        "print(\"It looks alright.\")"
      ]
    },
    {
      "cell_type": "markdown",
      "metadata": {
        "id": "QyG0QijIrBLG",
        "pycharm": {
          "name": "#%% md\n"
        }
      },
      "source": [
        "### Train the LSTM\n",
        "\n",
        "Let's train the LSTM on a small amount of dummy text:"
      ]
    },
    {
      "cell_type": "code",
      "execution_count": 175,
      "metadata": {
        "id": "cvRAXqBUrBLH",
        "pycharm": {
          "is_executing": true,
          "name": "#%%\n"
        }
      },
      "outputs": [],
      "source": [
        "id_to_token, token_to_id, n_token, inp_text, out_text = get_data_lm(dummy_text)\n",
        "X_train, X_test, y_train, y_test = train_test_split(inp_text, out_text, test_size=0.25, random_state=SEED)"
      ]
    },
    {
      "cell_type": "markdown",
      "metadata": {
        "id": "3XlUphKLrBLI",
        "pycharm": {
          "name": "#%% md\n"
        }
      },
      "source": [
        "Modify the training loop you defined for the elman RNN, and use it to train the LSTM model:"
      ]
    },
    {
      "cell_type": "code",
      "execution_count": 176,
      "metadata": {
        "id": "v-Wfh9swrBLJ",
        "pycharm": {
          "is_executing": true,
          "name": "#%%\n"
        },
        "colab": {
          "base_uri": "https://localhost:8080/"
        },
        "outputId": "610ec25b-78e8-4338-be4a-e7a08cbbe4cd"
      },
      "outputs": [
        {
          "output_type": "stream",
          "name": "stdout",
          "text": [
            "epoch: 0/150 iteration: 0 train-Loss: 0.157963365316391 val-loss: 7.879390580313546\n",
            "epoch: 3/150 iteration: 50 train-Loss: 0.12123798578977585 val-loss: 6.425015449523926\n",
            "epoch: 7/150 iteration: 100 train-Loss: 0.10865218192338943 val-loss: 6.115164007459368\n",
            "epoch: 11/150 iteration: 150 train-Loss: 0.09686136245727539 val-loss: 5.996698720114572\n",
            "epoch: 15/150 iteration: 200 train-Loss: 0.0847039446234703 val-loss: 5.924455574580601\n",
            "epoch: 19/150 iteration: 250 train-Loss: 0.07996469736099243 val-loss: 5.9420198031834195\n",
            "epoch: 23/150 iteration: 300 train-Loss: 0.07339205592870712 val-loss: 5.961230005536761\n",
            "epoch: 26/150 iteration: 350 train-Loss: 0.06698905676603317 val-loss: 6.015736239297049\n",
            "epoch: 30/150 iteration: 400 train-Loss: 0.060556888580322266 val-loss: 6.140336309160505\n",
            "epoch: 34/150 iteration: 450 train-Loss: 0.053081318736076355 val-loss: 6.143681526184082\n",
            "epoch: 38/150 iteration: 500 train-Loss: 0.04835304245352745 val-loss: 6.237736974443708\n",
            "epoch: 42/150 iteration: 550 train-Loss: 0.044119831174612045 val-loss: 6.334794521331787\n",
            "epoch: 46/150 iteration: 600 train-Loss: 0.04041413962841034 val-loss: 6.371116501944406\n",
            "epoch: 50/150 iteration: 650 train-Loss: 0.034517526626586914 val-loss: 6.44348805291312\n",
            "epoch: 53/150 iteration: 700 train-Loss: 0.03300371766090393 val-loss: 6.594383375985282\n",
            "epoch: 57/150 iteration: 750 train-Loss: 0.027790989726781845 val-loss: 6.616472516741071\n",
            "epoch: 61/150 iteration: 800 train-Loss: 0.027492448687553406 val-loss: 6.710547583443778\n",
            "epoch: 65/150 iteration: 850 train-Loss: 0.022826695814728737 val-loss: 6.801364830562046\n",
            "epoch: 69/150 iteration: 900 train-Loss: 0.020327456295490265 val-loss: 6.835817745753697\n",
            "epoch: 73/150 iteration: 950 train-Loss: 0.01830574870109558 val-loss: 6.928805555616107\n",
            "epoch: 76/150 iteration: 1000 train-Loss: 0.017613068222999573 val-loss: 7.023621491023472\n",
            "epoch: 80/150 iteration: 1050 train-Loss: 0.016956118866801262 val-loss: 7.1044930049351285\n",
            "epoch: 84/150 iteration: 1100 train-Loss: 0.01404228899627924 val-loss: 7.169083186558315\n",
            "epoch: 88/150 iteration: 1150 train-Loss: 0.012225141748785973 val-loss: 7.238403184073312\n",
            "epoch: 92/150 iteration: 1200 train-Loss: 0.012028073891997337 val-loss: 7.302228178296771\n",
            "epoch: 96/150 iteration: 1250 train-Loss: 0.010730861686170101 val-loss: 7.3528947830200195\n",
            "epoch: 100/150 iteration: 1300 train-Loss: 0.00963173434138298 val-loss: 7.456676074436733\n",
            "epoch: 103/150 iteration: 1350 train-Loss: 0.009065159596502781 val-loss: 7.544964041028704\n",
            "epoch: 107/150 iteration: 1400 train-Loss: 0.009130536578595638 val-loss: 7.559214183262417\n",
            "epoch: 111/150 iteration: 1450 train-Loss: 0.007776610087603331 val-loss: 7.605608872004917\n",
            "epoch: 115/150 iteration: 1500 train-Loss: 0.00726847629994154 val-loss: 7.674917016710554\n",
            "epoch: 119/150 iteration: 1550 train-Loss: 0.007049839477986097 val-loss: 7.744098050253732\n",
            "epoch: 123/150 iteration: 1600 train-Loss: 0.006523404736071825 val-loss: 7.755033493041992\n",
            "epoch: 126/150 iteration: 1650 train-Loss: 0.005532378330826759 val-loss: 7.862367630004883\n",
            "epoch: 130/150 iteration: 1700 train-Loss: 0.006398973520845175 val-loss: 8.008441584450859\n",
            "epoch: 134/150 iteration: 1750 train-Loss: 0.005524779669940472 val-loss: 7.900335652487619\n",
            "epoch: 138/150 iteration: 1800 train-Loss: 0.0052740443497896194 val-loss: 7.986031259809222\n",
            "epoch: 142/150 iteration: 1850 train-Loss: 0.004555060528218746 val-loss: 8.15476724079677\n",
            "epoch: 146/150 iteration: 1900 train-Loss: 0.004626720678061247 val-loss: 8.04565681729998\n"
          ]
        }
      ],
      "source": [
        "net = LSTMLanguageModel(n_token, hidden_size)\n",
        "net = net.to(device)\n",
        "\n",
        "criterion = nn.CrossEntropyLoss()\n",
        "optimizer = torch.optim.Adam(net.parameters())\n",
        "\n",
        "iteration = 0\n",
        "total_epochs = 150\n",
        "\n",
        "train_loss = 0\n",
        "train_history = []\n",
        "valid_history = []\n",
        "\n",
        "\n",
        "for e in range(total_epochs):\n",
        "    \n",
        "    batches = get_batches(X_train, y_train, batch_size, seq_size)\n",
        "    \n",
        "    \n",
        "    # 1) set the initial state (to zero, as mentioned)\n",
        "    # 2) loop through the data and train the model\n",
        "    #     (See RNNLanguage model for the logic)\n",
        "    \n",
        "    ############### for student ################\n",
        "    state_h = net.zero_state(batch_size, device)\n",
        "    #state_h = state_h.to(device)\n",
        "    \n",
        "    for x, y in batches:\n",
        "\n",
        "        x = torch.tensor(x).to(device)\n",
        "        y = torch.tensor(y).to(device)\n",
        "\n",
        "        #net.train()\n",
        "        optimizer.zero_grad()\n",
        "        logits, state = net(x, state_h) \n",
        "        logits = logits.view(-1, n_token)      #Should be tensor of unnormalized logits with shape (N,C)\n",
        "        y = y.view(-1)        #Should be tensor of class indices with shape N\n",
        "        train_loss = criterion(logits,y)    \n",
        "        train_loss.backward()\n",
        "        torch.nn.utils.clip_grad_norm_(net.parameters(), max_norm=1)    # Technique for preventing gradients of becoming too large. It reescale gradients if norm exeedes specified value\n",
        "        optimizer.step()\n",
        "    ############################################\n",
        "        \n",
        "        if iteration % 50 == 0:\n",
        "            train_loss = train_loss / 50.0   \n",
        "            val_loss = evaluate(device, net, n_token, 10, seq_size, X_test, y_test)\n",
        "            \n",
        "            train_history.append(train_loss.item()) #Edited\n",
        "            valid_history.append(val_loss)\n",
        "            \n",
        "            print('epoch: {}/{} iteration: {} train-Loss: {} val-loss: {}'.format(e, total_epochs, iteration, train_loss, val_loss))\n",
        "            train_loss = 0\n",
        "\n",
        "        iteration += 1    #Added"
      ]
    },
    {
      "cell_type": "code",
      "execution_count": 177,
      "metadata": {
        "id": "q0U4R8TZrBLK",
        "pycharm": {
          "is_executing": true,
          "name": "#%%\n"
        },
        "colab": {
          "base_uri": "https://localhost:8080/"
        },
        "outputId": "27e2f3fd-b031-4e6e-b56f-4d59af31f106"
      },
      "outputs": [
        {
          "output_type": "stream",
          "name": "stdout",
          "text": [
            "Good job! We're almost done..\n"
          ]
        }
      ],
      "source": [
        "## evaluation\n",
        "## DON'T CHANGE THIS CELL IN ANY WAY\n",
        "\n",
        "dummy_loss = evaluate(device, net, n_token, 10, 64, X_test, y_test)\n",
        "\n",
        "assert np.exp(dummy_loss) < 1e4, 'your dummy loss is too large!'\n",
        "\n",
        "print(\"Good job! We're almost done..\")"
      ]
    },
    {
      "cell_type": "code",
      "execution_count": 178,
      "metadata": {
        "id": "2pMIrFgvvLKe",
        "pycharm": {
          "is_executing": true
        },
        "colab": {
          "base_uri": "https://localhost:8080/",
          "height": 279
        },
        "outputId": "7dbe6c4a-76c4-48d7-8e8b-e03b68ee3d7e"
      },
      "outputs": [
        {
          "output_type": "display_data",
          "data": {
            "text/plain": [
              "<Figure size 432x288 with 1 Axes>"
            ],
            "image/png": "[encoded data removed]"
          },
          "metadata": {
            "needs_background": "light"
          }
        }
      ],
      "source": [
        "epoch_count = range(1, len(train_history) + 1) \n",
        "\n",
        "# Visualize loss history\n",
        "plt.plot(epoch_count, train_history, 'r--')\n",
        "plt.plot(epoch_count, valid_history, 'b-')\n",
        "plt.legend(['train', 'valid'])\n",
        "plt.xlabel('iteration')\n",
        "plt.ylabel('loss')\n",
        "plt.show()"
      ]
    },
    {
      "cell_type": "markdown",
      "metadata": {
        "id": "C5eKXBlprBLM"
      },
      "source": [
        "What we see on the plot above is known as __overfitting__: the training loss becomes really small towards the end of training, but the validation error of the model is high. This is due to the model learning “too much” from the training dataset, so that it does not generalize well to unseen data. You can probably guess why this happened? We are still training the model on a small subsample of the data (`dummy_text`)! If you train the model on the whole dataset, you will definitely get better validation scores. You can try this out if you want to, but be aware that training will likely take much longer. "
      ]
    },
    {
      "cell_type": "markdown",
      "metadata": {
        "id": "Q1AXRyKjC_15"
      },
      "source": [
        "### Question 6\n",
        "\n",
        "Give at least 6 ideas on how you could make your neural language model better (short, bullet-style answers). (You can find inspiration online, for example here: https://arxiv.org/pdf/1708.02182.pdf) \n",
        "\n",
        "**<font color=blue><<< INSERT ANSWER HERE >>></font>**\n",
        "- Wheight Regularization: L1 or L2 regularization. \n",
        "- Wheighted Dropout LSTM: Like Dropout, but instead of dropping individual neurons, drops individual wheights.\n",
        "- Early Stopping: Stop training when performance on validation is not improving, to model does not overfit on data.\n",
        "- Batch Normalization: Normalizes the inputs to each layer of the network to have zero mean and unit variance.\n",
        "- Skip Connections: Connect hidden states of layers at diferent time steps.arXiv:1610.03167 [cs.CL]\n",
        "- Using more advanced architectures: multiplicative LSTM arXiv:1609.07959 [cs.NE] and LSTM with an attention mechanism."
      ]
    },
    {
      "cell_type": "markdown",
      "metadata": {
        "id": "onSqaZNHJ7nI"
      },
      "source": [
        "**If you would have a lot more time (not within the scope of this lab!)**: you've learned the building blocks of neural language models, you can now build the ultimate monster:\n",
        "* Weight tying: Two weight matrices have been used for input or output respectively (https://arxiv.org/abs/1608.05859)\n",
        "* Make it character-level or make use of sub-word units like [bpe](https://en.wikipedia.org/wiki/Byte_pair_encoding);\n",
        "* Use both character-level and word-level features to train a word-level language model\n",
        "* ..."
      ]
    },
    {
      "cell_type": "markdown",
      "metadata": {
        "id": "unVUS9vLrBLN"
      },
      "source": [
        "### Question 7\n",
        "\n",
        "Please give us a rough estimation of the hours you invested to complete this session. This will not affect your grade ;) However, it might help us with the design of our future lab sessions. \n",
        " \n",
        "**<font color=blue><<< INSERT ANSWER HERE >>></font>**\n",
        "- First Part: ±4 hours, Second Part: ±6 hours, In total: ±10 hours"
      ]
    },
    {
      "cell_type": "markdown",
      "metadata": {
        "id": "Omkl98XQrBLO"
      },
      "source": [
        "## Acknowledgment\n",
        "If you received help or feedback from fellow students, or from any large language model, please acknowledge that here. We count on your academic honesty:\n",
        "\n",
        "**<font color=blue><<< INSERT ANSWER HERE >>></font>**\n",
        "- Used Bing AI for code troubleshooting and explanaitions of pytorch documentation. \n",
        "Examples: ![image.png](data:image/png;base64,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)\n"
      ]
    }
  ],
  "metadata": {
    "accelerator": "TPU",
    "colab": {
      "provenance": [],
      "machine_shape": "hm",
      "collapsed_sections": [
        "WWVsI9znVJgE"
      ]
    },
    "kernelspec": {
      "display_name": "Python 3 (ipykernel)",
      "language": "python",
      "name": "python3"
    },
    "language_info": {
      "codemirror_mode": {
        "name": "ipython",
        "version": 3
      },
      "file_extension": ".py",
      "mimetype": "text/x-python",
      "name": "python",
      "nbconvert_exporter": "python",
      "pygments_lexer": "ipython3",
      "version": "3.8.2"
    },
    "gpuClass": "standard"
  },
  "nbformat": 4,
  "nbformat_minor": 0
}
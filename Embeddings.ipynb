{
  "cells": [
    {
      "cell_type": "markdown",
      "metadata": {
        "collapsed": true,
        "id": "oaR9KrG9UBCa",
        "pycharm": {
          "name": "#%% md\n"
        }
      },
      "source": [
        "# Lab session 3: Word embeddings"
      ]
    },
    {
      "cell_type": "markdown",
      "metadata": {
        "id": "iORM40C-UBCb"
      },
      "source": [
        "This lab covers distributed word represenations (`word embedding') as seen in the theory lectures.\n",
        "\n",
        "General instructions:\n",
        "- Complete the code where needed\n",
        "- Provide answers to questions only in the cell where indicated\n",
        "- **Do not alter the evaluation cells** (`## evaluation`) in any way as they are needed for the partly automated evaluation process"
      ]
    },
    {
      "cell_type": "markdown",
      "metadata": {
        "id": "BLuqj2f4UBCc"
      },
      "source": [
        "## **Embeddings; the Steroids for NLP!**\n",
        "\n",
        "Pre-trained embeddings have brought NLP a long way. Most of the recent methods include word embeddings into their pipeline to obtain state-of-the-art performance (these days in particular for cases where lightweight models are preferred over heavier transformer-based methods that have the additional advantage of context-dependent representations). `Word2vec` is among the most famous methods to efficiently create word embeddings and has been around since 2013. Word2Vec has two different model architectures, namely `Skip-gram` and `CBOW`. `Skip-gram` was explained in more detail in the theory lecture, and today we will play with `CBOW`. We will train our own little embeddings, and use them to visualize text corpora. In the last part, we will download and utilize other pretrained embeddings to build a Part-of-Speech tagging (PoS) model.\n",
        "\n",
        "**Important note**: Don't forget to tell Colab to run the notebook on the GPU. Go to \"Edit > Notebook Settings\", select GPU in the \"hardware accelerator\" section, and click \"Save\". \n"
      ]
    },
    {
      "cell_type": "code",
      "execution_count": 47,
      "metadata": {
        "colab": {
          "base_uri": "https://localhost:8080/"
        },
        "id": "tuAsaDz7UBCc",
        "outputId": "a05ee608-959b-4f1e-86c1-d74ac792ec97",
        "pycharm": {
          "name": "#%%\n"
        }
      },
      "outputs": [
        {
          "output_type": "stream",
          "name": "stdout",
          "text": [
            "cuda\n"
          ]
        }
      ],
      "source": [
        "# import necessary packages\n",
        "import random\n",
        "import math\n",
        "import numpy as np\n",
        "\n",
        "from random import shuffle\n",
        "from collections import Counter\n",
        "\n",
        "import torch\n",
        "import torch.nn as nn\n",
        "import torch.nn.functional as F\n",
        "import torch.optim as optim\n",
        "\n",
        "device = torch.device('cuda' if torch.cuda.is_available() else 'cpu')\n",
        "print(device)"
      ]
    },
    {
      "cell_type": "code",
      "execution_count": 48,
      "metadata": {
        "id": "YrpjiZKVUBCc"
      },
      "outputs": [],
      "source": [
        "# for reproducibility\n",
        "\n",
        "SEED = 42\n",
        "random.seed(SEED)\n",
        "np.random.seed(SEED)\n",
        "torch.manual_seed(SEED)\n",
        "torch.backends.cudnn.deterministic = True\n",
        "torch.backends.cudnn.benchmark = False"
      ]
    },
    {
      "cell_type": "markdown",
      "metadata": {
        "id": "HGOsj84xUBCd"
      },
      "source": [
        "## 1. Data preparation"
      ]
    },
    {
      "cell_type": "markdown",
      "metadata": {
        "id": "WhKMC8CwUBCd",
        "pycharm": {
          "name": "#%% md\n"
        }
      },
      "source": [
        "As always, let's first prepare the data. We shall use the `text8` dataset, which offers cleaned English Wikipedia text. The data is clean UTF-8 and all characters are lower-cased with valid encodings."
      ]
    },
    {
      "cell_type": "code",
      "execution_count": 49,
      "metadata": {
        "colab": {
          "base_uri": "https://localhost:8080/"
        },
        "id": "HN_tV-I0UBCd",
        "outputId": "aec88c58-c3ed-40e0-ccac-3cb36012f09b",
        "pycharm": {
          "is_executing": true,
          "name": "#%%\n"
        }
      },
      "outputs": [
        {
          "output_type": "stream",
          "name": "stdout",
          "text": [
            "--2023-04-19 18:36:33--  http://mattmahoney.net/dc/text8.zip\n",
            "Resolving mattmahoney.net (mattmahoney.net)... 34.198.1.81\n",
            "Connecting to mattmahoney.net (mattmahoney.net)|34.198.1.81|:80... connected.\n",
            "HTTP request sent, awaiting response... 200 OK\n",
            "Length: 31344016 (30M) [application/zip]\n",
            "Saving to: ‘text8.zip’\n",
            "\n",
            "text8.zip           100%[===================>]  29.89M  82.5MB/s    in 0.4s    \n",
            "\n",
            "2023-04-19 18:36:33 (82.5 MB/s) - ‘text8.zip’ saved [31344016/31344016]\n",
            "\n",
            "Archive:  text8.zip\n",
            "  inflating: text8                   \n",
            " anarchism originated as a term of abuse first used against early working class radicals including t"
          ]
        }
      ],
      "source": [
        "!wget \"http://mattmahoney.net/dc/text8.zip\" -O text8.zip\n",
        "!unzip -o text8.zip\n",
        "!rm text8.zip\n",
        "!head -c 100 text8 # print first bytes of text8 data"
      ]
    },
    {
      "cell_type": "code",
      "execution_count": 50,
      "metadata": {
        "id": "zaTIfHLwUBCd",
        "pycharm": {
          "is_executing": true,
          "name": "#%%\n"
        }
      },
      "outputs": [],
      "source": [
        "# read text8\n",
        "with open('text8', 'r') as input_file:\n",
        "    text = input_file.read()"
      ]
    },
    {
      "cell_type": "markdown",
      "metadata": {
        "id": "6khs323VUBCd"
      },
      "source": [
        "### Tokenization\n",
        "We first chop our text into pieces using NLTK's `WordPuncTokenizer`:"
      ]
    },
    {
      "cell_type": "code",
      "execution_count": 51,
      "metadata": {
        "colab": {
          "base_uri": "https://localhost:8080/"
        },
        "id": "XpRimZGIUBCd",
        "outputId": "12a2df77-8652-4ac1-c883-dc2cf212faed",
        "pycharm": {
          "is_executing": true,
          "name": "#%%\n"
        }
      },
      "outputs": [
        {
          "output_type": "stream",
          "name": "stdout",
          "text": [
            "['anarchism', 'originated', 'as', 'a', 'term', 'of', 'abuse', 'first', 'used', 'against', 'early', 'working', 'class', 'radicals', 'including', 'the', 'diggers', 'of', 'the', 'english']\n"
          ]
        }
      ],
      "source": [
        "from nltk.tokenize import WordPunctTokenizer\n",
        "\n",
        "tknzr = WordPunctTokenizer()\n",
        "tokenized_text = tknzr.tokenize(text)\n",
        "\n",
        "print(tokenized_text[0:20])"
      ]
    },
    {
      "cell_type": "markdown",
      "metadata": {
        "id": "6FcJiYAuUBCd"
      },
      "source": [
        "### Build dictionary\n",
        "In this step, we convert each word to a unique id. We can define our vocabulary trimming rules, which specify whether certain words should remain in the vocabulary, be trimmed away, or handled differently. In following, we limit our vocabulary size to `vocab_size` words and replace the remaining tokens with `UNK`:"
      ]
    },
    {
      "cell_type": "code",
      "execution_count": 52,
      "metadata": {
        "id": "Y_VhO00WUBCd",
        "pycharm": {
          "is_executing": true,
          "name": "#%%\n"
        }
      },
      "outputs": [],
      "source": [
        "def get_data(text, vocab_size = None):\n",
        "    \n",
        "    word_counts = Counter(text)\n",
        "    \n",
        "    sorted_tokens = sorted(word_counts, key=word_counts.get, reverse=True) # sort by frequency\n",
        "    \n",
        "    if vocab_size: # keep most frequent words\n",
        "        sorted_tokens = sorted_tokens[:vocab_size-1] \n",
        "    \n",
        "    sorted_tokens.insert(0, 'UNK') # reserve 0 for UNK\n",
        "    \n",
        "    id_to_token = {k: w for k, w in enumerate(sorted_tokens)}\n",
        "    token_to_id = {w: k for k, w in id_to_token.items()}\n",
        "    \n",
        "    # tokenize words in vocab and replace rest with UNK\n",
        "    tokenized_ids = [token_to_id[w] if w in token_to_id else 0 for w in text]\n",
        "\n",
        "    return tokenized_ids, id_to_token, token_to_id"
      ]
    },
    {
      "cell_type": "code",
      "execution_count": 53,
      "metadata": {
        "colab": {
          "base_uri": "https://localhost:8080/"
        },
        "id": "wxOow-OcUBCe",
        "outputId": "90d24f4b-db0d-416f-f4e8-93d76552a0b9",
        "pycharm": {
          "is_executing": true
        }
      },
      "outputs": [
        {
          "output_type": "stream",
          "name": "stdout",
          "text": [
            "--------------------------------------------------\n",
            "Number of uniqe tokens: 253855\n",
            "--------------------------------------------------\n",
            "tokenized text: ['anarchism', 'originated', 'as', 'a', 'term']\n",
            "--------------------------------------------------\n",
            "tokenized ids: [5234, 3081, 12, 6, 195]\n"
          ]
        }
      ],
      "source": [
        "tokenized_ids, id_to_token, token_to_id = get_data(tokenized_text)\n",
        "print('-' * 50)\n",
        "print('Number of uniqe tokens: {}'.format(len(id_to_token)))\n",
        "print('-' * 50)\n",
        "print(\"tokenized text: {}\".format(tokenized_text[0:5]))\n",
        "print('-' * 50)\n",
        "print(\"tokenized ids: {}\".format(tokenized_ids[0:5]))"
      ]
    },
    {
      "cell_type": "markdown",
      "metadata": {
        "id": "7ztvhKO9UBCe"
      },
      "source": [
        "### Generate samples\n",
        " \n",
        "The `CBOW` model architecture tries to predict the current target word (the center word) based on the source context words (surrounding words). The training data thus comprises pairs of `(context_window, target_word)`, for which the model should predict the `target_word` based on the `context_window` words.\n",
        "\n",
        "Considering a simple sentence, __the quick brown fox jumps over the lazy dog__, with a `context_window` of size 1, we have examples like __([quick, fox], brown)__, __([the, brown], quick)__, __([the, dog], lazy)__ and so on. \n",
        "\n",
        "<img src=\"\n",
        "https://cdn-images-1.medium.com/max/800/1*UVe8b6CWYykcxbBOR6uCfg.png\" alt=\"img\" width=\"400px\"/>\n",
        "\n"
      ]
    },
    {
      "cell_type": "markdown",
      "metadata": {
        "id": "dJWxrJXTUBCe"
      },
      "source": [
        "Now let us convert our tokenized text from `tokenized_ids` into `(context_window, target_word)` pairs.\n",
        "\n",
        "You should loop over the `tokenized_ids` and build a __generator__ which yields a target word of length 1 and surrounding context of length (2 $\\times$ `window_size`) where we take `window_size` words before and after the target word in our corpus. Remember to pad context words with zeroes to a fixed length if needed."
      ]
    },
    {
      "cell_type": "code",
      "execution_count": 54,
      "metadata": {
        "id": "6mg-NdgbUBCe",
        "pycharm": {
          "is_executing": true
        }
      },
      "outputs": [],
      "source": [
        "def generate_sample(tknzd_ids, window_size = 5):\n",
        "    for index, target in enumerate(tknzd_ids):    #Generator \n",
        "    ############### for student ################\n",
        "        context = tknzd_ids[max(0, index - window_size) : index] + tknzd_ids[index + 1 : index + window_size + 1]\n",
        "        context_window = [0] * (2 * window_size - len(context)) + context\n",
        "    ############################################\n",
        "        yield context_window, target"
      ]
    },
    {
      "cell_type": "code",
      "execution_count": 55,
      "metadata": {
        "colab": {
          "base_uri": "https://localhost:8080/"
        },
        "id": "wk5OFhPRUBCe",
        "outputId": "cbb31a4e-3231-48ff-96e5-f16c1c3617a3",
        "pycharm": {
          "is_executing": true
        }
      },
      "outputs": [
        {
          "output_type": "stream",
          "name": "stdout",
          "text": [
            "Well done!\n"
          ]
        }
      ],
      "source": [
        "## evaluation\n",
        "## DON'T CHANGE THIS CELL IN ANY WAY\n",
        "\n",
        "dummy_gen = generate_sample([11, 12, 13, 14, 15], 2)\n",
        "dummy_ex_list = list(dummy_gen)\n",
        "dummy_ex1 = dummy_ex_list[0]\n",
        "assert isinstance(dummy_ex1, tuple), \"Is it a pair?\"\n",
        "\n",
        "dummy_ex1_input = dummy_ex1[0]\n",
        "dummy_ex1_target = dummy_ex1[1]\n",
        "assert len(dummy_ex1_input) == 4, \"Context length should be 2 * window_size\"\n",
        "assert len(dummy_ex_list[0]) == len(dummy_ex_list[-1]), \"Length of all instances should be the same due to the padding\"\n",
        "\n",
        "assert dummy_ex1_target == 11, \"Did you return the correct target word?\"\n",
        "assert dummy_ex1_input[0] == dummy_ex1_input[1] == 0, \"Did you add 0 pads where needed?\"\n",
        "assert dummy_ex1_input == [0, 0, 12, 13], \"Did you consider contexts before and after the target word?\" \n",
        "\n",
        "print('Well done!')"
      ]
    },
    {
      "cell_type": "markdown",
      "metadata": {
        "id": "l_aNQ3JxUBCe"
      },
      "source": [
        "To train our model faster, it is good idea to batchify our data. For your convenience, we implemented it for you: "
      ]
    },
    {
      "cell_type": "code",
      "execution_count": 56,
      "metadata": {
        "id": "nxZiv5MHUBCe",
        "pycharm": {
          "is_executing": true
        }
      },
      "outputs": [],
      "source": [
        "def batch_gen(tknzd_ids, batch_size = 4,  window_size = 5):\n",
        "    #if the data is divided into sentences, you should shuffle them at every epoch\n",
        "    #here we won't bother because a single epoch takes long enough already.\n",
        "    \n",
        "    single_gen = generate_sample(tknzd_ids, window_size) # get sample generator\n",
        "    \n",
        "    while True:\n",
        "        try: \n",
        "            # The end of iterations is indicated by an exception \n",
        "            context_batch = np.zeros([batch_size, window_size * 2], dtype=np.int32)\n",
        "            target_batch = np.zeros([batch_size], dtype=np.int32)\n",
        "            for index in range(batch_size):\n",
        "                context_batch[index], target_batch[index] = next(single_gen)\n",
        "            yield context_batch, target_batch\n",
        "        except StopIteration:\n",
        "            break"
      ]
    },
    {
      "cell_type": "code",
      "execution_count": 57,
      "metadata": {
        "colab": {
          "base_uri": "https://localhost:8080/"
        },
        "id": "WHACLBMIUBCe",
        "outputId": "aee6fc58-12eb-4e7c-ded6-22c96505ec29",
        "pycharm": {
          "is_executing": true
        }
      },
      "outputs": [
        {
          "output_type": "stream",
          "name": "stdout",
          "text": [
            "First batch:\n",
            " (array([[ 0,  0, 12, 13],\n",
            "       [ 0, 11, 13, 14],\n",
            "       [11, 12, 14, 15],\n",
            "       [12, 13, 15, 16]], dtype=int32), array([11, 12, 13, 14], dtype=int32))\n",
            "--------------------------------------------------\n",
            "Second batch:\n",
            " (array([[13, 14, 16, 17],\n",
            "       [14, 15, 17, 18],\n",
            "       [ 0, 15, 16, 18],\n",
            "       [ 0,  0, 16, 17]], dtype=int32), array([15, 16, 17, 18], dtype=int32))\n"
          ]
        }
      ],
      "source": [
        "dummy_batches = batch_gen([11, 12, 13, 14, 15, 16, 17, 18], batch_size=4, window_size=2)\n",
        "\n",
        "print(\"First batch:\\n\", next(dummy_batches))\n",
        "print('-' * 50)\n",
        "print(\"Second batch:\\n\", next(dummy_batches))"
      ]
    },
    {
      "cell_type": "markdown",
      "metadata": {
        "id": "CkyLBs68UBCf"
      },
      "source": [
        "## 2. CBOW Model\n",
        "\n",
        "We now leverage pytorch to build our CBOW model. For this, our inputs will be our context words which are first converted into one-hot vectors, and next projected into a word vector. Word-vectors will be obtained from an embedding matrix ($W$) which represents the distributed feature vectors associated with each word in the vocabulary. This embedding-matrix is initialized with a normal distribution.\n",
        "\n",
        "Next, the projected words are averaged out (hence we don’t really consider the order or sequence in the context words when averaged) and then we multiply this averaged vector with another embedding matrix ($W'$), which defines so-called context embeddings to project the CBOW representation back to the one-hot space to match with the target word. (Note: in the theory lectures, this is introduced as the linear output layer, with dimensions equal to the transposed embedding matrix.)  We apply a log-softmax on the resulting context vectors, to predict the most probable target word given the input context.\n",
        "\n",
        "We match the predicted word with the actual target word, compute the loss by leveraging the cross entropy loss and perform back-propagation in each iteration to update the embedding-matrix in the process.\n",
        "\n",
        "<img src=\"https://cdn-images-1.medium.com/freeze/max/1000/1*uATTt40gbJ1HJQgIqE-VPA.png?q=20\" alt=\"img\" width=\"512px\"/>\n",
        "\n"
      ]
    },
    {
      "cell_type": "markdown",
      "metadata": {
        "id": "aLQ5PZcLUBCf"
      },
      "source": [
        "### Question-1\n",
        "\n",
        "- How could we modify the `CBOW` architecture to consider the order and position of the context words?  \n",
        "\n",
        "**<font color=blue><<< INSERT ANSWER HERE >>></font>**\n",
        "- This modifications apear in the FastText implementation. For considering the position they implement Position-dependent weighting, where each context word is assigned a weight based on its position relative to the target word. "
      ]
    },
    {
      "cell_type": "markdown",
      "metadata": {
        "id": "LnMaMhqtUBCf"
      },
      "source": [
        "Now, complete the CBOW class below, following the instructions in the comments."
      ]
    },
    {
      "cell_type": "code",
      "execution_count": 58,
      "metadata": {
        "id": "Z1g4ZyEGUBCf",
        "pycharm": {
          "is_executing": true
        }
      },
      "outputs": [],
      "source": [
        "class CBOW(nn.Module):\n",
        "\n",
        "    def __init__(self, embedding_dim=100, vocab_size=10000):\n",
        "        super(CBOW, self).__init__()\n",
        "        \n",
        "        self.vocab_size = vocab_size\n",
        "        \n",
        "        # use nn.Parameter to define the two matrices W and W' from above, \n",
        "        # thus one for word (W) and one for context (W') embeddings:\n",
        "        # self.embed_in = ...  # word embedding\n",
        "        # self.embed_out = ... # context embedding\n",
        "        ############### for student ################\n",
        "        \n",
        "        self.embed_in = nn.Parameter(torch.Tensor(embedding_dim, vocab_size))\n",
        "        self.embed_out = nn.Parameter(torch.Tensor(vocab_size, embedding_dim))\n",
        "\n",
        "        ############################################\n",
        "        \n",
        "        self.reset_parameters()\n",
        "            \n",
        "    \n",
        "    def reset_parameters(self):\n",
        "        # Initialize parameters\n",
        "        nn.init.kaiming_uniform_(self.embed_in, a=math.sqrt(5))\n",
        "        nn.init.kaiming_uniform_(self.embed_out, a=math.sqrt(5))\n",
        "    \n",
        "    def get_word_embedding(self):\n",
        "        return self.embed_in\n",
        "    \n",
        "    def get_context_embedding(self):\n",
        "        return self.embed_out\n",
        "    \n",
        "    \n",
        "    def forward(self, inps):\n",
        "        \"\"\"\n",
        "        Convert given indices to log-probablities. \n",
        "        Follow these steps:\n",
        "        1) convert the inputs' word indices to one-hot vectors (via F.one_hot)\n",
        "        2) project the one-hot vectors to their embedding (use F.linear, do *NOT* use nn.Embedding)\n",
        "        3) calculate the mean of the embedded vectors\n",
        "        4) project back with the context embedding matrix \n",
        "        5) calculate the log-probability (with F.log_softmax)\n",
        "                \n",
        "        :argument:\n",
        "            inps (list): List of indecies\n",
        "        \n",
        "        :return:\n",
        "            log-probablity of words\n",
        "        \"\"\"\n",
        "        ############### for student ################\n",
        "        one_hot_vec = F.one_hot(torch.Tensor(inps), num_classes = self.vocab_size).float()\n",
        "        one_hot_vec = one_hot_vec.transpose(1,0)\n",
        "        #print(\"one-hot: \"+str(one_hot_vec.shape))\n",
        "        #print(\"W: \" + str(self.embed_in.shape))\n",
        "        embed = F.linear(one_hot_vec, self.embed_in)\n",
        "        #print(\"Embed size: \" + str(embed.shape))\n",
        "        mean_embed = embed.mean(dim=0)\n",
        "        #print(\"Mean size: \" + str(mean_embed.shape))\n",
        "        #print(\"W': \" + str(self.embed_out.shape))\n",
        "        proj = F.linear(mean_embed, self.embed_out)\n",
        "        log_probs = F.log_softmax(proj, dim = 0)\n",
        "    \n",
        "        #print(\"output: \" + str(log_probs.shape))\n",
        "        ############################################\n",
        "        return log_probs"
      ]
    },
    {
      "cell_type": "code",
      "execution_count": 59,
      "metadata": {
        "colab": {
          "base_uri": "https://localhost:8080/"
        },
        "id": "ZHa3UCkaUBCf",
        "outputId": "bc2c4190-1c73-4dd2-f0a1-36022e721f09",
        "pycharm": {
          "is_executing": true
        }
      },
      "outputs": [
        {
          "output_type": "stream",
          "name": "stdout",
          "text": [
            "Well done!\n"
          ]
        }
      ],
      "source": [
        "## evaluation\n",
        "## DON'T CHANGE THIS CELL IN ANY WAY\n",
        "\n",
        "dummy_model = CBOW(20, 10)\n",
        "dummy_inps1 = torch.tensor([[6, 7, 9, 0]], dtype=torch.long)\n",
        "dummy_inps2 = torch.tensor([[6, 7, 9, 0], [1, 2, 3, 4]], dtype=torch.long)\n",
        "dummy_pred1 = dummy_model(dummy_inps1)\n",
        "dummy_pred2 = dummy_model(dummy_inps2)\n",
        "\n",
        "\n",
        "assert isinstance(dummy_model.embed_in, nn.Parameter), \"Use nn.Parameter for embed_in\"\n",
        "assert isinstance(dummy_model.embed_out, nn.Parameter), \"Use nn.Parameter for embed_out\"\n",
        "assert dummy_model.embed_in.shape == torch.Size([20, 10]), \"param_in shape is not correct\"\n",
        "assert dummy_model.embed_out.shape == torch.Size([10, 20]), \"param_out shape is not correct\"\n",
        "assert dummy_pred1.shape == torch.Size([1,10]), \"Prediction shape is not correct\"\n",
        "assert dummy_pred2.shape == torch.Size([2,10]), \"Prediction shape is not correct\"\n",
        "assert dummy_pred1.grad_fn.__class__.__name__ in ['LogSoftmaxBackward', 'LogSoftmaxBackward0'], \"softmax layer?\"\n",
        "\n",
        "print('Well done!')"
      ]
    },
    {
      "cell_type": "markdown",
      "metadata": {
        "id": "2wvdyBsTUBCf"
      },
      "source": [
        "### Train Model"
      ]
    },
    {
      "cell_type": "markdown",
      "metadata": {
        "id": "f-vnBxx6UBCf"
      },
      "source": [
        "Before jumping into the training part, we need to define some hyper-parameters:"
      ]
    },
    {
      "cell_type": "code",
      "execution_count": 60,
      "metadata": {
        "id": "MEwX_Oj-UBCf",
        "pycharm": {
          "is_executing": true
        }
      },
      "outputs": [],
      "source": [
        "# embedding hyper-parameters\n",
        "\n",
        "EMBED_DIM = 64\n",
        "WINDOW_SIZE = 5\n",
        "BATCH_SIZE = 128\n",
        "VOCAB_SIZE = 5000\n",
        "\n",
        "EPOCHS = 1 # to make things faster in this basic setup\n",
        "interval = 500"
      ]
    },
    {
      "cell_type": "code",
      "execution_count": 61,
      "metadata": {
        "id": "axzsQfWPUBCg",
        "pycharm": {
          "is_executing": true
        }
      },
      "outputs": [],
      "source": [
        "# get data\n",
        "\n",
        "tokenized_ids, id_to_token, _ = get_data(tokenized_text, VOCAB_SIZE)"
      ]
    },
    {
      "cell_type": "markdown",
      "metadata": {
        "id": "-pjI4-LcUBCg"
      },
      "source": [
        "Now we define our main training loop. Please implement the typical steps for training:\n",
        "- Reset all gradients\n",
        "- Compute output and loss value\n",
        "- Perform back-propagation\n",
        "- Update the network’s parameters"
      ]
    },
    {
      "cell_type": "code",
      "execution_count": 62,
      "metadata": {
        "colab": {
          "base_uri": "https://localhost:8080/"
        },
        "id": "Ug40dAJbUBCg",
        "outputId": "a89f2f8f-15cb-43ab-8ea3-988cf13b6d9a",
        "pycharm": {
          "is_executing": true
        }
      },
      "outputs": [
        {
          "output_type": "stream",
          "name": "stdout",
          "text": [
            "Epoch:0/1,\tIteration:499,\tLoss:4.818376864433288\n",
            "Epoch:0/1,\tIteration:999,\tLoss:4.759818531036377\n",
            "Epoch:0/1,\tIteration:1499,\tLoss:4.738725872039795\n",
            "Epoch:0/1,\tIteration:1999,\tLoss:4.704242040634155\n",
            "Epoch:0/1,\tIteration:2499,\tLoss:4.702756393432617\n",
            "Epoch:0/1,\tIteration:2999,\tLoss:4.695738883972168\n",
            "Epoch:0/1,\tIteration:3499,\tLoss:4.655839958190918\n",
            "Epoch:0/1,\tIteration:3999,\tLoss:4.663759472846984\n",
            "Epoch:0/1,\tIteration:4499,\tLoss:4.655859166145325\n",
            "Epoch:0/1,\tIteration:4999,\tLoss:4.620591328620911\n",
            "Epoch:0/1,\tIteration:5499,\tLoss:4.6429572687149046\n",
            "Epoch:0/1,\tIteration:5999,\tLoss:4.599773292541504\n",
            "Epoch:0/1,\tIteration:6499,\tLoss:4.626276906013489\n",
            "Epoch:0/1,\tIteration:6999,\tLoss:4.608495624542236\n",
            "Epoch:0/1,\tIteration:7499,\tLoss:4.604277648925781\n",
            "Epoch:0/1,\tIteration:7999,\tLoss:4.566457056999207\n",
            "Epoch:0/1,\tIteration:8499,\tLoss:4.562620052337646\n",
            "Epoch:0/1,\tIteration:8999,\tLoss:4.561730437278747\n",
            "Epoch:0/1,\tIteration:9499,\tLoss:4.567382837295532\n",
            "Epoch:0/1,\tIteration:9999,\tLoss:4.5674785146713255\n",
            "Epoch:0/1,\tIteration:10499,\tLoss:4.563488913536072\n",
            "Epoch:0/1,\tIteration:10999,\tLoss:4.589697224617004\n",
            "Epoch:0/1,\tIteration:11499,\tLoss:4.59244216632843\n",
            "Epoch:0/1,\tIteration:11999,\tLoss:4.5343685655593875\n",
            "Epoch:0/1,\tIteration:12499,\tLoss:4.538407145500183\n",
            "Epoch:0/1,\tIteration:12999,\tLoss:4.548959568023681\n",
            "Epoch:0/1,\tIteration:13499,\tLoss:4.543654151916504\n",
            "Epoch:0/1,\tIteration:13999,\tLoss:4.535465027809143\n",
            "Epoch:0/1,\tIteration:14499,\tLoss:4.510575720787048\n",
            "Epoch:0/1,\tIteration:14999,\tLoss:4.530535088539123\n",
            "Epoch:0/1,\tIteration:15499,\tLoss:4.530003425598145\n",
            "Epoch:0/1,\tIteration:15999,\tLoss:4.48996160697937\n",
            "Epoch:0/1,\tIteration:16499,\tLoss:4.506886711120606\n",
            "Epoch:0/1,\tIteration:16999,\tLoss:4.511656914710999\n",
            "Epoch:0/1,\tIteration:17499,\tLoss:4.495828274726867\n",
            "Epoch:0/1,\tIteration:17999,\tLoss:4.49874894618988\n",
            "Epoch:0/1,\tIteration:18499,\tLoss:4.511942066192627\n",
            "Epoch:0/1,\tIteration:18999,\tLoss:4.465708311080933\n",
            "Epoch:0/1,\tIteration:19499,\tLoss:4.484977721214294\n",
            "Epoch:0/1,\tIteration:19999,\tLoss:4.491991790771484\n",
            "Epoch:0/1,\tIteration:20499,\tLoss:4.501741609573364\n",
            "Epoch:0/1,\tIteration:20999,\tLoss:4.5277429895401005\n",
            "Epoch:0/1,\tIteration:21499,\tLoss:4.4794907417297365\n",
            "Epoch:0/1,\tIteration:21999,\tLoss:4.48465873336792\n",
            "Epoch:0/1,\tIteration:22499,\tLoss:4.460380442619324\n",
            "Epoch:0/1,\tIteration:22999,\tLoss:4.484680040359497\n",
            "Epoch:0/1,\tIteration:23499,\tLoss:4.47017582988739\n",
            "Epoch:0/1,\tIteration:23999,\tLoss:4.480600496292114\n",
            "Epoch:0/1,\tIteration:24499,\tLoss:4.465990587234497\n",
            "Epoch:0/1,\tIteration:24999,\tLoss:4.499830672264099\n",
            "Epoch:0/1,\tIteration:25499,\tLoss:4.466612334251404\n",
            "Epoch:0/1,\tIteration:25999,\tLoss:4.451680051326751\n",
            "Epoch:0/1,\tIteration:26499,\tLoss:4.4790979642868045\n",
            "Epoch:0/1,\tIteration:26999,\tLoss:4.461641263961792\n",
            "Epoch:0/1,\tIteration:27499,\tLoss:4.458888565063477\n",
            "Epoch:0/1,\tIteration:27999,\tLoss:4.443694493293762\n",
            "Epoch:0/1,\tIteration:28499,\tLoss:4.448100233078003\n",
            "Epoch:0/1,\tIteration:28999,\tLoss:4.462157731056213\n",
            "Epoch:0/1,\tIteration:29499,\tLoss:4.457444088935852\n",
            "Epoch:0/1,\tIteration:29999,\tLoss:4.428900953769684\n",
            "Epoch:0/1,\tIteration:30499,\tLoss:4.430811992645264\n",
            "Epoch:0/1,\tIteration:30999,\tLoss:4.4460670328140255\n",
            "Epoch:0/1,\tIteration:31499,\tLoss:4.447447700023651\n",
            "Epoch:0/1,\tIteration:31999,\tLoss:4.443317121982575\n",
            "Epoch:0/1,\tIteration:32499,\tLoss:4.402888026714325\n",
            "Epoch:0/1,\tIteration:32999,\tLoss:4.411209729194641\n",
            "Epoch:0/1,\tIteration:33499,\tLoss:4.425556651115418\n",
            "Epoch:0/1,\tIteration:33999,\tLoss:4.434795722007752\n",
            "Epoch:0/1,\tIteration:34499,\tLoss:4.414585280418396\n",
            "Epoch:0/1,\tIteration:34999,\tLoss:4.459039861679077\n",
            "Epoch:0/1,\tIteration:35499,\tLoss:4.418283524513245\n",
            "Epoch:0/1,\tIteration:35999,\tLoss:4.415227203845978\n",
            "Epoch:0/1,\tIteration:36499,\tLoss:4.4123165102005\n",
            "Epoch:0/1,\tIteration:36999,\tLoss:4.482720470428466\n",
            "Epoch:0/1,\tIteration:37499,\tLoss:4.404672307014465\n",
            "Epoch:0/1,\tIteration:37999,\tLoss:4.405929718971253\n",
            "Epoch:0/1,\tIteration:38499,\tLoss:4.42536754989624\n",
            "Epoch:0/1,\tIteration:38999,\tLoss:4.4307438426017764\n",
            "Epoch:0/1,\tIteration:39499,\tLoss:4.472236756801605\n",
            "Epoch:0/1,\tIteration:39999,\tLoss:4.433308267116547\n",
            "Epoch:0/1,\tIteration:40499,\tLoss:4.464822710990906\n",
            "Epoch:0/1,\tIteration:40999,\tLoss:4.446281488418579\n",
            "Epoch:0/1,\tIteration:41499,\tLoss:4.42288543510437\n",
            "Epoch:0/1,\tIteration:41999,\tLoss:4.399889248847962\n",
            "Epoch:0/1,\tIteration:42499,\tLoss:4.4154597225189205\n",
            "Epoch:0/1,\tIteration:42999,\tLoss:4.417451890468597\n",
            "Epoch:0/1,\tIteration:43499,\tLoss:4.424356167316437\n",
            "Epoch:0/1,\tIteration:43999,\tLoss:4.403737590312958\n",
            "Epoch:0/1,\tIteration:44499,\tLoss:4.416367475032806\n",
            "Epoch:0/1,\tIteration:44999,\tLoss:4.40475443649292\n",
            "Epoch:0/1,\tIteration:45499,\tLoss:4.413461215972901\n",
            "Epoch:0/1,\tIteration:45999,\tLoss:4.388334604740143\n",
            "Epoch:0/1,\tIteration:46499,\tLoss:4.410339930534363\n",
            "Epoch:0/1,\tIteration:46999,\tLoss:4.399588829994202\n",
            "Epoch:0/1,\tIteration:47499,\tLoss:4.417083789348602\n",
            "Epoch:0/1,\tIteration:47999,\tLoss:4.3947973275184635\n",
            "Epoch:0/1,\tIteration:48499,\tLoss:4.403098381519317\n",
            "Epoch:0/1,\tIteration:48999,\tLoss:4.3913788280487065\n",
            "Epoch:0/1,\tIteration:49499,\tLoss:4.45313208770752\n",
            "Epoch:0/1,\tIteration:49999,\tLoss:4.413195627212525\n",
            "Epoch:0/1,\tIteration:50499,\tLoss:4.433177859306335\n",
            "Epoch:0/1,\tIteration:50999,\tLoss:4.424921003341675\n",
            "Epoch:0/1,\tIteration:51499,\tLoss:4.420825458526611\n",
            "Epoch:0/1,\tIteration:51999,\tLoss:4.3814823164939884\n",
            "Epoch:0/1,\tIteration:52499,\tLoss:4.4232741904258726\n",
            "Epoch:0/1,\tIteration:52999,\tLoss:4.4275054097175595\n",
            "Epoch:0/1,\tIteration:53499,\tLoss:4.388278017520904\n",
            "Epoch:0/1,\tIteration:53999,\tLoss:4.400330082893372\n",
            "Epoch:0/1,\tIteration:54499,\tLoss:4.392108182907105\n",
            "Epoch:0/1,\tIteration:54999,\tLoss:4.388447632312775\n",
            "Epoch:0/1,\tIteration:55499,\tLoss:4.396654052257538\n",
            "Epoch:0/1,\tIteration:55999,\tLoss:4.392608040332794\n",
            "Epoch:0/1,\tIteration:56499,\tLoss:4.376936469554901\n",
            "Epoch:0/1,\tIteration:56999,\tLoss:4.392504515647889\n",
            "Epoch:0/1,\tIteration:57499,\tLoss:4.357098792076111\n",
            "Epoch:0/1,\tIteration:57999,\tLoss:4.355881491661072\n",
            "Epoch:0/1,\tIteration:58499,\tLoss:4.369675497055054\n",
            "Epoch:0/1,\tIteration:58999,\tLoss:4.389453273296356\n",
            "Epoch:0/1,\tIteration:59499,\tLoss:4.393729557991028\n",
            "Epoch:0/1,\tIteration:59999,\tLoss:4.4046561360359195\n",
            "Epoch:0/1,\tIteration:60499,\tLoss:4.362125951766968\n",
            "Epoch:0/1,\tIteration:60999,\tLoss:4.392171659946442\n",
            "Epoch:0/1,\tIteration:61499,\tLoss:4.36884015417099\n",
            "Epoch:0/1,\tIteration:61999,\tLoss:4.357414128780365\n",
            "Epoch:0/1,\tIteration:62499,\tLoss:4.349078220367431\n",
            "Epoch:0/1,\tIteration:62999,\tLoss:4.4110826358795165\n",
            "Epoch:0/1,\tIteration:63499,\tLoss:4.362987573623657\n",
            "Epoch:0/1,\tIteration:63999,\tLoss:4.359470188140869\n",
            "Epoch:0/1,\tIteration:64499,\tLoss:4.363117820262909\n",
            "Epoch:0/1,\tIteration:64999,\tLoss:4.371333011627197\n",
            "Epoch:0/1,\tIteration:65499,\tLoss:4.370728864192962\n",
            "Epoch:0/1,\tIteration:65999,\tLoss:4.3388668766021725\n",
            "Epoch:0/1,\tIteration:66499,\tLoss:4.380928133487702\n",
            "Epoch:0/1,\tIteration:66999,\tLoss:4.368364947319031\n",
            "Epoch:0/1,\tIteration:67499,\tLoss:4.372230556964874\n",
            "Epoch:0/1,\tIteration:67999,\tLoss:4.389241589069367\n",
            "Epoch:0/1,\tIteration:68499,\tLoss:4.353311786651611\n",
            "Epoch:0/1,\tIteration:68999,\tLoss:4.405230101108551\n",
            "Epoch:0/1,\tIteration:69499,\tLoss:4.361615309715271\n",
            "Epoch:0/1,\tIteration:69999,\tLoss:4.377356142520904\n",
            "Epoch:0/1,\tIteration:70499,\tLoss:4.60763302898407\n",
            "Epoch:0/1,\tIteration:70999,\tLoss:4.3663983435630795\n",
            "Epoch:0/1,\tIteration:71499,\tLoss:4.353187818527221\n",
            "Epoch:0/1,\tIteration:71999,\tLoss:4.337383177757263\n",
            "Epoch:0/1,\tIteration:72499,\tLoss:4.381120416641235\n",
            "Epoch:0/1,\tIteration:72999,\tLoss:4.403515011787414\n",
            "Epoch:0/1,\tIteration:73499,\tLoss:4.356109072208405\n",
            "Epoch:0/1,\tIteration:73999,\tLoss:4.348239777088165\n",
            "Epoch:0/1,\tIteration:74499,\tLoss:4.3443210072517395\n",
            "Epoch:0/1,\tIteration:74999,\tLoss:4.326939567565918\n",
            "Epoch:0/1,\tIteration:75499,\tLoss:4.275121991634369\n",
            "Epoch:0/1,\tIteration:75999,\tLoss:4.3566423325538635\n",
            "Epoch:0/1,\tIteration:76499,\tLoss:4.359034977912903\n",
            "Epoch:0/1,\tIteration:76999,\tLoss:4.3878376269340515\n",
            "Epoch:0/1,\tIteration:77499,\tLoss:4.341687716960907\n",
            "Epoch:0/1,\tIteration:77999,\tLoss:4.3521185297966\n",
            "Epoch:0/1,\tIteration:78499,\tLoss:4.360749709129333\n",
            "Epoch:0/1,\tIteration:78999,\tLoss:4.3495071711540225\n",
            "Epoch:0/1,\tIteration:79499,\tLoss:4.36162775850296\n",
            "Epoch:0/1,\tIteration:79999,\tLoss:4.367614603996277\n",
            "Epoch:0/1,\tIteration:80499,\tLoss:4.353725023746491\n",
            "Epoch:0/1,\tIteration:80999,\tLoss:4.337535678863525\n",
            "Epoch:0/1,\tIteration:81499,\tLoss:4.333333123207092\n",
            "Epoch:0/1,\tIteration:81999,\tLoss:4.313352339744568\n",
            "Epoch:0/1,\tIteration:82499,\tLoss:4.297657997608185\n",
            "Epoch:0/1,\tIteration:82999,\tLoss:4.298791494846344\n",
            "Epoch:0/1,\tIteration:83499,\tLoss:4.302309137821197\n",
            "Epoch:0/1,\tIteration:83999,\tLoss:4.322403430938721\n",
            "Epoch:0/1,\tIteration:84499,\tLoss:4.342024406433105\n",
            "Epoch:0/1,\tIteration:84999,\tLoss:4.362949834823608\n",
            "Epoch:0/1,\tIteration:85499,\tLoss:4.3489683575630185\n",
            "Epoch:0/1,\tIteration:85999,\tLoss:4.308410269260406\n",
            "Epoch:0/1,\tIteration:86499,\tLoss:4.329952037334442\n",
            "Epoch:0/1,\tIteration:86999,\tLoss:4.361226816177368\n",
            "Epoch:0/1,\tIteration:87499,\tLoss:4.334315828800201\n",
            "Epoch:0/1,\tIteration:87999,\tLoss:4.322471673488617\n",
            "Epoch:0/1,\tIteration:88499,\tLoss:4.3306671924591065\n",
            "Epoch:0/1,\tIteration:88999,\tLoss:4.296013587474823\n",
            "Epoch:0/1,\tIteration:89499,\tLoss:4.334611729621887\n",
            "Epoch:0/1,\tIteration:89999,\tLoss:4.345118376255035\n",
            "Epoch:0/1,\tIteration:90499,\tLoss:4.3793925218582155\n",
            "Epoch:0/1,\tIteration:90999,\tLoss:4.319500401496887\n",
            "Epoch:0/1,\tIteration:91499,\tLoss:4.299965021133423\n",
            "Epoch:0/1,\tIteration:91999,\tLoss:4.333575529575348\n",
            "Epoch:0/1,\tIteration:92499,\tLoss:4.262259798049927\n",
            "Epoch:0/1,\tIteration:92999,\tLoss:4.347624276161194\n",
            "Epoch:0/1,\tIteration:93499,\tLoss:4.348474284648895\n",
            "Epoch:0/1,\tIteration:93999,\tLoss:4.336689539432526\n",
            "Epoch:0/1,\tIteration:94499,\tLoss:4.3760537724494935\n",
            "Epoch:0/1,\tIteration:94999,\tLoss:4.331433581829071\n",
            "Epoch:0/1,\tIteration:95499,\tLoss:4.397369928359986\n",
            "Epoch:0/1,\tIteration:95999,\tLoss:4.336770565986633\n",
            "Epoch:0/1,\tIteration:96499,\tLoss:4.354501910209656\n",
            "Epoch:0/1,\tIteration:96999,\tLoss:4.325263286590576\n",
            "Epoch:0/1,\tIteration:97499,\tLoss:4.340637770652771\n",
            "Epoch:0/1,\tIteration:97999,\tLoss:4.2981422462463375\n",
            "Epoch:0/1,\tIteration:98499,\tLoss:4.3062856812477115\n",
            "Epoch:0/1,\tIteration:98999,\tLoss:4.283343302249908\n",
            "Epoch:0/1,\tIteration:99499,\tLoss:4.331625846385956\n",
            "Epoch:0/1,\tIteration:99999,\tLoss:4.346638969421386\n",
            "Epoch:0/1,\tIteration:100499,\tLoss:4.320717978477478\n",
            "Epoch:0/1,\tIteration:100999,\tLoss:4.35690201997757\n",
            "Epoch:0/1,\tIteration:101499,\tLoss:4.3175393967628475\n",
            "Epoch:0/1,\tIteration:101999,\tLoss:4.273653704166413\n",
            "Epoch:0/1,\tIteration:102499,\tLoss:4.3065605621337895\n",
            "Epoch:0/1,\tIteration:102999,\tLoss:4.317815926551819\n",
            "Epoch:0/1,\tIteration:103499,\tLoss:4.320643018245697\n",
            "Epoch:0/1,\tIteration:103999,\tLoss:4.283321335315704\n",
            "Epoch:0/1,\tIteration:104499,\tLoss:4.282058945178986\n",
            "Epoch:0/1,\tIteration:104999,\tLoss:4.323742218017578\n",
            "Epoch:0/1,\tIteration:105499,\tLoss:4.298357884407044\n",
            "Epoch:0/1,\tIteration:105999,\tLoss:4.326536281585693\n",
            "Epoch:0/1,\tIteration:106499,\tLoss:4.27822399187088\n",
            "Epoch:0/1,\tIteration:106999,\tLoss:4.308557631969452\n",
            "Epoch:0/1,\tIteration:107499,\tLoss:4.302675299167633\n",
            "Epoch:0/1,\tIteration:107999,\tLoss:4.338663794517517\n",
            "Epoch:0/1,\tIteration:108499,\tLoss:4.30710945558548\n",
            "Epoch:0/1,\tIteration:108999,\tLoss:4.310297475814819\n",
            "Epoch:0/1,\tIteration:109499,\tLoss:4.301435180187226\n",
            "Epoch:0/1,\tIteration:109999,\tLoss:4.285313110828399\n",
            "Epoch:0/1,\tIteration:110499,\tLoss:4.315917778491974\n",
            "Epoch:0/1,\tIteration:110999,\tLoss:4.325082095623016\n",
            "Epoch:0/1,\tIteration:111499,\tLoss:4.320678882598877\n",
            "Epoch:0/1,\tIteration:111999,\tLoss:4.253388294696808\n",
            "Epoch:0/1,\tIteration:112499,\tLoss:4.2425981645584105\n",
            "Epoch:0/1,\tIteration:112999,\tLoss:4.288623934745789\n",
            "Epoch:0/1,\tIteration:113499,\tLoss:4.308533369064331\n",
            "Epoch:0/1,\tIteration:113999,\tLoss:4.373899352550507\n",
            "Epoch:0/1,\tIteration:114499,\tLoss:4.293269837856292\n",
            "Epoch:0/1,\tIteration:114999,\tLoss:4.406078305244446\n",
            "Epoch:0/1,\tIteration:115499,\tLoss:4.434540403366089\n",
            "Epoch:0/1,\tIteration:115999,\tLoss:4.348095465183258\n",
            "Epoch:0/1,\tIteration:116499,\tLoss:4.354203192234039\n",
            "Epoch:0/1,\tIteration:116999,\tLoss:4.348361258506775\n",
            "Epoch:0/1,\tIteration:117499,\tLoss:4.3299524164199825\n",
            "Epoch:0/1,\tIteration:117999,\tLoss:4.333384897708893\n",
            "Epoch:0/1,\tIteration:118499,\tLoss:4.372983206272125\n",
            "Epoch:0/1,\tIteration:118999,\tLoss:4.368943251132965\n",
            "Epoch:0/1,\tIteration:119499,\tLoss:4.326900496959686\n",
            "Epoch:0/1,\tIteration:119999,\tLoss:4.297253630161285\n",
            "Epoch:0/1,\tIteration:120499,\tLoss:4.2523474140167234\n",
            "Epoch:0/1,\tIteration:120999,\tLoss:4.265855509281159\n",
            "Epoch:0/1,\tIteration:121499,\tLoss:4.203499396800995\n",
            "Epoch:0/1,\tIteration:121999,\tLoss:4.316245008945465\n",
            "Epoch:0/1,\tIteration:122499,\tLoss:4.329323078632354\n",
            "Epoch:0/1,\tIteration:122999,\tLoss:4.316989245414734\n",
            "Epoch:0/1,\tIteration:123499,\tLoss:4.317913784980774\n",
            "Epoch:0/1,\tIteration:123999,\tLoss:4.325213526248932\n",
            "Epoch:0/1,\tIteration:124499,\tLoss:4.312260136127472\n",
            "Epoch:0/1,\tIteration:124999,\tLoss:4.330823190689087\n",
            "Epoch:0/1,\tIteration:125499,\tLoss:4.28411817407608\n",
            "Epoch:0/1,\tIteration:125999,\tLoss:4.319481221199036\n",
            "Epoch:0/1,\tIteration:126499,\tLoss:4.337469465732575\n",
            "Epoch:0/1,\tIteration:126999,\tLoss:4.347084372997284\n",
            "Epoch:0/1,\tIteration:127499,\tLoss:4.330286505699157\n",
            "Epoch:0/1,\tIteration:127999,\tLoss:4.310267507076263\n",
            "Epoch:0/1,\tIteration:128499,\tLoss:4.306751626968384\n",
            "Epoch:0/1,\tIteration:128999,\tLoss:4.335461267471313\n",
            "Epoch:0/1,\tIteration:129499,\tLoss:4.308544403553009\n",
            "Epoch:0/1,\tIteration:129999,\tLoss:4.384671174526215\n",
            "Epoch:0/1,\tIteration:130499,\tLoss:4.359436408996582\n",
            "Epoch:0/1,\tIteration:130999,\tLoss:4.3064604954719545\n",
            "Epoch:0/1,\tIteration:131499,\tLoss:4.301327087402344\n",
            "Epoch:0/1,\tIteration:131999,\tLoss:4.297766435623169\n",
            "Epoch:0/1,\tIteration:132499,\tLoss:4.331071057796478\n"
          ]
        }
      ],
      "source": [
        "model = CBOW(EMBED_DIM, VOCAB_SIZE)\n",
        "model = model.to(device)\n",
        "\n",
        "criterion = nn.NLLLoss()\n",
        "optimizer = optim.Adam(model.parameters())\n",
        "\n",
        "loss_history = []\n",
        "\n",
        "for e in range(EPOCHS):\n",
        "    \n",
        "    batches = batch_gen(tokenized_ids, batch_size=BATCH_SIZE, window_size=WINDOW_SIZE)\n",
        "    total_loss = 0.0\n",
        "    \n",
        "    for iteration, (context, target) in enumerate(batches):\n",
        "        \n",
        "        # Step 1. Prepare the inputs to be passed to the model (wrap integer indices in tensors)\n",
        "        # Step 2. Zero out the gradients\n",
        "        # Step 3. Run the forward pass, getting predicted target word log probabilities\n",
        "        # Step 4. Compute your loss function. \n",
        "        # Step 5. Do the backward pass and update the gradient\n",
        "        \n",
        "        ############### for student ################\n",
        "        context = torch.tensor(context, dtype=torch.long).to(device)\n",
        "        target = torch.tensor(target, dtype=torch.long).to(device)\n",
        "        optimizer.zero_grad()\n",
        "        log_probs = model(context)\n",
        "        loss = criterion(log_probs, target)\n",
        "        loss.backward()\n",
        "        optimizer.step()\n",
        "\n",
        "        ############################################\n",
        "        \n",
        "        total_loss += loss.item()\n",
        "        \n",
        "        if iteration % interval == 499:\n",
        "            print('Epoch:{}/{},\\tIteration:{},\\tLoss:{}'.format(e, EPOCHS, iteration, total_loss / interval))\n",
        "            loss_history.append(total_loss / interval)\n",
        "            total_loss = 0.0"
      ]
    },
    {
      "cell_type": "code",
      "execution_count": 63,
      "metadata": {
        "colab": {
          "base_uri": "https://localhost:8080/"
        },
        "id": "Z_clpWfSUBCg",
        "outputId": "826f0b90-3f8b-4e85-edb6-10eb109d71c8",
        "pycharm": {
          "is_executing": true
        }
      },
      "outputs": [
        {
          "output_type": "stream",
          "name": "stdout",
          "text": [
            "Well done!\n"
          ]
        }
      ],
      "source": [
        "## evaluation\n",
        "## DON'T CHANGE THIS CELL IN ANY WAY\n",
        "\n",
        "assert loss_history[-1] < 6.5  #after an entire epoch, the loss would rather be around 5\n",
        "\n",
        "print('Well done!')"
      ]
    },
    {
      "cell_type": "markdown",
      "metadata": {
        "id": "hHKuXPPJUBCg"
      },
      "source": [
        "### Nearest words\n",
        "\n",
        "So far, we trained the __CBOW__ successfully, now it is time to explore it more. In this part, we want to find the $k$ nearest words to a given word, i.e., nearby in the vector space.\n",
        "\n",
        "<img src=\"https://i0.wp.com/i.imgur.com/IeZt839.png\" alt=\"img\" width=\"480px\"/>\n",
        "\n"
      ]
    },
    {
      "cell_type": "markdown",
      "metadata": {
        "id": "OoAIWCiHUBCg"
      },
      "source": [
        "Define a helper function to retrieve the corresponding vector for a given word:"
      ]
    },
    {
      "cell_type": "code",
      "execution_count": 64,
      "metadata": {
        "id": "6vxoujTuUBCg",
        "pycharm": {
          "is_executing": true
        }
      },
      "outputs": [],
      "source": [
        "def get_vector(embedding, word):\n",
        "    \"\"\"\n",
        "    # be sure jupyter session is not terminated!\n",
        "    # use token_to_id to retrieve the index, e.g., token_to_id[word]\n",
        "\n",
        "    :argument:\n",
        "        embedding (matrix): embedding matrix \n",
        "        word (str): The given input\n",
        "    :return:\n",
        "        word-vector for a given word\n",
        "    \"\"\"\n",
        "    ############### for student ################\n",
        "    word_id = token_to_id[word]\n",
        "    word_vector = embedding[:, word_id].unsqueeze(1)\n",
        "    \n",
        "    return word_vector\n",
        "    ############################################"
      ]
    },
    {
      "cell_type": "code",
      "execution_count": 65,
      "metadata": {
        "id": "ycjU8XAZUBCg",
        "pycharm": {
          "is_executing": true
        },
        "colab": {
          "base_uri": "https://localhost:8080/"
        },
        "outputId": "4b0e3649-938a-4610-b227-7bab5325bf1b"
      },
      "outputs": [
        {
          "output_type": "stream",
          "name": "stdout",
          "text": [
            "Well done!\n"
          ]
        }
      ],
      "source": [
        "## evaluation\n",
        "## DON'T CHANGE THIS CELL IN ANY WAY\n",
        "\n",
        "embedding = model.embed_in.data\n",
        "\n",
        "assert get_vector(embedding, 'school').shape == torch.Size([64, 1]), \"vector size should be (embed_dim, 1)\"\n",
        "assert np.allclose(embedding[:,(0,)].data.cpu().numpy(), get_vector(embedding, 'UNK').data.cpu().numpy()), \"Do you retrieve correct vector?\"\n",
        "print('Well done!')"
      ]
    },
    {
      "cell_type": "markdown",
      "metadata": {
        "id": "Z3sa12ICUBCg"
      },
      "source": [
        "Define a function to return the list of $k$ most similar words, e.g., based on `cosine-similarity`, to a given word:"
      ]
    },
    {
      "cell_type": "code",
      "execution_count": 66,
      "metadata": {
        "id": "wIOI-xiUUBCg",
        "pycharm": {
          "is_executing": true
        }
      },
      "outputs": [],
      "source": [
        "def most_similar_words(embedding, word, k=1):\n",
        "    \"\"\"\n",
        "    return k similar words based on cosine similarity (F.cosine_similarity)\n",
        "    :argument:\n",
        "        embedding (matrix): embedding matrix \n",
        "        word (str): The given input\n",
        "        k (int): The number of similar items    \n",
        "    :return:\n",
        "        list of k similar items\n",
        "    \"\"\"\n",
        "    most_similar = []\n",
        "    x = get_vector(embedding, word) # 300, 1\n",
        "    # ...\n",
        "    # most_similar = ...\n",
        "    ############### for student ################\n",
        "    cos_sim = F.cosine_similarity(embedding, x, dim=0)\n",
        "    res, index = torch.topk(cos_sim, k + 1, sorted=True)\n",
        "    index = index.tolist()\n",
        "    #print(res)\n",
        "    #print(index)\n",
        "    most_similar = [id_to_token[v] for i,v in enumerate(index) if res[i] != 1]\n",
        "    #print(most_similar)\n",
        "    ############################################\n",
        "    return most_similar[:k]"
      ]
    },
    {
      "cell_type": "code",
      "execution_count": 67,
      "metadata": {
        "id": "41UeG5ZPUBCh",
        "pycharm": {
          "is_executing": true
        },
        "colab": {
          "base_uri": "https://localhost:8080/"
        },
        "outputId": "1a5e8908-d1c8-480f-ad98-1086c762723a"
      },
      "outputs": [
        {
          "output_type": "stream",
          "name": "stdout",
          "text": [
            "Well done!\n"
          ]
        }
      ],
      "source": [
        "## evaluation\n",
        "## DON'T CHANGE THIS CELL IN ANY WAY\n",
        "\n",
        "embedding = model.embed_in.data\n",
        "\n",
        "dummy_list = most_similar_words(embedding, \"manual\", 3)\n",
        "s1 = F.cosine_similarity(get_vector(embedding, dummy_list[0]).T, get_vector(embedding, \"manual\").T)\n",
        "s2 = F.cosine_similarity(get_vector(embedding, dummy_list[1]).T, get_vector(embedding, \"manual\").T)\n",
        "s3 = F.cosine_similarity(get_vector(embedding, dummy_list[2]).T, get_vector(embedding, \"manual\").T)\n",
        "\n",
        "assert len(dummy_list) == 3, \"return k nearest words\"\n",
        "assert s1.data.cpu().numpy()[0] >= s2.data.cpu().numpy()[0], \"first item should have higher probablity to the given word\"\n",
        "assert s2.data.cpu().numpy()[0] >= s3.data.cpu().numpy()[0], \"second item should have higher probability\"\n",
        "assert s1.data.cpu().numpy()[0] != 1 , \"Similarity score of one means you return the word itself\"\n",
        "\n",
        "print('Well done!')"
      ]
    },
    {
      "cell_type": "code",
      "source": [
        "print(dummy_list)"
      ],
      "metadata": {
        "colab": {
          "base_uri": "https://localhost:8080/"
        },
        "id": "7-s_BJPbc2QL",
        "outputId": "96a5c2e0-250a-4e43-9dbc-c2b2eabb59c7"
      },
      "execution_count": 68,
      "outputs": [
        {
          "output_type": "stream",
          "name": "stdout",
          "text": [
            "['atlas', 'nintendo', 'encoding']\n"
          ]
        }
      ]
    },
    {
      "cell_type": "code",
      "source": [
        "s1.data.cpu().numpy()[0]"
      ],
      "metadata": {
        "colab": {
          "base_uri": "https://localhost:8080/"
        },
        "id": "GeCeMP4HcagK",
        "outputId": "49496d77-408f-45c7-bd8b-407fe47863d7"
      },
      "execution_count": 69,
      "outputs": [
        {
          "output_type": "execute_result",
          "data": {
            "text/plain": [
              "0.5022999"
            ]
          },
          "metadata": {},
          "execution_count": 69
        }
      ]
    },
    {
      "cell_type": "code",
      "source": [
        "s2.data.cpu().numpy()[0]"
      ],
      "metadata": {
        "colab": {
          "base_uri": "https://localhost:8080/"
        },
        "id": "fAtgoa2_cdCd",
        "outputId": "40ef3bc2-99f7-4b7c-a4a4-f59428d0f163"
      },
      "execution_count": 70,
      "outputs": [
        {
          "output_type": "execute_result",
          "data": {
            "text/plain": [
              "0.48975584"
            ]
          },
          "metadata": {},
          "execution_count": 70
        }
      ]
    },
    {
      "cell_type": "markdown",
      "metadata": {
        "id": "jh43ClMkUBCh"
      },
      "source": [
        "### Linear projection\n"
      ]
    },
    {
      "cell_type": "markdown",
      "metadata": {
        "id": "V7Ym16r2UBCh",
        "pycharm": {
          "name": "#%% md\n"
        }
      },
      "source": [
        "Now let's visualize the trained word embeddings in low-dimensional space. \n",
        "The simplest linear dimensionality reduction method is __P__rincipial __C__omponent __A__nalysis.\n",
        "\n",
        "In geometric terms, PCA tries to find axes along which most of the variance occurs. The \"natural\" axes, if you wish.\n",
        "\n",
        "\n",
        "<img src=\"https://hackernoon.com/hn-images/1*ZFqnPuxa1PtUece-OHBoTA.png\" alt=\"img\" width=\"512px\"/>"
      ]
    },
    {
      "cell_type": "markdown",
      "metadata": {
        "id": "qe1eIT9ZUBCh",
        "pycharm": {
          "is_executing": true
        }
      },
      "source": [
        "Under the hood, it attempts to decompose an object-feature matrix $X$ into two smaller matrices: $W$ and $\\hat W$ minimizing the *mean squared error*:\n",
        "\n",
        "$$\\min_{W, \\hat{W}} \\ \\ \\|(X W) \\hat{W} - X\\|^2_2 $$\n",
        "\n",
        "with\n",
        "- $X \\in \\mathbb{R}^{n \\times m}$ - object matrix (**centered**);\n",
        "- $W \\in \\mathbb{R}^{m \\times d}$ - matrix of direct transformation;\n",
        "- $\\hat{W} \\in \\mathbb{R}^{d \\times m}$ - matrix of reverse transformation;\n",
        "- $n$ samples, $m$ original dimensions and $d$ target dimensions;\n"
      ]
    },
    {
      "cell_type": "code",
      "execution_count": 71,
      "metadata": {
        "id": "_gMmDI3gUBCh",
        "pycharm": {
          "is_executing": true
        }
      },
      "outputs": [],
      "source": [
        "from sklearn.decomposition import PCA\n",
        "\n",
        "# Map word vectors onto a 2D plane with PCA. Use the good old sklearn API (fit, transform).\n",
        "# Finally, normalize the mapped vectors, to make sure they have zero mean and unit variance \n",
        "\n",
        "# word_vectors = ...\n",
        "# ...\n",
        "# word_vectors_pca = ...  # normalized vectors\n",
        "\n",
        "############### for student ################\n",
        "pca = PCA(n_components=2)\n",
        "word_vectors = model.get_word_embedding().detach().cpu().numpy()\n",
        "word_vectors_pca = pca.fit_transform(word_vectors)\n",
        "word_vectors_pca = (word_vectors_pca - word_vectors_pca.mean())/word_vectors_pca.std(axis=0)\n",
        "#print(word_vectors_pca)\n",
        "############################################"
      ]
    },
    {
      "cell_type": "code",
      "execution_count": 72,
      "metadata": {
        "id": "IbhnTIGqUBCh",
        "pycharm": {
          "is_executing": true
        },
        "colab": {
          "base_uri": "https://localhost:8080/"
        },
        "outputId": "97d55401-e533-49bf-fc75-d688eadc3042"
      },
      "outputs": [
        {
          "output_type": "stream",
          "name": "stdout",
          "text": [
            "Well done\n"
          ]
        }
      ],
      "source": [
        "## evaluation\n",
        "## DON'T CHANGE THIS CELL IN ANY WAY\n",
        "\n",
        "assert word_vectors_pca.shape == (len(word_vectors), 2), \"there must be a 2D vector for each word\"\n",
        "assert max(abs(word_vectors_pca.mean(0))) < 1e-5, \"points must be zero-centered\"\n",
        "assert max(abs(1.0 - word_vectors_pca.std(0))) < 1e-2, \"points must have unit variance\"\n",
        "\n",
        "print('Well done')"
      ]
    },
    {
      "cell_type": "code",
      "execution_count": 73,
      "metadata": {
        "id": "StxuXIB8UBCh",
        "pycharm": {
          "is_executing": true
        },
        "colab": {
          "base_uri": "https://localhost:8080/"
        },
        "outputId": "1b18375f-817c-43ce-8249-0f32d60df661"
      },
      "outputs": [
        {
          "output_type": "stream",
          "name": "stdout",
          "text": [
            "Looking in indexes: https://pypi.org/simple, https://us-python.pkg.dev/colab-wheels/public/simple/\n",
            "Requirement already satisfied: bokeh in /usr/local/lib/python3.9/dist-packages (2.4.3)\n",
            "Requirement already satisfied: pillow>=7.1.0 in /usr/local/lib/python3.9/dist-packages (from bokeh) (8.4.0)\n",
            "Requirement already satisfied: packaging>=16.8 in /usr/local/lib/python3.9/dist-packages (from bokeh) (23.1)\n",
            "Requirement already satisfied: Jinja2>=2.9 in /usr/local/lib/python3.9/dist-packages (from bokeh) (3.1.2)\n",
            "Requirement already satisfied: PyYAML>=3.10 in /usr/local/lib/python3.9/dist-packages (from bokeh) (6.0)\n",
            "Requirement already satisfied: tornado>=5.1 in /usr/local/lib/python3.9/dist-packages (from bokeh) (6.2)\n",
            "Requirement already satisfied: typing-extensions>=3.10.0 in /usr/local/lib/python3.9/dist-packages (from bokeh) (4.5.0)\n",
            "Requirement already satisfied: numpy>=1.11.3 in /usr/local/lib/python3.9/dist-packages (from bokeh) (1.22.4)\n",
            "Requirement already satisfied: MarkupSafe>=2.0 in /usr/local/lib/python3.9/dist-packages (from Jinja2>=2.9->bokeh) (2.1.2)\n"
          ]
        }
      ],
      "source": [
        "!pip install bokeh"
      ]
    },
    {
      "cell_type": "code",
      "execution_count": 74,
      "metadata": {
        "id": "hL-gGyAbUBCh",
        "pycharm": {
          "is_executing": true
        }
      },
      "outputs": [],
      "source": [
        "# !pip install bokeh\n",
        "\n",
        "import bokeh.models as bm, bokeh.plotting as pl\n",
        "from bokeh.io import output_notebook\n",
        "\n",
        "output_notebook()\n",
        "\n",
        "def draw_vectors(x, y, radius=10, alpha=0.25, color='blue',\n",
        "                 width=600, height=400, show=True, **kwargs):\n",
        "    \"\"\" draws an interactive plot for data points with auxiliary info on hover \"\"\"\n",
        "    if isinstance(color, str): color = [color] * len(x)\n",
        "    data_source = bm.ColumnDataSource({ 'x' : x, 'y' : y, 'color': color, **kwargs })\n",
        "\n",
        "    fig = pl.figure(active_scroll='wheel_zoom', width=width, height=height)\n",
        "    fig.scatter('x', 'y', size=radius, color='color', alpha=alpha, source=data_source)\n",
        "\n",
        "    fig.add_tools(bm.HoverTool(tooltips=[(key, \"@\" + key) for key in kwargs.keys()]))\n",
        "    if show: pl.show(fig)\n",
        "    return fig"
      ]
    },
    {
      "cell_type": "code",
      "execution_count": 75,
      "metadata": {
        "id": "UR7mVzVfUBCh",
        "pycharm": {
          "is_executing": true,
          "name": "#%%\n"
        },
        "colab": {
          "base_uri": "https://localhost:8080/",
          "height": 53
        },
        "outputId": "93479d7b-bdb8-4c6b-b38d-1bc52753d1a3"
      },
      "outputs": [
        {
          "output_type": "stream",
          "name": "stderr",
          "text": [
            "BokehUserWarning: ColumnDataSource's columns must be of the same length. Current lengths: ('color', 64), ('token', 5000), ('x', 64), ('y', 64)\n"
          ]
        },
        {
          "output_type": "display_data",
          "data": {
            "application/javascript": [
              "(function(root) {\n",
              "  function now() {\n",
              "    return new Date();\n",
              "  }\n",
              "\n",
              "  const force = true;\n",
              "\n",
              "  if (typeof root._bokeh_onload_callbacks === \"undefined\" || force === true) {\n",
              "    root._bokeh_onload_callbacks = [];\n",
              "    root._bokeh_is_loading = undefined;\n",
              "  }\n",
              "\n",
              "const JS_MIME_TYPE = 'application/javascript';\n",
              "  const HTML_MIME_TYPE = 'text/html';\n",
              "  const EXEC_MIME_TYPE = 'application/vnd.bokehjs_exec.v0+json';\n",
              "  const CLASS_NAME = 'output_bokeh rendered_html';\n",
              "\n",
              "  /**\n",
              "   * Render data to the DOM node\n",
              "   */\n",
              "  function render(props, node) {\n",
              "    const script = document.createElement(\"script\");\n",
              "    node.appendChild(script);\n",
              "  }\n",
              "\n",
              "  /**\n",
              "   * Handle when an output is cleared or removed\n",
              "   */\n",
              "  function handleClearOutput(event, handle) {\n",
              "    const cell = handle.cell;\n",
              "\n",
              "    const id = cell.output_area._bokeh_element_id;\n",
              "    const server_id = cell.output_area._bokeh_server_id;\n",
              "    // Clean up Bokeh references\n",
              "    if (id != null && id in Bokeh.index) {\n",
              "      Bokeh.index[id].model.document.clear();\n",
              "      delete Bokeh.index[id];\n",
              "    }\n",
              "\n",
              "    if (server_id !== undefined) {\n",
              "      // Clean up Bokeh references\n",
              "      const cmd_clean = \"from bokeh.io.state import curstate; print(curstate().uuid_to_server['\" + server_id + \"'].get_sessions()[0].document.roots[0]._id)\";\n",
              "      cell.notebook.kernel.execute(cmd_clean, {\n",
              "        iopub: {\n",
              "          output: function(msg) {\n",
              "            const id = msg.content.text.trim();\n",
              "            if (id in Bokeh.index) {\n",
              "              Bokeh.index[id].model.document.clear();\n",
              "              delete Bokeh.index[id];\n",
              "            }\n",
              "          }\n",
              "        }\n",
              "      });\n",
              "      // Destroy server and session\n",
              "      const cmd_destroy = \"import bokeh.io.notebook as ion; ion.destroy_server('\" + server_id + \"')\";\n",
              "      cell.notebook.kernel.execute(cmd_destroy);\n",
              "    }\n",
              "  }\n",
              "\n",
              "  /**\n",
              "   * Handle when a new output is added\n",
              "   */\n",
              "  function handleAddOutput(event, handle) {\n",
              "    const output_area = handle.output_area;\n",
              "    const output = handle.output;\n",
              "\n",
              "    // limit handleAddOutput to display_data with EXEC_MIME_TYPE content only\n",
              "    if ((output.output_type != \"display_data\") || (!Object.prototype.hasOwnProperty.call(output.data, EXEC_MIME_TYPE))) {\n",
              "      return\n",
              "    }\n",
              "\n",
              "    const toinsert = output_area.element.find(\".\" + CLASS_NAME.split(' ')[0]);\n",
              "\n",
              "    if (output.metadata[EXEC_MIME_TYPE][\"id\"] !== undefined) {\n",
              "      toinsert[toinsert.length - 1].firstChild.textContent = output.data[JS_MIME_TYPE];\n",
              "      // store reference to embed id on output_area\n",
              "      output_area._bokeh_element_id = output.metadata[EXEC_MIME_TYPE][\"id\"];\n",
              "    }\n",
              "    if (output.metadata[EXEC_MIME_TYPE][\"server_id\"] !== undefined) {\n",
              "      const bk_div = document.createElement(\"div\");\n",
              "      bk_div.innerHTML = output.data[HTML_MIME_TYPE];\n",
              "      const script_attrs = bk_div.children[0].attributes;\n",
              "      for (let i = 0; i < script_attrs.length; i++) {\n",
              "        toinsert[toinsert.length - 1].firstChild.setAttribute(script_attrs[i].name, script_attrs[i].value);\n",
              "        toinsert[toinsert.length - 1].firstChild.textContent = bk_div.children[0].textContent\n",
              "      }\n",
              "      // store reference to server id on output_area\n",
              "      output_area._bokeh_server_id = output.metadata[EXEC_MIME_TYPE][\"server_id\"];\n",
              "    }\n",
              "  }\n",
              "\n",
              "  function register_renderer(events, OutputArea) {\n",
              "\n",
              "    function append_mime(data, metadata, element) {\n",
              "      // create a DOM node to render to\n",
              "      const toinsert = this.create_output_subarea(\n",
              "        metadata,\n",
              "        CLASS_NAME,\n",
              "        EXEC_MIME_TYPE\n",
              "      );\n",
              "      this.keyboard_manager.register_events(toinsert);\n",
              "      // Render to node\n",
              "      const props = {data: data, metadata: metadata[EXEC_MIME_TYPE]};\n",
              "      render(props, toinsert[toinsert.length - 1]);\n",
              "      element.append(toinsert);\n",
              "      return toinsert\n",
              "    }\n",
              "\n",
              "    /* Handle when an output is cleared or removed */\n",
              "    events.on('clear_output.CodeCell', handleClearOutput);\n",
              "    events.on('delete.Cell', handleClearOutput);\n",
              "\n",
              "    /* Handle when a new output is added */\n",
              "    events.on('output_added.OutputArea', handleAddOutput);\n",
              "\n",
              "    /**\n",
              "     * Register the mime type and append_mime function with output_area\n",
              "     */\n",
              "    OutputArea.prototype.register_mime_type(EXEC_MIME_TYPE, append_mime, {\n",
              "      /* Is output safe? */\n",
              "      safe: true,\n",
              "      /* Index of renderer in `output_area.display_order` */\n",
              "      index: 0\n",
              "    });\n",
              "  }\n",
              "\n",
              "  // register the mime type if in Jupyter Notebook environment and previously unregistered\n",
              "  if (root.Jupyter !== undefined) {\n",
              "    const events = require('base/js/events');\n",
              "    const OutputArea = require('notebook/js/outputarea').OutputArea;\n",
              "\n",
              "    if (OutputArea.prototype.mime_types().indexOf(EXEC_MIME_TYPE) == -1) {\n",
              "      register_renderer(events, OutputArea);\n",
              "    }\n",
              "  }\n",
              "  if (typeof (root._bokeh_timeout) === \"undefined\" || force === true) {\n",
              "    root._bokeh_timeout = Date.now() + 5000;\n",
              "    root._bokeh_failed_load = false;\n",
              "  }\n",
              "\n",
              "  const NB_LOAD_WARNING = {'data': {'text/html':\n",
              "     \"<div style='background-color: #fdd'>\\n\"+\n",
              "     \"<p>\\n\"+\n",
              "     \"BokehJS does not appear to have successfully loaded. If loading BokehJS from CDN, this \\n\"+\n",
              "     \"may be due to a slow or bad network connection. Possible fixes:\\n\"+\n",
              "     \"</p>\\n\"+\n",
              "     \"<ul>\\n\"+\n",
              "     \"<li>re-rerun `output_notebook()` to attempt to load from CDN again, or</li>\\n\"+\n",
              "     \"<li>use INLINE resources instead, as so:</li>\\n\"+\n",
              "     \"</ul>\\n\"+\n",
              "     \"<code>\\n\"+\n",
              "     \"from bokeh.resources import INLINE\\n\"+\n",
              "     \"output_notebook(resources=INLINE)\\n\"+\n",
              "     \"</code>\\n\"+\n",
              "     \"</div>\"}};\n",
              "\n",
              "  function display_loaded() {\n",
              "    const el = document.getElementById(null);\n",
              "    if (el != null) {\n",
              "      el.textContent = \"BokehJS is loading...\";\n",
              "    }\n",
              "    if (root.Bokeh !== undefined) {\n",
              "      if (el != null) {\n",
              "        el.textContent = \"BokehJS \" + root.Bokeh.version + \" successfully loaded.\";\n",
              "      }\n",
              "    } else if (Date.now() < root._bokeh_timeout) {\n",
              "      setTimeout(display_loaded, 100)\n",
              "    }\n",
              "  }\n",
              "\n",
              "  function run_callbacks() {\n",
              "    try {\n",
              "      root._bokeh_onload_callbacks.forEach(function(callback) {\n",
              "        if (callback != null)\n",
              "          callback();\n",
              "      });\n",
              "    } finally {\n",
              "      delete root._bokeh_onload_callbacks\n",
              "    }\n",
              "    console.debug(\"Bokeh: all callbacks have finished\");\n",
              "  }\n",
              "\n",
              "  function load_libs(css_urls, js_urls, callback) {\n",
              "    if (css_urls == null) css_urls = [];\n",
              "    if (js_urls == null) js_urls = [];\n",
              "\n",
              "    root._bokeh_onload_callbacks.push(callback);\n",
              "    if (root._bokeh_is_loading > 0) {\n",
              "      console.debug(\"Bokeh: BokehJS is being loaded, scheduling callback at\", now());\n",
              "      return null;\n",
              "    }\n",
              "    if (js_urls == null || js_urls.length === 0) {\n",
              "      run_callbacks();\n",
              "      return null;\n",
              "    }\n",
              "    console.debug(\"Bokeh: BokehJS not loaded, scheduling load and callback at\", now());\n",
              "    root._bokeh_is_loading = css_urls.length + js_urls.length;\n",
              "\n",
              "    function on_load() {\n",
              "      root._bokeh_is_loading--;\n",
              "      if (root._bokeh_is_loading === 0) {\n",
              "        console.debug(\"Bokeh: all BokehJS libraries/stylesheets loaded\");\n",
              "        run_callbacks()\n",
              "      }\n",
              "    }\n",
              "\n",
              "    function on_error(url) {\n",
              "      console.error(\"failed to load \" + url);\n",
              "    }\n",
              "\n",
              "    for (let i = 0; i < css_urls.length; i++) {\n",
              "      const url = css_urls[i];\n",
              "      const element = document.createElement(\"link\");\n",
              "      element.onload = on_load;\n",
              "      element.onerror = on_error.bind(null, url);\n",
              "      element.rel = \"stylesheet\";\n",
              "      element.type = \"text/css\";\n",
              "      element.href = url;\n",
              "      console.debug(\"Bokeh: injecting link tag for BokehJS stylesheet: \", url);\n",
              "      document.body.appendChild(element);\n",
              "    }\n",
              "\n",
              "    for (let i = 0; i < js_urls.length; i++) {\n",
              "      const url = js_urls[i];\n",
              "      const element = document.createElement('script');\n",
              "      element.onload = on_load;\n",
              "      element.onerror = on_error.bind(null, url);\n",
              "      element.async = false;\n",
              "      element.src = url;\n",
              "      console.debug(\"Bokeh: injecting script tag for BokehJS library: \", url);\n",
              "      document.head.appendChild(element);\n",
              "    }\n",
              "  };\n",
              "\n",
              "  function inject_raw_css(css) {\n",
              "    const element = document.createElement(\"style\");\n",
              "    element.appendChild(document.createTextNode(css));\n",
              "    document.body.appendChild(element);\n",
              "  }\n",
              "\n",
              "  const js_urls = [\"https://cdn.bokeh.org/bokeh/release/bokeh-2.4.3.min.js\", \"https://cdn.bokeh.org/bokeh/release/bokeh-gl-2.4.3.min.js\", \"https://cdn.bokeh.org/bokeh/release/bokeh-widgets-2.4.3.min.js\", \"https://cdn.bokeh.org/bokeh/release/bokeh-tables-2.4.3.min.js\", \"https://cdn.bokeh.org/bokeh/release/bokeh-mathjax-2.4.3.min.js\"];\n",
              "  const css_urls = [];\n",
              "\n",
              "  const inline_js = [    function(Bokeh) {\n",
              "      Bokeh.set_log_level(\"info\");\n",
              "    },\n",
              "function(Bokeh) {\n",
              "    }\n",
              "  ];\n",
              "\n",
              "  function run_inline_js() {\n",
              "    if (root.Bokeh !== undefined || force === true) {\n",
              "          for (let i = 0; i < inline_js.length; i++) {\n",
              "      inline_js[i].call(root, root.Bokeh);\n",
              "    }\n",
              "} else if (Date.now() < root._bokeh_timeout) {\n",
              "      setTimeout(run_inline_js, 100);\n",
              "    } else if (!root._bokeh_failed_load) {\n",
              "      console.log(\"Bokeh: BokehJS failed to load within specified timeout.\");\n",
              "      root._bokeh_failed_load = true;\n",
              "    } else if (force !== true) {\n",
              "      const cell = $(document.getElementById(null)).parents('.cell').data().cell;\n",
              "      cell.output_area.append_execute_result(NB_LOAD_WARNING)\n",
              "    }\n",
              "  }\n",
              "\n",
              "  if (root._bokeh_is_loading === 0) {\n",
              "    console.debug(\"Bokeh: BokehJS loaded, going straight to plotting\");\n",
              "    run_inline_js();\n",
              "  } else {\n",
              "    load_libs(css_urls, js_urls, function() {\n",
              "      console.debug(\"Bokeh: BokehJS plotting callback run at\", now());\n",
              "      run_inline_js();\n",
              "    });\n",
              "  }\n",
              "}(window));"
            ],
            "application/vnd.bokehjs_load.v0+json": "(function(root) {\n  function now() {\n    return new Date();\n  }\n\n  const force = true;\n\n  if (typeof root._bokeh_onload_callbacks === \"undefined\" || force === true) {\n    root._bokeh_onload_callbacks = [];\n    root._bokeh_is_loading = undefined;\n  }\n\n\n  if (typeof (root._bokeh_timeout) === \"undefined\" || force === true) {\n    root._bokeh_timeout = Date.now() + 5000;\n    root._bokeh_failed_load = false;\n  }\n\n  const NB_LOAD_WARNING = {'data': {'text/html':\n     \"<div style='background-color: #fdd'>\\n\"+\n     \"<p>\\n\"+\n     \"BokehJS does not appear to have successfully loaded. If loading BokehJS from CDN, this \\n\"+\n     \"may be due to a slow or bad network connection. Possible fixes:\\n\"+\n     \"</p>\\n\"+\n     \"<ul>\\n\"+\n     \"<li>re-rerun `output_notebook()` to attempt to load from CDN again, or</li>\\n\"+\n     \"<li>use INLINE resources instead, as so:</li>\\n\"+\n     \"</ul>\\n\"+\n     \"<code>\\n\"+\n     \"from bokeh.resources import INLINE\\n\"+\n     \"output_notebook(resources=INLINE)\\n\"+\n     \"</code>\\n\"+\n     \"</div>\"}};\n\n  function display_loaded() {\n    const el = document.getElementById(null);\n    if (el != null) {\n      el.textContent = \"BokehJS is loading...\";\n    }\n    if (root.Bokeh !== undefined) {\n      if (el != null) {\n        el.textContent = \"BokehJS \" + root.Bokeh.version + \" successfully loaded.\";\n      }\n    } else if (Date.now() < root._bokeh_timeout) {\n      setTimeout(display_loaded, 100)\n    }\n  }\n\n  function run_callbacks() {\n    try {\n      root._bokeh_onload_callbacks.forEach(function(callback) {\n        if (callback != null)\n          callback();\n      });\n    } finally {\n      delete root._bokeh_onload_callbacks\n    }\n    console.debug(\"Bokeh: all callbacks have finished\");\n  }\n\n  function load_libs(css_urls, js_urls, callback) {\n    if (css_urls == null) css_urls = [];\n    if (js_urls == null) js_urls = [];\n\n    root._bokeh_onload_callbacks.push(callback);\n    if (root._bokeh_is_loading > 0) {\n      console.debug(\"Bokeh: BokehJS is being loaded, scheduling callback at\", now());\n      return null;\n    }\n    if (js_urls == null || js_urls.length === 0) {\n      run_callbacks();\n      return null;\n    }\n    console.debug(\"Bokeh: BokehJS not loaded, scheduling load and callback at\", now());\n    root._bokeh_is_loading = css_urls.length + js_urls.length;\n\n    function on_load() {\n      root._bokeh_is_loading--;\n      if (root._bokeh_is_loading === 0) {\n        console.debug(\"Bokeh: all BokehJS libraries/stylesheets loaded\");\n        run_callbacks()\n      }\n    }\n\n    function on_error(url) {\n      console.error(\"failed to load \" + url);\n    }\n\n    for (let i = 0; i < css_urls.length; i++) {\n      const url = css_urls[i];\n      const element = document.createElement(\"link\");\n      element.onload = on_load;\n      element.onerror = on_error.bind(null, url);\n      element.rel = \"stylesheet\";\n      element.type = \"text/css\";\n      element.href = url;\n      console.debug(\"Bokeh: injecting link tag for BokehJS stylesheet: \", url);\n      document.body.appendChild(element);\n    }\n\n    for (let i = 0; i < js_urls.length; i++) {\n      const url = js_urls[i];\n      const element = document.createElement('script');\n      element.onload = on_load;\n      element.onerror = on_error.bind(null, url);\n      element.async = false;\n      element.src = url;\n      console.debug(\"Bokeh: injecting script tag for BokehJS library: \", url);\n      document.head.appendChild(element);\n    }\n  };\n\n  function inject_raw_css(css) {\n    const element = document.createElement(\"style\");\n    element.appendChild(document.createTextNode(css));\n    document.body.appendChild(element);\n  }\n\n  const js_urls = [\"https://cdn.bokeh.org/bokeh/release/bokeh-2.4.3.min.js\", \"https://cdn.bokeh.org/bokeh/release/bokeh-gl-2.4.3.min.js\", \"https://cdn.bokeh.org/bokeh/release/bokeh-widgets-2.4.3.min.js\", \"https://cdn.bokeh.org/bokeh/release/bokeh-tables-2.4.3.min.js\", \"https://cdn.bokeh.org/bokeh/release/bokeh-mathjax-2.4.3.min.js\"];\n  const css_urls = [];\n\n  const inline_js = [    function(Bokeh) {\n      Bokeh.set_log_level(\"info\");\n    },\nfunction(Bokeh) {\n    }\n  ];\n\n  function run_inline_js() {\n    if (root.Bokeh !== undefined || force === true) {\n          for (let i = 0; i < inline_js.length; i++) {\n      inline_js[i].call(root, root.Bokeh);\n    }\n} else if (Date.now() < root._bokeh_timeout) {\n      setTimeout(run_inline_js, 100);\n    } else if (!root._bokeh_failed_load) {\n      console.log(\"Bokeh: BokehJS failed to load within specified timeout.\");\n      root._bokeh_failed_load = true;\n    } else if (force !== true) {\n      const cell = $(document.getElementById(null)).parents('.cell').data().cell;\n      cell.output_area.append_execute_result(NB_LOAD_WARNING)\n    }\n  }\n\n  if (root._bokeh_is_loading === 0) {\n    console.debug(\"Bokeh: BokehJS loaded, going straight to plotting\");\n    run_inline_js();\n  } else {\n    load_libs(css_urls, js_urls, function() {\n      console.debug(\"Bokeh: BokehJS plotting callback run at\", now());\n      run_inline_js();\n    });\n  }\n}(window));"
          },
          "metadata": {}
        },
        {
          "output_type": "display_data",
          "data": {
            "text/html": [
              "\n",
              "  <div class=\"bk-root\" id=\"af1a81b6-cb1d-4df4-b755-dd10d844aa6e\" data-root-id=\"1003\"></div>\n"
            ]
          },
          "metadata": {}
        },
        {
          "output_type": "display_data",
          "data": {
            "application/javascript": [
              "(function(root) {\n",
              "  function embed_document(root) {\n",
              "  const docs_json = {\"2e88564f-5b22-44c4-a2c0-962d7fd43ad3\":{\"defs\":[],\"roots\":{\"references\":[{\"attributes\":{\"below\":[{\"id\":\"1012\"}],\"center\":[{\"id\":\"1015\"},{\"id\":\"1019\"}],\"height\":400,\"left\":[{\"id\":\"1016\"}],\"renderers\":[{\"id\":\"1038\"}],\"title\":{\"id\":\"1042\"},\"toolbar\":{\"id\":\"1027\"},\"x_range\":{\"id\":\"1004\"},\"x_scale\":{\"id\":\"1008\"},\"y_range\":{\"id\":\"1006\"},\"y_scale\":{\"id\":\"1010\"}},\"id\":\"1003\",\"subtype\":\"Figure\",\"type\":\"Plot\"},{\"attributes\":{\"fill_alpha\":{\"value\":0.25},\"fill_color\":{\"field\":\"color\"},\"hatch_alpha\":{\"value\":0.25},\"hatch_color\":{\"field\":\"color\"},\"line_alpha\":{\"value\":0.25},\"line_color\":{\"field\":\"color\"},\"size\":{\"value\":10},\"x\":{\"field\":\"x\"},\"y\":{\"field\":\"y\"}},\"id\":\"1035\",\"type\":\"Scatter\"},{\"attributes\":{},\"id\":\"1048\",\"type\":\"BasicTickFormatter\"},{\"attributes\":{\"active_scroll\":{\"id\":\"1021\"},\"tools\":[{\"id\":\"1020\"},{\"id\":\"1021\"},{\"id\":\"1022\"},{\"id\":\"1023\"},{\"id\":\"1024\"},{\"id\":\"1025\"},{\"id\":\"1040\"}]},\"id\":\"1027\",\"type\":\"Toolbar\"},{\"attributes\":{\"coordinates\":null,\"data_source\":{\"id\":\"1002\"},\"glyph\":{\"id\":\"1035\"},\"group\":null,\"hover_glyph\":null,\"muted_glyph\":{\"id\":\"1037\"},\"nonselection_glyph\":{\"id\":\"1036\"},\"view\":{\"id\":\"1039\"}},\"id\":\"1038\",\"type\":\"GlyphRenderer\"},{\"attributes\":{\"data\":{\"color\":[\"blue\",\"blue\",\"blue\",\"blue\",\"blue\",\"blue\",\"blue\",\"blue\",\"blue\",\"blue\",\"blue\",\"blue\",\"blue\",\"blue\",\"blue\",\"blue\",\"blue\",\"blue\",\"blue\",\"blue\",\"blue\",\"blue\",\"blue\",\"blue\",\"blue\",\"blue\",\"blue\",\"blue\",\"blue\",\"blue\",\"blue\",\"blue\",\"blue\",\"blue\",\"blue\",\"blue\",\"blue\",\"blue\",\"blue\",\"blue\",\"blue\",\"blue\",\"blue\",\"blue\",\"blue\",\"blue\",\"blue\",\"blue\",\"blue\",\"blue\",\"blue\",\"blue\",\"blue\",\"blue\",\"blue\",\"blue\",\"blue\",\"blue\",\"blue\",\"blue\",\"blue\",\"blue\",\"blue\",\"blue\"],\"token\":[\"UNK\",\"the\",\"of\",\"and\",\"one\",\"in\",\"a\",\"to\",\"zero\",\"nine\",\"two\",\"is\",\"as\",\"eight\",\"for\",\"s\",\"five\",\"three\",\"was\",\"by\",\"that\",\"four\",\"six\",\"seven\",\"with\",\"on\",\"are\",\"it\",\"from\",\"or\",\"his\",\"an\",\"be\",\"this\",\"which\",\"at\",\"he\",\"also\",\"not\",\"have\",\"were\",\"has\",\"but\",\"other\",\"their\",\"its\",\"first\",\"they\",\"some\",\"had\",\"all\",\"more\",\"most\",\"can\",\"been\",\"such\",\"many\",\"who\",\"new\",\"used\",\"there\",\"after\",\"when\",\"into\",\"american\",\"time\",\"these\",\"only\",\"see\",\"may\",\"than\",\"world\",\"i\",\"b\",\"would\",\"d\",\"no\",\"however\",\"between\",\"about\",\"over\",\"years\",\"states\",\"people\",\"war\",\"during\",\"united\",\"known\",\"if\",\"called\",\"use\",\"th\",\"system\",\"often\",\"state\",\"so\",\"history\",\"will\",\"up\",\"while\",\"where\",\"city\",\"being\",\"english\",\"then\",\"any\",\"both\",\"under\",\"out\",\"made\",\"well\",\"her\",\"e\",\"number\",\"government\",\"them\",\"m\",\"later\",\"since\",\"him\",\"part\",\"name\",\"c\",\"century\",\"through\",\"because\",\"x\",\"university\",\"early\",\"life\",\"british\",\"year\",\"like\",\"same\",\"including\",\"became\",\"example\",\"day\",\"each\",\"even\",\"work\",\"language\",\"although\",\"several\",\"form\",\"john\",\"u\",\"national\",\"very\",\"much\",\"g\",\"french\",\"before\",\"general\",\"what\",\"t\",\"against\",\"n\",\"high\",\"links\",\"could\",\"based\",\"those\",\"now\",\"second\",\"de\",\"music\",\"another\",\"large\",\"she\",\"f\",\"external\",\"german\",\"different\",\"modern\",\"great\",\"do\",\"common\",\"set\",\"list\",\"south\",\"series\",\"major\",\"game\",\"power\",\"long\",\"country\",\"king\",\"law\",\"group\",\"film\",\"still\",\"until\",\"north\",\"international\",\"term\",\"we\",\"end\",\"book\",\"found\",\"own\",\"political\",\"party\",\"order\",\"usually\",\"president\",\"church\",\"you\",\"death\",\"theory\",\"area\",\"around\",\"include\",\"god\",\"ii\",\"way\",\"did\",\"military\",\"population\",\"using\",\"though\",\"small\",\"following\",\"within\",\"non\",\"human\",\"left\",\"main\",\"among\",\"point\",\"r\",\"due\",\"p\",\"considered\",\"public\",\"popular\",\"computer\",\"west\",\"family\",\"east\",\"information\",\"important\",\"european\",\"man\",\"sometimes\",\"right\",\"old\",\"free\",\"word\",\"without\",\"last\",\"us\",\"members\",\"given\",\"times\",\"roman\",\"make\",\"h\",\"age\",\"place\",\"l\",\"thus\",\"science\",\"case\",\"become\",\"systems\",\"union\",\"born\",\"york\",\"line\",\"countries\",\"does\",\"isbn\",\"st\",\"control\",\"various\",\"others\",\"house\",\"article\",\"island\",\"should\",\"led\",\"back\",\"period\",\"player\",\"europe\",\"languages\",\"central\",\"water\",\"few\",\"western\",\"home\",\"began\",\"generally\",\"less\",\"k\",\"similar\",\"written\",\"original\",\"best\",\"must\",\"according\",\"school\",\"france\",\"air\",\"single\",\"force\",\"v\",\"land\",\"groups\",\"down\",\"how\",\"works\",\"development\",\"official\",\"support\",\"england\",\"j\",\"rather\",\"data\",\"space\",\"greek\",\"km\",\"named\",\"germany\",\"just\",\"games\",\"said\",\"version\",\"late\",\"earth\",\"company\",\"every\",\"economic\",\"short\",\"published\",\"black\",\"army\",\"off\",\"london\",\"million\",\"body\",\"field\",\"christian\",\"either\",\"social\",\"empire\",\"o\",\"developed\",\"standard\",\"court\",\"service\",\"kingdom\",\"along\",\"college\",\"republic\",\"sea\",\"america\",\"today\",\"result\",\"held\",\"team\",\"light\",\"means\",\"never\",\"especially\",\"third\",\"further\",\"character\",\"forces\",\"take\",\"men\",\"society\",\"show\",\"open\",\"possible\",\"fact\",\"battle\",\"took\",\"former\",\"books\",\"soviet\",\"river\",\"children\",\"having\",\"good\",\"local\",\"current\",\"son\",\"process\",\"natural\",\"present\",\"himself\",\"islands\",\"total\",\"near\",\"white\",\"days\",\"person\",\"itself\",\"seen\",\"culture\",\"little\",\"above\",\"software\",\"largest\",\"words\",\"upon\",\"level\",\"father\",\"created\",\"side\",\"red\",\"references\",\"press\",\"full\",\"region\",\"almost\",\"image\",\"al\",\"famous\",\"play\",\"came\",\"role\",\"once\",\"certain\",\"league\",\"jewish\",\"james\",\"january\",\"site\",\"again\",\"numbers\",\"art\",\"member\",\"areas\",\"movement\",\"religious\",\"type\",\"march\",\"community\",\"story\",\"played\",\"production\",\"released\",\"center\",\"rights\",\"real\",\"related\",\"foreign\",\"low\",\"ancient\",\"terms\",\"view\",\"source\",\"act\",\"minister\",\"change\",\"energy\",\"produced\",\"research\",\"actor\",\"making\",\"civil\",\"december\",\"women\",\"special\",\"style\",\"william\",\"design\",\"japanese\",\"available\",\"chinese\",\"forms\",\"canada\",\"northern\",\"died\",\"class\",\"living\",\"next\",\"particular\",\"program\",\"council\",\"television\",\"head\",\"david\",\"china\",\"middle\",\"established\",\"hand\",\"bc\",\"far\",\"july\",\"function\",\"position\",\"y\",\"built\",\"george\",\"band\",\"together\",\"w\",\"latin\",\"thought\",\"eastern\",\"charles\",\"parts\",\"instead\",\"study\",\"might\",\"india\",\"code\",\"included\",\"meaning\",\"trade\",\"per\",\"june\",\"least\",\"half\",\"model\",\"economy\",\"prime\",\"traditional\",\"always\",\"capital\",\"range\",\"november\",\"emperor\",\"young\",\"anti\",\"final\",\"text\",\"players\",\"uk\",\"april\",\"run\",\"september\",\"addition\",\"radio\",\"live\",\"august\",\"taken\",\"note\",\"italian\",\"lost\",\"nature\",\"project\",\"technology\",\"spanish\",\"october\",\"recent\",\"rate\",\"won\",\"true\",\"value\",\"uses\",\"russian\",\"est\",\"wrote\",\"effect\",\"album\",\"southern\",\"africa\",\"whose\",\"top\",\"historical\",\"australia\",\"catholic\",\"particularly\",\"self\",\"structure\",\"record\",\"evidence\",\"rule\",\"themselves\",\"influence\",\"cases\",\"subject\",\"referred\",\"continued\",\"nations\",\"below\",\"rock\",\"japan\",\"com\",\"song\",\"throughout\",\"names\",\"female\",\"title\",\"therefore\",\"our\",\"office\",\"star\",\"paul\",\"too\",\"cities\",\"february\",\"independent\",\"author\",\"problem\",\"species\",\"education\",\"done\",\"philosophy\",\"come\",\"higher\",\"originally\",\"market\",\"town\",\"my\",\"season\",\"love\",\"strong\",\"israel\",\"irish\",\"writer\",\"films\",\"elements\",\"robert\",\"whether\",\"despite\",\"eventually\",\"here\",\"football\",\"action\",\"internet\",\"individual\",\"sound\",\"network\",\"described\",\"practice\",\"characters\",\"re\",\"royal\",\"la\",\"events\",\"formed\",\"commonly\",\"base\",\"received\",\"african\",\"problems\",\"food\",\"jews\",\"able\",\"male\",\"typically\",\"mass\",\"complex\",\"lower\",\"includes\",\"outside\",\"legal\",\"complete\",\"significant\",\"parliament\",\"actually\",\"business\",\"fiction\",\"physical\",\"followed\",\"deaths\",\"key\",\"leader\",\"widely\",\"page\",\"basic\",\"types\",\"henry\",\"elected\",\"beginning\",\"fire\",\"building\",\"independence\",\"went\",\"movie\",\"aircraft\",\"ever\",\"canadian\",\"material\",\"births\",\"video\",\"news\",\"future\",\"scientific\",\"simply\",\"go\",\"defined\",\"laws\",\"get\",\"close\",\"industry\",\"specific\",\"examples\",\"believe\",\"services\",\"idea\",\"method\",\"introduced\",\"points\",\"return\",\"cause\",\"indian\",\"britain\",\"features\",\"majority\",\"size\",\"post\",\"lead\",\"organization\",\"cannot\",\"designed\",\"ireland\",\"cross\",\"classical\",\"personal\",\"writing\",\"concept\",\"associated\",\"required\",\"soon\",\"changes\",\"california\",\"located\",\"sense\",\"believed\",\"away\",\"started\",\"co\",\"religion\",\"mother\",\"county\",\"rules\",\"studies\",\"yet\",\"find\",\"knowledge\",\"put\",\"founded\",\"policy\",\"currently\",\"provide\",\"working\",\"media\",\"election\",\"australian\",\"me\",\"thomas\",\"allowed\",\"russia\",\"earlier\",\"greater\",\"limited\",\"object\",\"brought\",\"online\",\"association\",\"lord\",\"mostly\",\"blue\",\"constitution\",\"across\",\"added\",\"interest\",\"things\",\"relations\",\"speed\",\"federal\",\"singer\",\"effects\",\"growth\",\"sources\",\"your\",\"remains\",\"z\",\"probably\",\"gave\",\"simple\",\"attack\",\"longer\",\"reference\",\"saint\",\"success\",\"killed\",\"past\",\"career\",\"need\",\"park\",\"definition\",\"say\",\"etc\",\"give\",\"peace\",\"chief\",\"stories\",\"security\",\"wide\",\"ball\",\"saw\",\"machine\",\"better\",\"cell\",\"leading\",\"becomes\",\"spain\",\"larger\",\"products\",\"parties\",\"night\",\"remained\",\"prize\",\"months\",\"website\",\"big\",\"cultural\",\"money\",\"help\",\"territory\",\"private\",\"moved\",\"letter\",\"wife\",\"politics\",\"lines\",\"largely\",\"contains\",\"companies\",\"lake\",\"perhaps\",\"green\",\"already\",\"dead\",\"iii\",\"library\",\"separate\",\"refer\",\"makes\",\"appeared\",\"dutch\",\"holy\",\"era\",\"novel\",\"successful\",\"italy\",\"letters\",\"results\",\"matter\",\"produce\",\"origin\",\"claim\",\"whole\",\"directly\",\"attempt\",\"actress\",\"surface\",\"revolution\",\"highly\",\"caused\",\"status\",\"musical\",\"richard\",\"commercial\",\"division\",\"color\",\"health\",\"coast\",\"release\",\"latter\",\"authority\",\"treaty\",\"turn\",\"michael\",\"nation\",\"direct\",\"asia\",\"edition\",\"programming\",\"playing\",\"date\",\"mary\",\"native\",\"whom\",\"married\",\"towards\",\"issues\",\"double\",\"primary\",\"basis\",\"allow\",\"enough\",\"memory\",\"reason\",\"web\",\"exist\",\"provided\",\"oil\",\"course\",\"functions\",\"alexander\",\"analysis\",\"chemical\",\"mid\",\"replaced\",\"queen\",\"claims\",\"tv\",\"sun\",\"literature\",\"metal\",\"amount\",\"divided\",\"blood\",\"likely\",\"access\",\"average\",\"length\",\"smaller\",\"medical\",\"property\",\"students\",\"degree\",\"elections\",\"club\",\"claimed\",\"performance\",\"director\",\"digital\",\"front\",\"museum\",\"difficult\",\"tradition\",\"nearly\",\"schools\",\"washington\",\"gas\",\"jesus\",\"map\",\"louis\",\"rome\",\"unit\",\"baseball\",\"mind\",\"peter\",\"mark\",\"collection\",\"product\",\"congress\",\"programs\",\"changed\",\"ideas\",\"moon\",\"entire\",\"user\",\"ground\",\"records\",\"frequently\",\"increase\",\"highest\",\"sent\",\"finally\",\"board\",\"don\",\"notable\",\"read\",\"methods\",\"recently\",\"bit\",\"involved\",\"variety\",\"call\",\"democratic\",\"ten\",\"served\",\"minor\",\"hard\",\"birth\",\"objects\",\"nuclear\",\"increased\",\"section\",\"street\",\"windows\",\"relatively\",\"car\",\"move\",\"create\",\"returned\",\"bank\",\"conditions\",\"operation\",\"adopted\",\"relationship\",\"christ\",\"hall\",\"appear\",\"rest\",\"child\",\"element\",\"appears\",\"takes\",\"fall\",\"bbc\",\"animals\",\"existence\",\"discovered\",\"units\",\"know\",\"heavy\",\"assembly\",\"universe\",\"file\",\"smith\",\"numerous\",\"woman\",\"award\",\"mean\",\"behind\",\"liberal\",\"except\",\"scale\",\"bill\",\"operating\",\"active\",\"construction\",\"institute\",\"taking\",\"pressure\",\"san\",\"experience\",\"account\",\"engine\",\"brother\",\"primarily\",\"recorded\",\"joseph\",\"issue\",\"professional\",\"troops\",\"notes\",\"pope\",\"centre\",\"ice\",\"orthodox\",\"question\",\"something\",\"defense\",\"accepted\",\"grand\",\"mathematics\",\"event\",\"resources\",\"dr\",\"egypt\",\"derived\",\"applied\",\"paris\",\"powers\",\"running\",\"stage\",\"additional\",\"shows\",\"prince\",\"placed\",\"instance\",\"creation\",\"lived\",\"freedom\",\"alternative\",\"http\",\"hit\",\"magazine\",\"nobel\",\"engineering\",\"square\",\"mainly\",\"rise\",\"hold\",\"gold\",\"pre\",\"versions\",\"road\",\"report\",\"test\",\"operations\",\"frac\",\"older\",\"arts\",\"quite\",\"applications\",\"marriage\",\"proposed\",\"channel\",\"shown\",\"consists\",\"bible\",\"governor\",\"police\",\"articles\",\"ocean\",\"cost\",\"writers\",\"volume\",\"previous\",\"race\",\"cells\",\"scotland\",\"levels\",\"regions\",\"quickly\",\"properties\",\"duke\",\"normal\",\"techniques\",\"start\",\"songs\",\"ways\",\"introduction\",\"ability\",\"communist\",\"passed\",\"navy\",\"purpose\",\"approximately\",\"composer\",\"equal\",\"appointed\",\"committee\",\"ed\",\"centuries\",\"table\",\"forced\",\"lack\",\"individuals\",\"places\",\"chicago\",\"belief\",\"consider\",\"hebrew\",\"refers\",\"clear\",\"values\",\"dance\",\"agreement\",\"response\",\"temperature\",\"sexual\",\"comes\",\"faith\",\"environment\",\"paper\",\"climate\",\"carbon\",\"daughter\",\"electric\",\"www\",\"station\",\"ad\",\"speech\",\"sex\",\"ship\",\"evolution\",\"martin\",\"microsoft\",\"noted\",\"usa\",\"supported\",\"via\",\"industrial\",\"border\",\"feature\",\"christianity\",\"treatment\",\"motion\",\"management\",\"computers\",\"performed\",\"summer\",\"necessary\",\"intended\",\"miles\",\"calendar\",\"animal\",\"remain\",\"internal\",\"disease\",\"convention\",\"wars\",\"worked\",\"flight\",\"round\",\"acts\",\"kind\",\"multiple\",\"reading\",\"labour\",\"physics\",\"speaking\",\"users\",\"signed\",\"brown\",\"critical\",\"sir\",\"bridge\",\"mathematical\",\"billion\",\"sets\",\"translation\",\"regarded\",\"branch\",\"beyond\",\"von\",\"medicine\",\"ethnic\",\"polish\",\"write\",\"reached\",\"location\",\"conflict\",\"province\",\"sold\",\"remaining\",\"apple\",\"financial\",\"provides\",\"approach\",\"notably\",\"am\",\"administration\",\"heart\",\"stars\",\"campaign\",\"figure\",\"joined\",\"distribution\",\"theories\",\"port\",\"cut\",\"command\",\"tree\",\"models\",\"influenced\",\"distance\",\"conservative\",\"direction\",\"kings\",\"district\",\"why\",\"intelligence\",\"greece\",\"face\",\"q\",\"leaders\",\"cold\",\"guide\",\"activity\",\"humans\",\"opposition\",\"previously\",\"executive\",\"labor\",\"poor\",\"quality\",\"needed\",\"symbol\",\"logic\",\"extremely\",\"completely\",\"jean\",\"loss\",\"plan\",\"regular\",\"pacific\",\"vote\",\"contemporary\",\"allows\",\"department\",\"advanced\",\"edward\",\"occur\",\"powerful\",\"secret\",\"acid\",\"actual\",\"reported\",\"content\",\"unique\",\"gives\",\"poet\",\"context\",\"iron\",\"stated\",\"cover\",\"becoming\",\"poland\",\"justice\",\"prior\",\"fourth\",\"critics\",\"turned\",\"difference\",\"met\",\"weapons\",\"dark\",\"foundation\",\"na\",\"standards\",\"episode\",\"electronic\",\"address\",\"greatest\",\"musician\",\"usage\",\"fields\",\"featured\",\"training\",\"net\",\"scholars\",\"regional\",\"hours\",\"application\",\"inside\",\"unlike\",\"formal\",\"nd\",\"win\",\"describe\",\"ships\",\"sports\",\"churches\",\"resulting\",\"moving\",\"arabic\",\"et\",\"netherlands\",\"carried\",\"exchange\",\"failed\",\"reasons\",\"brain\",\"month\",\"shot\",\"continue\",\"responsible\",\"nor\",\"going\",\"format\",\"spread\",\"opposed\",\"org\",\"universal\",\"supreme\",\"scottish\",\"mexico\",\"architecture\",\"starting\",\"somewhat\",\"decision\",\"islamic\",\"argument\",\"oxford\",\"berlin\",\"activities\",\"keep\",\"views\",\"materials\",\"spoken\",\"biography\",\"potential\",\"technical\",\"pass\",\"kong\",\"follows\",\"declared\",\"attempts\",\"voice\",\"hands\",\"transport\",\"spirit\",\"indeed\",\"artist\",\"deal\",\"generation\",\"contain\",\"constant\",\"heat\",\"charge\",\"composed\",\"growing\",\"ended\",\"appearance\",\"cambridge\",\"geography\",\"represented\",\"le\",\"flag\",\"encyclopedia\",\"increasing\",\"possibly\",\"families\",\"seems\",\"el\",\"friends\",\"mission\",\"los\",\"dna\",\"upper\",\"look\",\"stations\",\"easily\",\"card\",\"principle\",\"academy\",\"identity\",\"equipment\",\"armed\",\"giving\",\"arab\",\"die\",\"global\",\"master\",\"christians\",\"extended\",\"announced\",\"reform\",\"positive\",\"comic\",\"muslim\",\"causes\",\"compared\",\"income\",\"choice\",\"arthur\",\"technique\",\"golden\",\"string\",\"cup\",\"protection\",\"attacks\",\"decided\",\"plant\",\"serious\",\"sign\",\"prevent\",\"immediately\",\"winter\",\"feet\",\"medieval\",\"fully\",\"efforts\",\"initially\",\"directed\",\"organizations\",\"exists\",\"extensive\",\"traditionally\",\"airport\",\"presence\",\"equivalent\",\"plants\",\"negative\",\"search\",\"argued\",\"deep\",\"fans\",\"austria\",\"link\",\"follow\",\"controlled\",\"alone\",\"valley\",\"combined\",\"signal\",\"occurs\",\"proved\",\"drive\",\"understanding\",\"imperial\",\"linear\",\"bay\",\"differences\",\"student\",\"van\",\"stone\",\"useful\",\"situation\",\"share\",\"serve\",\"distinct\",\"classic\",\"iv\",\"allowing\",\"effective\",\"mentioned\",\"solution\",\"drug\",\"require\",\"measure\",\"expected\",\"boy\",\"urban\",\"device\",\"citizens\",\"initial\",\"classes\",\"debate\",\"guitar\",\"secretary\",\"communities\",\"victory\",\"portuguese\",\"gained\",\"let\",\"nothing\",\"artists\",\"commission\",\"recognized\",\"horse\",\"relative\",\"judaism\",\"ford\",\"bass\",\"entirely\",\"teams\",\"actions\",\"conference\",\"weight\",\"fish\",\"hill\",\"represent\",\"politician\",\"begins\",\"completed\",\"writings\",\"gdp\",\"wing\",\"otherwise\",\"unknown\",\"aid\",\"ruled\",\"sites\",\"journal\",\"audio\",\"finland\",\"cards\",\"domestic\",\"behavior\",\"connected\",\"arms\",\"reaction\",\"earliest\",\"controversy\",\"mountain\",\"suggested\",\"trial\",\"attention\",\"containing\",\"workers\",\"principles\",\"sequence\",\"un\",\"host\",\"jerusalem\",\"literary\",\"cycle\",\"fuel\",\"officially\",\"reduced\",\"scientists\",\"travel\",\"figures\",\"americans\",\"prominent\",\"popularity\",\"fighting\",\"lincoln\",\"scene\",\"instruments\",\"structures\",\"ones\",\"increasingly\",\"frank\",\"iraq\",\"requires\",\"tend\",\"entry\",\"typical\",\"temple\",\"israeli\",\"statement\",\"track\",\"discussion\",\"says\",\"jack\",\"lives\",\"daily\",\"contrast\",\"goal\",\"frequency\",\"specifically\",\"rd\",\"impact\",\"winning\",\"fast\",\"review\",\"atlantic\",\"images\",\"texas\",\"description\",\"depending\",\"senate\",\"dynasty\",\"rich\",\"domain\",\"criticism\",\"islam\",\"importance\",\"inspired\",\"begin\",\"destroyed\",\"price\",\"friend\",\"jones\",\"contact\",\"mm\",\"entered\",\"devices\",\"closely\",\"invasion\",\"texts\",\"background\",\"mountains\",\"toward\",\"closed\",\"corporation\",\"wall\",\"removed\",\"afghanistan\",\"mythology\",\"zealand\",\"killing\",\"rare\",\"apollo\",\"jazz\",\"helped\",\"hong\",\"slightly\",\"quantum\",\"runs\",\"hot\",\"presidential\",\"attempted\",\"boston\",\"asked\",\"kept\",\"fixed\",\"dictionary\",\"agreed\",\"plays\",\"bishop\",\"alphabet\",\"determined\",\"sweden\",\"buildings\",\"traditions\",\"reign\",\"existing\",\"communications\",\"violence\",\"ages\",\"phase\",\"hydrogen\",\"controversial\",\"meant\",\"formation\",\"twenty\",\"thousands\",\"agriculture\",\"resulted\",\"movies\",\"occurred\",\"focus\",\"offered\",\"estimated\",\"heavily\",\"discovery\",\"mi\",\"tour\",\"comics\",\"zone\",\"ring\",\"connection\",\"develop\",\"governments\",\"aspects\",\"argue\",\"damage\",\"austrian\",\"albert\",\"ibm\",\"factors\",\"avoid\",\"combination\",\"combat\",\"pro\",\"affairs\",\"novels\",\"sum\",\"expansion\",\"doctrine\",\"competition\",\"hungary\",\"leadership\",\"category\",\"flow\",\"week\",\"genetic\",\"soldiers\",\"leaving\",\"opened\",\"os\",\"reports\",\"holds\",\"mac\",\"territories\",\"jackson\",\"step\",\"algorithm\",\"stop\",\"truth\",\"reality\",\"theorem\",\"fell\",\"room\",\"origins\",\"bob\",\"effort\",\"care\",\"instrument\",\"crown\",\"defeated\",\"democracy\",\"concepts\",\"hence\",\"picture\",\"permanent\",\"nazi\",\"protocol\",\"gun\",\"wikipedia\",\"tried\",\"fundamental\",\"professor\",\"planet\",\"christmas\",\"communication\",\"told\",\"topics\",\"presented\",\"identified\",\"beliefs\",\"statistics\",\"normally\",\"opening\",\"spent\",\"constitutional\",\"columbia\",\"annual\",\"subsequent\",\"evil\",\"extreme\",\"testament\",\"continues\",\"details\",\"gods\",\"supply\",\"institutions\",\"formula\",\"moral\",\"grew\",\"learning\",\"currency\",\"disk\",\"actors\",\"wanted\",\"fight\",\"defeat\",\"pronounced\",\"creating\",\"subsequently\",\"break\",\"output\",\"marked\",\"goods\",\"leave\",\"hardware\",\"cd\",\"broadcast\",\"bond\",\"thing\",\"environmental\",\"goes\",\"none\",\"decades\",\"forward\",\"expressed\",\"risk\",\"reach\",\"machines\",\"processes\",\"bodies\",\"census\",\"think\",\"lists\",\"glass\",\"organized\",\"pages\",\"murder\",\"vice\",\"angeles\",\"movements\",\"bush\",\"cultures\",\"respect\",\"meeting\",\"roughly\",\"stand\",\"fictional\",\"condition\",\"interpretation\",\"fantasy\",\"historians\",\"policies\",\"questions\",\"display\",\"copyright\",\"founder\",\"maintain\",\"lee\",\"mode\",\"positions\",\"fame\",\"import\",\"carry\",\"chosen\",\"linux\",\"swedish\",\"advantage\",\"raised\",\"observed\",\"receive\",\"formerly\",\"philosopher\",\"atoms\",\"server\",\"jpg\",\"sides\",\"brothers\",\"shortly\",\"resistance\",\"translated\",\"database\",\"super\",\"ch\",\"administrative\",\"message\",\"parents\",\"considerable\",\"shape\",\"target\",\"bad\",\"build\",\"extent\",\"plane\",\"understand\",\"tribes\",\"regarding\",\"mobile\",\"tower\",\"spring\",\"greatly\",\"studied\",\"brazil\",\"tax\",\"transportation\",\"characteristics\",\"wood\",\"railway\",\"screen\",\"needs\",\"equation\",\"piece\",\"chapter\",\"failure\",\"persian\",\"revolutionary\",\"respectively\",\"stock\",\"ordered\",\"pay\",\"chemistry\",\"proper\",\"split\",\"dog\",\"economics\",\"owned\",\"wave\",\"rates\",\"johnson\",\"doctor\",\"projects\",\"iran\",\"pp\",\"peoples\",\"philosophical\",\"match\",\"captain\",\"asian\",\"bring\",\"minutes\",\"symbols\",\"settlement\",\"bar\",\"relation\",\"covered\",\"seats\",\"awarded\",\"launched\",\"representation\",\"neither\",\"crime\",\"percent\",\"refused\",\"naval\",\"sister\",\"gain\",\"describes\",\"whereas\",\"ends\",\"perform\",\"satellite\",\"semi\",\"korea\",\"staff\",\"expression\",\"wild\",\"processing\",\"coming\",\"wales\",\"academic\",\"pieces\",\"comedy\",\"drugs\",\"chain\",\"occasionally\",\"manner\",\"purposes\",\"meet\",\"producer\",\"protestant\",\"mixed\",\"strength\",\"counter\",\"ray\",\"storage\",\"anything\",\"felt\",\"parallel\",\"mental\",\"spiritual\",\"occupied\",\"mr\",\"foot\",\"practical\",\"count\",\"towns\",\"saying\",\"easy\",\"electrical\",\"enemy\",\"speak\",\"inhabitants\",\"plans\",\"medium\",\"courts\",\"quarter\",\"village\",\"persons\",\"layer\",\"factor\",\"degrees\",\"granted\",\"fifth\",\"seat\",\"dialects\",\"sport\",\"pattern\",\"binary\",\"weeks\",\"composition\",\"got\",\"michigan\",\"selected\",\"pop\",\"widespread\",\"algebra\",\"magnetic\",\"blues\",\"alliance\",\"festival\",\"ft\",\"speakers\",\"authors\",\"crew\",\"core\",\"folk\",\"commonwealth\",\"legislative\",\"accept\",\"similarly\",\"divine\",\"achieved\",\"determine\",\"someone\",\"particles\",\"sector\",\"density\",\"influential\",\"dispute\",\"criminal\",\"newspaper\",\"supporters\",\"solar\",\"elizabeth\",\"contract\",\"offer\",\"traffic\",\"orders\",\"houses\",\"rivers\",\"awards\",\"principal\",\"der\",\"worldwide\",\"hitler\",\"files\",\"teaching\",\"apparently\",\"des\",\"gospel\",\"titles\",\"clearly\",\"providing\",\"universities\",\"hungarian\",\"publication\",\"suffered\",\"electricity\",\"camp\",\"cars\",\"doing\",\"crisis\",\"false\",\"issued\",\"perfect\",\"circle\",\"interface\",\"denmark\",\"legend\",\"nfl\",\"nevertheless\",\"ultimately\",\"solid\",\"contained\",\"extra\",\"surrounding\",\"throne\",\"setting\",\"sort\",\"standing\",\"oldest\",\"safety\",\"jordan\",\"measures\",\"plus\",\"danish\",\"agricultural\",\"pictures\",\"practices\",\"showing\",\"commander\",\"strip\",\"block\",\"maps\",\"fan\",\"recording\",\"maximum\",\"gulf\",\"celtic\",\"add\",\"distinction\",\"correct\",\"atomic\",\"reduce\",\"secondary\",\"everything\",\"lies\",\"root\",\"linked\",\"virginia\",\"genre\",\"jr\",\"lands\",\"sons\",\"marine\",\"limit\",\"taught\",\"producing\",\"pure\",\"bwv\",\"huge\",\"engines\",\"sought\",\"shared\",\"agency\",\"steel\",\"cable\",\"mechanics\",\"strongly\",\"accounts\",\"eye\",\"capable\",\"classification\",\"palace\",\"constructed\",\"egyptian\",\"document\",\"religions\",\"resolution\",\"hundred\",\"box\",\"unable\",\"showed\",\"francis\",\"components\",\"muslims\",\"molecules\",\"sciences\",\"radiation\",\"massive\",\"hour\",\"pc\",\"want\",\"ending\",\"mount\",\"judge\",\"opposite\",\"historically\",\"input\",\"continuous\",\"detailed\",\"cast\",\"ministers\",\"shall\",\"vast\",\"alcohol\",\"bus\",\"involves\",\"biology\",\"invented\",\"represents\",\"republican\",\"computing\",\"proof\",\"multi\",\"rejected\",\"succeeded\",\"rarely\",\"expanded\",\"flat\",\"civilization\",\"capacity\",\"documents\",\"impossible\",\"alpha\",\"illinois\",\"lewis\",\"dates\",\"destruction\",\"slow\",\"planned\",\"biological\",\"bottom\",\"championship\",\"theatre\",\"networks\",\"phrase\",\"provinces\",\"francisco\",\"indicate\",\"ratio\",\"molecular\",\"paid\",\"tools\",\"license\",\"route\",\"honor\",\"sub\",\"hollywood\",\"progress\",\"brief\",\"vol\",\"trees\",\"theme\",\"societies\",\"mail\",\"managed\",\"continental\",\"essential\",\"essentially\",\"manager\",\"rail\",\"settled\",\"poetry\",\"turkey\",\"pakistan\",\"viewed\",\"harvard\",\"merely\",\"investment\",\"castle\",\"job\",\"fine\",\"authorities\",\"visit\",\"turkish\",\"understood\",\"ca\",\"eu\",\"captured\",\"fought\",\"severe\",\"transfer\",\"developing\",\"del\",\"colonies\",\"lady\",\"studio\",\"html\",\"depression\",\"kill\",\"gay\",\"wind\",\"caesar\",\"candidate\",\"magic\",\"exports\",\"seem\",\"interests\",\"store\",\"portion\",\"visible\",\"assumed\",\"publishing\",\"editor\",\"exactly\",\"newton\",\"edge\",\"lebanon\",\"weapon\",\"really\",\"directory\",\"fair\",\"dedicated\",\"intellectual\",\"daniel\",\"twelve\",\"significantly\",\"absolute\",\"demand\",\"strategy\",\"obtained\",\"clinton\",\"liquid\",\"florida\",\"plot\",\"java\",\"equations\",\"stadium\",\"desert\",\"artificial\",\"variations\",\"drawn\",\"vector\",\"designs\",\"rose\",\"ran\",\"regard\",\"feel\",\"train\",\"forest\",\"overall\",\"representatives\",\"maintained\",\"bear\",\"arrived\",\"mechanical\",\"jim\",\"philosophers\",\"items\",\"fear\",\"logical\",\"hop\",\"darwin\",\"vary\",\"portugal\",\"guinea\",\"featuring\",\"acting\",\"improved\",\"dominant\",\"causing\",\"modified\",\"bell\",\"dry\",\"enter\",\"cia\",\"officer\",\"path\",\"iso\",\"korean\",\"andrew\",\"tom\",\"minority\",\"occupation\",\"apart\",\"thousand\",\"infinite\",\"oxygen\",\"mathbf\",\"straight\",\"rapidly\",\"revealed\",\"vietnam\",\"heaven\",\"saints\",\"gene\",\"colonial\",\"define\",\"fleet\",\"socialist\",\"kansas\",\"protect\",\"exception\",\"psychology\",\"twice\",\"circuit\",\"cancer\",\"membership\",\"stephen\",\"holding\",\"musicians\",\"soul\",\"index\",\"flying\",\"protein\",\"fashion\",\"exact\",\"indo\",\"recognition\",\"physicist\",\"distributed\",\"listed\",\"apply\",\"ago\",\"virtual\",\"inc\",\"massachusetts\",\"mars\",\"adam\",\"colony\",\"agent\",\"electron\",\"cabinet\",\"extension\",\"separated\",\"coach\",\"forum\",\"coalition\",\"visual\",\"scott\",\"adult\",\"periods\",\"suggests\",\"davis\",\"dominated\",\"employed\",\"hero\",\"reputation\",\"looking\",\"literally\",\"existed\",\"entitled\",\"selection\",\"males\",\"changing\",\"defence\",\"subjects\",\"alfred\",\"grammar\",\"younger\",\"interview\",\"experiment\",\"opinion\",\"howard\",\"jersey\",\"stable\",\"tourism\",\"expensive\",\"publications\",\"finite\",\"radical\",\"audience\",\"pair\",\"decline\",\"mainstream\",\"sky\",\"bits\",\"franklin\",\"bands\",\"necessarily\",\"contributed\",\"effectively\",\"cuba\",\"vi\",\"express\",\"concerning\",\"opera\",\"adams\",\"sounds\",\"choose\",\"broad\",\"historian\",\"signs\",\"mathematician\",\"allied\",\"vehicle\",\"executed\",\"joint\",\"calls\",\"romans\",\"moore\",\"guard\",\"try\",\"affected\",\"eyes\",\"germanic\",\"samuel\",\"atmosphere\",\"yellow\",\"formally\",\"error\",\"vehicles\",\"painter\",\"kennedy\",\"hockey\",\"belgium\",\"albums\",\"hundreds\",\"evolved\",\"philip\",\"trying\",\"husband\",\"compounds\",\"committed\",\"ministry\",\"federation\",\"roots\",\"heard\",\"concerned\",\"coup\",\"temperatures\",\"stands\",\"matters\",\"historic\",\"cape\",\"dvd\",\"underground\",\"attributed\",\"apparent\",\"clock\",\"georgia\",\"officials\",\"instruction\",\"rapid\",\"youth\",\"broken\",\"graphics\",\"carl\",\"broke\",\"prices\",\"treated\",\"residents\",\"nearby\",\"score\",\"kg\",\"else\",\"consciousness\",\"patterns\",\"identical\",\"faster\",\"supporting\",\"gender\",\"relationships\",\"establishment\",\"leads\",\"wealth\",\"learn\",\"chance\",\"grant\",\"join\",\"amounts\",\"renamed\",\"earl\",\"incorporated\",\"fox\",\"serving\",\"silver\",\"warfare\",\"styles\",\"involving\",\"strike\",\"successor\",\"officers\",\"ottoman\",\"beer\",\"russell\",\"banks\",\"lakes\",\"mediterranean\",\"favor\",\"dc\",\"lunar\",\"conventional\",\"height\",\"budget\",\"sales\",\"appeal\",\"regime\",\"decade\",\"poem\",\"disc\",\"leaves\",\"donald\",\"judicial\",\"inner\",\"variable\",\"ordinary\",\"indiana\",\"norway\",\"logo\",\"unusual\",\"costs\",\"biblical\",\"partly\",\"chamber\",\"unless\",\"lie\",\"talk\",\"achieve\",\"episodes\",\"particle\",\"da\",\"trading\",\"declaration\",\"gradually\",\"frame\",\"parliamentary\",\"concentration\",\"fort\",\"legislation\",\"finished\",\"stalin\",\"notion\",\"meters\",\"cult\",\"random\",\"acquired\",\"script\",\"prison\",\"girl\",\"suggest\",\"educational\",\"dialect\",\"comparison\",\"consumption\",\"mike\",\"opponents\",\"distinguished\",\"czech\",\"roll\",\"advance\",\"cat\",\"racing\",\"dangerous\",\"component\",\"joe\",\"byzantine\",\"peninsula\",\"categories\",\"draw\",\"reforms\",\"rural\",\"consisting\",\"anglo\",\"answer\",\"anyone\",\"suicide\",\"substance\",\"finnish\",\"succession\",\"balance\",\"manufacturing\",\"rulers\",\"intelligent\",\"sections\",\"characteristic\",\"successfully\",\"newly\",\"hair\",\"dimensional\",\"mayor\",\"demographics\",\"walls\",\"converted\",\"harry\",\"abandoned\",\"rank\",\"adding\",\"vowel\",\"collected\",\"champion\",\"concerns\",\"fit\",\"branches\",\"codes\",\"selling\",\"theology\",\"birds\",\"prayer\",\"interesting\",\"vs\",\"telephone\",\"drawing\",\"markets\",\"conversion\",\"vision\",\"alternate\",\"notation\",\"knights\",\"phenomenon\",\"williams\",\"learned\",\"stored\",\"indigenous\",\"edited\",\"patients\",\"possibility\",\"heads\",\"onto\",\"steve\",\"threat\",\"escape\",\"boys\",\"accurate\",\"simon\",\"task\",\"swiss\",\"worship\",\"lowest\",\"substantial\",\"bce\",\"superior\",\"hell\",\"einstein\",\"classified\",\"ethics\",\"orbit\",\"divisions\",\"establish\",\"measured\",\"caribbean\",\"olympic\",\"atari\",\"sufficient\",\"intel\",\"allies\",\"conducted\",\"limits\",\"attended\",\"weak\",\"guns\",\"verb\",\"probability\",\"teacher\",\"weather\",\"axis\",\"capture\",\"experienced\",\"struggle\",\"save\",\"passing\",\"hope\",\"offensive\",\"cinema\",\"organisms\",\"operated\",\"emperors\",\"appropriate\",\"di\",\"concert\",\"spectrum\",\"tell\",\"oriented\",\"berkeley\",\"moment\",\"complexity\",\"alan\",\"implementation\",\"lords\",\"holiday\",\"arguments\",\"dollar\",\"violent\",\"copy\",\"genus\",\"interior\",\"compression\",\"geometry\",\"experiments\",\"indonesia\",\"explained\",\"accused\",\"ruth\",\"bomb\",\"corresponding\",\"sin\",\"dependent\",\"painting\",\"mechanism\",\"campus\",\"max\",\"capitalism\",\"minimum\",\"furthermore\",\"giant\",\"calling\",\"walter\",\"functional\",\"label\",\"aids\",\"abraham\",\"industries\",\"inflation\",\"themes\",\"explain\",\"switzerland\",\"strings\",\"charged\",\"lot\",\"alleged\",\"lyrics\",\"karl\",\"infantry\",\"muhammad\",\"priest\",\"perceived\",\"corporate\",\"pennsylvania\",\"instructions\",\"martial\",\"buried\",\"circumstances\",\"brian\",\"proteins\",\"falls\",\"myth\",\"fellow\",\"frequent\",\"cuisine\",\"preferred\",\"scientist\",\"tone\",\"integrated\",\"begun\",\"replace\",\"visited\",\"il\",\"generated\",\"facts\",\"organic\",\"mouse\",\"platform\",\"fairly\",\"approved\",\"assigned\",\"carrier\",\"finding\",\"dropped\",\"wilson\",\"leap\",\"ben\",\"batman\",\"manchester\",\"laureate\",\"desire\",\"launch\",\"amongst\",\"coastal\",\"colleges\",\"bruce\",\"colors\",\"baltic\",\"argentina\",\"douglas\",\"wrong\",\"garden\",\"skills\",\"moves\",\"mississippi\",\"mouth\",\"alexandria\",\"pdf\",\"roles\",\"gnu\",\"forming\",\"greeks\",\"ohio\",\"heritage\",\"diseases\",\"transmission\",\"abstract\",\"chairman\",\"norwegian\",\"statements\",\"retired\",\"request\",\"voting\",\"increases\",\"arm\",\"velocity\",\"illegal\",\"syria\",\"beings\",\"narrow\",\"thinking\",\"influences\",\"moscow\",\"roosevelt\",\"mexican\",\"votes\",\"characterized\",\"missile\",\"founding\",\"spaces\",\"aspect\",\"missouri\",\"memorial\",\"virtually\",\"pilot\",\"profile\",\"du\",\"experimental\",\"soil\",\"bonds\",\"charges\",\"explanation\",\"poems\",\"tracks\",\"ruler\",\"institution\",\"goddess\",\"agents\",\"airlines\",\"assistance\",\"bacteria\",\"chess\",\"researchers\",\"documentary\",\"testing\",\"ip\",\"theoretical\",\"en\",\"ll\",\"aim\",\"hole\",\"gary\",\"supposed\",\"bound\",\"constantine\",\"monster\",\"columbus\",\"delta\",\"definitions\",\"depth\",\"piano\",\"closer\",\"requirements\",\"legacy\",\"hindu\",\"elsewhere\",\"maria\",\"clubs\",\"meat\",\"steps\",\"ensure\",\"depends\",\"preserved\",\"boundaries\",\"spelling\",\"facilities\",\"prove\",\"algorithms\",\"perspective\",\"rising\",\"tropical\",\"northwest\",\"borders\",\"transition\",\"waves\",\"efficient\",\"engineer\",\"door\",\"tool\",\"luther\",\"keyboard\",\"orange\",\"pierre\",\"attached\",\"canal\",\"soft\",\"produces\",\"reserve\",\"coal\",\"signals\",\"electrons\",\"driven\",\"downtown\",\"symptoms\",\"passage\",\"improve\",\"partial\",\"hits\",\"variant\",\"resource\",\"hip\",\"fruit\",\"attacked\",\"imports\",\"metropolitan\",\"node\",\"technologies\",\"entertainment\",\"usual\",\"winner\",\"emerged\",\"additionally\",\"profit\",\"hospital\",\"ideal\",\"salt\",\"shift\",\"sword\",\"laboratory\",\"populations\",\"bird\",\"rice\",\"tests\",\"gravity\",\"consumer\",\"germans\",\"bowl\",\"marx\",\"mainland\",\"opponent\",\"evolutionary\",\"bears\",\"followers\",\"printed\",\"tales\",\"agree\",\"continent\",\"calculus\",\"cpu\",\"emphasis\",\"planning\",\"diamond\",\"frederick\",\"ex\",\"shaped\",\"print\",\"starring\",\"scheme\",\"constantinople\",\"descent\",\"execution\",\"lithuania\",\"boundary\",\"grown\",\"detroit\",\"milk\",\"morning\",\"forth\",\"essay\",\"sugar\",\"peak\",\"basketball\",\"palestinian\",\"napoleon\",\"jurisdiction\",\"laid\",\"hypothesis\",\"dating\",\"chile\",\"certainly\",\"identify\",\"beautiful\",\"keeping\",\"mp\",\"judges\",\"survived\",\"headquarters\",\"concern\",\"channels\",\"skin\",\"bah\",\"snow\",\"decisions\",\"lisp\",\"conquest\",\"kinds\",\"disorder\",\"referring\",\"stay\",\"lay\",\"kilometers\",\"macintosh\",\"longest\",\"residence\",\"integral\",\"acids\",\"driver\",\"motor\",\"prepared\",\"representing\",\"solutions\",\"solo\",\"organisation\",\"responsibility\",\"exile\",\"partially\",\"owner\",\"hiv\",\"bishops\",\"crimes\",\"pronunciation\",\"poverty\",\"athens\",\"districts\",\"filled\",\"variants\",\"diplomatic\",\"patent\",\"benefit\",\"angels\",\"monarchy\",\"meanings\",\"copies\",\"locations\",\"minute\",\"procedure\",\"cited\",\"originated\",\"didn\",\"inducted\",\"matrix\",\"headed\",\"celebrated\",\"naturally\",\"battles\",\"representative\",\"operate\",\"covers\",\"grounds\",\"variation\",\"soldier\",\"knew\",\"protected\",\"medal\",\"relativity\",\"easier\",\"seemed\",\"percentage\",\"cm\",\"wine\",\"roads\",\"unix\",\"rebellion\",\"carrying\",\"incident\",\"roger\",\"sunday\",\"animated\",\"hills\",\"gone\",\"familiar\",\"confused\",\"plain\",\"dylan\",\"ultimate\",\"partner\",\"listing\",\"thirty\",\"directors\",\"composers\",\"getting\",\"angle\",\"briefly\",\"comprehensive\",\"descendants\",\"commentary\",\"varies\",\"seek\",\"knight\",\"holidays\",\"abuse\",\"presidency\",\"extinct\",\"recipient\",\"liberty\",\"armies\",\"victoria\",\"distinguish\",\"dublin\",\"grow\",\"marshall\",\"assassination\",\"landing\",\"papers\",\"overview\",\"ontario\",\"goals\",\"opportunity\",\"defensive\",\"automatic\",\"offers\",\"confirmed\",\"absence\",\"performing\",\"ma\",\"fluid\",\"dos\",\"nasa\",\"sentence\",\"finalist\",\"ports\",\"interpreted\",\"collapse\",\"processor\",\"encouraged\",\"contributions\",\"emergency\",\"fly\",\"remove\",\"bulgaria\",\"register\",\"enemies\",\"vowels\",\"victims\",\"macedonia\",\"png\",\"afterwards\",\"serves\",\"ranked\",\"indicates\",\"difficulty\",\"personality\",\"southeast\",\"floor\",\"credited\",\"renaissance\",\"noun\",\"atom\",\"cathedral\",\"interaction\",\"walk\",\"nato\",\"stages\",\"promote\",\"hamilton\",\"agave\",\"basque\",\"faced\",\"pitch\",\"sacred\",\"unity\",\"tape\",\"eric\",\"bibliography\",\"household\",\"cash\",\"survive\",\"phenomena\",\"colour\",\"forests\",\"drop\",\"obtain\",\"losing\",\"reactions\",\"carter\",\"presidents\",\"boat\",\"vienna\",\"possession\",\"focused\",\"shell\",\"continuing\",\"safe\",\"debt\",\"brand\",\"compact\",\"southwest\",\"substances\",\"titled\",\"passenger\",\"reaching\",\"charter\",\"diverse\",\"discussed\",\"friedrich\",\"funds\",\"highway\",\"tony\",\"credit\",\"transferred\",\"communism\",\"benjamin\",\"happened\",\"monarch\",\"baptism\",\"lesser\",\"challenge\",\"beat\",\"seasons\",\"linguistic\",\"chose\",\"plate\",\"slave\",\"breaking\",\"artistic\",\"engineers\",\"gregorian\",\"beach\",\"crystal\",\"electoral\",\"citizen\",\"carolina\",\"dream\",\"regardless\",\"territorial\",\"clark\",\"mit\",\"journey\",\"dual\",\"everyone\",\"ill\",\"repeated\",\"humanity\",\"twentieth\",\"candidates\",\"christopher\",\"santa\",\"camps\",\"consistent\",\"archive\",\"welsh\",\"copper\",\"bases\",\"gibraltar\",\"jan\",\"survey\",\"ownership\",\"progressive\",\"advertising\",\"worth\",\"immediate\",\"statistical\",\"trained\",\"gallery\",\"commodore\",\"restricted\",\"integer\",\"senior\",\"slaves\",\"operator\",\"horror\",\"client\",\"hotel\",\"corps\",\"disputed\",\"translations\",\"empty\",\"relief\",\"fm\",\"stress\",\"anthony\",\"farm\",\"implemented\",\"involve\",\"keys\",\"sox\",\"esperanto\",\"psychological\",\"canon\",\"restrictions\",\"variables\",\"bureau\",\"criticized\",\"detail\",\"column\",\"uniform\",\"moses\",\"firm\",\"cleveland\",\"virus\",\"specialized\",\"libraries\",\"describing\",\"adapted\",\"drink\",\"outer\",\"ruling\",\"females\",\"offices\",\"send\",\"senator\",\"disney\",\"couple\",\"seconds\",\"reverse\",\"slavery\",\"biggest\",\"verse\",\"inch\",\"depicted\",\"colorado\",\"civilian\",\"conquered\",\"duty\",\"lose\",\"rocks\",\"calvin\",\"contrary\",\"syndrome\",\"situations\",\"ce\",\"array\",\"obvious\",\"compound\",\"architect\",\"streets\",\"rain\",\"engaged\",\"leo\",\"races\",\"varying\",\"ethical\",\"pain\",\"retained\",\"distinctive\",\"isolated\",\"beta\",\"khan\",\"herbert\",\"confusion\",\"fighter\",\"speaker\",\"skill\",\"compatible\",\"herself\",\"morocco\",\"turning\",\"electronics\",\"declined\",\"investigation\",\"precise\",\"dragon\",\"manufacturers\",\"arithmetic\",\"liberation\",\"turns\",\"starts\",\"buddhism\",\"spin\",\"campbell\",\"demonstrated\",\"messages\",\"planets\",\"spacecraft\",\"prophet\",\"reducing\",\"observations\",\"reduction\",\"airports\",\"sovereignty\",\"interested\",\"patient\",\"petroleum\",\"creator\",\"custom\",\"exclusively\",\"neutral\",\"princess\",\"bronze\",\"cyprus\",\"replacement\",\"mining\",\"educated\",\"insurance\",\"differ\",\"animation\",\"camera\",\"scenes\",\"strategic\",\"watch\",\"migration\",\"baby\",\"gate\",\"claiming\",\"tribe\",\"waters\",\"invention\",\"molecule\",\"estate\",\"disaster\",\"te\",\"galaxy\",\"phi\",\"democrats\",\"publicly\",\"arrangement\",\"dramatic\",\"banned\",\"cave\",\"receiving\",\"exclusive\",\"integration\",\"accompanied\",\"lawrence\",\"specified\",\"drew\",\"designated\",\"fund\",\"matthew\",\"regularly\",\"congo\",\"holocaust\",\"owners\",\"behaviour\",\"wear\",\"valid\",\"ve\",\"mile\",\"conspiracy\",\"penalty\",\"sample\",\"genes\",\"geographic\",\"infrastructure\",\"houston\",\"commerce\",\"les\",\"draft\",\"surviving\",\"sam\",\"diet\",\"disambiguation\",\"fled\",\"atlanta\",\"separation\",\"connections\",\"structural\",\"boeing\",\"sixth\",\"gates\",\"missions\",\"strictly\",\"varieties\",\"minnesota\",\"cricket\",\"pollution\",\"isaac\",\"earned\",\"experiences\",\"statue\",\"cooperation\",\"millions\",\"slowly\",\"supports\",\"newspapers\",\"cardinal\",\"benefits\",\"powered\",\"switch\",\"indians\",\"passes\",\"commons\",\"doesn\",\"jet\",\"falling\",\"overseas\",\"montreal\",\"arrested\",\"essays\",\"alaska\",\"plural\",\"purchase\",\"ibn\",\"rational\",\"blind\",\"coffee\",\"dioxide\",\"permitted\",\"estimates\",\"monetary\",\"excellent\",\"bulgarian\",\"prisoners\",\"whatever\",\"doubt\",\"siege\",\"moreover\",\"mixture\",\"personnel\",\"contest\",\"tank\",\"laser\",\"latvia\",\"explorer\",\"gothic\",\"archbishop\",\"tells\",\"jacob\",\"cavalry\",\"anne\",\"considerably\",\"monopoly\",\"confederate\",\"delivered\",\"involvement\",\"marks\",\"taiwan\",\"quantity\",\"teachings\",\"horses\",\"measurement\",\"inventor\",\"cook\",\"torah\",\"lifetime\",\"johann\",\"differential\",\"tale\",\"conclusion\",\"framework\",\"broadcasting\",\"admiral\",\"optical\",\"affect\",\"export\",\"arranged\",\"discipline\",\"whilst\",\"miller\",\"catholics\",\"quebec\",\"yes\",\"consequently\",\"mention\",\"secure\",\"winners\",\"duties\",\"fat\",\"wish\",\"secular\",\"developments\",\"theater\",\"eat\",\"journalist\",\"stability\",\"ethiopia\",\"punishment\",\"sell\",\"row\",\"taylor\",\"allen\",\"disputes\",\"ban\",\"synthesis\",\"racial\",\"temporary\",\"controls\",\"voted\",\"enjoyed\",\"properly\",\"anime\",\"recordings\",\"explicitly\",\"returning\",\"aristotle\",\"isle\",\"footballer\",\"buddhist\",\"pairs\",\"ranges\",\"mystery\",\"blade\",\"curve\",\"seeking\",\"bringing\",\"si\",\"sale\",\"participation\",\"metric\",\"appearances\",\"linguistics\",\"devil\",\"shorter\",\"robinson\",\"politicians\",\"citizenship\",\"volumes\",\"revised\",\"negotiations\",\"dollars\",\"immigration\",\"devoted\",\"immigrants\",\"centers\",\"routes\",\"rival\",\"leg\",\"indicated\",\"approval\",\"suitable\",\"singular\",\"suit\",\"chip\",\"childhood\",\"observation\",\"conduct\",\"purchased\",\"comedian\",\"terminal\",\"iranian\",\"efficiency\",\"missiles\",\"fresh\",\"legendary\",\"abc\",\"establishing\",\"agreements\",\"singing\",\"partners\",\"destroy\",\"implies\",\"fishing\",\"grey\",\"sharp\",\"creative\",\"romania\",\"worst\",\"finance\",\"plastic\",\"restored\",\"orchestra\",\"warm\",\"arizona\",\"covering\",\"wins\",\"termed\",\"tube\",\"consequences\",\"northeast\",\"gets\",\"finds\",\"perception\",\"genesis\",\"hidden\",\"exposed\",\"proposal\",\"metals\",\"drives\",\"guitarist\",\"seeing\",\"vertical\",\"favour\",\"promoted\",\"equally\",\"expedition\",\"photo\",\"superman\",\"concluded\",\"beauty\",\"situated\",\"twin\",\"mounted\",\"theological\",\"caught\",\"scholar\",\"assume\",\"wiki\",\"terminology\",\"gordon\",\"returns\",\"mormon\",\"loop\",\"algebraic\",\"valuable\",\"concentrated\",\"handed\",\"franchise\",\"collective\",\"dave\",\"stopped\",\"ready\",\"concrete\",\"removal\",\"releases\",\"portrait\",\"burning\",\"kuwait\",\"prussia\",\"turing\",\"counties\",\"oral\",\"physician\",\"grain\",\"aware\",\"affair\",\"fusion\",\"fired\",\"maritime\",\"google\",\"nova\",\"gamma\",\"jacques\",\"vii\",\"varied\",\"millennium\",\"width\",\"adjacent\",\"dynamic\",\"margaret\",\"wayne\",\"adventure\",\"singles\",\"difficulties\",\"consequence\",\"funding\",\"jobs\",\"philadelphia\",\"rom\",\"iowa\",\"johnny\",\"voltage\",\"portrayed\",\"recognize\",\"driving\",\"ask\",\"julian\",\"obsolete\",\"flash\",\"circuits\",\"rocket\",\"therapy\",\"astronomy\",\"louisiana\",\"ceremony\",\"trans\",\"collections\",\"housing\",\"recovery\",\"buy\",\"harrison\",\"transformation\",\"revelation\",\"fewer\",\"amateur\",\"fran\",\"virgin\",\"interactive\",\"mix\",\"bach\",\"servers\",\"magnitude\",\"admitted\",\"chancellor\",\"thin\",\"proclaimed\",\"ghost\",\"ne\",\"complicated\",\"rotation\",\"arrival\",\"belong\",\"tourist\",\"gauge\",\"fbi\",\"analog\",\"cognitive\",\"reflected\",\"trust\",\"bernard\",\"capita\",\"editions\",\"bought\",\"phone\",\"tends\",\"storm\",\"crash\",\"thompson\",\"dealing\",\"wings\",\"intervention\",\"employment\",\"mercury\",\"settlements\",\"governing\",\"merged\",\"seventh\",\"muscle\",\"meanwhile\",\"dated\",\"align\",\"ram\",\"kent\",\"handle\",\"topic\",\"railroad\",\"customs\",\"suffering\",\"baroque\",\"median\",\"window\",\"designer\",\"neo\",\"thereby\",\"transform\",\"denied\",\"exceptions\",\"dan\",\"nelson\",\"info\",\"attempting\",\"raise\",\"cellular\",\"romantic\",\"coins\",\"norman\",\"chart\",\"photos\",\"extend\",\"gregory\",\"surrounded\",\"mathematicians\",\"int\",\"entropy\",\"please\",\"murray\",\"augustus\",\"significance\",\"ties\",\"beijing\",\"relevant\",\"summary\",\"advice\",\"tribute\",\"quantities\",\"printing\",\"marketing\",\"buffalo\",\"factory\",\"threatened\",\"belgian\",\"tim\",\"manufactured\",\"accident\",\"reflect\",\"grace\",\"proven\",\"maintains\",\"quick\",\"dimension\",\"alien\",\"pointed\",\"independently\",\"moderate\",\"corruption\",\"option\",\"lenin\",\"hunting\",\"ongoing\",\"refugees\",\"guy\",\"poets\",\"simultaneously\",\"hawaii\",\"jupiter\",\"drum\",\"disorders\",\"participate\",\"accuracy\",\"spot\",\"quoted\",\"operators\",\"anglican\",\"taxes\",\"palestine\",\"liverpool\",\"mood\",\"reader\",\"symbolic\",\"attracted\",\"illness\",\"inches\",\"compare\",\"oscar\",\"performances\",\"noble\",\"eating\",\"malaysia\",\"stores\",\"consonant\",\"adventures\",\"romance\",\"aimed\",\"exercise\",\"strict\",\"wider\",\"alive\",\"minerals\",\"sensitive\",\"stream\",\"tunnel\",\"terrorist\",\"kosovo\",\"stanley\",\"phoenix\",\"log\",\"acceptance\",\"studios\",\"reviews\",\"consist\",\"subset\",\"remainder\",\"gandhi\",\"croatia\",\"extensively\",\"legislature\",\"drama\",\"dick\",\"employees\",\"chemist\",\"euro\",\"session\",\"anderson\",\"assault\",\"baltimore\",\"entity\",\"genres\",\"steam\",\"readers\",\"trivia\",\"happy\",\"struck\",\"luke\",\"blocks\",\"parent\",\"vacuum\",\"agencies\",\"duck\",\"nickname\",\"unions\",\"prefer\",\"se\",\"sphere\",\"unemployment\",\"europeans\",\"versus\",\"resigned\",\"shah\",\"viii\",\"graduate\",\"coined\",\"timeline\",\"wheel\",\"ieee\",\"singapore\",\"hans\",\"approaches\",\"chris\",\"enormous\",\"girls\",\"looks\",\"fallen\",\"clothing\",\"settlers\",\"bone\",\"worlds\",\"narrative\",\"expert\",\"offering\",\"serbia\",\"broadway\",\"monroe\",\"uss\",\"rear\",\"cuban\",\"drinking\",\"sharing\",\"cattle\",\"friendly\",\"toronto\",\"ann\",\"addresses\",\"cartoon\",\"studying\",\"requiring\",\"sovereign\",\"rings\",\"coverage\",\"nationalist\",\"holes\",\"automatically\",\"premier\",\"priests\",\"communists\",\"manual\",\"ph\",\"raw\",\"shock\",\"adoption\",\"marie\",\"geneva\",\"objective\",\"entering\",\"id\",\"trip\",\"conservation\",\"membrane\",\"binding\",\"aka\",\"consensus\",\"injury\",\"rolling\",\"errors\",\"besides\",\"defining\",\"paintings\",\"afc\",\"lasted\",\"arguably\",\"desired\",\"weekly\",\"teach\",\"neck\",\"conventions\",\"angel\",\"faces\",\"brazilian\",\"receives\",\"stones\",\"remote\",\"strange\",\"voters\",\"wire\",\"victor\",\"shares\",\"trains\",\"generations\",\"rfc\",\"larry\",\"observer\",\"aaron\",\"administered\",\"programme\",\"guest\",\"easter\",\"liberalism\",\"sequences\",\"natives\",\"sole\",\"painted\",\"hunt\",\"pan\",\"exposure\",\"autonomous\",\"defend\",\"metres\",\"bull\",\"taste\",\"kingdoms\",\"voyage\",\"championships\",\"exploration\",\"shooting\",\"rifle\",\"diego\",\"colombia\",\"tendency\",\"proportion\",\"elevation\",\"baptist\",\"comments\",\"procedures\",\"momentum\",\"lithuanian\",\"compiler\",\"alongside\",\"argues\",\"cutting\",\"funeral\",\"marvel\",\"generate\",\"schedule\",\"mirror\",\"eve\",\"albania\",\"dogs\",\"underlying\",\"slavic\",\"stronger\",\"semitic\",\"heroes\",\"dimensions\",\"mammals\",\"corner\",\"coat\",\"abolished\",\"truly\",\"revenue\",\"decimal\",\"maryland\",\"eternal\",\"competitive\",\"wilhelm\",\"governed\",\"latest\",\"austin\",\"costa\",\"nationality\",\"bulk\",\"clinical\",\"looked\",\"arc\",\"ascii\",\"grade\",\"jimmy\",\"governors\",\"businesses\",\"lieutenant\",\"shore\",\"formats\",\"dot\",\"trinity\",\"crops\",\"epic\",\"activist\",\"assistant\",\"adaptation\",\"geographical\",\"terrain\",\"saxon\",\"tasks\",\"considering\",\"inspiration\",\"helium\",\"interpretations\",\"hunter\",\"wearing\",\"stood\",\"instrumental\",\"slang\",\"publisher\",\"manga\",\"python\",\"occasions\",\"ac\",\"infection\",\"mickey\",\"franco\",\"electromagnetic\",\"plains\",\"edinburgh\",\"uncle\",\"unfortunately\",\"requirement\",\"libya\",\"supplies\",\"amiga\",\"arose\",\"honour\",\"patrick\",\"ai\",\"installed\",\"replacing\",\"regulations\",\"milan\",\"florence\",\"repeatedly\",\"opposing\",\"mechanisms\",\"sand\",\"politically\",\"bills\",\"trials\",\"tail\",\"scots\",\"hoover\",\"nominated\",\"naming\",\"creates\",\"consonants\",\"unlikely\",\"revival\",\"bombing\",\"applies\",\"ms\",\"intense\",\"battery\",\"protest\",\"seriously\",\"kentucky\",\"purely\",\"jonathan\",\"wright\",\"matches\",\"pioneer\",\"tactics\",\"mineral\",\"manuscript\",\"merchant\",\"hierarchy\",\"liberals\",\"appearing\",\"recommended\",\"entities\",\"centered\",\"babylon\",\"visitors\",\"tables\",\"happen\",\"atlas\",\"ussr\",\"economies\",\"hosts\",\"diamonds\",\"tea\",\"missing\",\"ranging\",\"saudi\",\"deck\",\"serial\",\"belt\",\"jane\",\"silent\",\"creatures\",\"aramaic\",\"philippines\",\"developers\",\"demands\",\"aluminium\",\"consisted\",\"retain\",\"kevin\",\"sydney\",\"cocaine\",\"triple\",\"feast\",\"mao\",\"sees\",\"criteria\",\"identification\",\"arabia\",\"homosexuality\",\"homosexual\",\"invaded\",\"tied\",\"li\",\"cargo\",\"spending\",\"fossil\",\"homer\",\"aside\",\"etymology\",\"derives\",\"reaches\",\"damaged\",\"integers\",\"writes\",\"reject\",\"teachers\",\"amendment\",\"reasoning\",\"feeling\",\"check\",\"abortion\",\"unofficial\",\"transmitted\",\"trotsky\",\"freely\",\"decide\",\"elite\",\"conflicts\",\"vocal\",\"bright\",\"farming\",\"tall\",\"spoke\",\"solve\",\"gravitational\",\"norse\",\"mutual\",\"advocates\",\"proto\",\"explosion\",\"sultan\",\"abroad\",\"evening\",\"coin\",\"warner\",\"juan\",\"jury\",\"bosnia\",\"godzilla\",\"touch\",\"sure\",\"abu\",\"fifty\",\"statesman\",\"pagan\",\"novelist\",\"provincial\",\"massacre\",\"carries\",\"anthropology\",\"physiology\",\"nouns\",\"glucose\",\"hearing\",\"cats\",\"danger\",\"newer\",\"realm\",\"organism\",\"scope\",\"treat\",\"graphic\",\"hash\",\"socialism\",\"defines\",\"genetics\",\"comet\",\"plague\",\"galileo\",\"arbitrary\",\"occasion\",\"ian\",\"aviation\",\"doors\",\"gray\",\"communion\",\"estonia\",\"leibniz\",\"propaganda\",\"reportedly\",\"franz\",\"tennis\",\"tissue\",\"module\",\"item\",\"derivative\",\"diameter\",\"illustrated\",\"losses\",\"facing\",\"speeds\",\"targets\",\"astronomical\",\"judah\",\"sanskrit\",\"manufacturer\",\"graph\",\"wisconsin\",\"unsuccessful\",\"infant\",\"doctors\",\"submarine\",\"quotes\",\"guardian\",\"operates\",\"kernel\",\"warming\",\"survival\",\"thanks\",\"arabs\",\"distant\",\"basin\",\"stanford\",\"trek\",\"consent\",\"sweet\",\"julius\",\"conan\",\"proponents\",\"withdrawal\",\"sight\",\"notice\",\"periodic\",\"likewise\",\"pool\",\"foods\",\"ion\",\"maintaining\",\"yugoslavia\",\"occurring\",\"barry\",\"meetings\",\"chad\",\"vocabulary\",\"alice\",\"artillery\",\"predominantly\",\"modes\",\"estimate\",\"filter\",\"eleven\",\"tennessee\",\"villages\",\"oh\",\"crossing\",\"legs\",\"rabbi\",\"songwriter\",\"nietzsche\",\"chapters\",\"iceland\",\"chemicals\",\"anniversary\",\"wisdom\",\"confidence\",\"serbian\",\"retrieved\",\"hindi\",\"amino\",\"explains\",\"punk\",\"assumption\",\"closest\",\"revolt\",\"unified\",\"stewart\",\"guilty\",\"saved\",\"ritual\",\"archaeological\",\"vessels\",\"runner\",\"permission\",\"trend\",\"practiced\",\"solomon\",\"catholicism\",\"graham\",\"belarus\",\"solely\",\"potentially\",\"noise\",\"sleep\",\"sacrifice\",\"displayed\",\"inhabited\",\"debut\",\"otto\",\"recognised\",\"divide\",\"clean\",\"circles\",\"diagram\",\"jerry\",\"hughes\",\"discrete\",\"enjoy\",\"reliable\",\"deals\",\"masters\",\"ferdinand\",\"tournament\",\"signature\",\"doom\",\"ukraine\",\"hear\",\"imposed\",\"technically\",\"connecticut\",\"regulation\",\"comparative\",\"maintenance\",\"inter\",\"cincinnati\",\"jump\",\"councils\",\"adults\",\"emotional\",\"birthday\",\"automobile\",\"syntax\",\"scored\",\"remarkable\",\"dialogue\",\"updated\",\"canterbury\",\"equipped\",\"constellation\",\"cdot\",\"macau\",\"nonetheless\",\"presents\",\"frontier\",\"pole\",\"shadow\",\"flows\",\"billy\",\"terry\",\"conception\",\"gore\",\"radar\",\"forty\",\"bearing\",\"opens\",\"orientation\",\"junior\",\"morris\",\"examination\",\"civilizations\",\"balls\",\"smooth\",\"explosive\",\"cool\",\"invited\",\"foundations\",\"associate\",\"reed\",\"extends\",\"judgment\",\"watson\",\"desktop\",\"baker\",\"grave\",\"experts\",\"elder\",\"floating\",\"baron\",\"wealthy\",\"salvation\",\"attributes\",\"municipal\",\"creature\",\"catch\",\"insubstantial\",\"mere\",\"primitive\",\"favorite\",\"depend\",\"portions\",\"producers\",\"implement\",\"phrases\",\"corporations\",\"immune\",\"blow\",\"deputy\",\"mbox\",\"claudius\",\"genome\",\"fred\",\"kills\",\"ahead\",\"harbor\",\"elementary\",\"stuart\",\"mhz\",\"horn\",\"vocals\",\"relating\",\"ss\",\"intermediate\",\"ranks\",\"opinions\",\"nucleus\",\"munich\",\"pick\",\"critic\",\"joke\",\"confederation\",\"retirement\",\"namely\",\"scores\",\"allegedly\",\"recovered\",\"capabilities\",\"commands\",\"haiti\",\"organisations\",\"publishers\",\"restoration\",\"nineteenth\",\"correspondence\",\"circular\",\"deeply\",\"courses\",\"homes\",\"smallest\",\"accessed\",\"earthquake\",\"fighters\",\"autonomy\",\"circumcision\",\"landscape\",\"legends\",\"companion\",\"corresponds\",\"masses\",\"bavaria\",\"americas\",\"striking\",\"abilities\",\"directions\",\"stroke\",\"farmers\",\"compiled\",\"generic\",\"facility\",\"diesel\",\"layers\",\"reformation\",\"coding\",\"precisely\",\"specification\",\"believes\",\"antonio\",\"lion\",\"oregon\",\"heir\",\"atheism\",\"milton\",\"elvis\",\"tongue\",\"ross\",\"configuration\",\"sri\",\"salvador\",\"afghan\",\"albanian\",\"qur\",\"console\",\"insulin\",\"decay\",\"hat\",\"surgery\",\"metro\",\"maxwell\",\"respective\",\"bread\",\"expressions\",\"covenant\",\"enlightenment\",\"counts\",\"lebanese\",\"hilbert\",\"buddha\",\"banking\",\"westminster\",\"thereafter\",\"shield\",\"alumni\",\"mine\",\"denominations\",\"tiny\",\"lb\",\"cheese\",\"mtv\",\"railways\",\"monarchs\",\"jamaica\",\"lasting\",\"reconstruction\",\"roy\",\"contribution\",\"frequencies\",\"extinction\",\"cluster\",\"dallas\",\"compete\",\"anthem\",\"realized\",\"fun\",\"avenue\",\"convert\",\"operational\",\"yards\",\"alabama\",\"shakespeare\",\"improvements\",\"campaigns\",\"descriptions\",\"princeton\",\"load\",\"literacy\",\"lights\",\"dancing\",\"legally\",\"madrid\",\"ted\",\"parks\",\"malcolm\",\"everyday\",\"clay\",\"scheduled\",\"hosted\",\"reserves\",\"factbook\",\"victim\",\"duncan\",\"stack\",\"fascist\",\"cotton\",\"bones\",\"arrest\",\"speculation\",\"beam\",\"carriers\",\"astronomer\",\"prose\",\"argentine\",\"luxembourg\",\"forcing\",\"ab\",\"registered\",\"dies\",\"minimal\",\"orbital\",\"tested\",\"autobiography\",\"kazakhstan\",\"uprising\",\"elaborate\",\"convinced\",\"tomb\",\"adopt\",\"symphony\",\"actively\",\"peru\",\"photographs\",\"geometric\",\"plateau\",\"romanian\",\"proportional\",\"pi\",\"anarchist\",\"ideology\",\"rainfall\",\"amazon\",\"preserve\",\"excess\",\"demanded\",\"circa\",\"wooden\",\"volcanic\",\"ali\",\"charts\",\"ira\",\"moldova\",\"poles\",\"tension\",\"diversity\",\"displays\",\"advances\",\"competing\",\"scales\",\"measurements\",\"inuit\",\"collins\",\"stayed\",\"browser\",\"nodes\",\"catherine\",\"finish\",\"harold\",\"rely\",\"editing\",\"interval\",\"completion\",\"humor\",\"accomplished\",\"consecutive\",\"honey\",\"whale\",\"gift\",\"relatives\",\"worn\",\"zeus\",\"stating\",\"thrown\",\"nicholas\",\"entrance\",\"eighth\",\"flowers\",\"backed\",\"nazis\",\"kick\",\"technological\",\"fate\",\"conservatives\",\"supposedly\",\"enterprise\",\"samples\",\"croatian\",\"enabled\",\"lane\",\"organ\",\"computational\",\"golf\",\"egg\",\"oswald\",\"dec\",\"paved\",\"warrior\",\"cousin\",\"signing\",\"ludwig\",\"contents\",\"attitude\",\"cow\",\"package\",\"select\",\"fifteen\",\"expenditures\",\"lambda\",\"kb\",\"omega\",\"advocate\",\"chaos\",\"eugene\",\"globe\",\"bow\",\"cemetery\",\"remembered\",\"intent\",\"morgan\",\"gases\",\"bridges\",\"ipa\",\"persia\",\"dj\",\"capitalist\",\"voices\",\"engage\",\"attorney\",\"burned\",\"precision\",\"productions\",\"waste\",\"encoding\",\"miami\",\"mu\",\"catalan\",\"availability\",\"inherited\",\"transit\",\"crusade\",\"forbidden\",\"brass\",\"dominican\",\"unicode\",\"annually\",\"vital\",\"advent\",\"equilibrium\",\"calculated\",\"surfaces\",\"calculations\",\"adolf\",\"amsterdam\",\"prussian\",\"dune\",\"predicted\",\"horizontal\",\"attend\",\"winds\",\"hinduism\",\"dust\",\"preparation\",\"rough\",\"jurisdictions\",\"tokyo\",\"bed\",\"ronald\",\"jay\",\"homepage\",\"clergy\",\"rendered\",\"embedded\",\"ha\",\"microwave\",\"physically\",\"ken\",\"populated\",\"murdered\",\"differs\",\"feed\",\"nintendo\",\"und\",\"iraqi\",\"altered\",\"till\",\"syrian\",\"scoring\",\"irc\",\"totally\",\"fathers\",\"pascal\",\"archives\",\"environments\",\"crowd\",\"connecting\",\"dubbed\",\"floppy\",\"deemed\",\"manuscripts\",\"instances\",\"locally\",\"telecommunications\",\"olympics\",\"protocols\",\"cameroon\",\"expelled\",\"transformed\",\"comment\",\"spend\",\"peer\",\"wallace\",\"acceptable\",\"remember\",\"suspended\",\"reagan\",\"dealt\",\"discussions\",\"mccarthy\",\"fiscal\",\"observers\",\"documentation\",\"pilots\",\"passengers\",\"tanks\",\"deposits\",\"sheet\",\"weber\",\"honduras\",\"alberta\",\"enforcement\",\"yale\",\"vessel\",\"poe\",\"marxist\",\"explicit\",\"critique\",\"similarities\",\"dramatically\",\"initiated\",\"promised\",\"tense\",\"statute\",\"ions\",\"ba\",\"barrel\",\"galaxies\",\"edgar\",\"tribal\",\"trace\"],\"x\":{\"__ndarray__\":\"+WjRP4joUz+F1rW+I4KeP9+TC78MRII/vUPKv7h1VL9U3Ik8ppjXPVN9J0DtYIO9v7tHPTHMgr49EYY/99/PPxY5/j6pCyS/2Jvtvujmvj9+SiY/c6ErvztDLb98cLe+mcUDQJfGL76mQEy+ep14P7X6Bz6rq0A/N/+Wv3ZMlb9JRhS/T1x5P5hxgb9m6nY/y2maPm9YPD+G1ES/g5kNvzZdoT77lao/LXZGPvoKtr42Ybi/UluNPqsZkr5NruK/req0vybjhT8FSgG/WYuLvynwhD+GIZY/RrPavtiuTL8owtQ/1lnlvyuAh79Qjy6/gYmKvyeour0mFpy/15kpvw==\",\"dtype\":\"float32\",\"order\":\"little\",\"shape\":[64]},\"y\":{\"__ndarray__\":\"PnNEP5I2nr9TwZm9IuskP3YHKT8KRj8/mbq3PVFqCr8lZ68/9xS1P6Li5L7sTYG/kBqQP4Lq3T+r4aw/9C8/Pk54Zb9/t4Y/eKilP/YDwz7dY1++iqcpvwnYC0B6vAw+tfOivpuZvT3DFXw/y0yVv4oJ6T0yTLs+9q+zPwrJn7+7oRM/8DqSvjR80r+Aybw+gUvsv1YUBD8B+Qk+UguhPrbtyj+cMiY/TJqQv9fTvz9+pKO/1XV3v1MhSj/u1uK9mYwlPycq1b9T5p6+iVnCvycNqD5+ubO/qdRtv/k0qjv5CTC/yx/xPW+rgb9pIuC+28iKPw1UAcDPG5a/3i30vg==\",\"dtype\":\"float32\",\"order\":\"little\",\"shape\":[64]}},\"selected\":{\"id\":\"1051\"},\"selection_policy\":{\"id\":\"1050\"}},\"id\":\"1002\",\"type\":\"ColumnDataSource\"},{\"attributes\":{},\"id\":\"1049\",\"type\":\"AllLabels\"},{\"attributes\":{\"coordinates\":null,\"group\":null},\"id\":\"1042\",\"type\":\"Title\"},{\"attributes\":{\"bottom_units\":\"screen\",\"coordinates\":null,\"fill_alpha\":0.5,\"fill_color\":\"lightgrey\",\"group\":null,\"left_units\":\"screen\",\"level\":\"overlay\",\"line_alpha\":1.0,\"line_color\":\"black\",\"line_dash\":[4,4],\"line_width\":2,\"right_units\":\"screen\",\"syncable\":false,\"top_units\":\"screen\"},\"id\":\"1026\",\"type\":\"BoxAnnotation\"},{\"attributes\":{\"fill_alpha\":{\"value\":0.2},\"fill_color\":{\"field\":\"color\"},\"hatch_alpha\":{\"value\":0.2},\"hatch_color\":{\"field\":\"color\"},\"line_alpha\":{\"value\":0.2},\"line_color\":{\"field\":\"color\"},\"size\":{\"value\":10},\"x\":{\"field\":\"x\"},\"y\":{\"field\":\"y\"}},\"id\":\"1037\",\"type\":\"Scatter\"},{\"attributes\":{},\"id\":\"1013\",\"type\":\"BasicTicker\"},{\"attributes\":{},\"id\":\"1008\",\"type\":\"LinearScale\"},{\"attributes\":{\"source\":{\"id\":\"1002\"}},\"id\":\"1039\",\"type\":\"CDSView\"},{\"attributes\":{},\"id\":\"1004\",\"type\":\"DataRange1d\"},{\"attributes\":{\"coordinates\":null,\"formatter\":{\"id\":\"1048\"},\"group\":null,\"major_label_policy\":{\"id\":\"1049\"},\"ticker\":{\"id\":\"1013\"}},\"id\":\"1012\",\"type\":\"LinearAxis\"},{\"attributes\":{},\"id\":\"1010\",\"type\":\"LinearScale\"},{\"attributes\":{},\"id\":\"1050\",\"type\":\"UnionRenderers\"},{\"attributes\":{\"fill_alpha\":{\"value\":0.1},\"fill_color\":{\"field\":\"color\"},\"hatch_alpha\":{\"value\":0.1},\"hatch_color\":{\"field\":\"color\"},\"line_alpha\":{\"value\":0.1},\"line_color\":{\"field\":\"color\"},\"size\":{\"value\":10},\"x\":{\"field\":\"x\"},\"y\":{\"field\":\"y\"}},\"id\":\"1036\",\"type\":\"Scatter\"},{\"attributes\":{},\"id\":\"1051\",\"type\":\"Selection\"},{\"attributes\":{},\"id\":\"1023\",\"type\":\"SaveTool\"},{\"attributes\":{},\"id\":\"1046\",\"type\":\"AllLabels\"},{\"attributes\":{},\"id\":\"1021\",\"type\":\"WheelZoomTool\"},{\"attributes\":{\"axis\":{\"id\":\"1012\"},\"coordinates\":null,\"group\":null,\"ticker\":null},\"id\":\"1015\",\"type\":\"Grid\"},{\"attributes\":{\"overlay\":{\"id\":\"1026\"}},\"id\":\"1022\",\"type\":\"BoxZoomTool\"},{\"attributes\":{},\"id\":\"1006\",\"type\":\"DataRange1d\"},{\"attributes\":{\"callback\":null,\"tooltips\":[[\"token\",\"@token\"]]},\"id\":\"1040\",\"type\":\"HoverTool\"},{\"attributes\":{},\"id\":\"1025\",\"type\":\"HelpTool\"},{\"attributes\":{},\"id\":\"1024\",\"type\":\"ResetTool\"},{\"attributes\":{},\"id\":\"1045\",\"type\":\"BasicTickFormatter\"},{\"attributes\":{},\"id\":\"1017\",\"type\":\"BasicTicker\"},{\"attributes\":{\"axis\":{\"id\":\"1016\"},\"coordinates\":null,\"dimension\":1,\"group\":null,\"ticker\":null},\"id\":\"1019\",\"type\":\"Grid\"},{\"attributes\":{\"coordinates\":null,\"formatter\":{\"id\":\"1045\"},\"group\":null,\"major_label_policy\":{\"id\":\"1046\"},\"ticker\":{\"id\":\"1017\"}},\"id\":\"1016\",\"type\":\"LinearAxis\"},{\"attributes\":{},\"id\":\"1020\",\"type\":\"PanTool\"}],\"root_ids\":[\"1003\"]},\"title\":\"Bokeh Application\",\"version\":\"2.4.3\"}};\n",
              "  const render_items = [{\"docid\":\"2e88564f-5b22-44c4-a2c0-962d7fd43ad3\",\"root_ids\":[\"1003\"],\"roots\":{\"1003\":\"af1a81b6-cb1d-4df4-b755-dd10d844aa6e\"}}];\n",
              "  root.Bokeh.embed.embed_items_notebook(docs_json, render_items);\n",
              "  }\n",
              "  if (root.Bokeh !== undefined) {\n",
              "    embed_document(root);\n",
              "  } else {\n",
              "    let attempts = 0;\n",
              "    const timer = setInterval(function(root) {\n",
              "      if (root.Bokeh !== undefined) {\n",
              "        clearInterval(timer);\n",
              "        embed_document(root);\n",
              "      } else {\n",
              "        attempts++;\n",
              "        if (attempts > 100) {\n",
              "          clearInterval(timer);\n",
              "          console.log(\"Bokeh: ERROR: Unable to run BokehJS code because BokehJS library is missing\");\n",
              "        }\n",
              "      }\n",
              "    }, 10, root)\n",
              "  }\n",
              "})(window);"
            ],
            "application/vnd.bokehjs_exec.v0+json": ""
          },
          "metadata": {
            "application/vnd.bokehjs_exec.v0+json": {
              "id": "1003"
            }
          }
        },
        {
          "output_type": "execute_result",
          "data": {
            "text/plain": [
              "Figure(id='1003', ...)"
            ],
            "text/html": [
              "<div style=\"display: table;\"><div style=\"display: table-row;\"><div style=\"display: table-cell;\"><b title=\"bokeh.plotting.figure.Figure\">Figure</b>(</div><div style=\"display: table-cell;\">id&nbsp;=&nbsp;'1003', <span id=\"1109\" style=\"cursor: pointer;\">&hellip;)</span></div></div><div class=\"1108\" style=\"display: none;\"><div style=\"display: table-cell;\"></div><div style=\"display: table-cell;\">above&nbsp;=&nbsp;[],</div></div><div class=\"1108\" style=\"display: none;\"><div style=\"display: table-cell;\"></div><div style=\"display: table-cell;\">align&nbsp;=&nbsp;'start',</div></div><div class=\"1108\" style=\"display: none;\"><div style=\"display: table-cell;\"></div><div style=\"display: table-cell;\">aspect_ratio&nbsp;=&nbsp;None,</div></div><div class=\"1108\" style=\"display: none;\"><div style=\"display: table-cell;\"></div><div style=\"display: table-cell;\">aspect_scale&nbsp;=&nbsp;1,</div></div><div class=\"1108\" style=\"display: none;\"><div style=\"display: table-cell;\"></div><div style=\"display: table-cell;\">background&nbsp;=&nbsp;None,</div></div><div class=\"1108\" style=\"display: none;\"><div style=\"display: table-cell;\"></div><div style=\"display: table-cell;\">background_fill_alpha&nbsp;=&nbsp;1.0,</div></div><div class=\"1108\" style=\"display: none;\"><div style=\"display: table-cell;\"></div><div style=\"display: table-cell;\">background_fill_color&nbsp;=&nbsp;'#ffffff',</div></div><div class=\"1108\" style=\"display: none;\"><div style=\"display: table-cell;\"></div><div style=\"display: table-cell;\">below&nbsp;=&nbsp;[LinearAxis(id='1012', ...)],</div></div><div class=\"1108\" style=\"display: none;\"><div style=\"display: table-cell;\"></div><div style=\"display: table-cell;\">border_fill_alpha&nbsp;=&nbsp;1.0,</div></div><div class=\"1108\" style=\"display: none;\"><div style=\"display: table-cell;\"></div><div style=\"display: table-cell;\">border_fill_color&nbsp;=&nbsp;'#ffffff',</div></div><div class=\"1108\" style=\"display: none;\"><div style=\"display: table-cell;\"></div><div style=\"display: table-cell;\">center&nbsp;=&nbsp;[Grid(id='1015', ...), Grid(id='1019', ...)],</div></div><div class=\"1108\" style=\"display: none;\"><div style=\"display: table-cell;\"></div><div style=\"display: table-cell;\">css_classes&nbsp;=&nbsp;[],</div></div><div class=\"1108\" style=\"display: none;\"><div style=\"display: table-cell;\"></div><div style=\"display: table-cell;\">disabled&nbsp;=&nbsp;False,</div></div><div class=\"1108\" style=\"display: none;\"><div style=\"display: table-cell;\"></div><div style=\"display: table-cell;\">extra_x_ranges&nbsp;=&nbsp;{},</div></div><div class=\"1108\" style=\"display: none;\"><div style=\"display: table-cell;\"></div><div style=\"display: table-cell;\">extra_x_scales&nbsp;=&nbsp;{},</div></div><div class=\"1108\" style=\"display: none;\"><div style=\"display: table-cell;\"></div><div style=\"display: table-cell;\">extra_y_ranges&nbsp;=&nbsp;{},</div></div><div class=\"1108\" style=\"display: none;\"><div style=\"display: table-cell;\"></div><div style=\"display: table-cell;\">extra_y_scales&nbsp;=&nbsp;{},</div></div><div class=\"1108\" style=\"display: none;\"><div style=\"display: table-cell;\"></div><div style=\"display: table-cell;\">frame_height&nbsp;=&nbsp;None,</div></div><div class=\"1108\" style=\"display: none;\"><div style=\"display: table-cell;\"></div><div style=\"display: table-cell;\">frame_width&nbsp;=&nbsp;None,</div></div><div class=\"1108\" style=\"display: none;\"><div style=\"display: table-cell;\"></div><div style=\"display: table-cell;\">height&nbsp;=&nbsp;400,</div></div><div class=\"1108\" style=\"display: none;\"><div style=\"display: table-cell;\"></div><div style=\"display: table-cell;\">height_policy&nbsp;=&nbsp;'auto',</div></div><div class=\"1108\" style=\"display: none;\"><div style=\"display: table-cell;\"></div><div style=\"display: table-cell;\">hidpi&nbsp;=&nbsp;True,</div></div><div class=\"1108\" style=\"display: none;\"><div style=\"display: table-cell;\"></div><div style=\"display: table-cell;\">inner_height&nbsp;=&nbsp;0,</div></div><div class=\"1108\" style=\"display: none;\"><div style=\"display: table-cell;\"></div><div style=\"display: table-cell;\">inner_width&nbsp;=&nbsp;0,</div></div><div class=\"1108\" style=\"display: none;\"><div style=\"display: table-cell;\"></div><div style=\"display: table-cell;\">js_event_callbacks&nbsp;=&nbsp;{},</div></div><div class=\"1108\" style=\"display: none;\"><div style=\"display: table-cell;\"></div><div style=\"display: table-cell;\">js_property_callbacks&nbsp;=&nbsp;{},</div></div><div class=\"1108\" style=\"display: none;\"><div style=\"display: table-cell;\"></div><div style=\"display: table-cell;\">left&nbsp;=&nbsp;[LinearAxis(id='1016', ...)],</div></div><div class=\"1108\" style=\"display: none;\"><div style=\"display: table-cell;\"></div><div style=\"display: table-cell;\">lod_factor&nbsp;=&nbsp;10,</div></div><div class=\"1108\" style=\"display: none;\"><div style=\"display: table-cell;\"></div><div style=\"display: table-cell;\">lod_interval&nbsp;=&nbsp;300,</div></div><div class=\"1108\" style=\"display: none;\"><div style=\"display: table-cell;\"></div><div style=\"display: table-cell;\">lod_threshold&nbsp;=&nbsp;2000,</div></div><div class=\"1108\" style=\"display: none;\"><div style=\"display: table-cell;\"></div><div style=\"display: table-cell;\">lod_timeout&nbsp;=&nbsp;500,</div></div><div class=\"1108\" style=\"display: none;\"><div style=\"display: table-cell;\"></div><div style=\"display: table-cell;\">margin&nbsp;=&nbsp;(0, 0, 0, 0),</div></div><div class=\"1108\" style=\"display: none;\"><div style=\"display: table-cell;\"></div><div style=\"display: table-cell;\">match_aspect&nbsp;=&nbsp;False,</div></div><div class=\"1108\" style=\"display: none;\"><div style=\"display: table-cell;\"></div><div style=\"display: table-cell;\">max_height&nbsp;=&nbsp;None,</div></div><div class=\"1108\" style=\"display: none;\"><div style=\"display: table-cell;\"></div><div style=\"display: table-cell;\">max_width&nbsp;=&nbsp;None,</div></div><div class=\"1108\" style=\"display: none;\"><div style=\"display: table-cell;\"></div><div style=\"display: table-cell;\">min_border&nbsp;=&nbsp;5,</div></div><div class=\"1108\" style=\"display: none;\"><div style=\"display: table-cell;\"></div><div style=\"display: table-cell;\">min_border_bottom&nbsp;=&nbsp;None,</div></div><div class=\"1108\" style=\"display: none;\"><div style=\"display: table-cell;\"></div><div style=\"display: table-cell;\">min_border_left&nbsp;=&nbsp;None,</div></div><div class=\"1108\" style=\"display: none;\"><div style=\"display: table-cell;\"></div><div style=\"display: table-cell;\">min_border_right&nbsp;=&nbsp;None,</div></div><div class=\"1108\" style=\"display: none;\"><div style=\"display: table-cell;\"></div><div style=\"display: table-cell;\">min_border_top&nbsp;=&nbsp;None,</div></div><div class=\"1108\" style=\"display: none;\"><div style=\"display: table-cell;\"></div><div style=\"display: table-cell;\">min_height&nbsp;=&nbsp;None,</div></div><div class=\"1108\" style=\"display: none;\"><div style=\"display: table-cell;\"></div><div style=\"display: table-cell;\">min_width&nbsp;=&nbsp;None,</div></div><div class=\"1108\" style=\"display: none;\"><div style=\"display: table-cell;\"></div><div style=\"display: table-cell;\">name&nbsp;=&nbsp;None,</div></div><div class=\"1108\" style=\"display: none;\"><div style=\"display: table-cell;\"></div><div style=\"display: table-cell;\">outer_height&nbsp;=&nbsp;0,</div></div><div class=\"1108\" style=\"display: none;\"><div style=\"display: table-cell;\"></div><div style=\"display: table-cell;\">outer_width&nbsp;=&nbsp;0,</div></div><div class=\"1108\" style=\"display: none;\"><div style=\"display: table-cell;\"></div><div style=\"display: table-cell;\">outline_line_alpha&nbsp;=&nbsp;1.0,</div></div><div class=\"1108\" style=\"display: none;\"><div style=\"display: table-cell;\"></div><div style=\"display: table-cell;\">outline_line_cap&nbsp;=&nbsp;'butt',</div></div><div class=\"1108\" style=\"display: none;\"><div style=\"display: table-cell;\"></div><div style=\"display: table-cell;\">outline_line_color&nbsp;=&nbsp;'#e5e5e5',</div></div><div class=\"1108\" style=\"display: none;\"><div style=\"display: table-cell;\"></div><div style=\"display: table-cell;\">outline_line_dash&nbsp;=&nbsp;[],</div></div><div class=\"1108\" style=\"display: none;\"><div style=\"display: table-cell;\"></div><div style=\"display: table-cell;\">outline_line_dash_offset&nbsp;=&nbsp;0,</div></div><div class=\"1108\" style=\"display: none;\"><div style=\"display: table-cell;\"></div><div style=\"display: table-cell;\">outline_line_join&nbsp;=&nbsp;'bevel',</div></div><div class=\"1108\" style=\"display: none;\"><div style=\"display: table-cell;\"></div><div style=\"display: table-cell;\">outline_line_width&nbsp;=&nbsp;1,</div></div><div class=\"1108\" style=\"display: none;\"><div style=\"display: table-cell;\"></div><div style=\"display: table-cell;\">output_backend&nbsp;=&nbsp;'canvas',</div></div><div class=\"1108\" style=\"display: none;\"><div style=\"display: table-cell;\"></div><div style=\"display: table-cell;\">renderers&nbsp;=&nbsp;[GlyphRenderer(id='1038', ...)],</div></div><div class=\"1108\" style=\"display: none;\"><div style=\"display: table-cell;\"></div><div style=\"display: table-cell;\">reset_policy&nbsp;=&nbsp;'standard',</div></div><div class=\"1108\" style=\"display: none;\"><div style=\"display: table-cell;\"></div><div style=\"display: table-cell;\">right&nbsp;=&nbsp;[],</div></div><div class=\"1108\" style=\"display: none;\"><div style=\"display: table-cell;\"></div><div style=\"display: table-cell;\">sizing_mode&nbsp;=&nbsp;None,</div></div><div class=\"1108\" style=\"display: none;\"><div style=\"display: table-cell;\"></div><div style=\"display: table-cell;\">subscribed_events&nbsp;=&nbsp;[],</div></div><div class=\"1108\" style=\"display: none;\"><div style=\"display: table-cell;\"></div><div style=\"display: table-cell;\">syncable&nbsp;=&nbsp;True,</div></div><div class=\"1108\" style=\"display: none;\"><div style=\"display: table-cell;\"></div><div style=\"display: table-cell;\">tags&nbsp;=&nbsp;[],</div></div><div class=\"1108\" style=\"display: none;\"><div style=\"display: table-cell;\"></div><div style=\"display: table-cell;\">title&nbsp;=&nbsp;Title(id='1042', ...),</div></div><div class=\"1108\" style=\"display: none;\"><div style=\"display: table-cell;\"></div><div style=\"display: table-cell;\">title_location&nbsp;=&nbsp;'above',</div></div><div class=\"1108\" style=\"display: none;\"><div style=\"display: table-cell;\"></div><div style=\"display: table-cell;\">toolbar&nbsp;=&nbsp;Toolbar(id='1027', ...),</div></div><div class=\"1108\" style=\"display: none;\"><div style=\"display: table-cell;\"></div><div style=\"display: table-cell;\">toolbar_location&nbsp;=&nbsp;'right',</div></div><div class=\"1108\" style=\"display: none;\"><div style=\"display: table-cell;\"></div><div style=\"display: table-cell;\">toolbar_sticky&nbsp;=&nbsp;True,</div></div><div class=\"1108\" style=\"display: none;\"><div style=\"display: table-cell;\"></div><div style=\"display: table-cell;\">visible&nbsp;=&nbsp;True,</div></div><div class=\"1108\" style=\"display: none;\"><div style=\"display: table-cell;\"></div><div style=\"display: table-cell;\">width&nbsp;=&nbsp;600,</div></div><div class=\"1108\" style=\"display: none;\"><div style=\"display: table-cell;\"></div><div style=\"display: table-cell;\">width_policy&nbsp;=&nbsp;'auto',</div></div><div class=\"1108\" style=\"display: none;\"><div style=\"display: table-cell;\"></div><div style=\"display: table-cell;\">x_range&nbsp;=&nbsp;DataRange1d(id='1004', ...),</div></div><div class=\"1108\" style=\"display: none;\"><div style=\"display: table-cell;\"></div><div style=\"display: table-cell;\">x_scale&nbsp;=&nbsp;LinearScale(id='1008', ...),</div></div><div class=\"1108\" style=\"display: none;\"><div style=\"display: table-cell;\"></div><div style=\"display: table-cell;\">y_range&nbsp;=&nbsp;DataRange1d(id='1006', ...),</div></div><div class=\"1108\" style=\"display: none;\"><div style=\"display: table-cell;\"></div><div style=\"display: table-cell;\">y_scale&nbsp;=&nbsp;LinearScale(id='1010', ...))</div></div></div>\n",
              "<script>\n",
              "(function() {\n",
              "  let expanded = false;\n",
              "  const ellipsis = document.getElementById(\"1109\");\n",
              "  ellipsis.addEventListener(\"click\", function() {\n",
              "    const rows = document.getElementsByClassName(\"1108\");\n",
              "    for (let i = 0; i < rows.length; i++) {\n",
              "      const el = rows[i];\n",
              "      el.style.display = expanded ? \"none\" : \"table-row\";\n",
              "    }\n",
              "    ellipsis.innerHTML = expanded ? \"&hellip;)\" : \"&lsaquo;&lsaquo;&lsaquo;\";\n",
              "    expanded = !expanded;\n",
              "  });\n",
              "})();\n",
              "</script>\n"
            ]
          },
          "metadata": {},
          "execution_count": 75
        }
      ],
      "source": [
        "draw_vectors(word_vectors_pca[:, 0], word_vectors_pca[:, 1], token=list(id_to_token.values()))"
      ]
    },
    {
      "cell_type": "markdown",
      "metadata": {
        "id": "brMT4nfpUBCh",
        "pycharm": {
          "name": "#%% md\n"
        }
      },
      "source": [
        "### Visualizing neighbors with t-SNE\n",
        "PCA is nice but it is strictly linear and thus only able to capture the coarse high level structure of the data.\n",
        "\n",
        "If we instead want to focus on keeping neighboring points near, we could use t-SNE, which is itself an embedding method. Here you can read __[more on TSNE](https://distill.pub/2016/misread-tsne/)__."
      ]
    },
    {
      "cell_type": "code",
      "execution_count": 76,
      "metadata": {
        "id": "Hpl5u502UBCi",
        "pycharm": {
          "is_executing": true
        },
        "colab": {
          "base_uri": "https://localhost:8080/"
        },
        "outputId": "030c2af3-9636-4a55-f11f-9c24644b2666"
      },
      "outputs": [
        {
          "output_type": "stream",
          "name": "stdout",
          "text": [
            "[t-SNE] Computing 63 nearest neighbors...\n",
            "[t-SNE] Indexed 64 samples in 0.001s...\n",
            "[t-SNE] Computed neighbors for 64 samples in 0.173s...\n",
            "[t-SNE] Computed conditional probabilities for sample 64 / 64\n",
            "[t-SNE] Mean sigma: 14.470989\n",
            "[t-SNE] Computed conditional probabilities in 0.027s\n",
            "[t-SNE] Iteration 50: error = 47.5247536, gradient norm = 0.5361617 (50 iterations in 3.123s)\n",
            "[t-SNE] Iteration 100: error = 44.9776993, gradient norm = 0.7479644 (50 iterations in 0.671s)\n",
            "[t-SNE] Iteration 150: error = 51.7759285, gradient norm = 0.4925558 (50 iterations in 0.495s)\n",
            "[t-SNE] Iteration 200: error = 44.7172470, gradient norm = 0.7191078 (50 iterations in 0.816s)\n",
            "[t-SNE] Iteration 250: error = 52.0237312, gradient norm = 0.5647898 (50 iterations in 0.459s)\n",
            "[t-SNE] KL divergence after 250 iterations with early exaggeration: 52.023731\n",
            "[t-SNE] Iteration 300: error = 0.5681838, gradient norm = 0.0239798 (50 iterations in 0.265s)\n",
            "[t-SNE] Iteration 350: error = 0.3980391, gradient norm = 0.0043622 (50 iterations in 0.232s)\n",
            "[t-SNE] Iteration 400: error = 0.3972268, gradient norm = 0.0002308 (50 iterations in 0.197s)\n",
            "[t-SNE] Iteration 450: error = 0.3971448, gradient norm = 0.0004798 (50 iterations in 0.228s)\n",
            "[t-SNE] Iteration 500: error = 0.3971914, gradient norm = 0.0002114 (50 iterations in 0.172s)\n",
            "[t-SNE] Iteration 550: error = 0.3971766, gradient norm = 0.0001677 (50 iterations in 0.195s)\n",
            "[t-SNE] Iteration 600: error = 0.3971844, gradient norm = 0.0002178 (50 iterations in 0.149s)\n",
            "[t-SNE] Iteration 650: error = 0.3971308, gradient norm = 0.0002984 (50 iterations in 0.171s)\n",
            "[t-SNE] Iteration 700: error = 0.3971956, gradient norm = 0.0002143 (50 iterations in 0.184s)\n",
            "[t-SNE] Iteration 750: error = 0.3971694, gradient norm = 0.0001873 (50 iterations in 0.215s)\n",
            "[t-SNE] Iteration 800: error = 0.3970859, gradient norm = 0.0007368 (50 iterations in 0.356s)\n",
            "[t-SNE] Iteration 850: error = 0.3973240, gradient norm = 0.0006442 (50 iterations in 0.188s)\n",
            "[t-SNE] Iteration 900: error = 0.3972031, gradient norm = 0.0001576 (50 iterations in 0.188s)\n",
            "[t-SNE] Iteration 950: error = 0.3972005, gradient norm = 0.0008526 (50 iterations in 0.232s)\n",
            "[t-SNE] Iteration 1000: error = 0.3971770, gradient norm = 0.0005560 (50 iterations in 0.379s)\n",
            "[t-SNE] KL divergence after 1000 iterations: 0.397177\n"
          ]
        }
      ],
      "source": [
        "from sklearn.manifold import TSNE\n",
        "\n",
        "# Map word vectors onto a 2D plane with TSNE. (Hint: use verbose=100 to see what it's doing.)\n",
        "# Normalize them just like with PCE into word_tsne\n",
        "\n",
        "# ...\n",
        "# word_tsne = ...\n",
        "\n",
        "############### for student ################\n",
        "word_tsne = TSNE(n_components=2, perplexity = 30, verbose = 100)\n",
        "word_tsne = word_tsne.fit_transform(word_vectors)\n",
        "word_tsne = (word_tsne - word_tsne.mean())/word_tsne.std()\n",
        "\n",
        "\n",
        "############################################"
      ]
    },
    {
      "cell_type": "code",
      "execution_count": 77,
      "metadata": {
        "id": "VjhwBQVtUBCi",
        "pycharm": {
          "is_executing": true,
          "name": "#%%\n"
        },
        "scrolled": true,
        "colab": {
          "base_uri": "https://localhost:8080/",
          "height": 53
        },
        "outputId": "8110ce78-7ca9-4254-baaa-687fea0a152a"
      },
      "outputs": [
        {
          "output_type": "stream",
          "name": "stderr",
          "text": [
            "BokehUserWarning: ColumnDataSource's columns must be of the same length. Current lengths: ('color', 64), ('token', 5000), ('x', 64), ('y', 64)\n"
          ]
        },
        {
          "output_type": "display_data",
          "data": {
            "application/javascript": [
              "(function(root) {\n",
              "  function now() {\n",
              "    return new Date();\n",
              "  }\n",
              "\n",
              "  const force = true;\n",
              "\n",
              "  if (typeof root._bokeh_onload_callbacks === \"undefined\" || force === true) {\n",
              "    root._bokeh_onload_callbacks = [];\n",
              "    root._bokeh_is_loading = undefined;\n",
              "  }\n",
              "\n",
              "const JS_MIME_TYPE = 'application/javascript';\n",
              "  const HTML_MIME_TYPE = 'text/html';\n",
              "  const EXEC_MIME_TYPE = 'application/vnd.bokehjs_exec.v0+json';\n",
              "  const CLASS_NAME = 'output_bokeh rendered_html';\n",
              "\n",
              "  /**\n",
              "   * Render data to the DOM node\n",
              "   */\n",
              "  function render(props, node) {\n",
              "    const script = document.createElement(\"script\");\n",
              "    node.appendChild(script);\n",
              "  }\n",
              "\n",
              "  /**\n",
              "   * Handle when an output is cleared or removed\n",
              "   */\n",
              "  function handleClearOutput(event, handle) {\n",
              "    const cell = handle.cell;\n",
              "\n",
              "    const id = cell.output_area._bokeh_element_id;\n",
              "    const server_id = cell.output_area._bokeh_server_id;\n",
              "    // Clean up Bokeh references\n",
              "    if (id != null && id in Bokeh.index) {\n",
              "      Bokeh.index[id].model.document.clear();\n",
              "      delete Bokeh.index[id];\n",
              "    }\n",
              "\n",
              "    if (server_id !== undefined) {\n",
              "      // Clean up Bokeh references\n",
              "      const cmd_clean = \"from bokeh.io.state import curstate; print(curstate().uuid_to_server['\" + server_id + \"'].get_sessions()[0].document.roots[0]._id)\";\n",
              "      cell.notebook.kernel.execute(cmd_clean, {\n",
              "        iopub: {\n",
              "          output: function(msg) {\n",
              "            const id = msg.content.text.trim();\n",
              "            if (id in Bokeh.index) {\n",
              "              Bokeh.index[id].model.document.clear();\n",
              "              delete Bokeh.index[id];\n",
              "            }\n",
              "          }\n",
              "        }\n",
              "      });\n",
              "      // Destroy server and session\n",
              "      const cmd_destroy = \"import bokeh.io.notebook as ion; ion.destroy_server('\" + server_id + \"')\";\n",
              "      cell.notebook.kernel.execute(cmd_destroy);\n",
              "    }\n",
              "  }\n",
              "\n",
              "  /**\n",
              "   * Handle when a new output is added\n",
              "   */\n",
              "  function handleAddOutput(event, handle) {\n",
              "    const output_area = handle.output_area;\n",
              "    const output = handle.output;\n",
              "\n",
              "    // limit handleAddOutput to display_data with EXEC_MIME_TYPE content only\n",
              "    if ((output.output_type != \"display_data\") || (!Object.prototype.hasOwnProperty.call(output.data, EXEC_MIME_TYPE))) {\n",
              "      return\n",
              "    }\n",
              "\n",
              "    const toinsert = output_area.element.find(\".\" + CLASS_NAME.split(' ')[0]);\n",
              "\n",
              "    if (output.metadata[EXEC_MIME_TYPE][\"id\"] !== undefined) {\n",
              "      toinsert[toinsert.length - 1].firstChild.textContent = output.data[JS_MIME_TYPE];\n",
              "      // store reference to embed id on output_area\n",
              "      output_area._bokeh_element_id = output.metadata[EXEC_MIME_TYPE][\"id\"];\n",
              "    }\n",
              "    if (output.metadata[EXEC_MIME_TYPE][\"server_id\"] !== undefined) {\n",
              "      const bk_div = document.createElement(\"div\");\n",
              "      bk_div.innerHTML = output.data[HTML_MIME_TYPE];\n",
              "      const script_attrs = bk_div.children[0].attributes;\n",
              "      for (let i = 0; i < script_attrs.length; i++) {\n",
              "        toinsert[toinsert.length - 1].firstChild.setAttribute(script_attrs[i].name, script_attrs[i].value);\n",
              "        toinsert[toinsert.length - 1].firstChild.textContent = bk_div.children[0].textContent\n",
              "      }\n",
              "      // store reference to server id on output_area\n",
              "      output_area._bokeh_server_id = output.metadata[EXEC_MIME_TYPE][\"server_id\"];\n",
              "    }\n",
              "  }\n",
              "\n",
              "  function register_renderer(events, OutputArea) {\n",
              "\n",
              "    function append_mime(data, metadata, element) {\n",
              "      // create a DOM node to render to\n",
              "      const toinsert = this.create_output_subarea(\n",
              "        metadata,\n",
              "        CLASS_NAME,\n",
              "        EXEC_MIME_TYPE\n",
              "      );\n",
              "      this.keyboard_manager.register_events(toinsert);\n",
              "      // Render to node\n",
              "      const props = {data: data, metadata: metadata[EXEC_MIME_TYPE]};\n",
              "      render(props, toinsert[toinsert.length - 1]);\n",
              "      element.append(toinsert);\n",
              "      return toinsert\n",
              "    }\n",
              "\n",
              "    /* Handle when an output is cleared or removed */\n",
              "    events.on('clear_output.CodeCell', handleClearOutput);\n",
              "    events.on('delete.Cell', handleClearOutput);\n",
              "\n",
              "    /* Handle when a new output is added */\n",
              "    events.on('output_added.OutputArea', handleAddOutput);\n",
              "\n",
              "    /**\n",
              "     * Register the mime type and append_mime function with output_area\n",
              "     */\n",
              "    OutputArea.prototype.register_mime_type(EXEC_MIME_TYPE, append_mime, {\n",
              "      /* Is output safe? */\n",
              "      safe: true,\n",
              "      /* Index of renderer in `output_area.display_order` */\n",
              "      index: 0\n",
              "    });\n",
              "  }\n",
              "\n",
              "  // register the mime type if in Jupyter Notebook environment and previously unregistered\n",
              "  if (root.Jupyter !== undefined) {\n",
              "    const events = require('base/js/events');\n",
              "    const OutputArea = require('notebook/js/outputarea').OutputArea;\n",
              "\n",
              "    if (OutputArea.prototype.mime_types().indexOf(EXEC_MIME_TYPE) == -1) {\n",
              "      register_renderer(events, OutputArea);\n",
              "    }\n",
              "  }\n",
              "  if (typeof (root._bokeh_timeout) === \"undefined\" || force === true) {\n",
              "    root._bokeh_timeout = Date.now() + 5000;\n",
              "    root._bokeh_failed_load = false;\n",
              "  }\n",
              "\n",
              "  const NB_LOAD_WARNING = {'data': {'text/html':\n",
              "     \"<div style='background-color: #fdd'>\\n\"+\n",
              "     \"<p>\\n\"+\n",
              "     \"BokehJS does not appear to have successfully loaded. If loading BokehJS from CDN, this \\n\"+\n",
              "     \"may be due to a slow or bad network connection. Possible fixes:\\n\"+\n",
              "     \"</p>\\n\"+\n",
              "     \"<ul>\\n\"+\n",
              "     \"<li>re-rerun `output_notebook()` to attempt to load from CDN again, or</li>\\n\"+\n",
              "     \"<li>use INLINE resources instead, as so:</li>\\n\"+\n",
              "     \"</ul>\\n\"+\n",
              "     \"<code>\\n\"+\n",
              "     \"from bokeh.resources import INLINE\\n\"+\n",
              "     \"output_notebook(resources=INLINE)\\n\"+\n",
              "     \"</code>\\n\"+\n",
              "     \"</div>\"}};\n",
              "\n",
              "  function display_loaded() {\n",
              "    const el = document.getElementById(null);\n",
              "    if (el != null) {\n",
              "      el.textContent = \"BokehJS is loading...\";\n",
              "    }\n",
              "    if (root.Bokeh !== undefined) {\n",
              "      if (el != null) {\n",
              "        el.textContent = \"BokehJS \" + root.Bokeh.version + \" successfully loaded.\";\n",
              "      }\n",
              "    } else if (Date.now() < root._bokeh_timeout) {\n",
              "      setTimeout(display_loaded, 100)\n",
              "    }\n",
              "  }\n",
              "\n",
              "  function run_callbacks() {\n",
              "    try {\n",
              "      root._bokeh_onload_callbacks.forEach(function(callback) {\n",
              "        if (callback != null)\n",
              "          callback();\n",
              "      });\n",
              "    } finally {\n",
              "      delete root._bokeh_onload_callbacks\n",
              "    }\n",
              "    console.debug(\"Bokeh: all callbacks have finished\");\n",
              "  }\n",
              "\n",
              "  function load_libs(css_urls, js_urls, callback) {\n",
              "    if (css_urls == null) css_urls = [];\n",
              "    if (js_urls == null) js_urls = [];\n",
              "\n",
              "    root._bokeh_onload_callbacks.push(callback);\n",
              "    if (root._bokeh_is_loading > 0) {\n",
              "      console.debug(\"Bokeh: BokehJS is being loaded, scheduling callback at\", now());\n",
              "      return null;\n",
              "    }\n",
              "    if (js_urls == null || js_urls.length === 0) {\n",
              "      run_callbacks();\n",
              "      return null;\n",
              "    }\n",
              "    console.debug(\"Bokeh: BokehJS not loaded, scheduling load and callback at\", now());\n",
              "    root._bokeh_is_loading = css_urls.length + js_urls.length;\n",
              "\n",
              "    function on_load() {\n",
              "      root._bokeh_is_loading--;\n",
              "      if (root._bokeh_is_loading === 0) {\n",
              "        console.debug(\"Bokeh: all BokehJS libraries/stylesheets loaded\");\n",
              "        run_callbacks()\n",
              "      }\n",
              "    }\n",
              "\n",
              "    function on_error(url) {\n",
              "      console.error(\"failed to load \" + url);\n",
              "    }\n",
              "\n",
              "    for (let i = 0; i < css_urls.length; i++) {\n",
              "      const url = css_urls[i];\n",
              "      const element = document.createElement(\"link\");\n",
              "      element.onload = on_load;\n",
              "      element.onerror = on_error.bind(null, url);\n",
              "      element.rel = \"stylesheet\";\n",
              "      element.type = \"text/css\";\n",
              "      element.href = url;\n",
              "      console.debug(\"Bokeh: injecting link tag for BokehJS stylesheet: \", url);\n",
              "      document.body.appendChild(element);\n",
              "    }\n",
              "\n",
              "    for (let i = 0; i < js_urls.length; i++) {\n",
              "      const url = js_urls[i];\n",
              "      const element = document.createElement('script');\n",
              "      element.onload = on_load;\n",
              "      element.onerror = on_error.bind(null, url);\n",
              "      element.async = false;\n",
              "      element.src = url;\n",
              "      console.debug(\"Bokeh: injecting script tag for BokehJS library: \", url);\n",
              "      document.head.appendChild(element);\n",
              "    }\n",
              "  };\n",
              "\n",
              "  function inject_raw_css(css) {\n",
              "    const element = document.createElement(\"style\");\n",
              "    element.appendChild(document.createTextNode(css));\n",
              "    document.body.appendChild(element);\n",
              "  }\n",
              "\n",
              "  const js_urls = [\"https://cdn.bokeh.org/bokeh/release/bokeh-2.4.3.min.js\", \"https://cdn.bokeh.org/bokeh/release/bokeh-gl-2.4.3.min.js\", \"https://cdn.bokeh.org/bokeh/release/bokeh-widgets-2.4.3.min.js\", \"https://cdn.bokeh.org/bokeh/release/bokeh-tables-2.4.3.min.js\", \"https://cdn.bokeh.org/bokeh/release/bokeh-mathjax-2.4.3.min.js\"];\n",
              "  const css_urls = [];\n",
              "\n",
              "  const inline_js = [    function(Bokeh) {\n",
              "      Bokeh.set_log_level(\"info\");\n",
              "    },\n",
              "function(Bokeh) {\n",
              "    }\n",
              "  ];\n",
              "\n",
              "  function run_inline_js() {\n",
              "    if (root.Bokeh !== undefined || force === true) {\n",
              "          for (let i = 0; i < inline_js.length; i++) {\n",
              "      inline_js[i].call(root, root.Bokeh);\n",
              "    }\n",
              "} else if (Date.now() < root._bokeh_timeout) {\n",
              "      setTimeout(run_inline_js, 100);\n",
              "    } else if (!root._bokeh_failed_load) {\n",
              "      console.log(\"Bokeh: BokehJS failed to load within specified timeout.\");\n",
              "      root._bokeh_failed_load = true;\n",
              "    } else if (force !== true) {\n",
              "      const cell = $(document.getElementById(null)).parents('.cell').data().cell;\n",
              "      cell.output_area.append_execute_result(NB_LOAD_WARNING)\n",
              "    }\n",
              "  }\n",
              "\n",
              "  if (root._bokeh_is_loading === 0) {\n",
              "    console.debug(\"Bokeh: BokehJS loaded, going straight to plotting\");\n",
              "    run_inline_js();\n",
              "  } else {\n",
              "    load_libs(css_urls, js_urls, function() {\n",
              "      console.debug(\"Bokeh: BokehJS plotting callback run at\", now());\n",
              "      run_inline_js();\n",
              "    });\n",
              "  }\n",
              "}(window));"
            ],
            "application/vnd.bokehjs_load.v0+json": "(function(root) {\n  function now() {\n    return new Date();\n  }\n\n  const force = true;\n\n  if (typeof root._bokeh_onload_callbacks === \"undefined\" || force === true) {\n    root._bokeh_onload_callbacks = [];\n    root._bokeh_is_loading = undefined;\n  }\n\n\n  if (typeof (root._bokeh_timeout) === \"undefined\" || force === true) {\n    root._bokeh_timeout = Date.now() + 5000;\n    root._bokeh_failed_load = false;\n  }\n\n  const NB_LOAD_WARNING = {'data': {'text/html':\n     \"<div style='background-color: #fdd'>\\n\"+\n     \"<p>\\n\"+\n     \"BokehJS does not appear to have successfully loaded. If loading BokehJS from CDN, this \\n\"+\n     \"may be due to a slow or bad network connection. Possible fixes:\\n\"+\n     \"</p>\\n\"+\n     \"<ul>\\n\"+\n     \"<li>re-rerun `output_notebook()` to attempt to load from CDN again, or</li>\\n\"+\n     \"<li>use INLINE resources instead, as so:</li>\\n\"+\n     \"</ul>\\n\"+\n     \"<code>\\n\"+\n     \"from bokeh.resources import INLINE\\n\"+\n     \"output_notebook(resources=INLINE)\\n\"+\n     \"</code>\\n\"+\n     \"</div>\"}};\n\n  function display_loaded() {\n    const el = document.getElementById(null);\n    if (el != null) {\n      el.textContent = \"BokehJS is loading...\";\n    }\n    if (root.Bokeh !== undefined) {\n      if (el != null) {\n        el.textContent = \"BokehJS \" + root.Bokeh.version + \" successfully loaded.\";\n      }\n    } else if (Date.now() < root._bokeh_timeout) {\n      setTimeout(display_loaded, 100)\n    }\n  }\n\n  function run_callbacks() {\n    try {\n      root._bokeh_onload_callbacks.forEach(function(callback) {\n        if (callback != null)\n          callback();\n      });\n    } finally {\n      delete root._bokeh_onload_callbacks\n    }\n    console.debug(\"Bokeh: all callbacks have finished\");\n  }\n\n  function load_libs(css_urls, js_urls, callback) {\n    if (css_urls == null) css_urls = [];\n    if (js_urls == null) js_urls = [];\n\n    root._bokeh_onload_callbacks.push(callback);\n    if (root._bokeh_is_loading > 0) {\n      console.debug(\"Bokeh: BokehJS is being loaded, scheduling callback at\", now());\n      return null;\n    }\n    if (js_urls == null || js_urls.length === 0) {\n      run_callbacks();\n      return null;\n    }\n    console.debug(\"Bokeh: BokehJS not loaded, scheduling load and callback at\", now());\n    root._bokeh_is_loading = css_urls.length + js_urls.length;\n\n    function on_load() {\n      root._bokeh_is_loading--;\n      if (root._bokeh_is_loading === 0) {\n        console.debug(\"Bokeh: all BokehJS libraries/stylesheets loaded\");\n        run_callbacks()\n      }\n    }\n\n    function on_error(url) {\n      console.error(\"failed to load \" + url);\n    }\n\n    for (let i = 0; i < css_urls.length; i++) {\n      const url = css_urls[i];\n      const element = document.createElement(\"link\");\n      element.onload = on_load;\n      element.onerror = on_error.bind(null, url);\n      element.rel = \"stylesheet\";\n      element.type = \"text/css\";\n      element.href = url;\n      console.debug(\"Bokeh: injecting link tag for BokehJS stylesheet: \", url);\n      document.body.appendChild(element);\n    }\n\n    for (let i = 0; i < js_urls.length; i++) {\n      const url = js_urls[i];\n      const element = document.createElement('script');\n      element.onload = on_load;\n      element.onerror = on_error.bind(null, url);\n      element.async = false;\n      element.src = url;\n      console.debug(\"Bokeh: injecting script tag for BokehJS library: \", url);\n      document.head.appendChild(element);\n    }\n  };\n\n  function inject_raw_css(css) {\n    const element = document.createElement(\"style\");\n    element.appendChild(document.createTextNode(css));\n    document.body.appendChild(element);\n  }\n\n  const js_urls = [\"https://cdn.bokeh.org/bokeh/release/bokeh-2.4.3.min.js\", \"https://cdn.bokeh.org/bokeh/release/bokeh-gl-2.4.3.min.js\", \"https://cdn.bokeh.org/bokeh/release/bokeh-widgets-2.4.3.min.js\", \"https://cdn.bokeh.org/bokeh/release/bokeh-tables-2.4.3.min.js\", \"https://cdn.bokeh.org/bokeh/release/bokeh-mathjax-2.4.3.min.js\"];\n  const css_urls = [];\n\n  const inline_js = [    function(Bokeh) {\n      Bokeh.set_log_level(\"info\");\n    },\nfunction(Bokeh) {\n    }\n  ];\n\n  function run_inline_js() {\n    if (root.Bokeh !== undefined || force === true) {\n          for (let i = 0; i < inline_js.length; i++) {\n      inline_js[i].call(root, root.Bokeh);\n    }\n} else if (Date.now() < root._bokeh_timeout) {\n      setTimeout(run_inline_js, 100);\n    } else if (!root._bokeh_failed_load) {\n      console.log(\"Bokeh: BokehJS failed to load within specified timeout.\");\n      root._bokeh_failed_load = true;\n    } else if (force !== true) {\n      const cell = $(document.getElementById(null)).parents('.cell').data().cell;\n      cell.output_area.append_execute_result(NB_LOAD_WARNING)\n    }\n  }\n\n  if (root._bokeh_is_loading === 0) {\n    console.debug(\"Bokeh: BokehJS loaded, going straight to plotting\");\n    run_inline_js();\n  } else {\n    load_libs(css_urls, js_urls, function() {\n      console.debug(\"Bokeh: BokehJS plotting callback run at\", now());\n      run_inline_js();\n    });\n  }\n}(window));"
          },
          "metadata": {}
        },
        {
          "output_type": "display_data",
          "data": {
            "text/html": [
              "\n",
              "  <div class=\"bk-root\" id=\"3d8acc6e-357c-4d17-9080-eefaf0998949\" data-root-id=\"1113\"></div>\n"
            ]
          },
          "metadata": {}
        },
        {
          "output_type": "display_data",
          "data": {
            "application/javascript": [
              "(function(root) {\n",
              "  function embed_document(root) {\n",
              "  const docs_json = {\"7c36a4e7-ff29-4bbb-aadf-4d3c16ca2ec6\":{\"defs\":[],\"roots\":{\"references\":[{\"attributes\":{\"below\":[{\"id\":\"1122\"}],\"center\":[{\"id\":\"1125\"},{\"id\":\"1129\"}],\"height\":400,\"left\":[{\"id\":\"1126\"}],\"renderers\":[{\"id\":\"1148\"}],\"title\":{\"id\":\"1163\"},\"toolbar\":{\"id\":\"1137\"},\"x_range\":{\"id\":\"1114\"},\"x_scale\":{\"id\":\"1118\"},\"y_range\":{\"id\":\"1116\"},\"y_scale\":{\"id\":\"1120\"}},\"id\":\"1113\",\"subtype\":\"Figure\",\"type\":\"Plot\"},{\"attributes\":{},\"id\":\"1123\",\"type\":\"BasicTicker\"},{\"attributes\":{},\"id\":\"1135\",\"type\":\"HelpTool\"},{\"attributes\":{},\"id\":\"1120\",\"type\":\"LinearScale\"},{\"attributes\":{},\"id\":\"1118\",\"type\":\"LinearScale\"},{\"attributes\":{},\"id\":\"1166\",\"type\":\"BasicTickFormatter\"},{\"attributes\":{\"source\":{\"id\":\"1112\"}},\"id\":\"1149\",\"type\":\"CDSView\"},{\"attributes\":{},\"id\":\"1167\",\"type\":\"AllLabels\"},{\"attributes\":{},\"id\":\"1169\",\"type\":\"BasicTickFormatter\"},{\"attributes\":{\"bottom_units\":\"screen\",\"coordinates\":null,\"fill_alpha\":0.5,\"fill_color\":\"lightgrey\",\"group\":null,\"left_units\":\"screen\",\"level\":\"overlay\",\"line_alpha\":1.0,\"line_color\":\"black\",\"line_dash\":[4,4],\"line_width\":2,\"right_units\":\"screen\",\"syncable\":false,\"top_units\":\"screen\"},\"id\":\"1136\",\"type\":\"BoxAnnotation\"},{\"attributes\":{},\"id\":\"1170\",\"type\":\"AllLabels\"},{\"attributes\":{\"active_scroll\":{\"id\":\"1131\"},\"tools\":[{\"id\":\"1130\"},{\"id\":\"1131\"},{\"id\":\"1132\"},{\"id\":\"1133\"},{\"id\":\"1134\"},{\"id\":\"1135\"},{\"id\":\"1150\"}]},\"id\":\"1137\",\"type\":\"Toolbar\"},{\"attributes\":{\"callback\":null,\"tooltips\":[[\"token\",\"@token\"]]},\"id\":\"1150\",\"type\":\"HoverTool\"},{\"attributes\":{},\"id\":\"1171\",\"type\":\"UnionRenderers\"},{\"attributes\":{},\"id\":\"1134\",\"type\":\"ResetTool\"},{\"attributes\":{},\"id\":\"1133\",\"type\":\"SaveTool\"},{\"attributes\":{\"overlay\":{\"id\":\"1136\"}},\"id\":\"1132\",\"type\":\"BoxZoomTool\"},{\"attributes\":{},\"id\":\"1172\",\"type\":\"Selection\"},{\"attributes\":{},\"id\":\"1130\",\"type\":\"PanTool\"},{\"attributes\":{\"coordinates\":null,\"data_source\":{\"id\":\"1112\"},\"glyph\":{\"id\":\"1145\"},\"group\":null,\"hover_glyph\":null,\"muted_glyph\":{\"id\":\"1147\"},\"nonselection_glyph\":{\"id\":\"1146\"},\"view\":{\"id\":\"1149\"}},\"id\":\"1148\",\"type\":\"GlyphRenderer\"},{\"attributes\":{},\"id\":\"1131\",\"type\":\"WheelZoomTool\"},{\"attributes\":{\"fill_alpha\":{\"value\":0.1},\"fill_color\":{\"field\":\"color\"},\"hatch_alpha\":{\"value\":0.1},\"hatch_color\":{\"field\":\"color\"},\"line_alpha\":{\"value\":0.1},\"line_color\":{\"field\":\"color\"},\"size\":{\"value\":10},\"x\":{\"field\":\"x\"},\"y\":{\"field\":\"y\"}},\"id\":\"1146\",\"type\":\"Scatter\"},{\"attributes\":{},\"id\":\"1127\",\"type\":\"BasicTicker\"},{\"attributes\":{},\"id\":\"1114\",\"type\":\"DataRange1d\"},{\"attributes\":{\"axis\":{\"id\":\"1126\"},\"coordinates\":null,\"dimension\":1,\"group\":null,\"ticker\":null},\"id\":\"1129\",\"type\":\"Grid\"},{\"attributes\":{\"coordinates\":null,\"group\":null},\"id\":\"1163\",\"type\":\"Title\"},{\"attributes\":{\"coordinates\":null,\"formatter\":{\"id\":\"1166\"},\"group\":null,\"major_label_policy\":{\"id\":\"1167\"},\"ticker\":{\"id\":\"1127\"}},\"id\":\"1126\",\"type\":\"LinearAxis\"},{\"attributes\":{\"data\":{\"color\":[\"green\",\"green\",\"green\",\"green\",\"green\",\"green\",\"green\",\"green\",\"green\",\"green\",\"green\",\"green\",\"green\",\"green\",\"green\",\"green\",\"green\",\"green\",\"green\",\"green\",\"green\",\"green\",\"green\",\"green\",\"green\",\"green\",\"green\",\"green\",\"green\",\"green\",\"green\",\"green\",\"green\",\"green\",\"green\",\"green\",\"green\",\"green\",\"green\",\"green\",\"green\",\"green\",\"green\",\"green\",\"green\",\"green\",\"green\",\"green\",\"green\",\"green\",\"green\",\"green\",\"green\",\"green\",\"green\",\"green\",\"green\",\"green\",\"green\",\"green\",\"green\",\"green\",\"green\",\"green\"],\"token\":[\"UNK\",\"the\",\"of\",\"and\",\"one\",\"in\",\"a\",\"to\",\"zero\",\"nine\",\"two\",\"is\",\"as\",\"eight\",\"for\",\"s\",\"five\",\"three\",\"was\",\"by\",\"that\",\"four\",\"six\",\"seven\",\"with\",\"on\",\"are\",\"it\",\"from\",\"or\",\"his\",\"an\",\"be\",\"this\",\"which\",\"at\",\"he\",\"also\",\"not\",\"have\",\"were\",\"has\",\"but\",\"other\",\"their\",\"its\",\"first\",\"they\",\"some\",\"had\",\"all\",\"more\",\"most\",\"can\",\"been\",\"such\",\"many\",\"who\",\"new\",\"used\",\"there\",\"after\",\"when\",\"into\",\"american\",\"time\",\"these\",\"only\",\"see\",\"may\",\"than\",\"world\",\"i\",\"b\",\"would\",\"d\",\"no\",\"however\",\"between\",\"about\",\"over\",\"years\",\"states\",\"people\",\"war\",\"during\",\"united\",\"known\",\"if\",\"called\",\"use\",\"th\",\"system\",\"often\",\"state\",\"so\",\"history\",\"will\",\"up\",\"while\",\"where\",\"city\",\"being\",\"english\",\"then\",\"any\",\"both\",\"under\",\"out\",\"made\",\"well\",\"her\",\"e\",\"number\",\"government\",\"them\",\"m\",\"later\",\"since\",\"him\",\"part\",\"name\",\"c\",\"century\",\"through\",\"because\",\"x\",\"university\",\"early\",\"life\",\"british\",\"year\",\"like\",\"same\",\"including\",\"became\",\"example\",\"day\",\"each\",\"even\",\"work\",\"language\",\"although\",\"several\",\"form\",\"john\",\"u\",\"national\",\"very\",\"much\",\"g\",\"french\",\"before\",\"general\",\"what\",\"t\",\"against\",\"n\",\"high\",\"links\",\"could\",\"based\",\"those\",\"now\",\"second\",\"de\",\"music\",\"another\",\"large\",\"she\",\"f\",\"external\",\"german\",\"different\",\"modern\",\"great\",\"do\",\"common\",\"set\",\"list\",\"south\",\"series\",\"major\",\"game\",\"power\",\"long\",\"country\",\"king\",\"law\",\"group\",\"film\",\"still\",\"until\",\"north\",\"international\",\"term\",\"we\",\"end\",\"book\",\"found\",\"own\",\"political\",\"party\",\"order\",\"usually\",\"president\",\"church\",\"you\",\"death\",\"theory\",\"area\",\"around\",\"include\",\"god\",\"ii\",\"way\",\"did\",\"military\",\"population\",\"using\",\"though\",\"small\",\"following\",\"within\",\"non\",\"human\",\"left\",\"main\",\"among\",\"point\",\"r\",\"due\",\"p\",\"considered\",\"public\",\"popular\",\"computer\",\"west\",\"family\",\"east\",\"information\",\"important\",\"european\",\"man\",\"sometimes\",\"right\",\"old\",\"free\",\"word\",\"without\",\"last\",\"us\",\"members\",\"given\",\"times\",\"roman\",\"make\",\"h\",\"age\",\"place\",\"l\",\"thus\",\"science\",\"case\",\"become\",\"systems\",\"union\",\"born\",\"york\",\"line\",\"countries\",\"does\",\"isbn\",\"st\",\"control\",\"various\",\"others\",\"house\",\"article\",\"island\",\"should\",\"led\",\"back\",\"period\",\"player\",\"europe\",\"languages\",\"central\",\"water\",\"few\",\"western\",\"home\",\"began\",\"generally\",\"less\",\"k\",\"similar\",\"written\",\"original\",\"best\",\"must\",\"according\",\"school\",\"france\",\"air\",\"single\",\"force\",\"v\",\"land\",\"groups\",\"down\",\"how\",\"works\",\"development\",\"official\",\"support\",\"england\",\"j\",\"rather\",\"data\",\"space\",\"greek\",\"km\",\"named\",\"germany\",\"just\",\"games\",\"said\",\"version\",\"late\",\"earth\",\"company\",\"every\",\"economic\",\"short\",\"published\",\"black\",\"army\",\"off\",\"london\",\"million\",\"body\",\"field\",\"christian\",\"either\",\"social\",\"empire\",\"o\",\"developed\",\"standard\",\"court\",\"service\",\"kingdom\",\"along\",\"college\",\"republic\",\"sea\",\"america\",\"today\",\"result\",\"held\",\"team\",\"light\",\"means\",\"never\",\"especially\",\"third\",\"further\",\"character\",\"forces\",\"take\",\"men\",\"society\",\"show\",\"open\",\"possible\",\"fact\",\"battle\",\"took\",\"former\",\"books\",\"soviet\",\"river\",\"children\",\"having\",\"good\",\"local\",\"current\",\"son\",\"process\",\"natural\",\"present\",\"himself\",\"islands\",\"total\",\"near\",\"white\",\"days\",\"person\",\"itself\",\"seen\",\"culture\",\"little\",\"above\",\"software\",\"largest\",\"words\",\"upon\",\"level\",\"father\",\"created\",\"side\",\"red\",\"references\",\"press\",\"full\",\"region\",\"almost\",\"image\",\"al\",\"famous\",\"play\",\"came\",\"role\",\"once\",\"certain\",\"league\",\"jewish\",\"james\",\"january\",\"site\",\"again\",\"numbers\",\"art\",\"member\",\"areas\",\"movement\",\"religious\",\"type\",\"march\",\"community\",\"story\",\"played\",\"production\",\"released\",\"center\",\"rights\",\"real\",\"related\",\"foreign\",\"low\",\"ancient\",\"terms\",\"view\",\"source\",\"act\",\"minister\",\"change\",\"energy\",\"produced\",\"research\",\"actor\",\"making\",\"civil\",\"december\",\"women\",\"special\",\"style\",\"william\",\"design\",\"japanese\",\"available\",\"chinese\",\"forms\",\"canada\",\"northern\",\"died\",\"class\",\"living\",\"next\",\"particular\",\"program\",\"council\",\"television\",\"head\",\"david\",\"china\",\"middle\",\"established\",\"hand\",\"bc\",\"far\",\"july\",\"function\",\"position\",\"y\",\"built\",\"george\",\"band\",\"together\",\"w\",\"latin\",\"thought\",\"eastern\",\"charles\",\"parts\",\"instead\",\"study\",\"might\",\"india\",\"code\",\"included\",\"meaning\",\"trade\",\"per\",\"june\",\"least\",\"half\",\"model\",\"economy\",\"prime\",\"traditional\",\"always\",\"capital\",\"range\",\"november\",\"emperor\",\"young\",\"anti\",\"final\",\"text\",\"players\",\"uk\",\"april\",\"run\",\"september\",\"addition\",\"radio\",\"live\",\"august\",\"taken\",\"note\",\"italian\",\"lost\",\"nature\",\"project\",\"technology\",\"spanish\",\"october\",\"recent\",\"rate\",\"won\",\"true\",\"value\",\"uses\",\"russian\",\"est\",\"wrote\",\"effect\",\"album\",\"southern\",\"africa\",\"whose\",\"top\",\"historical\",\"australia\",\"catholic\",\"particularly\",\"self\",\"structure\",\"record\",\"evidence\",\"rule\",\"themselves\",\"influence\",\"cases\",\"subject\",\"referred\",\"continued\",\"nations\",\"below\",\"rock\",\"japan\",\"com\",\"song\",\"throughout\",\"names\",\"female\",\"title\",\"therefore\",\"our\",\"office\",\"star\",\"paul\",\"too\",\"cities\",\"february\",\"independent\",\"author\",\"problem\",\"species\",\"education\",\"done\",\"philosophy\",\"come\",\"higher\",\"originally\",\"market\",\"town\",\"my\",\"season\",\"love\",\"strong\",\"israel\",\"irish\",\"writer\",\"films\",\"elements\",\"robert\",\"whether\",\"despite\",\"eventually\",\"here\",\"football\",\"action\",\"internet\",\"individual\",\"sound\",\"network\",\"described\",\"practice\",\"characters\",\"re\",\"royal\",\"la\",\"events\",\"formed\",\"commonly\",\"base\",\"received\",\"african\",\"problems\",\"food\",\"jews\",\"able\",\"male\",\"typically\",\"mass\",\"complex\",\"lower\",\"includes\",\"outside\",\"legal\",\"complete\",\"significant\",\"parliament\",\"actually\",\"business\",\"fiction\",\"physical\",\"followed\",\"deaths\",\"key\",\"leader\",\"widely\",\"page\",\"basic\",\"types\",\"henry\",\"elected\",\"beginning\",\"fire\",\"building\",\"independence\",\"went\",\"movie\",\"aircraft\",\"ever\",\"canadian\",\"material\",\"births\",\"video\",\"news\",\"future\",\"scientific\",\"simply\",\"go\",\"defined\",\"laws\",\"get\",\"close\",\"industry\",\"specific\",\"examples\",\"believe\",\"services\",\"idea\",\"method\",\"introduced\",\"points\",\"return\",\"cause\",\"indian\",\"britain\",\"features\",\"majority\",\"size\",\"post\",\"lead\",\"organization\",\"cannot\",\"designed\",\"ireland\",\"cross\",\"classical\",\"personal\",\"writing\",\"concept\",\"associated\",\"required\",\"soon\",\"changes\",\"california\",\"located\",\"sense\",\"believed\",\"away\",\"started\",\"co\",\"religion\",\"mother\",\"county\",\"rules\",\"studies\",\"yet\",\"find\",\"knowledge\",\"put\",\"founded\",\"policy\",\"currently\",\"provide\",\"working\",\"media\",\"election\",\"australian\",\"me\",\"thomas\",\"allowed\",\"russia\",\"earlier\",\"greater\",\"limited\",\"object\",\"brought\",\"online\",\"association\",\"lord\",\"mostly\",\"blue\",\"constitution\",\"across\",\"added\",\"interest\",\"things\",\"relations\",\"speed\",\"federal\",\"singer\",\"effects\",\"growth\",\"sources\",\"your\",\"remains\",\"z\",\"probably\",\"gave\",\"simple\",\"attack\",\"longer\",\"reference\",\"saint\",\"success\",\"killed\",\"past\",\"career\",\"need\",\"park\",\"definition\",\"say\",\"etc\",\"give\",\"peace\",\"chief\",\"stories\",\"security\",\"wide\",\"ball\",\"saw\",\"machine\",\"better\",\"cell\",\"leading\",\"becomes\",\"spain\",\"larger\",\"products\",\"parties\",\"night\",\"remained\",\"prize\",\"months\",\"website\",\"big\",\"cultural\",\"money\",\"help\",\"territory\",\"private\",\"moved\",\"letter\",\"wife\",\"politics\",\"lines\",\"largely\",\"contains\",\"companies\",\"lake\",\"perhaps\",\"green\",\"already\",\"dead\",\"iii\",\"library\",\"separate\",\"refer\",\"makes\",\"appeared\",\"dutch\",\"holy\",\"era\",\"novel\",\"successful\",\"italy\",\"letters\",\"results\",\"matter\",\"produce\",\"origin\",\"claim\",\"whole\",\"directly\",\"attempt\",\"actress\",\"surface\",\"revolution\",\"highly\",\"caused\",\"status\",\"musical\",\"richard\",\"commercial\",\"division\",\"color\",\"health\",\"coast\",\"release\",\"latter\",\"authority\",\"treaty\",\"turn\",\"michael\",\"nation\",\"direct\",\"asia\",\"edition\",\"programming\",\"playing\",\"date\",\"mary\",\"native\",\"whom\",\"married\",\"towards\",\"issues\",\"double\",\"primary\",\"basis\",\"allow\",\"enough\",\"memory\",\"reason\",\"web\",\"exist\",\"provided\",\"oil\",\"course\",\"functions\",\"alexander\",\"analysis\",\"chemical\",\"mid\",\"replaced\",\"queen\",\"claims\",\"tv\",\"sun\",\"literature\",\"metal\",\"amount\",\"divided\",\"blood\",\"likely\",\"access\",\"average\",\"length\",\"smaller\",\"medical\",\"property\",\"students\",\"degree\",\"elections\",\"club\",\"claimed\",\"performance\",\"director\",\"digital\",\"front\",\"museum\",\"difficult\",\"tradition\",\"nearly\",\"schools\",\"washington\",\"gas\",\"jesus\",\"map\",\"louis\",\"rome\",\"unit\",\"baseball\",\"mind\",\"peter\",\"mark\",\"collection\",\"product\",\"congress\",\"programs\",\"changed\",\"ideas\",\"moon\",\"entire\",\"user\",\"ground\",\"records\",\"frequently\",\"increase\",\"highest\",\"sent\",\"finally\",\"board\",\"don\",\"notable\",\"read\",\"methods\",\"recently\",\"bit\",\"involved\",\"variety\",\"call\",\"democratic\",\"ten\",\"served\",\"minor\",\"hard\",\"birth\",\"objects\",\"nuclear\",\"increased\",\"section\",\"street\",\"windows\",\"relatively\",\"car\",\"move\",\"create\",\"returned\",\"bank\",\"conditions\",\"operation\",\"adopted\",\"relationship\",\"christ\",\"hall\",\"appear\",\"rest\",\"child\",\"element\",\"appears\",\"takes\",\"fall\",\"bbc\",\"animals\",\"existence\",\"discovered\",\"units\",\"know\",\"heavy\",\"assembly\",\"universe\",\"file\",\"smith\",\"numerous\",\"woman\",\"award\",\"mean\",\"behind\",\"liberal\",\"except\",\"scale\",\"bill\",\"operating\",\"active\",\"construction\",\"institute\",\"taking\",\"pressure\",\"san\",\"experience\",\"account\",\"engine\",\"brother\",\"primarily\",\"recorded\",\"joseph\",\"issue\",\"professional\",\"troops\",\"notes\",\"pope\",\"centre\",\"ice\",\"orthodox\",\"question\",\"something\",\"defense\",\"accepted\",\"grand\",\"mathematics\",\"event\",\"resources\",\"dr\",\"egypt\",\"derived\",\"applied\",\"paris\",\"powers\",\"running\",\"stage\",\"additional\",\"shows\",\"prince\",\"placed\",\"instance\",\"creation\",\"lived\",\"freedom\",\"alternative\",\"http\",\"hit\",\"magazine\",\"nobel\",\"engineering\",\"square\",\"mainly\",\"rise\",\"hold\",\"gold\",\"pre\",\"versions\",\"road\",\"report\",\"test\",\"operations\",\"frac\",\"older\",\"arts\",\"quite\",\"applications\",\"marriage\",\"proposed\",\"channel\",\"shown\",\"consists\",\"bible\",\"governor\",\"police\",\"articles\",\"ocean\",\"cost\",\"writers\",\"volume\",\"previous\",\"race\",\"cells\",\"scotland\",\"levels\",\"regions\",\"quickly\",\"properties\",\"duke\",\"normal\",\"techniques\",\"start\",\"songs\",\"ways\",\"introduction\",\"ability\",\"communist\",\"passed\",\"navy\",\"purpose\",\"approximately\",\"composer\",\"equal\",\"appointed\",\"committee\",\"ed\",\"centuries\",\"table\",\"forced\",\"lack\",\"individuals\",\"places\",\"chicago\",\"belief\",\"consider\",\"hebrew\",\"refers\",\"clear\",\"values\",\"dance\",\"agreement\",\"response\",\"temperature\",\"sexual\",\"comes\",\"faith\",\"environment\",\"paper\",\"climate\",\"carbon\",\"daughter\",\"electric\",\"www\",\"station\",\"ad\",\"speech\",\"sex\",\"ship\",\"evolution\",\"martin\",\"microsoft\",\"noted\",\"usa\",\"supported\",\"via\",\"industrial\",\"border\",\"feature\",\"christianity\",\"treatment\",\"motion\",\"management\",\"computers\",\"performed\",\"summer\",\"necessary\",\"intended\",\"miles\",\"calendar\",\"animal\",\"remain\",\"internal\",\"disease\",\"convention\",\"wars\",\"worked\",\"flight\",\"round\",\"acts\",\"kind\",\"multiple\",\"reading\",\"labour\",\"physics\",\"speaking\",\"users\",\"signed\",\"brown\",\"critical\",\"sir\",\"bridge\",\"mathematical\",\"billion\",\"sets\",\"translation\",\"regarded\",\"branch\",\"beyond\",\"von\",\"medicine\",\"ethnic\",\"polish\",\"write\",\"reached\",\"location\",\"conflict\",\"province\",\"sold\",\"remaining\",\"apple\",\"financial\",\"provides\",\"approach\",\"notably\",\"am\",\"administration\",\"heart\",\"stars\",\"campaign\",\"figure\",\"joined\",\"distribution\",\"theories\",\"port\",\"cut\",\"command\",\"tree\",\"models\",\"influenced\",\"distance\",\"conservative\",\"direction\",\"kings\",\"district\",\"why\",\"intelligence\",\"greece\",\"face\",\"q\",\"leaders\",\"cold\",\"guide\",\"activity\",\"humans\",\"opposition\",\"previously\",\"executive\",\"labor\",\"poor\",\"quality\",\"needed\",\"symbol\",\"logic\",\"extremely\",\"completely\",\"jean\",\"loss\",\"plan\",\"regular\",\"pacific\",\"vote\",\"contemporary\",\"allows\",\"department\",\"advanced\",\"edward\",\"occur\",\"powerful\",\"secret\",\"acid\",\"actual\",\"reported\",\"content\",\"unique\",\"gives\",\"poet\",\"context\",\"iron\",\"stated\",\"cover\",\"becoming\",\"poland\",\"justice\",\"prior\",\"fourth\",\"critics\",\"turned\",\"difference\",\"met\",\"weapons\",\"dark\",\"foundation\",\"na\",\"standards\",\"episode\",\"electronic\",\"address\",\"greatest\",\"musician\",\"usage\",\"fields\",\"featured\",\"training\",\"net\",\"scholars\",\"regional\",\"hours\",\"application\",\"inside\",\"unlike\",\"formal\",\"nd\",\"win\",\"describe\",\"ships\",\"sports\",\"churches\",\"resulting\",\"moving\",\"arabic\",\"et\",\"netherlands\",\"carried\",\"exchange\",\"failed\",\"reasons\",\"brain\",\"month\",\"shot\",\"continue\",\"responsible\",\"nor\",\"going\",\"format\",\"spread\",\"opposed\",\"org\",\"universal\",\"supreme\",\"scottish\",\"mexico\",\"architecture\",\"starting\",\"somewhat\",\"decision\",\"islamic\",\"argument\",\"oxford\",\"berlin\",\"activities\",\"keep\",\"views\",\"materials\",\"spoken\",\"biography\",\"potential\",\"technical\",\"pass\",\"kong\",\"follows\",\"declared\",\"attempts\",\"voice\",\"hands\",\"transport\",\"spirit\",\"indeed\",\"artist\",\"deal\",\"generation\",\"contain\",\"constant\",\"heat\",\"charge\",\"composed\",\"growing\",\"ended\",\"appearance\",\"cambridge\",\"geography\",\"represented\",\"le\",\"flag\",\"encyclopedia\",\"increasing\",\"possibly\",\"families\",\"seems\",\"el\",\"friends\",\"mission\",\"los\",\"dna\",\"upper\",\"look\",\"stations\",\"easily\",\"card\",\"principle\",\"academy\",\"identity\",\"equipment\",\"armed\",\"giving\",\"arab\",\"die\",\"global\",\"master\",\"christians\",\"extended\",\"announced\",\"reform\",\"positive\",\"comic\",\"muslim\",\"causes\",\"compared\",\"income\",\"choice\",\"arthur\",\"technique\",\"golden\",\"string\",\"cup\",\"protection\",\"attacks\",\"decided\",\"plant\",\"serious\",\"sign\",\"prevent\",\"immediately\",\"winter\",\"feet\",\"medieval\",\"fully\",\"efforts\",\"initially\",\"directed\",\"organizations\",\"exists\",\"extensive\",\"traditionally\",\"airport\",\"presence\",\"equivalent\",\"plants\",\"negative\",\"search\",\"argued\",\"deep\",\"fans\",\"austria\",\"link\",\"follow\",\"controlled\",\"alone\",\"valley\",\"combined\",\"signal\",\"occurs\",\"proved\",\"drive\",\"understanding\",\"imperial\",\"linear\",\"bay\",\"differences\",\"student\",\"van\",\"stone\",\"useful\",\"situation\",\"share\",\"serve\",\"distinct\",\"classic\",\"iv\",\"allowing\",\"effective\",\"mentioned\",\"solution\",\"drug\",\"require\",\"measure\",\"expected\",\"boy\",\"urban\",\"device\",\"citizens\",\"initial\",\"classes\",\"debate\",\"guitar\",\"secretary\",\"communities\",\"victory\",\"portuguese\",\"gained\",\"let\",\"nothing\",\"artists\",\"commission\",\"recognized\",\"horse\",\"relative\",\"judaism\",\"ford\",\"bass\",\"entirely\",\"teams\",\"actions\",\"conference\",\"weight\",\"fish\",\"hill\",\"represent\",\"politician\",\"begins\",\"completed\",\"writings\",\"gdp\",\"wing\",\"otherwise\",\"unknown\",\"aid\",\"ruled\",\"sites\",\"journal\",\"audio\",\"finland\",\"cards\",\"domestic\",\"behavior\",\"connected\",\"arms\",\"reaction\",\"earliest\",\"controversy\",\"mountain\",\"suggested\",\"trial\",\"attention\",\"containing\",\"workers\",\"principles\",\"sequence\",\"un\",\"host\",\"jerusalem\",\"literary\",\"cycle\",\"fuel\",\"officially\",\"reduced\",\"scientists\",\"travel\",\"figures\",\"americans\",\"prominent\",\"popularity\",\"fighting\",\"lincoln\",\"scene\",\"instruments\",\"structures\",\"ones\",\"increasingly\",\"frank\",\"iraq\",\"requires\",\"tend\",\"entry\",\"typical\",\"temple\",\"israeli\",\"statement\",\"track\",\"discussion\",\"says\",\"jack\",\"lives\",\"daily\",\"contrast\",\"goal\",\"frequency\",\"specifically\",\"rd\",\"impact\",\"winning\",\"fast\",\"review\",\"atlantic\",\"images\",\"texas\",\"description\",\"depending\",\"senate\",\"dynasty\",\"rich\",\"domain\",\"criticism\",\"islam\",\"importance\",\"inspired\",\"begin\",\"destroyed\",\"price\",\"friend\",\"jones\",\"contact\",\"mm\",\"entered\",\"devices\",\"closely\",\"invasion\",\"texts\",\"background\",\"mountains\",\"toward\",\"closed\",\"corporation\",\"wall\",\"removed\",\"afghanistan\",\"mythology\",\"zealand\",\"killing\",\"rare\",\"apollo\",\"jazz\",\"helped\",\"hong\",\"slightly\",\"quantum\",\"runs\",\"hot\",\"presidential\",\"attempted\",\"boston\",\"asked\",\"kept\",\"fixed\",\"dictionary\",\"agreed\",\"plays\",\"bishop\",\"alphabet\",\"determined\",\"sweden\",\"buildings\",\"traditions\",\"reign\",\"existing\",\"communications\",\"violence\",\"ages\",\"phase\",\"hydrogen\",\"controversial\",\"meant\",\"formation\",\"twenty\",\"thousands\",\"agriculture\",\"resulted\",\"movies\",\"occurred\",\"focus\",\"offered\",\"estimated\",\"heavily\",\"discovery\",\"mi\",\"tour\",\"comics\",\"zone\",\"ring\",\"connection\",\"develop\",\"governments\",\"aspects\",\"argue\",\"damage\",\"austrian\",\"albert\",\"ibm\",\"factors\",\"avoid\",\"combination\",\"combat\",\"pro\",\"affairs\",\"novels\",\"sum\",\"expansion\",\"doctrine\",\"competition\",\"hungary\",\"leadership\",\"category\",\"flow\",\"week\",\"genetic\",\"soldiers\",\"leaving\",\"opened\",\"os\",\"reports\",\"holds\",\"mac\",\"territories\",\"jackson\",\"step\",\"algorithm\",\"stop\",\"truth\",\"reality\",\"theorem\",\"fell\",\"room\",\"origins\",\"bob\",\"effort\",\"care\",\"instrument\",\"crown\",\"defeated\",\"democracy\",\"concepts\",\"hence\",\"picture\",\"permanent\",\"nazi\",\"protocol\",\"gun\",\"wikipedia\",\"tried\",\"fundamental\",\"professor\",\"planet\",\"christmas\",\"communication\",\"told\",\"topics\",\"presented\",\"identified\",\"beliefs\",\"statistics\",\"normally\",\"opening\",\"spent\",\"constitutional\",\"columbia\",\"annual\",\"subsequent\",\"evil\",\"extreme\",\"testament\",\"continues\",\"details\",\"gods\",\"supply\",\"institutions\",\"formula\",\"moral\",\"grew\",\"learning\",\"currency\",\"disk\",\"actors\",\"wanted\",\"fight\",\"defeat\",\"pronounced\",\"creating\",\"subsequently\",\"break\",\"output\",\"marked\",\"goods\",\"leave\",\"hardware\",\"cd\",\"broadcast\",\"bond\",\"thing\",\"environmental\",\"goes\",\"none\",\"decades\",\"forward\",\"expressed\",\"risk\",\"reach\",\"machines\",\"processes\",\"bodies\",\"census\",\"think\",\"lists\",\"glass\",\"organized\",\"pages\",\"murder\",\"vice\",\"angeles\",\"movements\",\"bush\",\"cultures\",\"respect\",\"meeting\",\"roughly\",\"stand\",\"fictional\",\"condition\",\"interpretation\",\"fantasy\",\"historians\",\"policies\",\"questions\",\"display\",\"copyright\",\"founder\",\"maintain\",\"lee\",\"mode\",\"positions\",\"fame\",\"import\",\"carry\",\"chosen\",\"linux\",\"swedish\",\"advantage\",\"raised\",\"observed\",\"receive\",\"formerly\",\"philosopher\",\"atoms\",\"server\",\"jpg\",\"sides\",\"brothers\",\"shortly\",\"resistance\",\"translated\",\"database\",\"super\",\"ch\",\"administrative\",\"message\",\"parents\",\"considerable\",\"shape\",\"target\",\"bad\",\"build\",\"extent\",\"plane\",\"understand\",\"tribes\",\"regarding\",\"mobile\",\"tower\",\"spring\",\"greatly\",\"studied\",\"brazil\",\"tax\",\"transportation\",\"characteristics\",\"wood\",\"railway\",\"screen\",\"needs\",\"equation\",\"piece\",\"chapter\",\"failure\",\"persian\",\"revolutionary\",\"respectively\",\"stock\",\"ordered\",\"pay\",\"chemistry\",\"proper\",\"split\",\"dog\",\"economics\",\"owned\",\"wave\",\"rates\",\"johnson\",\"doctor\",\"projects\",\"iran\",\"pp\",\"peoples\",\"philosophical\",\"match\",\"captain\",\"asian\",\"bring\",\"minutes\",\"symbols\",\"settlement\",\"bar\",\"relation\",\"covered\",\"seats\",\"awarded\",\"launched\",\"representation\",\"neither\",\"crime\",\"percent\",\"refused\",\"naval\",\"sister\",\"gain\",\"describes\",\"whereas\",\"ends\",\"perform\",\"satellite\",\"semi\",\"korea\",\"staff\",\"expression\",\"wild\",\"processing\",\"coming\",\"wales\",\"academic\",\"pieces\",\"comedy\",\"drugs\",\"chain\",\"occasionally\",\"manner\",\"purposes\",\"meet\",\"producer\",\"protestant\",\"mixed\",\"strength\",\"counter\",\"ray\",\"storage\",\"anything\",\"felt\",\"parallel\",\"mental\",\"spiritual\",\"occupied\",\"mr\",\"foot\",\"practical\",\"count\",\"towns\",\"saying\",\"easy\",\"electrical\",\"enemy\",\"speak\",\"inhabitants\",\"plans\",\"medium\",\"courts\",\"quarter\",\"village\",\"persons\",\"layer\",\"factor\",\"degrees\",\"granted\",\"fifth\",\"seat\",\"dialects\",\"sport\",\"pattern\",\"binary\",\"weeks\",\"composition\",\"got\",\"michigan\",\"selected\",\"pop\",\"widespread\",\"algebra\",\"magnetic\",\"blues\",\"alliance\",\"festival\",\"ft\",\"speakers\",\"authors\",\"crew\",\"core\",\"folk\",\"commonwealth\",\"legislative\",\"accept\",\"similarly\",\"divine\",\"achieved\",\"determine\",\"someone\",\"particles\",\"sector\",\"density\",\"influential\",\"dispute\",\"criminal\",\"newspaper\",\"supporters\",\"solar\",\"elizabeth\",\"contract\",\"offer\",\"traffic\",\"orders\",\"houses\",\"rivers\",\"awards\",\"principal\",\"der\",\"worldwide\",\"hitler\",\"files\",\"teaching\",\"apparently\",\"des\",\"gospel\",\"titles\",\"clearly\",\"providing\",\"universities\",\"hungarian\",\"publication\",\"suffered\",\"electricity\",\"camp\",\"cars\",\"doing\",\"crisis\",\"false\",\"issued\",\"perfect\",\"circle\",\"interface\",\"denmark\",\"legend\",\"nfl\",\"nevertheless\",\"ultimately\",\"solid\",\"contained\",\"extra\",\"surrounding\",\"throne\",\"setting\",\"sort\",\"standing\",\"oldest\",\"safety\",\"jordan\",\"measures\",\"plus\",\"danish\",\"agricultural\",\"pictures\",\"practices\",\"showing\",\"commander\",\"strip\",\"block\",\"maps\",\"fan\",\"recording\",\"maximum\",\"gulf\",\"celtic\",\"add\",\"distinction\",\"correct\",\"atomic\",\"reduce\",\"secondary\",\"everything\",\"lies\",\"root\",\"linked\",\"virginia\",\"genre\",\"jr\",\"lands\",\"sons\",\"marine\",\"limit\",\"taught\",\"producing\",\"pure\",\"bwv\",\"huge\",\"engines\",\"sought\",\"shared\",\"agency\",\"steel\",\"cable\",\"mechanics\",\"strongly\",\"accounts\",\"eye\",\"capable\",\"classification\",\"palace\",\"constructed\",\"egyptian\",\"document\",\"religions\",\"resolution\",\"hundred\",\"box\",\"unable\",\"showed\",\"francis\",\"components\",\"muslims\",\"molecules\",\"sciences\",\"radiation\",\"massive\",\"hour\",\"pc\",\"want\",\"ending\",\"mount\",\"judge\",\"opposite\",\"historically\",\"input\",\"continuous\",\"detailed\",\"cast\",\"ministers\",\"shall\",\"vast\",\"alcohol\",\"bus\",\"involves\",\"biology\",\"invented\",\"represents\",\"republican\",\"computing\",\"proof\",\"multi\",\"rejected\",\"succeeded\",\"rarely\",\"expanded\",\"flat\",\"civilization\",\"capacity\",\"documents\",\"impossible\",\"alpha\",\"illinois\",\"lewis\",\"dates\",\"destruction\",\"slow\",\"planned\",\"biological\",\"bottom\",\"championship\",\"theatre\",\"networks\",\"phrase\",\"provinces\",\"francisco\",\"indicate\",\"ratio\",\"molecular\",\"paid\",\"tools\",\"license\",\"route\",\"honor\",\"sub\",\"hollywood\",\"progress\",\"brief\",\"vol\",\"trees\",\"theme\",\"societies\",\"mail\",\"managed\",\"continental\",\"essential\",\"essentially\",\"manager\",\"rail\",\"settled\",\"poetry\",\"turkey\",\"pakistan\",\"viewed\",\"harvard\",\"merely\",\"investment\",\"castle\",\"job\",\"fine\",\"authorities\",\"visit\",\"turkish\",\"understood\",\"ca\",\"eu\",\"captured\",\"fought\",\"severe\",\"transfer\",\"developing\",\"del\",\"colonies\",\"lady\",\"studio\",\"html\",\"depression\",\"kill\",\"gay\",\"wind\",\"caesar\",\"candidate\",\"magic\",\"exports\",\"seem\",\"interests\",\"store\",\"portion\",\"visible\",\"assumed\",\"publishing\",\"editor\",\"exactly\",\"newton\",\"edge\",\"lebanon\",\"weapon\",\"really\",\"directory\",\"fair\",\"dedicated\",\"intellectual\",\"daniel\",\"twelve\",\"significantly\",\"absolute\",\"demand\",\"strategy\",\"obtained\",\"clinton\",\"liquid\",\"florida\",\"plot\",\"java\",\"equations\",\"stadium\",\"desert\",\"artificial\",\"variations\",\"drawn\",\"vector\",\"designs\",\"rose\",\"ran\",\"regard\",\"feel\",\"train\",\"forest\",\"overall\",\"representatives\",\"maintained\",\"bear\",\"arrived\",\"mechanical\",\"jim\",\"philosophers\",\"items\",\"fear\",\"logical\",\"hop\",\"darwin\",\"vary\",\"portugal\",\"guinea\",\"featuring\",\"acting\",\"improved\",\"dominant\",\"causing\",\"modified\",\"bell\",\"dry\",\"enter\",\"cia\",\"officer\",\"path\",\"iso\",\"korean\",\"andrew\",\"tom\",\"minority\",\"occupation\",\"apart\",\"thousand\",\"infinite\",\"oxygen\",\"mathbf\",\"straight\",\"rapidly\",\"revealed\",\"vietnam\",\"heaven\",\"saints\",\"gene\",\"colonial\",\"define\",\"fleet\",\"socialist\",\"kansas\",\"protect\",\"exception\",\"psychology\",\"twice\",\"circuit\",\"cancer\",\"membership\",\"stephen\",\"holding\",\"musicians\",\"soul\",\"index\",\"flying\",\"protein\",\"fashion\",\"exact\",\"indo\",\"recognition\",\"physicist\",\"distributed\",\"listed\",\"apply\",\"ago\",\"virtual\",\"inc\",\"massachusetts\",\"mars\",\"adam\",\"colony\",\"agent\",\"electron\",\"cabinet\",\"extension\",\"separated\",\"coach\",\"forum\",\"coalition\",\"visual\",\"scott\",\"adult\",\"periods\",\"suggests\",\"davis\",\"dominated\",\"employed\",\"hero\",\"reputation\",\"looking\",\"literally\",\"existed\",\"entitled\",\"selection\",\"males\",\"changing\",\"defence\",\"subjects\",\"alfred\",\"grammar\",\"younger\",\"interview\",\"experiment\",\"opinion\",\"howard\",\"jersey\",\"stable\",\"tourism\",\"expensive\",\"publications\",\"finite\",\"radical\",\"audience\",\"pair\",\"decline\",\"mainstream\",\"sky\",\"bits\",\"franklin\",\"bands\",\"necessarily\",\"contributed\",\"effectively\",\"cuba\",\"vi\",\"express\",\"concerning\",\"opera\",\"adams\",\"sounds\",\"choose\",\"broad\",\"historian\",\"signs\",\"mathematician\",\"allied\",\"vehicle\",\"executed\",\"joint\",\"calls\",\"romans\",\"moore\",\"guard\",\"try\",\"affected\",\"eyes\",\"germanic\",\"samuel\",\"atmosphere\",\"yellow\",\"formally\",\"error\",\"vehicles\",\"painter\",\"kennedy\",\"hockey\",\"belgium\",\"albums\",\"hundreds\",\"evolved\",\"philip\",\"trying\",\"husband\",\"compounds\",\"committed\",\"ministry\",\"federation\",\"roots\",\"heard\",\"concerned\",\"coup\",\"temperatures\",\"stands\",\"matters\",\"historic\",\"cape\",\"dvd\",\"underground\",\"attributed\",\"apparent\",\"clock\",\"georgia\",\"officials\",\"instruction\",\"rapid\",\"youth\",\"broken\",\"graphics\",\"carl\",\"broke\",\"prices\",\"treated\",\"residents\",\"nearby\",\"score\",\"kg\",\"else\",\"consciousness\",\"patterns\",\"identical\",\"faster\",\"supporting\",\"gender\",\"relationships\",\"establishment\",\"leads\",\"wealth\",\"learn\",\"chance\",\"grant\",\"join\",\"amounts\",\"renamed\",\"earl\",\"incorporated\",\"fox\",\"serving\",\"silver\",\"warfare\",\"styles\",\"involving\",\"strike\",\"successor\",\"officers\",\"ottoman\",\"beer\",\"russell\",\"banks\",\"lakes\",\"mediterranean\",\"favor\",\"dc\",\"lunar\",\"conventional\",\"height\",\"budget\",\"sales\",\"appeal\",\"regime\",\"decade\",\"poem\",\"disc\",\"leaves\",\"donald\",\"judicial\",\"inner\",\"variable\",\"ordinary\",\"indiana\",\"norway\",\"logo\",\"unusual\",\"costs\",\"biblical\",\"partly\",\"chamber\",\"unless\",\"lie\",\"talk\",\"achieve\",\"episodes\",\"particle\",\"da\",\"trading\",\"declaration\",\"gradually\",\"frame\",\"parliamentary\",\"concentration\",\"fort\",\"legislation\",\"finished\",\"stalin\",\"notion\",\"meters\",\"cult\",\"random\",\"acquired\",\"script\",\"prison\",\"girl\",\"suggest\",\"educational\",\"dialect\",\"comparison\",\"consumption\",\"mike\",\"opponents\",\"distinguished\",\"czech\",\"roll\",\"advance\",\"cat\",\"racing\",\"dangerous\",\"component\",\"joe\",\"byzantine\",\"peninsula\",\"categories\",\"draw\",\"reforms\",\"rural\",\"consisting\",\"anglo\",\"answer\",\"anyone\",\"suicide\",\"substance\",\"finnish\",\"succession\",\"balance\",\"manufacturing\",\"rulers\",\"intelligent\",\"sections\",\"characteristic\",\"successfully\",\"newly\",\"hair\",\"dimensional\",\"mayor\",\"demographics\",\"walls\",\"converted\",\"harry\",\"abandoned\",\"rank\",\"adding\",\"vowel\",\"collected\",\"champion\",\"concerns\",\"fit\",\"branches\",\"codes\",\"selling\",\"theology\",\"birds\",\"prayer\",\"interesting\",\"vs\",\"telephone\",\"drawing\",\"markets\",\"conversion\",\"vision\",\"alternate\",\"notation\",\"knights\",\"phenomenon\",\"williams\",\"learned\",\"stored\",\"indigenous\",\"edited\",\"patients\",\"possibility\",\"heads\",\"onto\",\"steve\",\"threat\",\"escape\",\"boys\",\"accurate\",\"simon\",\"task\",\"swiss\",\"worship\",\"lowest\",\"substantial\",\"bce\",\"superior\",\"hell\",\"einstein\",\"classified\",\"ethics\",\"orbit\",\"divisions\",\"establish\",\"measured\",\"caribbean\",\"olympic\",\"atari\",\"sufficient\",\"intel\",\"allies\",\"conducted\",\"limits\",\"attended\",\"weak\",\"guns\",\"verb\",\"probability\",\"teacher\",\"weather\",\"axis\",\"capture\",\"experienced\",\"struggle\",\"save\",\"passing\",\"hope\",\"offensive\",\"cinema\",\"organisms\",\"operated\",\"emperors\",\"appropriate\",\"di\",\"concert\",\"spectrum\",\"tell\",\"oriented\",\"berkeley\",\"moment\",\"complexity\",\"alan\",\"implementation\",\"lords\",\"holiday\",\"arguments\",\"dollar\",\"violent\",\"copy\",\"genus\",\"interior\",\"compression\",\"geometry\",\"experiments\",\"indonesia\",\"explained\",\"accused\",\"ruth\",\"bomb\",\"corresponding\",\"sin\",\"dependent\",\"painting\",\"mechanism\",\"campus\",\"max\",\"capitalism\",\"minimum\",\"furthermore\",\"giant\",\"calling\",\"walter\",\"functional\",\"label\",\"aids\",\"abraham\",\"industries\",\"inflation\",\"themes\",\"explain\",\"switzerland\",\"strings\",\"charged\",\"lot\",\"alleged\",\"lyrics\",\"karl\",\"infantry\",\"muhammad\",\"priest\",\"perceived\",\"corporate\",\"pennsylvania\",\"instructions\",\"martial\",\"buried\",\"circumstances\",\"brian\",\"proteins\",\"falls\",\"myth\",\"fellow\",\"frequent\",\"cuisine\",\"preferred\",\"scientist\",\"tone\",\"integrated\",\"begun\",\"replace\",\"visited\",\"il\",\"generated\",\"facts\",\"organic\",\"mouse\",\"platform\",\"fairly\",\"approved\",\"assigned\",\"carrier\",\"finding\",\"dropped\",\"wilson\",\"leap\",\"ben\",\"batman\",\"manchester\",\"laureate\",\"desire\",\"launch\",\"amongst\",\"coastal\",\"colleges\",\"bruce\",\"colors\",\"baltic\",\"argentina\",\"douglas\",\"wrong\",\"garden\",\"skills\",\"moves\",\"mississippi\",\"mouth\",\"alexandria\",\"pdf\",\"roles\",\"gnu\",\"forming\",\"greeks\",\"ohio\",\"heritage\",\"diseases\",\"transmission\",\"abstract\",\"chairman\",\"norwegian\",\"statements\",\"retired\",\"request\",\"voting\",\"increases\",\"arm\",\"velocity\",\"illegal\",\"syria\",\"beings\",\"narrow\",\"thinking\",\"influences\",\"moscow\",\"roosevelt\",\"mexican\",\"votes\",\"characterized\",\"missile\",\"founding\",\"spaces\",\"aspect\",\"missouri\",\"memorial\",\"virtually\",\"pilot\",\"profile\",\"du\",\"experimental\",\"soil\",\"bonds\",\"charges\",\"explanation\",\"poems\",\"tracks\",\"ruler\",\"institution\",\"goddess\",\"agents\",\"airlines\",\"assistance\",\"bacteria\",\"chess\",\"researchers\",\"documentary\",\"testing\",\"ip\",\"theoretical\",\"en\",\"ll\",\"aim\",\"hole\",\"gary\",\"supposed\",\"bound\",\"constantine\",\"monster\",\"columbus\",\"delta\",\"definitions\",\"depth\",\"piano\",\"closer\",\"requirements\",\"legacy\",\"hindu\",\"elsewhere\",\"maria\",\"clubs\",\"meat\",\"steps\",\"ensure\",\"depends\",\"preserved\",\"boundaries\",\"spelling\",\"facilities\",\"prove\",\"algorithms\",\"perspective\",\"rising\",\"tropical\",\"northwest\",\"borders\",\"transition\",\"waves\",\"efficient\",\"engineer\",\"door\",\"tool\",\"luther\",\"keyboard\",\"orange\",\"pierre\",\"attached\",\"canal\",\"soft\",\"produces\",\"reserve\",\"coal\",\"signals\",\"electrons\",\"driven\",\"downtown\",\"symptoms\",\"passage\",\"improve\",\"partial\",\"hits\",\"variant\",\"resource\",\"hip\",\"fruit\",\"attacked\",\"imports\",\"metropolitan\",\"node\",\"technologies\",\"entertainment\",\"usual\",\"winner\",\"emerged\",\"additionally\",\"profit\",\"hospital\",\"ideal\",\"salt\",\"shift\",\"sword\",\"laboratory\",\"populations\",\"bird\",\"rice\",\"tests\",\"gravity\",\"consumer\",\"germans\",\"bowl\",\"marx\",\"mainland\",\"opponent\",\"evolutionary\",\"bears\",\"followers\",\"printed\",\"tales\",\"agree\",\"continent\",\"calculus\",\"cpu\",\"emphasis\",\"planning\",\"diamond\",\"frederick\",\"ex\",\"shaped\",\"print\",\"starring\",\"scheme\",\"constantinople\",\"descent\",\"execution\",\"lithuania\",\"boundary\",\"grown\",\"detroit\",\"milk\",\"morning\",\"forth\",\"essay\",\"sugar\",\"peak\",\"basketball\",\"palestinian\",\"napoleon\",\"jurisdiction\",\"laid\",\"hypothesis\",\"dating\",\"chile\",\"certainly\",\"identify\",\"beautiful\",\"keeping\",\"mp\",\"judges\",\"survived\",\"headquarters\",\"concern\",\"channels\",\"skin\",\"bah\",\"snow\",\"decisions\",\"lisp\",\"conquest\",\"kinds\",\"disorder\",\"referring\",\"stay\",\"lay\",\"kilometers\",\"macintosh\",\"longest\",\"residence\",\"integral\",\"acids\",\"driver\",\"motor\",\"prepared\",\"representing\",\"solutions\",\"solo\",\"organisation\",\"responsibility\",\"exile\",\"partially\",\"owner\",\"hiv\",\"bishops\",\"crimes\",\"pronunciation\",\"poverty\",\"athens\",\"districts\",\"filled\",\"variants\",\"diplomatic\",\"patent\",\"benefit\",\"angels\",\"monarchy\",\"meanings\",\"copies\",\"locations\",\"minute\",\"procedure\",\"cited\",\"originated\",\"didn\",\"inducted\",\"matrix\",\"headed\",\"celebrated\",\"naturally\",\"battles\",\"representative\",\"operate\",\"covers\",\"grounds\",\"variation\",\"soldier\",\"knew\",\"protected\",\"medal\",\"relativity\",\"easier\",\"seemed\",\"percentage\",\"cm\",\"wine\",\"roads\",\"unix\",\"rebellion\",\"carrying\",\"incident\",\"roger\",\"sunday\",\"animated\",\"hills\",\"gone\",\"familiar\",\"confused\",\"plain\",\"dylan\",\"ultimate\",\"partner\",\"listing\",\"thirty\",\"directors\",\"composers\",\"getting\",\"angle\",\"briefly\",\"comprehensive\",\"descendants\",\"commentary\",\"varies\",\"seek\",\"knight\",\"holidays\",\"abuse\",\"presidency\",\"extinct\",\"recipient\",\"liberty\",\"armies\",\"victoria\",\"distinguish\",\"dublin\",\"grow\",\"marshall\",\"assassination\",\"landing\",\"papers\",\"overview\",\"ontario\",\"goals\",\"opportunity\",\"defensive\",\"automatic\",\"offers\",\"confirmed\",\"absence\",\"performing\",\"ma\",\"fluid\",\"dos\",\"nasa\",\"sentence\",\"finalist\",\"ports\",\"interpreted\",\"collapse\",\"processor\",\"encouraged\",\"contributions\",\"emergency\",\"fly\",\"remove\",\"bulgaria\",\"register\",\"enemies\",\"vowels\",\"victims\",\"macedonia\",\"png\",\"afterwards\",\"serves\",\"ranked\",\"indicates\",\"difficulty\",\"personality\",\"southeast\",\"floor\",\"credited\",\"renaissance\",\"noun\",\"atom\",\"cathedral\",\"interaction\",\"walk\",\"nato\",\"stages\",\"promote\",\"hamilton\",\"agave\",\"basque\",\"faced\",\"pitch\",\"sacred\",\"unity\",\"tape\",\"eric\",\"bibliography\",\"household\",\"cash\",\"survive\",\"phenomena\",\"colour\",\"forests\",\"drop\",\"obtain\",\"losing\",\"reactions\",\"carter\",\"presidents\",\"boat\",\"vienna\",\"possession\",\"focused\",\"shell\",\"continuing\",\"safe\",\"debt\",\"brand\",\"compact\",\"southwest\",\"substances\",\"titled\",\"passenger\",\"reaching\",\"charter\",\"diverse\",\"discussed\",\"friedrich\",\"funds\",\"highway\",\"tony\",\"credit\",\"transferred\",\"communism\",\"benjamin\",\"happened\",\"monarch\",\"baptism\",\"lesser\",\"challenge\",\"beat\",\"seasons\",\"linguistic\",\"chose\",\"plate\",\"slave\",\"breaking\",\"artistic\",\"engineers\",\"gregorian\",\"beach\",\"crystal\",\"electoral\",\"citizen\",\"carolina\",\"dream\",\"regardless\",\"territorial\",\"clark\",\"mit\",\"journey\",\"dual\",\"everyone\",\"ill\",\"repeated\",\"humanity\",\"twentieth\",\"candidates\",\"christopher\",\"santa\",\"camps\",\"consistent\",\"archive\",\"welsh\",\"copper\",\"bases\",\"gibraltar\",\"jan\",\"survey\",\"ownership\",\"progressive\",\"advertising\",\"worth\",\"immediate\",\"statistical\",\"trained\",\"gallery\",\"commodore\",\"restricted\",\"integer\",\"senior\",\"slaves\",\"operator\",\"horror\",\"client\",\"hotel\",\"corps\",\"disputed\",\"translations\",\"empty\",\"relief\",\"fm\",\"stress\",\"anthony\",\"farm\",\"implemented\",\"involve\",\"keys\",\"sox\",\"esperanto\",\"psychological\",\"canon\",\"restrictions\",\"variables\",\"bureau\",\"criticized\",\"detail\",\"column\",\"uniform\",\"moses\",\"firm\",\"cleveland\",\"virus\",\"specialized\",\"libraries\",\"describing\",\"adapted\",\"drink\",\"outer\",\"ruling\",\"females\",\"offices\",\"send\",\"senator\",\"disney\",\"couple\",\"seconds\",\"reverse\",\"slavery\",\"biggest\",\"verse\",\"inch\",\"depicted\",\"colorado\",\"civilian\",\"conquered\",\"duty\",\"lose\",\"rocks\",\"calvin\",\"contrary\",\"syndrome\",\"situations\",\"ce\",\"array\",\"obvious\",\"compound\",\"architect\",\"streets\",\"rain\",\"engaged\",\"leo\",\"races\",\"varying\",\"ethical\",\"pain\",\"retained\",\"distinctive\",\"isolated\",\"beta\",\"khan\",\"herbert\",\"confusion\",\"fighter\",\"speaker\",\"skill\",\"compatible\",\"herself\",\"morocco\",\"turning\",\"electronics\",\"declined\",\"investigation\",\"precise\",\"dragon\",\"manufacturers\",\"arithmetic\",\"liberation\",\"turns\",\"starts\",\"buddhism\",\"spin\",\"campbell\",\"demonstrated\",\"messages\",\"planets\",\"spacecraft\",\"prophet\",\"reducing\",\"observations\",\"reduction\",\"airports\",\"sovereignty\",\"interested\",\"patient\",\"petroleum\",\"creator\",\"custom\",\"exclusively\",\"neutral\",\"princess\",\"bronze\",\"cyprus\",\"replacement\",\"mining\",\"educated\",\"insurance\",\"differ\",\"animation\",\"camera\",\"scenes\",\"strategic\",\"watch\",\"migration\",\"baby\",\"gate\",\"claiming\",\"tribe\",\"waters\",\"invention\",\"molecule\",\"estate\",\"disaster\",\"te\",\"galaxy\",\"phi\",\"democrats\",\"publicly\",\"arrangement\",\"dramatic\",\"banned\",\"cave\",\"receiving\",\"exclusive\",\"integration\",\"accompanied\",\"lawrence\",\"specified\",\"drew\",\"designated\",\"fund\",\"matthew\",\"regularly\",\"congo\",\"holocaust\",\"owners\",\"behaviour\",\"wear\",\"valid\",\"ve\",\"mile\",\"conspiracy\",\"penalty\",\"sample\",\"genes\",\"geographic\",\"infrastructure\",\"houston\",\"commerce\",\"les\",\"draft\",\"surviving\",\"sam\",\"diet\",\"disambiguation\",\"fled\",\"atlanta\",\"separation\",\"connections\",\"structural\",\"boeing\",\"sixth\",\"gates\",\"missions\",\"strictly\",\"varieties\",\"minnesota\",\"cricket\",\"pollution\",\"isaac\",\"earned\",\"experiences\",\"statue\",\"cooperation\",\"millions\",\"slowly\",\"supports\",\"newspapers\",\"cardinal\",\"benefits\",\"powered\",\"switch\",\"indians\",\"passes\",\"commons\",\"doesn\",\"jet\",\"falling\",\"overseas\",\"montreal\",\"arrested\",\"essays\",\"alaska\",\"plural\",\"purchase\",\"ibn\",\"rational\",\"blind\",\"coffee\",\"dioxide\",\"permitted\",\"estimates\",\"monetary\",\"excellent\",\"bulgarian\",\"prisoners\",\"whatever\",\"doubt\",\"siege\",\"moreover\",\"mixture\",\"personnel\",\"contest\",\"tank\",\"laser\",\"latvia\",\"explorer\",\"gothic\",\"archbishop\",\"tells\",\"jacob\",\"cavalry\",\"anne\",\"considerably\",\"monopoly\",\"confederate\",\"delivered\",\"involvement\",\"marks\",\"taiwan\",\"quantity\",\"teachings\",\"horses\",\"measurement\",\"inventor\",\"cook\",\"torah\",\"lifetime\",\"johann\",\"differential\",\"tale\",\"conclusion\",\"framework\",\"broadcasting\",\"admiral\",\"optical\",\"affect\",\"export\",\"arranged\",\"discipline\",\"whilst\",\"miller\",\"catholics\",\"quebec\",\"yes\",\"consequently\",\"mention\",\"secure\",\"winners\",\"duties\",\"fat\",\"wish\",\"secular\",\"developments\",\"theater\",\"eat\",\"journalist\",\"stability\",\"ethiopia\",\"punishment\",\"sell\",\"row\",\"taylor\",\"allen\",\"disputes\",\"ban\",\"synthesis\",\"racial\",\"temporary\",\"controls\",\"voted\",\"enjoyed\",\"properly\",\"anime\",\"recordings\",\"explicitly\",\"returning\",\"aristotle\",\"isle\",\"footballer\",\"buddhist\",\"pairs\",\"ranges\",\"mystery\",\"blade\",\"curve\",\"seeking\",\"bringing\",\"si\",\"sale\",\"participation\",\"metric\",\"appearances\",\"linguistics\",\"devil\",\"shorter\",\"robinson\",\"politicians\",\"citizenship\",\"volumes\",\"revised\",\"negotiations\",\"dollars\",\"immigration\",\"devoted\",\"immigrants\",\"centers\",\"routes\",\"rival\",\"leg\",\"indicated\",\"approval\",\"suitable\",\"singular\",\"suit\",\"chip\",\"childhood\",\"observation\",\"conduct\",\"purchased\",\"comedian\",\"terminal\",\"iranian\",\"efficiency\",\"missiles\",\"fresh\",\"legendary\",\"abc\",\"establishing\",\"agreements\",\"singing\",\"partners\",\"destroy\",\"implies\",\"fishing\",\"grey\",\"sharp\",\"creative\",\"romania\",\"worst\",\"finance\",\"plastic\",\"restored\",\"orchestra\",\"warm\",\"arizona\",\"covering\",\"wins\",\"termed\",\"tube\",\"consequences\",\"northeast\",\"gets\",\"finds\",\"perception\",\"genesis\",\"hidden\",\"exposed\",\"proposal\",\"metals\",\"drives\",\"guitarist\",\"seeing\",\"vertical\",\"favour\",\"promoted\",\"equally\",\"expedition\",\"photo\",\"superman\",\"concluded\",\"beauty\",\"situated\",\"twin\",\"mounted\",\"theological\",\"caught\",\"scholar\",\"assume\",\"wiki\",\"terminology\",\"gordon\",\"returns\",\"mormon\",\"loop\",\"algebraic\",\"valuable\",\"concentrated\",\"handed\",\"franchise\",\"collective\",\"dave\",\"stopped\",\"ready\",\"concrete\",\"removal\",\"releases\",\"portrait\",\"burning\",\"kuwait\",\"prussia\",\"turing\",\"counties\",\"oral\",\"physician\",\"grain\",\"aware\",\"affair\",\"fusion\",\"fired\",\"maritime\",\"google\",\"nova\",\"gamma\",\"jacques\",\"vii\",\"varied\",\"millennium\",\"width\",\"adjacent\",\"dynamic\",\"margaret\",\"wayne\",\"adventure\",\"singles\",\"difficulties\",\"consequence\",\"funding\",\"jobs\",\"philadelphia\",\"rom\",\"iowa\",\"johnny\",\"voltage\",\"portrayed\",\"recognize\",\"driving\",\"ask\",\"julian\",\"obsolete\",\"flash\",\"circuits\",\"rocket\",\"therapy\",\"astronomy\",\"louisiana\",\"ceremony\",\"trans\",\"collections\",\"housing\",\"recovery\",\"buy\",\"harrison\",\"transformation\",\"revelation\",\"fewer\",\"amateur\",\"fran\",\"virgin\",\"interactive\",\"mix\",\"bach\",\"servers\",\"magnitude\",\"admitted\",\"chancellor\",\"thin\",\"proclaimed\",\"ghost\",\"ne\",\"complicated\",\"rotation\",\"arrival\",\"belong\",\"tourist\",\"gauge\",\"fbi\",\"analog\",\"cognitive\",\"reflected\",\"trust\",\"bernard\",\"capita\",\"editions\",\"bought\",\"phone\",\"tends\",\"storm\",\"crash\",\"thompson\",\"dealing\",\"wings\",\"intervention\",\"employment\",\"mercury\",\"settlements\",\"governing\",\"merged\",\"seventh\",\"muscle\",\"meanwhile\",\"dated\",\"align\",\"ram\",\"kent\",\"handle\",\"topic\",\"railroad\",\"customs\",\"suffering\",\"baroque\",\"median\",\"window\",\"designer\",\"neo\",\"thereby\",\"transform\",\"denied\",\"exceptions\",\"dan\",\"nelson\",\"info\",\"attempting\",\"raise\",\"cellular\",\"romantic\",\"coins\",\"norman\",\"chart\",\"photos\",\"extend\",\"gregory\",\"surrounded\",\"mathematicians\",\"int\",\"entropy\",\"please\",\"murray\",\"augustus\",\"significance\",\"ties\",\"beijing\",\"relevant\",\"summary\",\"advice\",\"tribute\",\"quantities\",\"printing\",\"marketing\",\"buffalo\",\"factory\",\"threatened\",\"belgian\",\"tim\",\"manufactured\",\"accident\",\"reflect\",\"grace\",\"proven\",\"maintains\",\"quick\",\"dimension\",\"alien\",\"pointed\",\"independently\",\"moderate\",\"corruption\",\"option\",\"lenin\",\"hunting\",\"ongoing\",\"refugees\",\"guy\",\"poets\",\"simultaneously\",\"hawaii\",\"jupiter\",\"drum\",\"disorders\",\"participate\",\"accuracy\",\"spot\",\"quoted\",\"operators\",\"anglican\",\"taxes\",\"palestine\",\"liverpool\",\"mood\",\"reader\",\"symbolic\",\"attracted\",\"illness\",\"inches\",\"compare\",\"oscar\",\"performances\",\"noble\",\"eating\",\"malaysia\",\"stores\",\"consonant\",\"adventures\",\"romance\",\"aimed\",\"exercise\",\"strict\",\"wider\",\"alive\",\"minerals\",\"sensitive\",\"stream\",\"tunnel\",\"terrorist\",\"kosovo\",\"stanley\",\"phoenix\",\"log\",\"acceptance\",\"studios\",\"reviews\",\"consist\",\"subset\",\"remainder\",\"gandhi\",\"croatia\",\"extensively\",\"legislature\",\"drama\",\"dick\",\"employees\",\"chemist\",\"euro\",\"session\",\"anderson\",\"assault\",\"baltimore\",\"entity\",\"genres\",\"steam\",\"readers\",\"trivia\",\"happy\",\"struck\",\"luke\",\"blocks\",\"parent\",\"vacuum\",\"agencies\",\"duck\",\"nickname\",\"unions\",\"prefer\",\"se\",\"sphere\",\"unemployment\",\"europeans\",\"versus\",\"resigned\",\"shah\",\"viii\",\"graduate\",\"coined\",\"timeline\",\"wheel\",\"ieee\",\"singapore\",\"hans\",\"approaches\",\"chris\",\"enormous\",\"girls\",\"looks\",\"fallen\",\"clothing\",\"settlers\",\"bone\",\"worlds\",\"narrative\",\"expert\",\"offering\",\"serbia\",\"broadway\",\"monroe\",\"uss\",\"rear\",\"cuban\",\"drinking\",\"sharing\",\"cattle\",\"friendly\",\"toronto\",\"ann\",\"addresses\",\"cartoon\",\"studying\",\"requiring\",\"sovereign\",\"rings\",\"coverage\",\"nationalist\",\"holes\",\"automatically\",\"premier\",\"priests\",\"communists\",\"manual\",\"ph\",\"raw\",\"shock\",\"adoption\",\"marie\",\"geneva\",\"objective\",\"entering\",\"id\",\"trip\",\"conservation\",\"membrane\",\"binding\",\"aka\",\"consensus\",\"injury\",\"rolling\",\"errors\",\"besides\",\"defining\",\"paintings\",\"afc\",\"lasted\",\"arguably\",\"desired\",\"weekly\",\"teach\",\"neck\",\"conventions\",\"angel\",\"faces\",\"brazilian\",\"receives\",\"stones\",\"remote\",\"strange\",\"voters\",\"wire\",\"victor\",\"shares\",\"trains\",\"generations\",\"rfc\",\"larry\",\"observer\",\"aaron\",\"administered\",\"programme\",\"guest\",\"easter\",\"liberalism\",\"sequences\",\"natives\",\"sole\",\"painted\",\"hunt\",\"pan\",\"exposure\",\"autonomous\",\"defend\",\"metres\",\"bull\",\"taste\",\"kingdoms\",\"voyage\",\"championships\",\"exploration\",\"shooting\",\"rifle\",\"diego\",\"colombia\",\"tendency\",\"proportion\",\"elevation\",\"baptist\",\"comments\",\"procedures\",\"momentum\",\"lithuanian\",\"compiler\",\"alongside\",\"argues\",\"cutting\",\"funeral\",\"marvel\",\"generate\",\"schedule\",\"mirror\",\"eve\",\"albania\",\"dogs\",\"underlying\",\"slavic\",\"stronger\",\"semitic\",\"heroes\",\"dimensions\",\"mammals\",\"corner\",\"coat\",\"abolished\",\"truly\",\"revenue\",\"decimal\",\"maryland\",\"eternal\",\"competitive\",\"wilhelm\",\"governed\",\"latest\",\"austin\",\"costa\",\"nationality\",\"bulk\",\"clinical\",\"looked\",\"arc\",\"ascii\",\"grade\",\"jimmy\",\"governors\",\"businesses\",\"lieutenant\",\"shore\",\"formats\",\"dot\",\"trinity\",\"crops\",\"epic\",\"activist\",\"assistant\",\"adaptation\",\"geographical\",\"terrain\",\"saxon\",\"tasks\",\"considering\",\"inspiration\",\"helium\",\"interpretations\",\"hunter\",\"wearing\",\"stood\",\"instrumental\",\"slang\",\"publisher\",\"manga\",\"python\",\"occasions\",\"ac\",\"infection\",\"mickey\",\"franco\",\"electromagnetic\",\"plains\",\"edinburgh\",\"uncle\",\"unfortunately\",\"requirement\",\"libya\",\"supplies\",\"amiga\",\"arose\",\"honour\",\"patrick\",\"ai\",\"installed\",\"replacing\",\"regulations\",\"milan\",\"florence\",\"repeatedly\",\"opposing\",\"mechanisms\",\"sand\",\"politically\",\"bills\",\"trials\",\"tail\",\"scots\",\"hoover\",\"nominated\",\"naming\",\"creates\",\"consonants\",\"unlikely\",\"revival\",\"bombing\",\"applies\",\"ms\",\"intense\",\"battery\",\"protest\",\"seriously\",\"kentucky\",\"purely\",\"jonathan\",\"wright\",\"matches\",\"pioneer\",\"tactics\",\"mineral\",\"manuscript\",\"merchant\",\"hierarchy\",\"liberals\",\"appearing\",\"recommended\",\"entities\",\"centered\",\"babylon\",\"visitors\",\"tables\",\"happen\",\"atlas\",\"ussr\",\"economies\",\"hosts\",\"diamonds\",\"tea\",\"missing\",\"ranging\",\"saudi\",\"deck\",\"serial\",\"belt\",\"jane\",\"silent\",\"creatures\",\"aramaic\",\"philippines\",\"developers\",\"demands\",\"aluminium\",\"consisted\",\"retain\",\"kevin\",\"sydney\",\"cocaine\",\"triple\",\"feast\",\"mao\",\"sees\",\"criteria\",\"identification\",\"arabia\",\"homosexuality\",\"homosexual\",\"invaded\",\"tied\",\"li\",\"cargo\",\"spending\",\"fossil\",\"homer\",\"aside\",\"etymology\",\"derives\",\"reaches\",\"damaged\",\"integers\",\"writes\",\"reject\",\"teachers\",\"amendment\",\"reasoning\",\"feeling\",\"check\",\"abortion\",\"unofficial\",\"transmitted\",\"trotsky\",\"freely\",\"decide\",\"elite\",\"conflicts\",\"vocal\",\"bright\",\"farming\",\"tall\",\"spoke\",\"solve\",\"gravitational\",\"norse\",\"mutual\",\"advocates\",\"proto\",\"explosion\",\"sultan\",\"abroad\",\"evening\",\"coin\",\"warner\",\"juan\",\"jury\",\"bosnia\",\"godzilla\",\"touch\",\"sure\",\"abu\",\"fifty\",\"statesman\",\"pagan\",\"novelist\",\"provincial\",\"massacre\",\"carries\",\"anthropology\",\"physiology\",\"nouns\",\"glucose\",\"hearing\",\"cats\",\"danger\",\"newer\",\"realm\",\"organism\",\"scope\",\"treat\",\"graphic\",\"hash\",\"socialism\",\"defines\",\"genetics\",\"comet\",\"plague\",\"galileo\",\"arbitrary\",\"occasion\",\"ian\",\"aviation\",\"doors\",\"gray\",\"communion\",\"estonia\",\"leibniz\",\"propaganda\",\"reportedly\",\"franz\",\"tennis\",\"tissue\",\"module\",\"item\",\"derivative\",\"diameter\",\"illustrated\",\"losses\",\"facing\",\"speeds\",\"targets\",\"astronomical\",\"judah\",\"sanskrit\",\"manufacturer\",\"graph\",\"wisconsin\",\"unsuccessful\",\"infant\",\"doctors\",\"submarine\",\"quotes\",\"guardian\",\"operates\",\"kernel\",\"warming\",\"survival\",\"thanks\",\"arabs\",\"distant\",\"basin\",\"stanford\",\"trek\",\"consent\",\"sweet\",\"julius\",\"conan\",\"proponents\",\"withdrawal\",\"sight\",\"notice\",\"periodic\",\"likewise\",\"pool\",\"foods\",\"ion\",\"maintaining\",\"yugoslavia\",\"occurring\",\"barry\",\"meetings\",\"chad\",\"vocabulary\",\"alice\",\"artillery\",\"predominantly\",\"modes\",\"estimate\",\"filter\",\"eleven\",\"tennessee\",\"villages\",\"oh\",\"crossing\",\"legs\",\"rabbi\",\"songwriter\",\"nietzsche\",\"chapters\",\"iceland\",\"chemicals\",\"anniversary\",\"wisdom\",\"confidence\",\"serbian\",\"retrieved\",\"hindi\",\"amino\",\"explains\",\"punk\",\"assumption\",\"closest\",\"revolt\",\"unified\",\"stewart\",\"guilty\",\"saved\",\"ritual\",\"archaeological\",\"vessels\",\"runner\",\"permission\",\"trend\",\"practiced\",\"solomon\",\"catholicism\",\"graham\",\"belarus\",\"solely\",\"potentially\",\"noise\",\"sleep\",\"sacrifice\",\"displayed\",\"inhabited\",\"debut\",\"otto\",\"recognised\",\"divide\",\"clean\",\"circles\",\"diagram\",\"jerry\",\"hughes\",\"discrete\",\"enjoy\",\"reliable\",\"deals\",\"masters\",\"ferdinand\",\"tournament\",\"signature\",\"doom\",\"ukraine\",\"hear\",\"imposed\",\"technically\",\"connecticut\",\"regulation\",\"comparative\",\"maintenance\",\"inter\",\"cincinnati\",\"jump\",\"councils\",\"adults\",\"emotional\",\"birthday\",\"automobile\",\"syntax\",\"scored\",\"remarkable\",\"dialogue\",\"updated\",\"canterbury\",\"equipped\",\"constellation\",\"cdot\",\"macau\",\"nonetheless\",\"presents\",\"frontier\",\"pole\",\"shadow\",\"flows\",\"billy\",\"terry\",\"conception\",\"gore\",\"radar\",\"forty\",\"bearing\",\"opens\",\"orientation\",\"junior\",\"morris\",\"examination\",\"civilizations\",\"balls\",\"smooth\",\"explosive\",\"cool\",\"invited\",\"foundations\",\"associate\",\"reed\",\"extends\",\"judgment\",\"watson\",\"desktop\",\"baker\",\"grave\",\"experts\",\"elder\",\"floating\",\"baron\",\"wealthy\",\"salvation\",\"attributes\",\"municipal\",\"creature\",\"catch\",\"insubstantial\",\"mere\",\"primitive\",\"favorite\",\"depend\",\"portions\",\"producers\",\"implement\",\"phrases\",\"corporations\",\"immune\",\"blow\",\"deputy\",\"mbox\",\"claudius\",\"genome\",\"fred\",\"kills\",\"ahead\",\"harbor\",\"elementary\",\"stuart\",\"mhz\",\"horn\",\"vocals\",\"relating\",\"ss\",\"intermediate\",\"ranks\",\"opinions\",\"nucleus\",\"munich\",\"pick\",\"critic\",\"joke\",\"confederation\",\"retirement\",\"namely\",\"scores\",\"allegedly\",\"recovered\",\"capabilities\",\"commands\",\"haiti\",\"organisations\",\"publishers\",\"restoration\",\"nineteenth\",\"correspondence\",\"circular\",\"deeply\",\"courses\",\"homes\",\"smallest\",\"accessed\",\"earthquake\",\"fighters\",\"autonomy\",\"circumcision\",\"landscape\",\"legends\",\"companion\",\"corresponds\",\"masses\",\"bavaria\",\"americas\",\"striking\",\"abilities\",\"directions\",\"stroke\",\"farmers\",\"compiled\",\"generic\",\"facility\",\"diesel\",\"layers\",\"reformation\",\"coding\",\"precisely\",\"specification\",\"believes\",\"antonio\",\"lion\",\"oregon\",\"heir\",\"atheism\",\"milton\",\"elvis\",\"tongue\",\"ross\",\"configuration\",\"sri\",\"salvador\",\"afghan\",\"albanian\",\"qur\",\"console\",\"insulin\",\"decay\",\"hat\",\"surgery\",\"metro\",\"maxwell\",\"respective\",\"bread\",\"expressions\",\"covenant\",\"enlightenment\",\"counts\",\"lebanese\",\"hilbert\",\"buddha\",\"banking\",\"westminster\",\"thereafter\",\"shield\",\"alumni\",\"mine\",\"denominations\",\"tiny\",\"lb\",\"cheese\",\"mtv\",\"railways\",\"monarchs\",\"jamaica\",\"lasting\",\"reconstruction\",\"roy\",\"contribution\",\"frequencies\",\"extinction\",\"cluster\",\"dallas\",\"compete\",\"anthem\",\"realized\",\"fun\",\"avenue\",\"convert\",\"operational\",\"yards\",\"alabama\",\"shakespeare\",\"improvements\",\"campaigns\",\"descriptions\",\"princeton\",\"load\",\"literacy\",\"lights\",\"dancing\",\"legally\",\"madrid\",\"ted\",\"parks\",\"malcolm\",\"everyday\",\"clay\",\"scheduled\",\"hosted\",\"reserves\",\"factbook\",\"victim\",\"duncan\",\"stack\",\"fascist\",\"cotton\",\"bones\",\"arrest\",\"speculation\",\"beam\",\"carriers\",\"astronomer\",\"prose\",\"argentine\",\"luxembourg\",\"forcing\",\"ab\",\"registered\",\"dies\",\"minimal\",\"orbital\",\"tested\",\"autobiography\",\"kazakhstan\",\"uprising\",\"elaborate\",\"convinced\",\"tomb\",\"adopt\",\"symphony\",\"actively\",\"peru\",\"photographs\",\"geometric\",\"plateau\",\"romanian\",\"proportional\",\"pi\",\"anarchist\",\"ideology\",\"rainfall\",\"amazon\",\"preserve\",\"excess\",\"demanded\",\"circa\",\"wooden\",\"volcanic\",\"ali\",\"charts\",\"ira\",\"moldova\",\"poles\",\"tension\",\"diversity\",\"displays\",\"advances\",\"competing\",\"scales\",\"measurements\",\"inuit\",\"collins\",\"stayed\",\"browser\",\"nodes\",\"catherine\",\"finish\",\"harold\",\"rely\",\"editing\",\"interval\",\"completion\",\"humor\",\"accomplished\",\"consecutive\",\"honey\",\"whale\",\"gift\",\"relatives\",\"worn\",\"zeus\",\"stating\",\"thrown\",\"nicholas\",\"entrance\",\"eighth\",\"flowers\",\"backed\",\"nazis\",\"kick\",\"technological\",\"fate\",\"conservatives\",\"supposedly\",\"enterprise\",\"samples\",\"croatian\",\"enabled\",\"lane\",\"organ\",\"computational\",\"golf\",\"egg\",\"oswald\",\"dec\",\"paved\",\"warrior\",\"cousin\",\"signing\",\"ludwig\",\"contents\",\"attitude\",\"cow\",\"package\",\"select\",\"fifteen\",\"expenditures\",\"lambda\",\"kb\",\"omega\",\"advocate\",\"chaos\",\"eugene\",\"globe\",\"bow\",\"cemetery\",\"remembered\",\"intent\",\"morgan\",\"gases\",\"bridges\",\"ipa\",\"persia\",\"dj\",\"capitalist\",\"voices\",\"engage\",\"attorney\",\"burned\",\"precision\",\"productions\",\"waste\",\"encoding\",\"miami\",\"mu\",\"catalan\",\"availability\",\"inherited\",\"transit\",\"crusade\",\"forbidden\",\"brass\",\"dominican\",\"unicode\",\"annually\",\"vital\",\"advent\",\"equilibrium\",\"calculated\",\"surfaces\",\"calculations\",\"adolf\",\"amsterdam\",\"prussian\",\"dune\",\"predicted\",\"horizontal\",\"attend\",\"winds\",\"hinduism\",\"dust\",\"preparation\",\"rough\",\"jurisdictions\",\"tokyo\",\"bed\",\"ronald\",\"jay\",\"homepage\",\"clergy\",\"rendered\",\"embedded\",\"ha\",\"microwave\",\"physically\",\"ken\",\"populated\",\"murdered\",\"differs\",\"feed\",\"nintendo\",\"und\",\"iraqi\",\"altered\",\"till\",\"syrian\",\"scoring\",\"irc\",\"totally\",\"fathers\",\"pascal\",\"archives\",\"environments\",\"crowd\",\"connecting\",\"dubbed\",\"floppy\",\"deemed\",\"manuscripts\",\"instances\",\"locally\",\"telecommunications\",\"olympics\",\"protocols\",\"cameroon\",\"expelled\",\"transformed\",\"comment\",\"spend\",\"peer\",\"wallace\",\"acceptable\",\"remember\",\"suspended\",\"reagan\",\"dealt\",\"discussions\",\"mccarthy\",\"fiscal\",\"observers\",\"documentation\",\"pilots\",\"passengers\",\"tanks\",\"deposits\",\"sheet\",\"weber\",\"honduras\",\"alberta\",\"enforcement\",\"yale\",\"vessel\",\"poe\",\"marxist\",\"explicit\",\"critique\",\"similarities\",\"dramatically\",\"initiated\",\"promised\",\"tense\",\"statute\",\"ions\",\"ba\",\"barrel\",\"galaxies\",\"edgar\",\"tribal\",\"trace\"],\"x\":{\"__ndarray__\":\"Ikg+Pwl5Kb8fni+/R4OSPqkZ+r5gD2+9f9Khv/7Kw78LDJs+I5eZvt774T6bH4K/2xu1vu/Okb+SFVM/OkcZP969Hr42ghu/SCenPrsdjj6J8qO9He+sv8fKor9ixcC/SmkLP5Dywr/9tYG/F0jyvmVgVL0KTR2++eD0v0uIyL+hA+u/mgQqvz9q5L9Lzky+w3Rev1fVmzy7tq2/9fUsvw7nLr9ydHw+ESZcv1EKjL54xsG/eOTxvREEuL+MFe+//O/Pv+0GlD1ROYa/avC3v2Yqij4VkaE+GcCKv3VNk7+2Guk+k2sEwFjDqr/x1G2/mCkSv/RL178vRKG/9WOcvw==\",\"dtype\":\"float32\",\"order\":\"little\",\"shape\":[64]},\"y\":{\"__ndarray__\":\"+CiSPzfYSz8OaZo+fJkaP7Bcwb6P3gO+VEN2vovsqz9Zy1I8q3KRvrVtgz/zpYE+YA8XP/WH1T/fsSU/nj9CPwO2Fz+oNKs+oRWLvdn+Dz99Xa4/Tox2P4dr7j8DCbE/1NiOPw5KmD/lpQtAYV55P58F+z5FM5U/4R+fP9rUqD10RJ0/jM6pPwU7Ez8pSoU/fQxKP3NAOD/WLgC/o6I7v7Go4z+L2pc/Rn9kP1C6lb50yYa+kIC7P1TP4T9JzQG9WlfLP1vj3D/upKA/9fCnPhS38D78ldw/rjURvVwhHr8tZK0/IHAyPnCUnr3T9Zy92nT7vs1Z6T46J48+ybThPg==\",\"dtype\":\"float32\",\"order\":\"little\",\"shape\":[64]}},\"selected\":{\"id\":\"1172\"},\"selection_policy\":{\"id\":\"1171\"}},\"id\":\"1112\",\"type\":\"ColumnDataSource\"},{\"attributes\":{\"fill_alpha\":{\"value\":0.2},\"fill_color\":{\"field\":\"color\"},\"hatch_alpha\":{\"value\":0.2},\"hatch_color\":{\"field\":\"color\"},\"line_alpha\":{\"value\":0.2},\"line_color\":{\"field\":\"color\"},\"size\":{\"value\":10},\"x\":{\"field\":\"x\"},\"y\":{\"field\":\"y\"}},\"id\":\"1147\",\"type\":\"Scatter\"},{\"attributes\":{\"coordinates\":null,\"formatter\":{\"id\":\"1169\"},\"group\":null,\"major_label_policy\":{\"id\":\"1170\"},\"ticker\":{\"id\":\"1123\"}},\"id\":\"1122\",\"type\":\"LinearAxis\"},{\"attributes\":{},\"id\":\"1116\",\"type\":\"DataRange1d\"},{\"attributes\":{\"fill_alpha\":{\"value\":0.25},\"fill_color\":{\"field\":\"color\"},\"hatch_alpha\":{\"value\":0.25},\"hatch_color\":{\"field\":\"color\"},\"line_alpha\":{\"value\":0.25},\"line_color\":{\"field\":\"color\"},\"size\":{\"value\":10},\"x\":{\"field\":\"x\"},\"y\":{\"field\":\"y\"}},\"id\":\"1145\",\"type\":\"Scatter\"},{\"attributes\":{\"axis\":{\"id\":\"1122\"},\"coordinates\":null,\"group\":null,\"ticker\":null},\"id\":\"1125\",\"type\":\"Grid\"}],\"root_ids\":[\"1113\"]},\"title\":\"Bokeh Application\",\"version\":\"2.4.3\"}};\n",
              "  const render_items = [{\"docid\":\"7c36a4e7-ff29-4bbb-aadf-4d3c16ca2ec6\",\"root_ids\":[\"1113\"],\"roots\":{\"1113\":\"3d8acc6e-357c-4d17-9080-eefaf0998949\"}}];\n",
              "  root.Bokeh.embed.embed_items_notebook(docs_json, render_items);\n",
              "  }\n",
              "  if (root.Bokeh !== undefined) {\n",
              "    embed_document(root);\n",
              "  } else {\n",
              "    let attempts = 0;\n",
              "    const timer = setInterval(function(root) {\n",
              "      if (root.Bokeh !== undefined) {\n",
              "        clearInterval(timer);\n",
              "        embed_document(root);\n",
              "      } else {\n",
              "        attempts++;\n",
              "        if (attempts > 100) {\n",
              "          clearInterval(timer);\n",
              "          console.log(\"Bokeh: ERROR: Unable to run BokehJS code because BokehJS library is missing\");\n",
              "        }\n",
              "      }\n",
              "    }, 10, root)\n",
              "  }\n",
              "})(window);"
            ],
            "application/vnd.bokehjs_exec.v0+json": ""
          },
          "metadata": {
            "application/vnd.bokehjs_exec.v0+json": {
              "id": "1113"
            }
          }
        },
        {
          "output_type": "execute_result",
          "data": {
            "text/plain": [
              "Figure(id='1113', ...)"
            ],
            "text/html": [
              "<div style=\"display: table;\"><div style=\"display: table-row;\"><div style=\"display: table-cell;\"><b title=\"bokeh.plotting.figure.Figure\">Figure</b>(</div><div style=\"display: table-cell;\">id&nbsp;=&nbsp;'1113', <span id=\"1230\" style=\"cursor: pointer;\">&hellip;)</span></div></div><div class=\"1229\" style=\"display: none;\"><div style=\"display: table-cell;\"></div><div style=\"display: table-cell;\">above&nbsp;=&nbsp;[],</div></div><div class=\"1229\" style=\"display: none;\"><div style=\"display: table-cell;\"></div><div style=\"display: table-cell;\">align&nbsp;=&nbsp;'start',</div></div><div class=\"1229\" style=\"display: none;\"><div style=\"display: table-cell;\"></div><div style=\"display: table-cell;\">aspect_ratio&nbsp;=&nbsp;None,</div></div><div class=\"1229\" style=\"display: none;\"><div style=\"display: table-cell;\"></div><div style=\"display: table-cell;\">aspect_scale&nbsp;=&nbsp;1,</div></div><div class=\"1229\" style=\"display: none;\"><div style=\"display: table-cell;\"></div><div style=\"display: table-cell;\">background&nbsp;=&nbsp;None,</div></div><div class=\"1229\" style=\"display: none;\"><div style=\"display: table-cell;\"></div><div style=\"display: table-cell;\">background_fill_alpha&nbsp;=&nbsp;1.0,</div></div><div class=\"1229\" style=\"display: none;\"><div style=\"display: table-cell;\"></div><div style=\"display: table-cell;\">background_fill_color&nbsp;=&nbsp;'#ffffff',</div></div><div class=\"1229\" style=\"display: none;\"><div style=\"display: table-cell;\"></div><div style=\"display: table-cell;\">below&nbsp;=&nbsp;[LinearAxis(id='1122', ...)],</div></div><div class=\"1229\" style=\"display: none;\"><div style=\"display: table-cell;\"></div><div style=\"display: table-cell;\">border_fill_alpha&nbsp;=&nbsp;1.0,</div></div><div class=\"1229\" style=\"display: none;\"><div style=\"display: table-cell;\"></div><div style=\"display: table-cell;\">border_fill_color&nbsp;=&nbsp;'#ffffff',</div></div><div class=\"1229\" style=\"display: none;\"><div style=\"display: table-cell;\"></div><div style=\"display: table-cell;\">center&nbsp;=&nbsp;[Grid(id='1125', ...), Grid(id='1129', ...)],</div></div><div class=\"1229\" style=\"display: none;\"><div style=\"display: table-cell;\"></div><div style=\"display: table-cell;\">css_classes&nbsp;=&nbsp;[],</div></div><div class=\"1229\" style=\"display: none;\"><div style=\"display: table-cell;\"></div><div style=\"display: table-cell;\">disabled&nbsp;=&nbsp;False,</div></div><div class=\"1229\" style=\"display: none;\"><div style=\"display: table-cell;\"></div><div style=\"display: table-cell;\">extra_x_ranges&nbsp;=&nbsp;{},</div></div><div class=\"1229\" style=\"display: none;\"><div style=\"display: table-cell;\"></div><div style=\"display: table-cell;\">extra_x_scales&nbsp;=&nbsp;{},</div></div><div class=\"1229\" style=\"display: none;\"><div style=\"display: table-cell;\"></div><div style=\"display: table-cell;\">extra_y_ranges&nbsp;=&nbsp;{},</div></div><div class=\"1229\" style=\"display: none;\"><div style=\"display: table-cell;\"></div><div style=\"display: table-cell;\">extra_y_scales&nbsp;=&nbsp;{},</div></div><div class=\"1229\" style=\"display: none;\"><div style=\"display: table-cell;\"></div><div style=\"display: table-cell;\">frame_height&nbsp;=&nbsp;None,</div></div><div class=\"1229\" style=\"display: none;\"><div style=\"display: table-cell;\"></div><div style=\"display: table-cell;\">frame_width&nbsp;=&nbsp;None,</div></div><div class=\"1229\" style=\"display: none;\"><div style=\"display: table-cell;\"></div><div style=\"display: table-cell;\">height&nbsp;=&nbsp;400,</div></div><div class=\"1229\" style=\"display: none;\"><div style=\"display: table-cell;\"></div><div style=\"display: table-cell;\">height_policy&nbsp;=&nbsp;'auto',</div></div><div class=\"1229\" style=\"display: none;\"><div style=\"display: table-cell;\"></div><div style=\"display: table-cell;\">hidpi&nbsp;=&nbsp;True,</div></div><div class=\"1229\" style=\"display: none;\"><div style=\"display: table-cell;\"></div><div style=\"display: table-cell;\">inner_height&nbsp;=&nbsp;0,</div></div><div class=\"1229\" style=\"display: none;\"><div style=\"display: table-cell;\"></div><div style=\"display: table-cell;\">inner_width&nbsp;=&nbsp;0,</div></div><div class=\"1229\" style=\"display: none;\"><div style=\"display: table-cell;\"></div><div style=\"display: table-cell;\">js_event_callbacks&nbsp;=&nbsp;{},</div></div><div class=\"1229\" style=\"display: none;\"><div style=\"display: table-cell;\"></div><div style=\"display: table-cell;\">js_property_callbacks&nbsp;=&nbsp;{},</div></div><div class=\"1229\" style=\"display: none;\"><div style=\"display: table-cell;\"></div><div style=\"display: table-cell;\">left&nbsp;=&nbsp;[LinearAxis(id='1126', ...)],</div></div><div class=\"1229\" style=\"display: none;\"><div style=\"display: table-cell;\"></div><div style=\"display: table-cell;\">lod_factor&nbsp;=&nbsp;10,</div></div><div class=\"1229\" style=\"display: none;\"><div style=\"display: table-cell;\"></div><div style=\"display: table-cell;\">lod_interval&nbsp;=&nbsp;300,</div></div><div class=\"1229\" style=\"display: none;\"><div style=\"display: table-cell;\"></div><div style=\"display: table-cell;\">lod_threshold&nbsp;=&nbsp;2000,</div></div><div class=\"1229\" style=\"display: none;\"><div style=\"display: table-cell;\"></div><div style=\"display: table-cell;\">lod_timeout&nbsp;=&nbsp;500,</div></div><div class=\"1229\" style=\"display: none;\"><div style=\"display: table-cell;\"></div><div style=\"display: table-cell;\">margin&nbsp;=&nbsp;(0, 0, 0, 0),</div></div><div class=\"1229\" style=\"display: none;\"><div style=\"display: table-cell;\"></div><div style=\"display: table-cell;\">match_aspect&nbsp;=&nbsp;False,</div></div><div class=\"1229\" style=\"display: none;\"><div style=\"display: table-cell;\"></div><div style=\"display: table-cell;\">max_height&nbsp;=&nbsp;None,</div></div><div class=\"1229\" style=\"display: none;\"><div style=\"display: table-cell;\"></div><div style=\"display: table-cell;\">max_width&nbsp;=&nbsp;None,</div></div><div class=\"1229\" style=\"display: none;\"><div style=\"display: table-cell;\"></div><div style=\"display: table-cell;\">min_border&nbsp;=&nbsp;5,</div></div><div class=\"1229\" style=\"display: none;\"><div style=\"display: table-cell;\"></div><div style=\"display: table-cell;\">min_border_bottom&nbsp;=&nbsp;None,</div></div><div class=\"1229\" style=\"display: none;\"><div style=\"display: table-cell;\"></div><div style=\"display: table-cell;\">min_border_left&nbsp;=&nbsp;None,</div></div><div class=\"1229\" style=\"display: none;\"><div style=\"display: table-cell;\"></div><div style=\"display: table-cell;\">min_border_right&nbsp;=&nbsp;None,</div></div><div class=\"1229\" style=\"display: none;\"><div style=\"display: table-cell;\"></div><div style=\"display: table-cell;\">min_border_top&nbsp;=&nbsp;None,</div></div><div class=\"1229\" style=\"display: none;\"><div style=\"display: table-cell;\"></div><div style=\"display: table-cell;\">min_height&nbsp;=&nbsp;None,</div></div><div class=\"1229\" style=\"display: none;\"><div style=\"display: table-cell;\"></div><div style=\"display: table-cell;\">min_width&nbsp;=&nbsp;None,</div></div><div class=\"1229\" style=\"display: none;\"><div style=\"display: table-cell;\"></div><div style=\"display: table-cell;\">name&nbsp;=&nbsp;None,</div></div><div class=\"1229\" style=\"display: none;\"><div style=\"display: table-cell;\"></div><div style=\"display: table-cell;\">outer_height&nbsp;=&nbsp;0,</div></div><div class=\"1229\" style=\"display: none;\"><div style=\"display: table-cell;\"></div><div style=\"display: table-cell;\">outer_width&nbsp;=&nbsp;0,</div></div><div class=\"1229\" style=\"display: none;\"><div style=\"display: table-cell;\"></div><div style=\"display: table-cell;\">outline_line_alpha&nbsp;=&nbsp;1.0,</div></div><div class=\"1229\" style=\"display: none;\"><div style=\"display: table-cell;\"></div><div style=\"display: table-cell;\">outline_line_cap&nbsp;=&nbsp;'butt',</div></div><div class=\"1229\" style=\"display: none;\"><div style=\"display: table-cell;\"></div><div style=\"display: table-cell;\">outline_line_color&nbsp;=&nbsp;'#e5e5e5',</div></div><div class=\"1229\" style=\"display: none;\"><div style=\"display: table-cell;\"></div><div style=\"display: table-cell;\">outline_line_dash&nbsp;=&nbsp;[],</div></div><div class=\"1229\" style=\"display: none;\"><div style=\"display: table-cell;\"></div><div style=\"display: table-cell;\">outline_line_dash_offset&nbsp;=&nbsp;0,</div></div><div class=\"1229\" style=\"display: none;\"><div style=\"display: table-cell;\"></div><div style=\"display: table-cell;\">outline_line_join&nbsp;=&nbsp;'bevel',</div></div><div class=\"1229\" style=\"display: none;\"><div style=\"display: table-cell;\"></div><div style=\"display: table-cell;\">outline_line_width&nbsp;=&nbsp;1,</div></div><div class=\"1229\" style=\"display: none;\"><div style=\"display: table-cell;\"></div><div style=\"display: table-cell;\">output_backend&nbsp;=&nbsp;'canvas',</div></div><div class=\"1229\" style=\"display: none;\"><div style=\"display: table-cell;\"></div><div style=\"display: table-cell;\">renderers&nbsp;=&nbsp;[GlyphRenderer(id='1148', ...)],</div></div><div class=\"1229\" style=\"display: none;\"><div style=\"display: table-cell;\"></div><div style=\"display: table-cell;\">reset_policy&nbsp;=&nbsp;'standard',</div></div><div class=\"1229\" style=\"display: none;\"><div style=\"display: table-cell;\"></div><div style=\"display: table-cell;\">right&nbsp;=&nbsp;[],</div></div><div class=\"1229\" style=\"display: none;\"><div style=\"display: table-cell;\"></div><div style=\"display: table-cell;\">sizing_mode&nbsp;=&nbsp;None,</div></div><div class=\"1229\" style=\"display: none;\"><div style=\"display: table-cell;\"></div><div style=\"display: table-cell;\">subscribed_events&nbsp;=&nbsp;[],</div></div><div class=\"1229\" style=\"display: none;\"><div style=\"display: table-cell;\"></div><div style=\"display: table-cell;\">syncable&nbsp;=&nbsp;True,</div></div><div class=\"1229\" style=\"display: none;\"><div style=\"display: table-cell;\"></div><div style=\"display: table-cell;\">tags&nbsp;=&nbsp;[],</div></div><div class=\"1229\" style=\"display: none;\"><div style=\"display: table-cell;\"></div><div style=\"display: table-cell;\">title&nbsp;=&nbsp;Title(id='1163', ...),</div></div><div class=\"1229\" style=\"display: none;\"><div style=\"display: table-cell;\"></div><div style=\"display: table-cell;\">title_location&nbsp;=&nbsp;'above',</div></div><div class=\"1229\" style=\"display: none;\"><div style=\"display: table-cell;\"></div><div style=\"display: table-cell;\">toolbar&nbsp;=&nbsp;Toolbar(id='1137', ...),</div></div><div class=\"1229\" style=\"display: none;\"><div style=\"display: table-cell;\"></div><div style=\"display: table-cell;\">toolbar_location&nbsp;=&nbsp;'right',</div></div><div class=\"1229\" style=\"display: none;\"><div style=\"display: table-cell;\"></div><div style=\"display: table-cell;\">toolbar_sticky&nbsp;=&nbsp;True,</div></div><div class=\"1229\" style=\"display: none;\"><div style=\"display: table-cell;\"></div><div style=\"display: table-cell;\">visible&nbsp;=&nbsp;True,</div></div><div class=\"1229\" style=\"display: none;\"><div style=\"display: table-cell;\"></div><div style=\"display: table-cell;\">width&nbsp;=&nbsp;600,</div></div><div class=\"1229\" style=\"display: none;\"><div style=\"display: table-cell;\"></div><div style=\"display: table-cell;\">width_policy&nbsp;=&nbsp;'auto',</div></div><div class=\"1229\" style=\"display: none;\"><div style=\"display: table-cell;\"></div><div style=\"display: table-cell;\">x_range&nbsp;=&nbsp;DataRange1d(id='1114', ...),</div></div><div class=\"1229\" style=\"display: none;\"><div style=\"display: table-cell;\"></div><div style=\"display: table-cell;\">x_scale&nbsp;=&nbsp;LinearScale(id='1118', ...),</div></div><div class=\"1229\" style=\"display: none;\"><div style=\"display: table-cell;\"></div><div style=\"display: table-cell;\">y_range&nbsp;=&nbsp;DataRange1d(id='1116', ...),</div></div><div class=\"1229\" style=\"display: none;\"><div style=\"display: table-cell;\"></div><div style=\"display: table-cell;\">y_scale&nbsp;=&nbsp;LinearScale(id='1120', ...))</div></div></div>\n",
              "<script>\n",
              "(function() {\n",
              "  let expanded = false;\n",
              "  const ellipsis = document.getElementById(\"1230\");\n",
              "  ellipsis.addEventListener(\"click\", function() {\n",
              "    const rows = document.getElementsByClassName(\"1229\");\n",
              "    for (let i = 0; i < rows.length; i++) {\n",
              "      const el = rows[i];\n",
              "      el.style.display = expanded ? \"none\" : \"table-row\";\n",
              "    }\n",
              "    ellipsis.innerHTML = expanded ? \"&hellip;)\" : \"&lsaquo;&lsaquo;&lsaquo;\";\n",
              "    expanded = !expanded;\n",
              "  });\n",
              "})();\n",
              "</script>\n"
            ]
          },
          "metadata": {},
          "execution_count": 77
        }
      ],
      "source": [
        "draw_vectors(word_tsne[:, 0], word_tsne[:, 1], color='green', token=list(id_to_token.values()))"
      ]
    },
    {
      "cell_type": "markdown",
      "metadata": {
        "id": "B4jtuzn-UBCi"
      },
      "source": [
        "## 3. POS tagging task"
      ]
    },
    {
      "cell_type": "markdown",
      "metadata": {
        "id": "P46UGjCuUBCi"
      },
      "source": [
        "The embeddings by themselves are nice to have, but the main objective of course is to solve a particular (NLP) task. Further, so far we have trained our own embedding from a given corpus, but often it is beneficial to use existing word embeddings.\n",
        "\n",
        "Now, let's use embeddings to train a simple Part of Speech (PoS) tagging model, using pretrained word embeddings. We shall use [50d glove word vectors](https://nlp.stanford.edu/projects/glove/) for the rest of this section."
      ]
    },
    {
      "cell_type": "markdown",
      "metadata": {
        "id": "742yM66UUBCi"
      },
      "source": [
        "Before jumping into our neural POS tagger, it is better to set up a baseline to give us an intuition how the neural model performs compared to other models. The baseline model is the [Conditional-Random-Field (CRF)](https://en.wikipedia.org/wiki/Conditional_random_field), also discussed in the theory lectures, which is a discriminative sequence labelling model. The evaluation is done on a 10\\% sample of the Penn Treebank (which is offered through NLTK)."
      ]
    },
    {
      "cell_type": "markdown",
      "metadata": {
        "id": "6aTDYzCXUBCi",
        "pycharm": {
          "name": "#%% md\n"
        }
      },
      "source": [
        "Download data from `nltk` repository and split it into test (20%) and training (80%) sets:"
      ]
    },
    {
      "cell_type": "code",
      "execution_count": 78,
      "metadata": {
        "colab": {
          "base_uri": "https://localhost:8080/"
        },
        "id": "AzmaOdDTUBCi",
        "outputId": "e0b3817a-1139-4f78-cacd-995f5dd286c8",
        "pycharm": {
          "is_executing": true
        }
      },
      "outputs": [
        {
          "output_type": "stream",
          "name": "stderr",
          "text": [
            "[nltk_data] Downloading package treebank to /root/nltk_data...\n",
            "[nltk_data]   Unzipping corpora/treebank.zip.\n",
            "[nltk_data] Downloading package universal_tagset to /root/nltk_data...\n",
            "[nltk_data]   Unzipping taggers/universal_tagset.zip.\n"
          ]
        },
        {
          "output_type": "stream",
          "name": "stdout",
          "text": [
            "Number of Tagged Sentences  3914\n",
            "[('Pierre', 'NOUN'), ('Vinken', 'NOUN'), (',', '.'), ('61', 'NUM'), ('years', 'NOUN'), ('old', 'ADJ'), (',', '.'), ('will', 'VERB'), ('join', 'VERB'), ('the', 'DET'), ('board', 'NOUN'), ('as', 'ADP'), ('a', 'DET'), ('nonexecutive', 'ADJ'), ('director', 'NOUN'), ('Nov.', 'NOUN'), ('29', 'NUM'), ('.', '.')]\n"
          ]
        }
      ],
      "source": [
        "import nltk\n",
        "\n",
        "# download necessary packages from nltk\n",
        "nltk.download('treebank')\n",
        "nltk.download('universal_tagset')\n",
        "\n",
        "tagged_sentence = nltk.corpus.treebank.tagged_sents(tagset='universal')\n",
        "print(\"Number of Tagged Sentences \", len(tagged_sentence))\n",
        "print(tagged_sentence[0])"
      ]
    },
    {
      "cell_type": "code",
      "execution_count": 79,
      "metadata": {
        "colab": {
          "base_uri": "https://localhost:8080/"
        },
        "id": "_xS33zWDUBCi",
        "outputId": "9e79fa5e-b874-421b-bfe2-4c6a5d71c853",
        "pycharm": {
          "is_executing": true,
          "name": "#%%\n"
        }
      },
      "outputs": [
        {
          "output_type": "stream",
          "name": "stdout",
          "text": [
            "Train size: 3131\n",
            "Test size: 783\n"
          ]
        }
      ],
      "source": [
        "from sklearn.model_selection import train_test_split\n",
        "\n",
        "train, test = train_test_split(tagged_sentence, test_size=0.20, random_state=42)\n",
        "\n",
        "print(\"Train size: {}\".format(len(train)))\n",
        "print(\"Test size: {}\".format(len(test)))"
      ]
    },
    {
      "cell_type": "markdown",
      "metadata": {
        "id": "JXzCNcfjUBCi",
        "pycharm": {
          "name": "#%% md\n"
        }
      },
      "source": [
        "### Setup a baseline"
      ]
    },
    {
      "cell_type": "code",
      "execution_count": 80,
      "metadata": {
        "id": "A1fRY8lrUBCi",
        "pycharm": {
          "is_executing": true,
          "name": "#%%\n"
        }
      },
      "outputs": [],
      "source": [
        "def features(sentence, index):\n",
        "    \"\"\"\n",
        "    Return hand designed features for a given word\n",
        "    :argument:\n",
        "        sentence: tokenized sentence [w1, w2, ...] \n",
        "        index: index of the word    \n",
        "    :return:\n",
        "        a feature set for given word\n",
        "    \"\"\"\n",
        "\n",
        "    return {\n",
        "        'word': sentence[index],\n",
        "        'is_first': index == 0,\n",
        "        'is_last': index == len(sentence) - 1,\n",
        "        'is_capitalized': sentence[index][0].upper() == sentence[index][0],\n",
        "        'prev_word': '' if index == 0 else sentence[index - 1],\n",
        "        'next_word': '' if index == len(sentence) - 1 else sentence[index + 1],\n",
        "        ############### for student ################\n",
        "        'is_numeric': sentence[index].isdigit(),\n",
        "        'is_all_caps': sentence[index].upper() == sentence[index],\n",
        "        'is_all_lower': sentence[index].lower() == sentence[index],\n",
        "        'prefix-1': sentence[index][0],\n",
        "        'prefix-2': sentence[index][:2],\n",
        "        'prefix-3': sentence[index][:3],\n",
        "        'suffix-1': sentence[index][-1],\n",
        "        'suffix-2': sentence[index][-2:],\n",
        "        'suffix-3': sentence[index][-3:],\n",
        "        'prev_word_is_numeric': '' if index == 0 else sentence[index - 1].isdigit(),\n",
        "        'prev_word_is_all_caps': '' if index == 0 else sentence[index - 1].upper() == sentence[index - 1],\n",
        "        'prev_word_is_all_lower': '' if index == 0 else sentence[index - 1].lower() == sentence[index - 1],\n",
        "        'next_word_is_numeric': '' if index == len(sentence) - 1 else sentence[index + 1].isdigit(),\n",
        "        'next_word_is_all_caps': '' if index == len(sentence) - 1 else sentence[index + 1].upper() == sentence[index + 1],\n",
        "        'next_word_is_all_lower': '' if index == len(sentence) - 1 else sentence[index + 1].lower() == sentence[index + 1],\n",
        "        'prev_word_prefix-1': '' if index == 0 else sentence[index - 1][0],\n",
        "        'prev_word_prefix-2': '' if index == 0 else sentence[index - 1][:2],\n",
        "        'prev_word_prefix-3': '' if index == 0 else sentence[index - 1][:3],\n",
        "        'prev_word_suffix-1': '' if index == 0 else sentence[index - 1][-1],\n",
        "        'prev_word_suffix-2': '' if index == 0 else sentence[index - 1][-2:],\n",
        "        'prev_word_suffix-3': '' if index == 0 else sentence[index - 1][-3:],\n",
        "        'next_word_prefix-1': '' if index == len(sentence) - 1 else sentence[index + 1][0],\n",
        "        'next_word_prefix-2': '' if index == len(sentence) - 1 else sentence[index + 1][:2],\n",
        "        'next_word_prefix-3': '' if index == len(sentence) - 1 else sentence[index + 1][:3],\n",
        "        'next_word_suffix-1': '' if index == len(sentence) - 1 else sentence[index + 1][-1],\n",
        "        'next_word_suffix-2': '' if index == len(sentence) - 1 else sentence[index + 1][-2:],\n",
        "        'next_word_suffix-3': '' if index == len(sentence) - 1 else sentence[index + 1][-3:],\n",
        "        'prev_word_is_first': '' if index == 0 else index == 1,\n",
        "        'next_word_is_last': '' if index == len(sentence) - 1 else index == len(sentence) - 2,\n",
        "        'prev_word_is_capitalized': '' if index == 0 else sentence[index - 1][0].upper() == sentence[index - 1][0],\n",
        "        'next_word_is_capitalized': '' if index == len(sentence) - 1 else sentence[index + 1][0].upper() == sentence[index + 1][0],\n",
        "        'prev_word_is_numeric': '' if index == 0 else sentence[index - 1].isdigit(),\n",
        "        'next_word_is_numeric': '' if index == len(sentence) - 1 else sentence[index + 1].isdigit(),\n",
        "        'prev_word_is_all_caps': '' if index == 0 else sentence[index - 1].upper() == sentence[index - 1],\n",
        "        'next_word_is_all_caps': '' if index == len(sentence) - 1 else sentence[index + 1].upper() == sentence[index + 1]\n",
        "        ############################################\n",
        "    }"
      ]
    },
    {
      "cell_type": "markdown",
      "metadata": {
        "id": "dDB5Ty4PUBCi",
        "pycharm": {
          "name": "#%% md\n"
        }
      },
      "source": [
        "### Question-2\n",
        "\n",
        "Suggest at least 6 more features that you could improve the above feature-set and add them to the code above (e.g., to take into account typical word prefixes or endings). After running the model with these features: which features worked best, and how much did your new features help in improving the model?  To get an idea, a test score of 0.95 should be feasible with a few well-chosen additional features.\n",
        "\n",
        "**<font color=blue><<< INSERT ANSWER HERE >>></font>**\n",
        "- Starting from the baseline given, with an accuracy of 0.937. We can add some more basic features (is_numeric, is_all_caps, is_all_lower)with this we reach 0.943. Extending our features even more by conidering not only features of the word, but of the next and previous word we get 0.966. Also the examples given in sklearn_crfsuit were tried, however the performance was way lower with 0.90 accuracy."
      ]
    },
    {
      "cell_type": "code",
      "execution_count": 81,
      "metadata": {
        "id": "mzV6gtrSUBCi",
        "pycharm": {
          "is_executing": true
        }
      },
      "outputs": [],
      "source": [
        "def transform2feature_label(tagged_sentence):\n",
        "    X, y = [], []\n",
        " \n",
        "    for tagged in tagged_sentence:\n",
        "        X.append([features([w for w, t in tagged], i) for i in range(len(tagged))])\n",
        "        y.append([tagged[i][1] for i in range(len(tagged))])\n",
        "    \n",
        "    return X,y"
      ]
    },
    {
      "cell_type": "code",
      "execution_count": 82,
      "metadata": {
        "id": "cqps04r7UBCj",
        "pycharm": {
          "is_executing": true
        }
      },
      "outputs": [],
      "source": [
        "X_train, y_train = transform2feature_label(train)\n",
        "X_test, y_test = transform2feature_label(test)"
      ]
    },
    {
      "cell_type": "code",
      "execution_count": 83,
      "metadata": {
        "colab": {
          "base_uri": "https://localhost:8080/"
        },
        "id": "GPMrEey6UBCj",
        "outputId": "d8d8ac70-c63e-42ee-81e8-6c6d51a640bc",
        "pycharm": {
          "is_executing": true
        }
      },
      "outputs": [
        {
          "output_type": "execute_result",
          "data": {
            "text/plain": [
              "{'word': 'Pierre',\n",
              " 'is_first': True,\n",
              " 'is_last': False,\n",
              " 'is_capitalized': True,\n",
              " 'prev_word': '',\n",
              " 'next_word': 'Vinken',\n",
              " 'is_numeric': False,\n",
              " 'is_all_caps': False,\n",
              " 'is_all_lower': False,\n",
              " 'prefix-1': 'P',\n",
              " 'prefix-2': 'Pi',\n",
              " 'prefix-3': 'Pie',\n",
              " 'suffix-1': 'e',\n",
              " 'suffix-2': 're',\n",
              " 'suffix-3': 'rre',\n",
              " 'prev_word_is_numeric': '',\n",
              " 'prev_word_is_all_caps': '',\n",
              " 'prev_word_is_all_lower': '',\n",
              " 'next_word_is_numeric': False,\n",
              " 'next_word_is_all_caps': False,\n",
              " 'next_word_is_all_lower': False,\n",
              " 'prev_word_prefix-1': '',\n",
              " 'prev_word_prefix-2': '',\n",
              " 'prev_word_prefix-3': '',\n",
              " 'prev_word_suffix-1': '',\n",
              " 'prev_word_suffix-2': '',\n",
              " 'prev_word_suffix-3': '',\n",
              " 'next_word_prefix-1': 'V',\n",
              " 'next_word_prefix-2': 'Vi',\n",
              " 'next_word_prefix-3': 'Vin',\n",
              " 'next_word_suffix-1': 'n',\n",
              " 'next_word_suffix-2': 'en',\n",
              " 'next_word_suffix-3': 'ken',\n",
              " 'prev_word_is_first': '',\n",
              " 'next_word_is_last': False,\n",
              " 'prev_word_is_capitalized': '',\n",
              " 'next_word_is_capitalized': True}"
            ]
          },
          "metadata": {},
          "execution_count": 83
        }
      ],
      "source": [
        "X_train[0][0]"
      ]
    },
    {
      "cell_type": "code",
      "execution_count": 84,
      "metadata": {
        "colab": {
          "base_uri": "https://localhost:8080/"
        },
        "id": "ayjAI23YUBCj",
        "outputId": "392f11e8-669c-4652-d1c8-0e811cbbd605",
        "pycharm": {
          "is_executing": true
        }
      },
      "outputs": [
        {
          "output_type": "stream",
          "name": "stdout",
          "text": [
            "Looking in indexes: https://pypi.org/simple, https://us-python.pkg.dev/colab-wheels/public/simple/\n",
            "Collecting sklearn-crfsuite\n",
            "  Downloading sklearn_crfsuite-0.3.6-py2.py3-none-any.whl (12 kB)\n",
            "Collecting python-crfsuite>=0.8.3\n",
            "  Downloading python_crfsuite-0.9.9-cp39-cp39-manylinux_2_17_x86_64.manylinux2014_x86_64.whl (1.0 MB)\n",
            "\u001b[2K     \u001b[90m━━━━━━━━━━━━━━━━━━━━━━━━━━━━━━━━━━━━━━━━\u001b[0m \u001b[32m1.0/1.0 MB\u001b[0m \u001b[31m10.0 MB/s\u001b[0m eta \u001b[36m0:00:00\u001b[0m\n",
            "\u001b[?25hRequirement already satisfied: tqdm>=2.0 in /usr/local/lib/python3.9/dist-packages (from sklearn-crfsuite) (4.65.0)\n",
            "Requirement already satisfied: six in /usr/local/lib/python3.9/dist-packages (from sklearn-crfsuite) (1.16.0)\n",
            "Requirement already satisfied: tabulate in /usr/local/lib/python3.9/dist-packages (from sklearn-crfsuite) (0.8.10)\n",
            "Installing collected packages: python-crfsuite, sklearn-crfsuite\n",
            "Successfully installed python-crfsuite-0.9.9 sklearn-crfsuite-0.3.6\n"
          ]
        }
      ],
      "source": [
        "# install crf-classifier\n",
        "\n",
        "!pip install sklearn-crfsuite"
      ]
    },
    {
      "cell_type": "code",
      "execution_count": 85,
      "metadata": {
        "colab": {
          "base_uri": "https://localhost:8080/"
        },
        "id": "M9dosJLvUBCj",
        "outputId": "d3b5370f-073e-4045-d1b3-f6fa19518689",
        "pycharm": {
          "is_executing": true,
          "name": "#%%\n"
        }
      },
      "outputs": [
        {
          "output_type": "stream",
          "name": "stdout",
          "text": [
            "Accuracy: 0.9661297386734148\n"
          ]
        }
      ],
      "source": [
        "import sklearn_crfsuite\n",
        "\n",
        "\n",
        "# fit crfsuite classifier on train data\n",
        "# use lbfgs for optimization and set max number of iterations to 100\n",
        "############### for student ################\n",
        "crf = sklearn_crfsuite.CRF(algorithm = 'lbfgs', max_iterations=100)\n",
        "crf.fit(X_train, y_train)\n",
        "\n",
        "############################################\n",
        "\n",
        "print (\"Accuracy:\", crf.score(X_test, y_test))"
      ]
    },
    {
      "cell_type": "markdown",
      "metadata": {
        "id": "Ea2eaHRnUBCj"
      },
      "source": [
        "### Build a neural model "
      ]
    },
    {
      "cell_type": "markdown",
      "metadata": {
        "id": "AmAqwmtMUBCj",
        "pycharm": {
          "name": "#%% md\n"
        }
      },
      "source": [
        "Now it is time to build our Neural PoS-tagger. The model we want to play with is a bi-directional LSTM on top of pretrained word embeddings. First, we prepare the embedding part and then go into the model itself:"
      ]
    },
    {
      "cell_type": "code",
      "execution_count": 86,
      "metadata": {
        "colab": {
          "base_uri": "https://localhost:8080/"
        },
        "id": "f4H32XN7UBCj",
        "outputId": "4ed3fb2f-c0e6-4479-c0fe-4d7cd10fff43",
        "pycharm": {
          "is_executing": true
        }
      },
      "outputs": [
        {
          "output_type": "stream",
          "name": "stdout",
          "text": [
            "--2023-04-19 18:43:42--  https://www.dropbox.com/s/lc3yjhmovq7nyp5/glove6b50dtxt.zip?dl=1\n",
            "Resolving www.dropbox.com (www.dropbox.com)... 162.125.5.18, 2620:100:601d:18::a27d:512\n",
            "Connecting to www.dropbox.com (www.dropbox.com)|162.125.5.18|:443... connected.\n",
            "HTTP request sent, awaiting response... 302 Found\n",
            "Location: /s/dl/lc3yjhmovq7nyp5/glove6b50dtxt.zip [following]\n",
            "--2023-04-19 18:43:43--  https://www.dropbox.com/s/dl/lc3yjhmovq7nyp5/glove6b50dtxt.zip\n",
            "Reusing existing connection to www.dropbox.com:443.\n",
            "HTTP request sent, awaiting response... 302 Found\n",
            "Location: https://uc548a6f05f1d5fb8ba0a4379d5f.dl.dropboxusercontent.com/cd/0/get/B6cYq_pt_Q0Bk_tWju-bUBYE597Su7yrlrbPtg0RbKIe94l3M7yjkTABizwEtlfGx-_Kap7zcqu_lQvyAErszEW5_9Tm3Y3UNxLZ80nygTpTpolt6aBST5-Vo5aX-J5GETzgwccU_wYCp3pRFfjjJOECZ7uO5yCceeBt-jAl1-bg3g/file?dl=1# [following]\n",
            "--2023-04-19 18:43:43--  https://uc548a6f05f1d5fb8ba0a4379d5f.dl.dropboxusercontent.com/cd/0/get/B6cYq_pt_Q0Bk_tWju-bUBYE597Su7yrlrbPtg0RbKIe94l3M7yjkTABizwEtlfGx-_Kap7zcqu_lQvyAErszEW5_9Tm3Y3UNxLZ80nygTpTpolt6aBST5-Vo5aX-J5GETzgwccU_wYCp3pRFfjjJOECZ7uO5yCceeBt-jAl1-bg3g/file?dl=1\n",
            "Resolving uc548a6f05f1d5fb8ba0a4379d5f.dl.dropboxusercontent.com (uc548a6f05f1d5fb8ba0a4379d5f.dl.dropboxusercontent.com)... 162.125.5.15, 2620:100:601f:15::a27d:90f\n",
            "Connecting to uc548a6f05f1d5fb8ba0a4379d5f.dl.dropboxusercontent.com (uc548a6f05f1d5fb8ba0a4379d5f.dl.dropboxusercontent.com)|162.125.5.15|:443... connected.\n",
            "HTTP request sent, awaiting response... 200 OK\n",
            "Length: 70948798 (68M) [application/binary]\n",
            "Saving to: ‘glove6b50dtxt.zip’\n",
            "\n",
            "glove6b50dtxt.zip   100%[===================>]  67.66M  82.6MB/s    in 0.8s    \n",
            "\n",
            "2023-04-19 18:43:45 (82.6 MB/s) - ‘glove6b50dtxt.zip’ saved [70948798/70948798]\n",
            "\n",
            "Archive:  glove6b50dtxt.zip\n",
            "  inflating: glove.6B.50d.txt        \n"
          ]
        }
      ],
      "source": [
        "# download glove 50d\n",
        "\n",
        "!wget \"https://www.dropbox.com/s/lc3yjhmovq7nyp5/glove6b50dtxt.zip?dl=1\" -O glove6b50dtxt.zip\n",
        "!unzip -o glove6b50dtxt.zip\n",
        "!rm glove6b50dtxt.zip"
      ]
    },
    {
      "cell_type": "code",
      "execution_count": 87,
      "metadata": {
        "id": "Z83i2_92UBCj",
        "pycharm": {
          "is_executing": true,
          "name": "#%%\n"
        }
      },
      "outputs": [],
      "source": [
        "GLOVE_PATH = 'glove.6B.50d.txt'"
      ]
    },
    {
      "cell_type": "markdown",
      "metadata": {
        "id": "cWnyEZQKUBCj",
        "pycharm": {
          "name": "#%% md\n"
        }
      },
      "source": [
        "We build two dictionaries for mapping words and tags to uniqe IDs, which we need later on:"
      ]
    },
    {
      "cell_type": "code",
      "execution_count": 88,
      "metadata": {
        "colab": {
          "base_uri": "https://localhost:8080/"
        },
        "id": "ZnqvFlo2UBCj",
        "outputId": "42b15bed-3c85-4b37-b401-1272e9905a87",
        "pycharm": {
          "is_executing": true,
          "name": "#%%\n"
        }
      },
      "outputs": [
        {
          "output_type": "stream",
          "name": "stdout",
          "text": [
            "Unique words: 12408\n",
            "Unique tags: 12\n"
          ]
        }
      ],
      "source": [
        "word_to_id = {}\n",
        "tag_to_id = {}\n",
        "\n",
        "for sentence in tagged_sentence:\n",
        "    for word, pos_tag in sentence:\n",
        "        if word not in word_to_id.keys():\n",
        "            word_to_id[word] = len(word_to_id)\n",
        "        if pos_tag not in tag_to_id.keys():\n",
        "            tag_to_id[pos_tag] = len(tag_to_id)\n",
        "            \n",
        "word_vocab_size = len(word_to_id)\n",
        "tag_vocab_size = len(tag_to_id)\n",
        "\n",
        "print(\"Unique words: {}\".format(word_vocab_size))\n",
        "print(\"Unique tags: {}\".format(tag_vocab_size))"
      ]
    },
    {
      "cell_type": "markdown",
      "metadata": {
        "id": "_2VejXrDUBCj",
        "pycharm": {
          "name": "#%% md\n"
        }
      },
      "source": [
        "We created a wrapper for the embedding module to encapsulate it from the other parts. This module aims to load word vectors from file and assign the weights into the corresponding embedding.\n",
        "\n",
        "Create an embedding layer (this time use `nn.Embedding`), and copy the pretrained embeddings to its `weight` field. In this exercise, you can continue to finetune the embeddings while training the end task; no need to freeze them: this means the pre-trained embeddings serve as a smart initialization of the embedding layer."
      ]
    },
    {
      "cell_type": "code",
      "execution_count": 89,
      "metadata": {
        "id": "GgmaxGNjUBCk",
        "pycharm": {
          "is_executing": true,
          "name": "#%%\n"
        }
      },
      "outputs": [],
      "source": [
        "class PretrainedEmbeddings(nn.Module):\n",
        "    def __init__(self, filename, word_to_id, dim_embedding):\n",
        "        super(PretrainedEmbeddings, self).__init__()\n",
        "        \n",
        "        wordvectors = self.load_word_vectors(filename, word_to_id, dim_embedding)\n",
        "        # self.embed = ...\n",
        "        # self.embe.weight ... \n",
        "        ############### for student ################\n",
        "        self.embed = nn.Embedding(len(word_to_id), dim_embedding)\n",
        "        self.embed.weight.data.copy_(wordvectors) # Comment this line for randomly initialize embedding layer\n",
        "        \n",
        "        ############################################\n",
        "\n",
        "    def forward(self, inputs):\n",
        "        return self.embed(inputs)\n",
        "    \n",
        "    def load_word_vectors(self, filename, word_to_id, dim_embedding):\n",
        "        wordvectors = torch.zeros(len(word_to_id), dim_embedding)\n",
        "        with open(filename, 'r') as file:\n",
        "            for line in file.readlines():\n",
        "                data = line.split(' ')\n",
        "                word = data[0]\n",
        "                vector = data[1:]\n",
        "                if word in word_to_id.keys():\n",
        "                    wordvectors[word_to_id[word],:] = torch.Tensor([float(x) for x in vector])\n",
        "        \n",
        "        return wordvectors"
      ]
    },
    {
      "cell_type": "code",
      "execution_count": 90,
      "metadata": {
        "colab": {
          "base_uri": "https://localhost:8080/"
        },
        "id": "-rAdkGZMUBCk",
        "outputId": "c01b0ad3-4e9a-4d87-cbe9-aa6eb3b84475",
        "pycharm": {
          "is_executing": true
        }
      },
      "outputs": [
        {
          "output_type": "stream",
          "name": "stdout",
          "text": [
            "Well done\n"
          ]
        }
      ],
      "source": [
        "## evaluation\n",
        "## DON'T CHANGE THIS CELL IN ANY WAY\n",
        "\n",
        "dummy_model = PretrainedEmbeddings(GLOVE_PATH, word_to_id, 50)\n",
        "dummy_inps = torch.tensor([0, 4, 3, 5, 9], dtype=torch.long)\n",
        "\n",
        "assert dummy_model.embed.weight.shape == torch.Size([word_vocab_size, 50]), \"embedding shape is not correct\"\n",
        "assert dummy_model(dummy_inps).shape == torch.Size([5, 50]), \"word embedding shape is not correct\"\n",
        "assert np.allclose(dummy_model.embed.weight.detach().numpy()[0], [0] * 50), \"Load weights from glove?\"\n",
        "assert np.allclose(dummy_model.embed.weight.detach().numpy()[714], [0] * 50), \"Are you sure you load from glove correctly?\"\n",
        "\n",
        "print('Well done')"
      ]
    },
    {
      "cell_type": "markdown",
      "metadata": {
        "id": "PlXDMdVPUBCk"
      },
      "source": [
        "Let’s now define the model. Here’s what we need:\n",
        "\n",
        "- We’ll need an embedding layer that computes a word vector for each word in a given sentence\n",
        "- We’ll need a bidirectional-LSTM layer to incorporate context from both directions  (reshape the embedding since `nn.LSTM` needs 3-dimensional inputs)\n",
        "- After the LSTM Layer we need a Linear layer that picks the appropriate POS tag (note that this layer is applied to each element of the sequence).\n",
        "- Apply the LogSoftmax to calculate the log probabilities from the resulting scores.\n",
        "\n",
        "Complete the forward path of the POSTagger model: "
      ]
    },
    {
      "cell_type": "code",
      "execution_count": 91,
      "metadata": {
        "id": "8Adk9qU3UBCk",
        "pycharm": {
          "is_executing": true
        }
      },
      "outputs": [],
      "source": [
        "class POSTagger(nn.Module):\n",
        "    def __init__(self, embedding_dim, hidden_dim, word_to_id, tag_to_id, embedding_file_path):\n",
        "        super(POSTagger, self).__init__()\n",
        "        \n",
        "        self.embed = PretrainedEmbeddings(embedding_file_path, word_to_id, embedding_dim)\n",
        "        self.lstm = nn.LSTM(embedding_dim, hidden_dim, bidirectional=True)\n",
        "        self.hidden2tag = nn.Linear(hidden_dim * 2, len(tag_to_id))\n",
        "        \n",
        "    def forward(self, sentence):\n",
        "        ############### for student ################\n",
        "        embedded = self.embed(sentence)\n",
        "        outputs, (hidden, cell) = self.lstm(embedded)      #From my understanding, better use view than reshape if dont need a copy.\n",
        "        predictions = self.hidden2tag(outputs)\n",
        "        tag_scores = F.log_softmax(predictions, dim=1)\n",
        "        ############################################\n",
        "        return tag_scores"
      ]
    },
    {
      "cell_type": "code",
      "execution_count": 92,
      "metadata": {
        "colab": {
          "base_uri": "https://localhost:8080/"
        },
        "id": "VuKprHoiUBCk",
        "outputId": "ae56b0a7-f7a6-450b-f097-457ba038d145",
        "pycharm": {
          "is_executing": true
        }
      },
      "outputs": [
        {
          "output_type": "stream",
          "name": "stdout",
          "text": [
            "Well done!\n"
          ]
        }
      ],
      "source": [
        "## evaluation\n",
        "## DON'T CHANGE THIS CELL IN ANY WAY\n",
        "\n",
        "dummy_model = POSTagger(50, 50, word_to_id, tag_to_id, GLOVE_PATH)\n",
        "dummy_inps = torch.tensor([0, 4, 3, 5, 9], dtype=torch.long)\n",
        "\n",
        "assert dummy_model(dummy_inps).grad_fn.__class__.__name__ in ['LogSoftmaxBackward', 'LogSoftmaxBackward0'], \"softmax layer?\"\n",
        "assert dummy_model(dummy_inps).shape == torch.Size([5, len(tag_to_id)]), \"The output has wrong shape! Probably you need some reshaping!\"\n",
        "\n",
        "print(\"Well done!\")"
      ]
    },
    {
      "cell_type": "markdown",
      "metadata": {
        "id": "QnpKQfB1UBCk"
      },
      "source": [
        "Perfect! Now train your model:"
      ]
    },
    {
      "cell_type": "code",
      "execution_count": 93,
      "metadata": {
        "colab": {
          "base_uri": "https://localhost:8080/"
        },
        "id": "kuHRaZByUBCk",
        "outputId": "57f1a268-b838-4de1-cf4c-5b2174addc9e",
        "pycharm": {
          "is_executing": true
        }
      },
      "outputs": [
        {
          "output_type": "stream",
          "name": "stdout",
          "text": [
            "Epoch 1 Completed,\tLoss 2.831940946634859e-05\tAccuracy: 0.8661752939224243\n",
            "Epoch 2 Completed,\tLoss 8.59302599565126e-06\tAccuracy: 0.9668404459953308\n",
            "Epoch 3 Completed,\tLoss 7.756163540761918e-06\tAccuracy: 0.9843519330024719\n",
            "Epoch 4 Completed,\tLoss 3.1714084798295517e-06\tAccuracy: 0.9909543395042419\n",
            "Epoch 5 Completed,\tLoss 1.5084794995345874e-06\tAccuracy: 0.9945226311683655\n",
            "Epoch 6 Completed,\tLoss 1.0506756780159776e-06\tAccuracy: 0.9967979192733765\n"
          ]
        }
      ],
      "source": [
        "# Training start\n",
        "\n",
        "model = POSTagger(50, 64, word_to_id, tag_to_id, GLOVE_PATH)\n",
        "model = model.to(device)\n",
        "criterion = nn.NLLLoss()\n",
        "optimizer = optim.AdamW(model.parameters())\n",
        "\n",
        "accuracy_list = []\n",
        "loss_list = []\n",
        "\n",
        "interval = round(len(train) / 100.)\n",
        "EPOCHS = 6\n",
        "e_interval = round(EPOCHS / 10.)\n",
        "\n",
        "for e in range(EPOCHS):\n",
        "    acc = 0 \n",
        "    loss = 0\n",
        "    \n",
        "    model.train()\n",
        "    \n",
        "    for i, sentence_tag in enumerate(train):\n",
        "        \n",
        "        sentence = [word_to_id[s[0]] for s in sentence_tag]\n",
        "        sentence = torch.tensor(sentence, dtype=torch.long)\n",
        "        sentence = sentence.to(device)\n",
        "        targets = [tag_to_id[s[1]] for s in sentence_tag]\n",
        "        targets = torch.tensor(targets, dtype=torch.long)\n",
        "        targets = targets.to(device)\n",
        "        \n",
        "        model.zero_grad()\n",
        "        \n",
        "        tag_scores = model(sentence)\n",
        "        \n",
        "        loss = criterion(tag_scores, targets)\n",
        "        \n",
        "        loss.backward()\n",
        "        \n",
        "        optimizer.step()\n",
        "        \n",
        "        loss += loss.item()\n",
        "        \n",
        "        _, indices = torch.max(tag_scores, 1)\n",
        "\n",
        "        acc += torch.mean((targets == indices).float())\n",
        "        \n",
        "        if i % interval == 0:\n",
        "            print(\"Epoch {} Running;\\t{}% Complete\".format(e + 1, i / interval), end = \"\\r\", flush = True)\n",
        "    \n",
        "    loss = loss / len(train)\n",
        "    acc = acc / len(train)\n",
        "    loss_list.append(float(loss))\n",
        "    accuracy_list.append(float(acc))\n",
        "    \n",
        "    if (e + 1) % e_interval == 0:\n",
        "        print(\"Epoch {} Completed,\\tLoss {}\\tAccuracy: {}\".format(e + 1, np.mean(loss_list[-e_interval:]), np.mean(accuracy_list[-e_interval:])))"
      ]
    },
    {
      "cell_type": "markdown",
      "metadata": {
        "id": "6P3C4B8GUBCk"
      },
      "source": [
        "So far, so good! It's time to test our classifier. Complete the evaluation part, i.e., compute the accuracy on the test data:"
      ]
    },
    {
      "cell_type": "code",
      "execution_count": 94,
      "metadata": {
        "id": "W9GBIzgTUBCk",
        "pycharm": {
          "is_executing": true
        }
      },
      "outputs": [],
      "source": [
        "def evaluate(model, data):\n",
        "\n",
        "    model.eval()\n",
        "    \n",
        "    acc = 0.0\n",
        "    \n",
        "    # calculate accuracy based on predictions\n",
        "    ############### for student ################\n",
        "    for i, sentence_tag in enumerate(data):\n",
        "        \n",
        "        sentence = [word_to_id[s[0]] for s in sentence_tag]\n",
        "        sentence = torch.tensor(sentence, dtype=torch.long)\n",
        "        sentence = sentence.to(device)\n",
        "        targets = [tag_to_id[s[1]] for s in sentence_tag]\n",
        "        targets = torch.tensor(targets, dtype=torch.long)\n",
        "        targets = targets.to(device)\n",
        "\n",
        "        predictions = model(sentence)\n",
        "        \n",
        "        _, indices = torch.max(predictions, 1)\n",
        "\n",
        "        acc += torch.mean((targets == indices).float())\n",
        "    \n",
        "    score = acc/len(data)\n",
        "    ############################################\n",
        "    \n",
        "    return score\n",
        "    \n",
        "        "
      ]
    },
    {
      "cell_type": "code",
      "execution_count": 95,
      "metadata": {
        "colab": {
          "base_uri": "https://localhost:8080/"
        },
        "id": "jT2SAfg8UBCk",
        "outputId": "24079481-dd00-42eb-98b1-71f9c6b3d9f8",
        "pycharm": {
          "is_executing": true
        }
      },
      "outputs": [
        {
          "output_type": "stream",
          "name": "stdout",
          "text": [
            "Accuracy: tensor(0.9632, device='cuda:0')\n",
            "Well done!\n"
          ]
        }
      ],
      "source": [
        "score = evaluate(model, test)\n",
        "print(\"Accuracy:\", score)\n",
        "\n",
        "assert score > 0.96, \"accuracy should be above 96%\"\n",
        "assert score < 1.00, \"accuracy should be less than 100!%\"\n",
        "\n",
        "print('Well done!')"
      ]
    },
    {
      "cell_type": "markdown",
      "metadata": {
        "id": "hGr6_aQeUBCl"
      },
      "source": [
        "### Question-3\n",
        "\n",
        "- Whether or not to fine-tune the pre-trained embeddings, the number of epochs you need (whether or not to use 'early stopping'), to apply regularization... are hyperparameters that should be properly tuned on a validation set. We did not do this here. It is therefore hard to make strong claims about the model at this point. However, as a quick test, please train the POS model with the same settings, but with a standard randomly initialized embedding layer instead of the pretrained embeddings. What do you observe compared to the CRF baseline / compared to the GloVe initialization? (Note: for your final code in `POSTagger`, please make sure it again loads the pretrained embeddings).\n",
        "\n",
        "**<font color=blue><<< INSERT ANSWER HERE >>></font>**\n",
        "- CRF 0.966\n",
        "- Pretrained weights 0.9631\n",
        "- Random weights 0.9304\n",
        "- From my understanding searching, if there is initialization of the weights, they will be initialized randomly, so commenting the line where we initialize the weights to the pretrained ones will be sufficient, with this we get an accuracy on evaulation of 0.9304. Comparing our results, curiously enough we have not improved from our baseline. Even compared with the model with pretrained weights, CRF is the best performing model."
      ]
    },
    {
      "cell_type": "markdown",
      "metadata": {
        "id": "VJNsYzA1UBCl",
        "pycharm": {
          "name": "#%% md\n"
        }
      },
      "source": [
        "### Acknowledgment\n",
        "\n",
        "If you received help or feedback from fellow students or big language models, please acknowledge that here. We count on your academic honesty:\n",
        "\n",
        "**<font color=blue><<< LIST POTENTIAL COLLABORATORS HERE >>></font>**"
      ]
    },
    {
      "cell_type": "markdown",
      "source": [
        "https://sklearn-crfsuite.readthedocs.io/en/latest/tutorial.html#training\n",
        "\n",
        "https://github.com/bentrevett/pytorch-pos-tagging/blob/master/1_bilstm.ipynb\n"
      ],
      "metadata": {
        "id": "wD9p3WSVoM90"
      }
    }
  ],
  "metadata": {
    "accelerator": "GPU",
    "colab": {
      "provenance": [],
      "toc_visible": true
    },
    "gpuClass": "standard",
    "kernelspec": {
      "display_name": "Python 3 (ipykernel)",
      "language": "python",
      "name": "python3"
    },
    "language_info": {
      "codemirror_mode": {
        "name": "ipython",
        "version": 3
      },
      "file_extension": ".py",
      "mimetype": "text/x-python",
      "name": "python",
      "nbconvert_exporter": "python",
      "pygments_lexer": "ipython3",
      "version": "3.8.2"
    }
  },
  "nbformat": 4,
  "nbformat_minor": 0
}